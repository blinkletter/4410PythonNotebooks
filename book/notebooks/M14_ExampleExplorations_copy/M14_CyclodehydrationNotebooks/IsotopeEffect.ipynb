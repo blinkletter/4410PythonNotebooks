{
 "cells": [
  {
   "cell_type": "code",
   "execution_count": 2,
   "metadata": {},
   "outputs": [
    {
     "data": {
      "image/png": "[encoded data removed]",
      "text/plain": [
       "<Figure size 300x200 with 1 Axes>"
      ]
     },
     "metadata": {
      "needs_background": "light"
     },
     "output_type": "display_data"
    }
   ],
   "source": [
    "### Plot the isotope effect vs acidity\n",
    "\n",
    "import pandas as pd\n",
    "import numpy as np\n",
    "import matplotlib.pyplot as plt\n",
    "import scipy.stats as stats\n",
    "from scipy.stats import linregress\n",
    "from scipy.optimize import curve_fit\n",
    "\n",
    "################################################################################\n",
    "### Set up data set. The fields are separated by commas; comments are enabled  ###\n",
    "################################################################################\n",
    "\n",
    "\n",
    "\n",
    "Reactants = [\"4\",\"6\",\"8\",\"10\",\"9\"]\n",
    "IsoEffect = [2.91, 3.1, 2.88,1.55,0.94]   # from the paper\n",
    "SumSigma = [0.11,0,-0.31,-0.62,-0.78]\n",
    "\n",
    "x = SumSigma\n",
    "y = np.log10(IsoEffect)\n",
    "##################################################\n",
    "### Setup a figure with two plots side-by-side ###\n",
    "### and choose a stylesheet                    ###\n",
    "##################################################\n",
    "\n",
    "plt.style.use(\"tufte.mplstyle\")        \n",
    "fig, ax = plt.subplots(nrows=1, ncols=1, figsize=(3,2))  \n",
    "\n",
    "\n",
    "########################\n",
    "### Plot the data    ###\n",
    "########################\n",
    "\n",
    "ax.scatter(x,y, s=64, color=\"white\", zorder=2)\n",
    "ax.scatter(x,y, s=16, color=\"black\", zorder=3)\n",
    "ax.plot(x,y, color='black', zorder=1, linewidth=0.7)\n",
    "\n",
    "    \n",
    "############################\n",
    "### Set labels and scale ###\n",
    "############################\n",
    "\n",
    "ax.set(ylabel=r\"$\\log{\\frac{k_D}{k_H}}$\", \n",
    "       xlabel=r\"$\\sum \\sigma^+$\",\n",
    "#          xlim=[0,13],                  \n",
    "#          ylim=[-2,3]\n",
    "      \n",
    "      )\n",
    "\n",
    "#ax.margins(x=.07, y=.07, tight=True)      # add 7% empty space around outside of plot area   \n",
    "\n",
    "#############################\n",
    "### Output the final plot ###\n",
    "#############################\n",
    "\n",
    "fig.savefig(\"plots/AcidPlots2.pdf\")   # use this to save the figure in PDF format\n",
    "plt.show()                 # output the combined plot plots\n"
   ]
  },
  {
   "cell_type": "code",
   "execution_count": null,
   "metadata": {},
   "outputs": [],
   "source": []
  }
 ],
 "metadata": {
  "kernelspec": {
   "display_name": "Python 3 (ipykernel)",
   "language": "python",
   "name": "python3"
  },
  "language_info": {
   "codemirror_mode": {
    "name": "ipython",
    "version": 3
   },
   "file_extension": ".py",
   "mimetype": "text/x-python",
   "name": "python",
   "nbconvert_exporter": "python",
   "pygments_lexer": "ipython3",
   "version": "3.9.7"
  }
 },
 "nbformat": 4,
 "nbformat_minor": 2
}
