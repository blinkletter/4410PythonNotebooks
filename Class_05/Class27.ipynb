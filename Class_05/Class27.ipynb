{
 "cells": [
  {
   "cell_type": "markdown",
   "id": "fe2e506e",
   "metadata": {},
   "source": [
    "# Group Increments\n",
    "Let us try some calculations in group increments using python as our calculator. First we must load in a data set. I will take the file from the moodle site and place it in the same directory as this notebook. This data was taken from table 2.4 (pg 81) of the textbook.\n",
    "\n",
    "The following code will import the data."
   ]
  },
  {
   "cell_type": "code",
   "execution_count": 2,
   "id": "8e762af8",
   "metadata": {},
   "outputs": [
    {
     "data": {
      "text/html": [
       "<div>\n",
       "<style scoped>\n",
       "    .dataframe tbody tr th:only-of-type {\n",
       "        vertical-align: middle;\n",
       "    }\n",
       "\n",
       "    .dataframe tbody tr th {\n",
       "        vertical-align: top;\n",
       "    }\n",
       "\n",
       "    .dataframe thead th {\n",
       "        text-align: right;\n",
       "    }\n",
       "</style>\n",
       "<table border=\"1\" class=\"dataframe\">\n",
       "  <thead>\n",
       "    <tr style=\"text-align: right;\">\n",
       "      <th></th>\n",
       "      <th>dHf</th>\n",
       "    </tr>\n",
       "    <tr>\n",
       "      <th>group</th>\n",
       "      <th></th>\n",
       "    </tr>\n",
       "  </thead>\n",
       "  <tbody>\n",
       "    <tr>\n",
       "      <th>C-H3C</th>\n",
       "      <td>-10.20</td>\n",
       "    </tr>\n",
       "    <tr>\n",
       "      <th>C-H2C2</th>\n",
       "      <td>-4.93</td>\n",
       "    </tr>\n",
       "    <tr>\n",
       "      <th>C-HC3</th>\n",
       "      <td>-1.90</td>\n",
       "    </tr>\n",
       "    <tr>\n",
       "      <th>C-C4</th>\n",
       "      <td>0.50</td>\n",
       "    </tr>\n",
       "    <tr>\n",
       "      <th>Cd-H2</th>\n",
       "      <td>6.26</td>\n",
       "    </tr>\n",
       "    <tr>\n",
       "      <th>...</th>\n",
       "      <td>...</td>\n",
       "    </tr>\n",
       "    <tr>\n",
       "      <th>N-(CO)C2</th>\n",
       "      <td>14.40</td>\n",
       "    </tr>\n",
       "    <tr>\n",
       "      <th>N-(CO)CbH</th>\n",
       "      <td>0.40</td>\n",
       "    </tr>\n",
       "    <tr>\n",
       "      <th>N-(CO)2H</th>\n",
       "      <td>-18.50</td>\n",
       "    </tr>\n",
       "    <tr>\n",
       "      <th>N-(CO)2C</th>\n",
       "      <td>-5.90</td>\n",
       "    </tr>\n",
       "    <tr>\n",
       "      <th>N-(CO)2Cb</th>\n",
       "      <td>-0.50</td>\n",
       "    </tr>\n",
       "  </tbody>\n",
       "</table>\n",
       "<p>85 rows × 1 columns</p>\n",
       "</div>"
      ],
      "text/plain": [
       "             dHf\n",
       "group           \n",
       "C-H3C     -10.20\n",
       "C-H2C2     -4.93\n",
       "C-HC3      -1.90\n",
       "C-C4        0.50\n",
       "Cd-H2       6.26\n",
       "...          ...\n",
       "N-(CO)C2   14.40\n",
       "N-(CO)CbH   0.40\n",
       "N-(CO)2H  -18.50\n",
       "N-(CO)2C   -5.90\n",
       "N-(CO)2Cb  -0.50\n",
       "\n",
       "[85 rows x 1 columns]"
      ]
     },
     "metadata": {},
     "output_type": "display_data"
    }
   ],
   "source": [
    "import numpy as np\n",
    "import pandas as pd\n",
    "import matplotlib.pyplot as plt\n",
    "import scipy.stats as stats\n",
    "\n",
    "pd.set_option('display.max_rows', 500)   # let the displayn command print many rows\n",
    "\n",
    "data_file = \"Group_Increments.csv\"    # This is the data file in the GitHub repository\n",
    "\n",
    "############################\n",
    "### Set global variables ###\n",
    "############################\n",
    "\n",
    "data_path = \"https://raw.githubusercontent.com/blinkletter/4410PythonNotebooks/main/Class_10/data/\"\n",
    "image_path = \"https://raw.githubusercontent.com/blinkletter/4410PythonNotebooks/main/Class_10/images/\"\n",
    "\n",
    "github_data_location = \"https://raw.githubusercontent.com/blinkletter/LFER-QSAR/main/data/\"\n",
    "github_styles_location = \"https://raw.githubusercontent.com/blinkletter/LFER-QSAR/main/styles/\"\n",
    "\n",
    "\n",
    "\n",
    "data_file = github_data_location + data_file\n",
    "\n",
    "df1 = pd.read_csv(data_file,    # create pandas dataframe from data file\n",
    "                  delimiter = \",\",           # data is separated by commas\n",
    "                  index_col=\"group\",         # use the column with \"group\" as a header for the index\n",
    "                  comment = \"#\",             # ignore lines in the file that are comments\n",
    "                  skipinitialspace = True    # ignore extra spaces\n",
    "                 ) \n",
    "\n",
    "#display(df1.head())     # display first five rows at head of Pandas dataframe\n",
    "display(df1)"
   ]
  },
  {
   "cell_type": "markdown",
   "id": "ef3b9e2b",
   "metadata": {},
   "source": [
    "## Manipulating the Data\n",
    "the data tablein in units of kcal/mole. We usually use kJ/mole so let us convert the numbers to that unit and add a new column."
   ]
  },
  {
   "cell_type": "code",
   "execution_count": 3,
   "id": "b0028366",
   "metadata": {},
   "outputs": [
    {
     "data": {
      "text/html": [
       "<div>\n",
       "<style scoped>\n",
       "    .dataframe tbody tr th:only-of-type {\n",
       "        vertical-align: middle;\n",
       "    }\n",
       "\n",
       "    .dataframe tbody tr th {\n",
       "        vertical-align: top;\n",
       "    }\n",
       "\n",
       "    .dataframe thead th {\n",
       "        text-align: right;\n",
       "    }\n",
       "</style>\n",
       "<table border=\"1\" class=\"dataframe\">\n",
       "  <thead>\n",
       "    <tr style=\"text-align: right;\">\n",
       "      <th></th>\n",
       "      <th>dHf</th>\n",
       "      <th>dHfkJ</th>\n",
       "    </tr>\n",
       "    <tr>\n",
       "      <th>group</th>\n",
       "      <th></th>\n",
       "      <th></th>\n",
       "    </tr>\n",
       "  </thead>\n",
       "  <tbody>\n",
       "    <tr>\n",
       "      <th>C-H3C</th>\n",
       "      <td>-10.20</td>\n",
       "      <td>-42.6360</td>\n",
       "    </tr>\n",
       "    <tr>\n",
       "      <th>C-H2C2</th>\n",
       "      <td>-4.93</td>\n",
       "      <td>-20.6074</td>\n",
       "    </tr>\n",
       "    <tr>\n",
       "      <th>...</th>\n",
       "      <td>...</td>\n",
       "      <td>...</td>\n",
       "    </tr>\n",
       "    <tr>\n",
       "      <th>N-(CO)2C</th>\n",
       "      <td>-5.90</td>\n",
       "      <td>-24.6620</td>\n",
       "    </tr>\n",
       "    <tr>\n",
       "      <th>N-(CO)2Cb</th>\n",
       "      <td>-0.50</td>\n",
       "      <td>-2.0900</td>\n",
       "    </tr>\n",
       "  </tbody>\n",
       "</table>\n",
       "<p>85 rows × 2 columns</p>\n",
       "</div>"
      ],
      "text/plain": [
       "             dHf    dHfkJ\n",
       "group                    \n",
       "C-H3C     -10.20 -42.6360\n",
       "C-H2C2     -4.93 -20.6074\n",
       "...          ...      ...\n",
       "N-(CO)2C   -5.90 -24.6620\n",
       "N-(CO)2Cb  -0.50  -2.0900\n",
       "\n",
       "[85 rows x 2 columns]"
      ]
     },
     "metadata": {},
     "output_type": "display_data"
    }
   ],
   "source": [
    "n = 5\n",
    "pd.set_option('display.max_rows', n) #replace n with the number of rows you want to see completely\n",
    "\n",
    "df1[\"dHfkJ\"] = df1[\"dHf\"]*4.18        # add a series in units of Kj/mole\n",
    "display(df1)"
   ]
  },
  {
   "cell_type": "markdown",
   "id": "2a12580d",
   "metadata": {},
   "source": [
    "## Using the Data\n",
    "We will extract a single data series out of the dataframe. It will still be indexed by \"group\". let us grab just the series that is in kJ/mole and then we can access individual values using the index."
   ]
  },
  {
   "cell_type": "code",
   "execution_count": 4,
   "id": "03d88c2b",
   "metadata": {},
   "outputs": [
    {
     "data": {
      "text/plain": [
       "group\n",
       "C-H3C    -42.6360\n",
       "C-H2C2   -20.6074\n",
       "C-HC3     -7.9420\n",
       "C-C4       2.0900\n",
       "Cd-H2     26.1668\n",
       "Name: dHfkJ, dtype: float64"
      ]
     },
     "metadata": {},
     "output_type": "display_data"
    }
   ],
   "source": [
    "i=df1[\"dHfkJ\"]             # extract a series of group increments in kJ/mole as \"i\"\n",
    "display(i.head())"
   ]
  },
  {
   "cell_type": "code",
   "execution_count": 9,
   "id": "b08750ac",
   "metadata": {},
   "outputs": [
    {
     "data": {
      "text/plain": [
       "0.0"
      ]
     },
     "execution_count": 9,
     "metadata": {},
     "output_type": "execute_result"
    }
   ],
   "source": [
    "CH2C2 = df1[\"dHfkJ\"][\"C-H2C2\"] \n",
    "CH2CCd = df1[\"dHfkJ\"][\"C-CdCH2\"] \n",
    "CdHC = df1[\"dHfkJ\"][\"Cd-HC\"] \n",
    "CdH2 = df1[\"dHfkJ\"][\"Cd-H2\"]\n",
    "\n",
    "alkene = 2*CdH2\n",
    "cyclohexene = 2*(CH2C2 + CH2CCd + CdHC)\n",
    "diene = 2*(CH2C2 + CH2CCd + CdHC + CdH2)\n",
    "\n",
    "(cyclohexene + alkene) - diene"
   ]
  },
  {
   "cell_type": "code",
   "execution_count": null,
   "metadata": {},
   "outputs": [],
   "source": []
  }
 ],
 "metadata": {
  "celltoolbar": "Edit Metadata",
  "kernelspec": {
   "display_name": "Python 3 (ipykernel)",
   "language": "python",
   "name": "python3"
  },
  "language_info": {
   "codemirror_mode": {
    "name": "ipython",
    "version": 3
   },
   "file_extension": ".py",
   "mimetype": "text/x-python",
   "name": "python",
   "nbconvert_exporter": "python",
   "pygments_lexer": "ipython3",
   "version": "3.11.4"
  }
 },
 "nbformat": 4,
 "nbformat_minor": 5
}
