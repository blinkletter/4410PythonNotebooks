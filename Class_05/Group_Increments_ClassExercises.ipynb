{
 "cells": [
  {
   "cell_type": "markdown",
   "id": "fe2e506e",
   "metadata": {},
   "source": [
    "# Group Increments\n",
    "Let us try some calculations in group increments using python as our calculator. First we must load in a data set. I will take the file from the moodle site and place it in the same directory as this notebook. This data was taken from table 2.4 (pg 81) of the textbook.\n",
    "\n",
    "The following code will import the data."
   ]
  },
  {
   "cell_type": "code",
   "execution_count": 1,
   "id": "8e762af8",
   "metadata": {},
   "outputs": [
    {
     "data": {
      "text/html": [
       "<div>\n",
       "<style scoped>\n",
       "    .dataframe tbody tr th:only-of-type {\n",
       "        vertical-align: middle;\n",
       "    }\n",
       "\n",
       "    .dataframe tbody tr th {\n",
       "        vertical-align: top;\n",
       "    }\n",
       "\n",
       "    .dataframe thead th {\n",
       "        text-align: right;\n",
       "    }\n",
       "</style>\n",
       "<table border=\"1\" class=\"dataframe\">\n",
       "  <thead>\n",
       "    <tr style=\"text-align: right;\">\n",
       "      <th></th>\n",
       "      <th>dHf</th>\n",
       "    </tr>\n",
       "    <tr>\n",
       "      <th>group</th>\n",
       "      <th></th>\n",
       "    </tr>\n",
       "  </thead>\n",
       "  <tbody>\n",
       "    <tr>\n",
       "      <th>C-H3C</th>\n",
       "      <td>-10.20</td>\n",
       "    </tr>\n",
       "    <tr>\n",
       "      <th>C-H2C2</th>\n",
       "      <td>-4.93</td>\n",
       "    </tr>\n",
       "    <tr>\n",
       "      <th>C-HC3</th>\n",
       "      <td>-1.90</td>\n",
       "    </tr>\n",
       "    <tr>\n",
       "      <th>C-C4</th>\n",
       "      <td>0.50</td>\n",
       "    </tr>\n",
       "    <tr>\n",
       "      <th>Cd-H2</th>\n",
       "      <td>6.26</td>\n",
       "    </tr>\n",
       "    <tr>\n",
       "      <th>...</th>\n",
       "      <td>...</td>\n",
       "    </tr>\n",
       "    <tr>\n",
       "      <th>N-(CO)C2</th>\n",
       "      <td>14.40</td>\n",
       "    </tr>\n",
       "    <tr>\n",
       "      <th>N-(CO)CbH</th>\n",
       "      <td>0.40</td>\n",
       "    </tr>\n",
       "    <tr>\n",
       "      <th>N-(CO)2H</th>\n",
       "      <td>-18.50</td>\n",
       "    </tr>\n",
       "    <tr>\n",
       "      <th>N-(CO)2C</th>\n",
       "      <td>-5.90</td>\n",
       "    </tr>\n",
       "    <tr>\n",
       "      <th>N-(CO)2Cb</th>\n",
       "      <td>-0.50</td>\n",
       "    </tr>\n",
       "  </tbody>\n",
       "</table>\n",
       "<p>85 rows × 1 columns</p>\n",
       "</div>"
      ],
      "text/plain": [
       "             dHf\n",
       "group           \n",
       "C-H3C     -10.20\n",
       "C-H2C2     -4.93\n",
       "C-HC3      -1.90\n",
       "C-C4        0.50\n",
       "Cd-H2       6.26\n",
       "...          ...\n",
       "N-(CO)C2   14.40\n",
       "N-(CO)CbH   0.40\n",
       "N-(CO)2H  -18.50\n",
       "N-(CO)2C   -5.90\n",
       "N-(CO)2Cb  -0.50\n",
       "\n",
       "[85 rows x 1 columns]"
      ]
     },
     "metadata": {},
     "output_type": "display_data"
    }
   ],
   "source": [
    "import numpy as np\n",
    "import pandas as pd\n",
    "import matplotlib.pyplot as plt\n",
    "import scipy.stats as stats\n",
    "\n",
    "data_file = \"Group_Increments.csv\"    # This is the data file in the GitHub repository\n",
    "\n",
    "############################\n",
    "### Set global variables ###\n",
    "############################\n",
    "\n",
    "data_path = \"https://raw.githubusercontent.com/blinkletter/4410PythonNotebooks/main/Class_10/data/\"\n",
    "image_path = \"https://raw.githubusercontent.com/blinkletter/4410PythonNotebooks/main/Class_10/images/\"\n",
    "\n",
    "github_data_location = \"https://raw.githubusercontent.com/blinkletter/LFER-QSAR/main/data/\"\n",
    "github_styles_location = \"https://raw.githubusercontent.com/blinkletter/LFER-QSAR/main/styles/\"\n",
    "\n",
    "\n",
    "\n",
    "data_file = github_data_location + data_file\n",
    "\n",
    "df1 = pd.read_csv(data_file,    # create pandas dataframe from data file\n",
    "                  delimiter = \",\",           # data is separated by commas\n",
    "                  index_col=\"group\",         # use the column with \"group\" as a header for the index\n",
    "                  comment = \"#\",             # ignore lines in the file that are comments\n",
    "                  skipinitialspace = True    # ignore extra spaces\n",
    "                 ) \n",
    "\n",
    "#display(df1.head())     # display first five rows at head of Pandas dataframe\n",
    "display(df1)"
   ]
  },
  {
   "cell_type": "markdown",
   "id": "ef3b9e2b",
   "metadata": {},
   "source": [
    "## Manipulating the Data\n",
    "the data tablein in units of kcal/mole. We usually use kJ/mole so let us convert the numbers to that unit and add a new column."
   ]
  },
  {
   "cell_type": "code",
   "execution_count": 2,
   "id": "b0028366",
   "metadata": {},
   "outputs": [
    {
     "data": {
      "text/html": [
       "<div>\n",
       "<style scoped>\n",
       "    .dataframe tbody tr th:only-of-type {\n",
       "        vertical-align: middle;\n",
       "    }\n",
       "\n",
       "    .dataframe tbody tr th {\n",
       "        vertical-align: top;\n",
       "    }\n",
       "\n",
       "    .dataframe thead th {\n",
       "        text-align: right;\n",
       "    }\n",
       "</style>\n",
       "<table border=\"1\" class=\"dataframe\">\n",
       "  <thead>\n",
       "    <tr style=\"text-align: right;\">\n",
       "      <th></th>\n",
       "      <th>dHf</th>\n",
       "      <th>dHfkJ</th>\n",
       "    </tr>\n",
       "    <tr>\n",
       "      <th>group</th>\n",
       "      <th></th>\n",
       "      <th></th>\n",
       "    </tr>\n",
       "  </thead>\n",
       "  <tbody>\n",
       "    <tr>\n",
       "      <th>C-H3C</th>\n",
       "      <td>-10.20</td>\n",
       "      <td>-42.6360</td>\n",
       "    </tr>\n",
       "    <tr>\n",
       "      <th>C-H2C2</th>\n",
       "      <td>-4.93</td>\n",
       "      <td>-20.6074</td>\n",
       "    </tr>\n",
       "    <tr>\n",
       "      <th>...</th>\n",
       "      <td>...</td>\n",
       "      <td>...</td>\n",
       "    </tr>\n",
       "    <tr>\n",
       "      <th>N-(CO)2C</th>\n",
       "      <td>-5.90</td>\n",
       "      <td>-24.6620</td>\n",
       "    </tr>\n",
       "    <tr>\n",
       "      <th>N-(CO)2Cb</th>\n",
       "      <td>-0.50</td>\n",
       "      <td>-2.0900</td>\n",
       "    </tr>\n",
       "  </tbody>\n",
       "</table>\n",
       "<p>85 rows × 2 columns</p>\n",
       "</div>"
      ],
      "text/plain": [
       "             dHf    dHfkJ\n",
       "group                    \n",
       "C-H3C     -10.20 -42.6360\n",
       "C-H2C2     -4.93 -20.6074\n",
       "...          ...      ...\n",
       "N-(CO)2C   -5.90 -24.6620\n",
       "N-(CO)2Cb  -0.50  -2.0900\n",
       "\n",
       "[85 rows x 2 columns]"
      ]
     },
     "metadata": {},
     "output_type": "display_data"
    }
   ],
   "source": [
    "n = 5\n",
    "pd.set_option('display.max_rows', n) #replace n with the number of rows you want to see completely\n",
    "\n",
    "df1[\"dHfkJ\"] = df1[\"dHf\"]*4.18        # add a series in units of Kj/mole\n",
    "display(df1)"
   ]
  },
  {
   "cell_type": "markdown",
   "id": "2a12580d",
   "metadata": {},
   "source": [
    "## Using the Data\n",
    "We will extract a single data series out of the dataframe. It will still be indexed by \"group\". let us grab just the series that is in kJ/mole and then we can access individual values using the index."
   ]
  },
  {
   "cell_type": "code",
   "execution_count": 3,
   "id": "03d88c2b",
   "metadata": {},
   "outputs": [
    {
     "data": {
      "text/plain": [
       "group\n",
       "C-H3C    -42.6360\n",
       "C-H2C2   -20.6074\n",
       "C-HC3     -7.9420\n",
       "C-C4       2.0900\n",
       "Cd-H2     26.1668\n",
       "Name: dHfkJ, dtype: float64"
      ]
     },
     "metadata": {},
     "output_type": "display_data"
    }
   ],
   "source": [
    "i=df1[\"dHfkJ\"]             # extract a series of group increments in kJ/mole as \"i\"\n",
    "display(i.head())"
   ]
  },
  {
   "cell_type": "markdown",
   "id": "087c9f45",
   "metadata": {},
   "source": [
    "## Example Calculation\n",
    "Let us demonstrate the usefulness of using a notebook as a calculator in thermochemistry. Our calculation will be fully documented in the code and any error and be identified and corrected. Others can see exactly how the result was obtained and provide critical analysis of our work. Scientists love to be criticised. (Really, we do. That means somebody read our paper!)\n",
    "\n",
    "We can answer one of the problems in 8 from chapter 2. What is the calculated heat of formation of adamantane (and compare it to the experimental value).\n",
    "\n",
    "![adamantane](https://raw.githubusercontent.com/blinkletter/4410PythonNotebooks/main/Class_05/images/adamantane.png)\n"
   ]
  },
  {
   "cell_type": "code",
   "execution_count": 4,
   "id": "458a65fb",
   "metadata": {},
   "outputs": [
    {
     "name": "stdout",
     "output_type": "stream",
     "text": [
      "The group increment for C-H2C2 is -20.61\n",
      "The group increment for C-HC3 is -7.94\n",
      "the calculated delta Hf is -155.41 kJ/mole\n"
     ]
    }
   ],
   "source": [
    "CH2 = i[\"C-H2C2\"]       # increment for CH2 groups\n",
    "CH = i[\"C-HC3\"]         # increment for CH groups\n",
    "\n",
    "print(f\"The group increment for C-H2C2 is {CH2:+.2f}\")\n",
    "print(f\"The group increment for C-HC3 is {CH:+.2f}\")\n",
    "\n",
    "Hf = 6*CH2 + 4*CH\n",
    "\n",
    "print(f\"the calculated delta Hf is {Hf:+.2f} kJ/mole\")"
   ]
  },
  {
   "cell_type": "markdown",
   "id": "f457a1a0",
   "metadata": {},
   "source": [
    "We have calculate the heat of formation of adamantane using group increments as shown above.  The reported observed heat of formation is indicated in problem 8 of chapter 2 and is reported to be -134.25 kJ/mole (-32.12 kcal/mole). We will convert to kJ/mole and then calculate the difference in energy. (Note that the NIST website quotes values from -129 to -139 kJ/mole) "
   ]
  },
  {
   "cell_type": "code",
   "execution_count": 5,
   "id": "4b023a67",
   "metadata": {},
   "outputs": [
    {
     "name": "stdout",
     "output_type": "stream",
     "text": [
      "the observed delta Hf is -134.39 kJ/mole\n",
      "the calculated delta Hf is -155.41 kJ/mole\n",
      "the strain energy is therefore +21.02 kJ/mole\n"
     ]
    }
   ],
   "source": [
    "ObsE = -32.12*4.184\n",
    "print(f\"the observed delta Hf is {ObsE:+.2f} kJ/mole\")\n",
    "print(f\"the calculated delta Hf is {Hf:+.2f} kJ/mole\")\n",
    "\n",
    "print(f\"the strain energy is therefore {ObsE-Hf:+.2f} kJ/mole\")"
   ]
  },
  {
   "cell_type": "markdown",
   "id": "c6e1db28",
   "metadata": {},
   "source": [
    "Below is another way to do the same math. here I am using the entries in the table directly and splitting the lines (using the \"\\\\\") so that each entry is on its own line."
   ]
  },
  {
   "cell_type": "code",
   "execution_count": 6,
   "id": "eec54daa",
   "metadata": {},
   "outputs": [
    {
     "name": "stdout",
     "output_type": "stream",
     "text": [
      "the calculated delta Hf is -155.41 kJ/mole\n"
     ]
    }
   ],
   "source": [
    "Hf2 = \\\n",
    "   + 6*i[\"C-H2C2\"]  \\\n",
    "   + 4*i[\"C-HC3\"]\n",
    "\n",
    "print(f\"the calculated delta Hf is {Hf2:+.2f} kJ/mole\")"
   ]
  },
  {
   "cell_type": "markdown",
   "id": "d343f7cc",
   "metadata": {},
   "source": [
    "### A note on the data\n",
    "I didn't notice it being clearly stated in the textbook but all data is from gas-phase condition in the thermochemistry table (table 2.4). The data from the NIST webbook gives the $\\Delta H_f$ to be between $-129$ and $-139\\; kJ/mole$\n",
    "\n",
    "The most accepted value of $-134.4\\;kJ/mole$ comes from J.B. Pedley, R.D. Naylor, S.P. Kirby, \"Thermochemical Data of Organic Compounds\", *Chapman and Hall, New York*, **1986**, 1-792"
   ]
  },
  {
   "cell_type": "markdown",
   "id": "e7a343ba",
   "metadata": {},
   "source": [
    "## Another Example\n",
    "\n",
    "What are the strain energies in cyclobutanone vs. cyclobutanol. Compare with strain energies in cyclohexanone and cyclohexanol? Which do you think will favour reduction?\n",
    "\n",
    "According to the NIST webbook here are some observed experimental values...\n",
    "\n",
    "| Name          |     ∆Hf˚ (kJ/mole)|\n",
    "| :------       | :------           |\n",
    "| Cyclobutanone | -91.6 or -101.1   |\n",
    "| Cyclobutanol  |  -145             |\n",
    "| Hexanone      | -231.1 or -226    |\n",
    "| Hexanol       |   -290.8          |\n",
    "| Methylenecyclobutane   | -106 or -121.5 |\n",
    "| Norbornane    |   -54.9           |\n",
    "\n",
    "And the observed heats of hydrogenation from NIST...\n",
    "\n",
    "| Name               |     ∆Hr˚ (kJ/mole)|\n",
    "| :------            | :------           |\n",
    "| Cyclobutanone + H2 | -68 or -53        |\n",
    "| Hexanone + H2      | -75.9 or -63.5    |\n",
    "| 2-butanone +H2     |  -54.2            |\n",
    "| 3-pentanone + H2   |  -56.7            |\n",
    "| 2-pentanone + H2   |  -54.7            |\n",
    "| propanone + H2     | -55.23            |\n",
    "\n",
    "\n",
    "\n"
   ]
  },
  {
   "cell_type": "code",
   "execution_count": 7,
   "id": "4cde3c87",
   "metadata": {},
   "outputs": [
    {
     "name": "stdout",
     "output_type": "stream",
     "text": [
      "Cyclobutanone: Hf is -193.66 kJ/mole.  Strain energy is +102.06 kJ/mole\n",
      "Cyclobutanol: Hf is -250.34 kJ/mole.  Strain energy is +105.34 kJ/mole\n",
      "Cyclohexanone: Hf is -276.09 kJ/mole.  Strain energy is +44.99 kJ/mole\n",
      "Cyclohexanol: Hf is -291.55 kJ/mole.  Strain energy is +0.75 kJ/mole\n",
      "\n",
      "Methylenecyclobutane: Hf is 8.99 kJ/mole.  Strain energy is +112.51 kJ/mole\n",
      "Compare to value of 121.31 given in figure 2.15 of book\n",
      "\n",
      "Norbornane: Hf is -118.92 kJ/mole.  Strain energy is +64.02 kJ/mole\n",
      "Compare to value of +71.11 given in figure 2.15 of book\n"
     ]
    }
   ],
   "source": [
    "# Hf for Cyclobutanone\n",
    "\n",
    "Hf = \\\n",
    "   + 1*i[\"C-H2C2\"]  \\\n",
    "   + 2*i[\"C-(CO)CH2\"]  \\\n",
    "   + 1*i[\"CO-C2\"]\n",
    "\n",
    "print(f\"Cyclobutanone: Hf is {Hf:+.2f} kJ/mole.  Strain energy is {-91.6 - Hf:+.2f} kJ/mole\")\n",
    "\n",
    "# Hf for Cyclobutanol\n",
    "\n",
    "Hf = \\\n",
    "   + 3*i[\"C-H2C2\"]  \\\n",
    "   + 1*i[\"C-OC2H\"]  \\\n",
    "   + 1*i[\"O-CH\"]\n",
    "\n",
    "print(f\"Cyclobutanol: Hf is {Hf:+.2f} kJ/mole.  Strain energy is {-145 - Hf:+.2f} kJ/mole\")\n",
    "\n",
    "# Hf for Cyclohexanone\n",
    "\n",
    "Hf = \\\n",
    "   + 5*i[\"C-H2C2\"]  \\\n",
    "   + 2*i[\"C-(CO)CH2\"]  \\\n",
    "   + 1*i[\"CO-C2\"]\n",
    "\n",
    "print(f\"Cyclohexanone: Hf is {Hf:+.2f} kJ/mole.  Strain energy is {-231.1 - Hf:+.2f} kJ/mole\")\n",
    "\n",
    "# Hf for Cyclohexanol\n",
    "\n",
    "Hf = \\\n",
    "   + 5*i[\"C-H2C2\"]  \\\n",
    "   + 1*i[\"C-OC2H\"]   \\\n",
    "   + 1*i[\"O-CH\"]\n",
    "\n",
    "print(f\"Cyclohexanol: Hf is {Hf:+.2f} kJ/mole.  Strain energy is {-290.8 - Hf:+.2f} kJ/mole\")\n",
    "\n",
    "# Hf for Methylenecyclobutane  ∆Hf = 121.5 (NIST)\n",
    "\n",
    "Hf = \\\n",
    "   + 1*i[\"C-H2C2\"]  \\\n",
    "   + 2*i[\"C-CdCH2\"]   \\\n",
    "   + 1*i[\"Cd-C2\"]   \\\n",
    "   + 1*i[\"Cd-H2\"]\n",
    "\n",
    "print(f\"\\nMethylenecyclobutane: Hf is {Hf:.2f} kJ/mole.  Strain energy is {121.5 - Hf:+.2f} kJ/mole\")\n",
    "\n",
    "\n",
    "# print(f\"\\nTest compared to textbook - Calculated methylenecyclobutene: Hf is {Hf:.2f} kJ/mole. \\\n",
    "#         \\nStrain energy is {(121.5 - Hf):+.2f} kJ/mole\")\n",
    "print(f\"Compare to value of {29*4.183:.2f} given in figure 2.15 of book\")\n",
    "\n",
    "# Hf for Norbornane  ∆Hf = 121.5 (NIST)\n",
    "\n",
    "Hf = \\\n",
    "   + 5*i[\"C-H2C2\"]  \\\n",
    "   + 2*i[\"C-HC3\"]   \n",
    "\n",
    "print(f\"\\nNorbornane: Hf is {Hf:.2f} kJ/mole.  Strain energy is {-54.9 - Hf:+.2f} kJ/mole\")\n",
    "\n",
    "print(f\"Compare to value of +{17.0*4.183:.2f} given in figure 2.15 of book\")\n"
   ]
  },
  {
   "cell_type": "markdown",
   "id": "29410720",
   "metadata": {},
   "source": [
    "### Discussion \n",
    "The strain energy does not significantly change between cyclobutanone and cyclobutanol. This is reflected in the heats of hydrogenation of the pair. they are similar. The heat of hydrogenation is for the group alone since strain energy provides no change.\n",
    "\n",
    "The strain energy does change for cyclohexanone and cyclohexanol.  Cyclohexanone has a strain energy component whereas cyclohexanol has almost none (as expected). We observe an extra 10 or 20 kJ/mole released with hydrogenation of cyclohexanone compared to a linear ketone (no data was found for 2- or 3-hexanone so I used data for 2- and 3-pentanone.)\n",
    "\n",
    "So cyclohexanol is easier to hydrogenate compared to cyclobutanol. Was that the way you expected it to go?\n",
    "\n",
    "### The Benefits of a Documented Notebook\n",
    "\n",
    "Initially my results made no sense. Eventually I realized that I had failed to include the group increment for the alcohol oxygen (i\\[\"O-CH\"\\]). Having a set of code that I could check helped locate that error. Also, it would have helped others find my mistake if I had not corrected it. Everyone can see exactly how I calculated the heats of formation.\n",
    "\n",
    "It will also be easy to alter the code for cyclopentanone/cyclopentanol and other pairings. Give that a try."
   ]
  },
  {
   "cell_type": "markdown",
   "id": "9844eae2",
   "metadata": {},
   "source": [
    "## References\n",
    "Below are some places that I found data used in this exercise. If you find useful tables or databases please share with the class.\n",
    "<hr>\n",
    "\n",
    "Heats of combustion from CRC handbook: \n",
    "https://hbcp-chemnetbase-com.proxy.library.upei.ca/faces/documents/05_05/05_05_0001.xhtml\n",
    "\n",
    "Heats of Formation from Argonne National laboratory: \n",
    "https://atct.anl.gov/Thermochemical%20Data/version%201.122r/index.php\n",
    "\n",
    "NIST Webbook: \n",
    "https://webbook.nist.gov/chemistry/\n",
    "\n",
    "See also : \"Chemical calculations ; an introduction to the use of mathematics in chemistry\", Sidney W. Benson, *Wiley \\& Sons*, **1971**, UPEI library Stacks (2nd floor) QD42.B453 1971\n",
    "\n",
    "and\n",
    "\n",
    "\"Thermochemical Data of Organic Compounds\", J.B. Pedley, R.D. Naylor, S.P. Kirby, *Chapman and Hall, New York*, **1986**, 1-792 (pirated from the web - honestly, the only legitimate copy that I could find within a library system was in Australia). - There was one error/omission in table 2.4 that I corrected using data from this book.\n",
    "\n",
    "\"Organic Compounds – Physical and Thermochemical Data\".  J.G. Speight, *Rules of Thumb for Petroleum Engineers, John Wiley & Sons*, **2017**. 539-545.  https://ebookcentral.proquest.com/lib/upei/detail.action?docID=4812517\n"
   ]
  },
  {
   "cell_type": "code",
   "execution_count": 15,
   "id": "475b4e54",
   "metadata": {},
   "outputs": [
    {
     "name": "stdout",
     "output_type": "stream",
     "text": [
      "The energy is 82.76\n"
     ]
    }
   ],
   "source": [
    "# Hf of benzene \n",
    "\n",
    "group = i[\"Cb-H\"]\n",
    "energy = 6 * group\n",
    "\n",
    "print(f\"The energy is {energy:0.2f}\")\n",
    "\n"
   ]
  },
  {
   "cell_type": "code",
   "execution_count": null,
   "id": "b08750ac",
   "metadata": {},
   "outputs": [],
   "source": []
  }
 ],
 "metadata": {
  "celltoolbar": "Edit Metadata",
  "kernelspec": {
   "display_name": "Python 3 (ipykernel)",
   "language": "python",
   "name": "python3"
  },
  "language_info": {
   "codemirror_mode": {
    "name": "ipython",
    "version": 3
   },
   "file_extension": ".py",
   "mimetype": "text/x-python",
   "name": "python",
   "nbconvert_exporter": "python",
   "pygments_lexer": "ipython3",
   "version": "3.11.4"
  }
 },
 "nbformat": 4,
 "nbformat_minor": 5
}
