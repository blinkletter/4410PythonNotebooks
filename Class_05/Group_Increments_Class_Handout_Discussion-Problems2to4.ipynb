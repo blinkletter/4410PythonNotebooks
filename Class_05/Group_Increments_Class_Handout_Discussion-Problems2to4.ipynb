{
 "cells": [
  {
   "cell_type": "markdown",
   "id": "fe2e506e",
   "metadata": {},
   "source": [
    "# Group Increments - Handout Discussion - Problems 2 to 4\n",
    "After exploring the class exercise notebook, here is a notebook that contains my code for exploring the questions in tha handout. Everything is cut and paste from the class exercise notebook with changes as needed.\n",
    "\n",
    "We begin with the following code will import the data and call the required libraries."
   ]
  },
  {
   "cell_type": "code",
   "execution_count": 1,
   "id": "8e762af8",
   "metadata": {},
   "outputs": [
    {
     "name": "stdout",
     "output_type": "stream",
     "text": [
      "The data file name is https://github.com/blinkletter/LFER-QSAR/blob/main/data/Group_Increments.csv?raw=True\n"
     ]
    }
   ],
   "source": [
    "import numpy as np\n",
    "import pandas as pd\n",
    "import matplotlib.pyplot as plt\n",
    "import scipy.stats as stats\n",
    "\n",
    "pd.set_option('display.max_rows', 500)   # let the displayn command print many rows\n",
    "\n",
    "data_file = \"Group_Increments.csv\"    # This is the data file in the GitHub repository\n",
    "\n",
    "############################\n",
    "### Set global variables ###\n",
    "############################\n",
    "\n",
    "data_path = \"https://raw.githubusercontent.com/blinkletter/4410PythonNotebooks/main/Class_10/data/\"\n",
    "image_path = \"https://raw.githubusercontent.com/blinkletter/4410PythonNotebooks/main/Class_10/images/\"\n",
    "\n",
    "github_data_location = \"https://raw.githubusercontent.com/blinkletter/LFER-QSAR/main/data/\"\n",
    "github_styles_location = \"https://raw.githubusercontent.com/blinkletter/LFER-QSAR/main/styles/\"\n",
    "\n",
    "\n",
    "data_file = github_data_location + data_file\n",
    "\n",
    "print(f\"The data file name is {data_file}\")\n",
    "\n",
    "df1 = pd.read_csv(data_file,    # create pandas dataframe from data file\n",
    "                  delimiter = \",\",           # data is separated by commas\n",
    "                  index_col=\"group\",         # use the column with \"group\" as a header for the index\n",
    "                  comment = \"#\",             # ignore lines in the file that are comments\n",
    "                  skipinitialspace = True    # ignore extra spaces\n",
    "                 ) \n",
    "\n",
    "#display(df1.head())     # display first five rows at head of Pandas dataframe\n",
    "#display(df1)"
   ]
  },
  {
   "cell_type": "markdown",
   "id": "ef3b9e2b",
   "metadata": {},
   "source": [
    "## Manipulating the Data\n",
    "The data table is in units of kcal/mole. We usually use kJ/mole so let us convert the numbers to that unit and add a new column. We will then extract the new data series out of the dataframe. It will still be indexed by \"group\". let us grab just the series that is in kJ/mole and then we can access individual values using the index. Examine the following code..."
   ]
  },
  {
   "cell_type": "code",
   "execution_count": 2,
   "id": "b0028366",
   "metadata": {},
   "outputs": [],
   "source": [
    "n = 90      # num,ber of rows to display.  I want it all this time.\n",
    "pd.set_option('display.max_rows', n) #replace n with the number of rows you want to see completely\n",
    "\n",
    "df1[\"dHfkJ\"] = df1[\"dHf\"]*4.18        # add a series in units of Kj/mole\n",
    "#display(df1)\n",
    "\n",
    "i=df1[\"dHfkJ\"]             # extract a series of group increments in kJ/mole as \"i\"\n",
    "#display(i.head())"
   ]
  },
  {
   "cell_type": "markdown",
   "id": "087c9f45",
   "metadata": {},
   "source": [
    "## Handout Problem 2\n",
    "\"Calculate the $\\Delta H^{\\circ}_f$ for benzene. Compare to experimental values. Were you close? Did you use the correct group increments?\"\n",
    "\n",
    "See NIST website for experimental values at https://webbook.nist.gov/chemistry/\n",
    "\n",
    "The code is all below and hopefull will explain itself. Observe how there are three similar blocks of code for each case where I just copied and pasted them and made changes as needed.\n",
    "\n",
    "Data for Heats of formation\n",
    "\n",
    "| Compound    |    Heat of Formation $\\Delta H^{\\circ}_f$  $/ \\frac{kJ}{mole}$    |    Source   |\n",
    "| :------     | :------:                    | :-----      |\n",
    "|  Benzene  |  +82.9   |  https://webbook.nist.gov/cgi/inchi/InChI=1S/C6H6/c1-2-4-6-5-3-1/h1-6H   | \n",
    "|  Benzene  |  +82.6   |  \"Thermochemical Data of Organic Compounds\", J.B. Pedley, R.D. Naylor, S.P. Kirby, *Chapman and Hall, New York*, **1986**, page 91  | \n",
    "\n",
    "\n",
    "### Results\n",
    "\n",
    "The calculated values are very close to the observed. using the Benson group increment for a benzene CH group gave the correct value as expected. \n",
    "\n",
    "Note that the code used was exactly the same as in the case of problem \\#1. I just changed the values and hit shift-return."
   ]
  },
  {
   "cell_type": "code",
   "execution_count": 3,
   "id": "458a65fb",
   "metadata": {},
   "outputs": [
    {
     "name": "stdout",
     "output_type": "stream",
     "text": [
      "Benzene\n",
      "-----\n",
      "the calculated delta Hf is +82.76 kJ/mole\n",
      "the experimental delta Hf is +82.90 kJ/mole\n",
      "-----\n",
      "the difference is +0.14 kJ/mole\n"
     ]
    }
   ],
   "source": [
    "### Benzene\n",
    "\n",
    "measuredHf = +82.9     # Value from NIST database\n",
    "\n",
    "CbH = i[\"Cb-H\"]       # increment for CH2 groups\n",
    "\n",
    "print(\"Benzene\")\n",
    "print(\"-----\")\n",
    "\n",
    "'''  # Commenting the whole block below out of the code. Delete the triple quotes to resore it.\n",
    "print(f\"The group increment for Cb-H is {CbH:+.2f}\")\n",
    "print(\"-----\")\n",
    "'''\n",
    "\n",
    "Hf = 6*CbH\n",
    "\n",
    "print(f\"the calculated delta Hf is {Hf:+.2f} kJ/mole\")\n",
    "\n",
    "print(f\"the experimental delta Hf is {measuredHf:+.2f} kJ/mole\")\n",
    "print(\"-----\")\n",
    "\n",
    "diff = measuredHf  - Hf\n",
    "\n",
    "print (f\"the difference is {diff:+.2f} kJ/mole\")\n"
   ]
  },
  {
   "cell_type": "markdown",
   "id": "273d2583",
   "metadata": {},
   "source": [
    "## Handout Problem 3\n",
    "\n",
    "Calculate the $\\Delta H^{\\circ}_f$ for benzene the wrong way by ...\n",
    "\n",
    "And off you go with your assignment activity. take note of a few items in this text block. You can make equations and typeset math using commands between \"\\$\" symbols and include formatting. Examine the examples below.\n",
    "\n",
    "### Section headings\n",
    "\n",
    "using the \\# symbol you can create sections headings. See the markdown code for this text to see how its done.\n",
    "\n",
    "You can make **bold text** and *italic text*. Can you make ***bold italics***? Yes you can.\n",
    "\n",
    "### Math\n",
    "\n",
    "We can include typeset math and units like so: The energy is $-13.8 \\frac{kJ}{mole}$. The area of a circle is $A = \\pi r^2$. \n",
    "\n",
    "We can show math as a \"display equation\" such as...\n",
    "\n",
    "$$\\nu = \\frac{1}{2 \\pi c}\\sqrt{\\frac{k}{\\mu}}$$"
   ]
  },
  {
   "cell_type": "code",
   "execution_count": 4,
   "id": "a2259c76",
   "metadata": {},
   "outputs": [
    {
     "name": "stdout",
     "output_type": "stream",
     "text": [
      "Benzene modelled as UNconjugated double bonds\n",
      "-----\n",
      "the calculated delta Hf is +215.44 kJ/mole\n",
      "the experimental delta Hf is +82.90 kJ/mole\n",
      "-----\n",
      "the difference is -132.54 kJ/mole\n",
      "-------------------------------------------\n",
      "Benzene modelled as CONJUGATED double bonds\n",
      "-----\n",
      "the calculated delta Hf is +170.04 kJ/mole\n",
      "the experimental delta Hf is +82.90 kJ/mole\n",
      "-----\n",
      "the difference is -87.14 kJ/mole\n"
     ]
    }
   ],
   "source": [
    "### Benzene modelled as unconjugated double bonds\n",
    "\n",
    "# copy the code above and make some changes. \n",
    "# Steal the wheel, never reinvent the wheel. And always give credit."
   ]
  },
  {
   "cell_type": "markdown",
   "id": "6e761ae3",
   "metadata": {},
   "source": []
  },
  {
   "cell_type": "markdown",
   "id": "9844eae2",
   "metadata": {},
   "source": [
    "## References\n",
    "Below are some places that I found data used in this exercise. If you find useful tables or databases please share with the class.\n",
    "<hr>\n",
    "\n",
    "Heats of combustion from CRC handbook: \n",
    "https://hbcp-chemnetbase-com.proxy.library.upei.ca/faces/documents/05_05/05_05_0001.xhtml\n",
    "\n",
    "Heats of Formation from Argonne National laboratory: \n",
    "https://atct.anl.gov/Thermochemical%20Data/version%201.122r/index.php\n",
    "\n",
    "NIST Webbook: \n",
    "https://webbook.nist.gov/chemistry/\n",
    "\n",
    "See also : \"Chemical calculations ; an introduction to the use of mathematics in chemistry\", Sidney W. Benson, *Wiley \\& Sons*, **1971**, UPEI library Stacks (2nd floor) QD42.B453 1971\n",
    "\n",
    "and\n",
    "\n",
    "\"[Thermochemical Data of Organic Compounds](https://moodle31.upei.ca/mod/resource/view.php?id=759268)\", J.B. Pedley, R.D. Naylor, S.P. Kirby, *Chapman and Hall, New York*, **1986**, 1-792 (pirated from the web - honestly, the only legitimate copy that I could find within a library system was in Australia). - There was one error/omission in table 2.4 that I corrected using data from this book.\n",
    "\n",
    "\"Organic Compounds – Physical and Thermochemical Data\".  J.G. Speight, *Rules of Thumb for Petroleum Engineers, John Wiley & Sons*, **2017**. 539-545.  https://ebookcentral.proquest.com/lib/upei/detail.action?docID=4812517\n"
   ]
  },
  {
   "cell_type": "code",
   "execution_count": null,
   "id": "475b4e54",
   "metadata": {},
   "outputs": [],
   "source": []
  }
 ],
 "metadata": {
  "celltoolbar": "Edit Metadata",
  "kernelspec": {
   "display_name": "Python 3 (ipykernel)",
   "language": "python",
   "name": "python3"
  },
  "language_info": {
   "codemirror_mode": {
    "name": "ipython",
    "version": 3
   },
   "file_extension": ".py",
   "mimetype": "text/x-python",
   "name": "python",
   "nbconvert_exporter": "python",
   "pygments_lexer": "ipython3",
   "version": "3.9.7"
  }
 },
 "nbformat": 4,
 "nbformat_minor": 5
}
