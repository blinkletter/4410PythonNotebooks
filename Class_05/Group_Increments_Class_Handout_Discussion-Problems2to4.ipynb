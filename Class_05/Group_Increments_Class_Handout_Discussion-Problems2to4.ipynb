{
 "cells": [
  {
   "cell_type": "markdown",
   "id": "fe2e506e",
   "metadata": {},
   "source": [
    "# Group handout Discussion - Problems 2 to 4\n",
    "After exploring the class exercise notebook, here is a notebook that contains my code for exploring the questions in tha handout. Everything is cut and paste from the class exercise notebook with changes as needed.\n",
    "\n",
    "We begin with the following code will import the data and call the required libraries."
   ]
  },
  {
   "cell_type": "code",
   "execution_count": 1,
   "id": "8e762af8",
   "metadata": {},
   "outputs": [
    {
     "name": "stdout",
     "output_type": "stream",
     "text": [
      "The data file name is https://github.com/blinkletter/LFER-QSAR/blob/main/data/Group_Increments.csv?raw=True\n"
     ]
    }
   ],
   "source": [
    "import numpy as np\n",
    "import pandas as pd\n",
    "import matplotlib.pyplot as plt\n",
    "import scipy.stats as stats\n",
    "\n",
    "data_file = \"Group_Increments.csv\"    # This is the data file in the GitHub repository\n",
    "\n",
    "github = \"https://github.com/blinkletter/LFER-QSAR/blob/main/data/\"\n",
    "access_raw_data = \"?raw=True\"\n",
    "\n",
    "data_file = github + data_file + access_raw_data\n",
    "\n",
    "print(f\"The data file name is {data_file}\")\n",
    "\n",
    "df1 = pd.read_csv(data_file,    # create pandas dataframe from data file\n",
    "                  delimiter = \",\",           # data is separated by commas\n",
    "                  index_col=\"group\",         # use the column with \"group\" as a header for the index\n",
    "                  comment = \"#\",             # ignore lines in the file that are comments\n",
    "                  skipinitialspace = True    # ignore extra spaces\n",
    "                 ) \n",
    "\n",
    "#display(df1.head())     # display first five rows at head of Pandas dataframe\n",
    "#display(df1)"
   ]
  },
  {
   "cell_type": "markdown",
   "id": "ef3b9e2b",
   "metadata": {},
   "source": [
    "## Manipulating the Data\n",
    "The data table is in units of kcal/mole. We usually use kJ/mole so let us convert the numbers to that unit and add a new column. We will then extract the new data series out of the dataframe. It will still be indexed by \"group\". let us grab just the series that is in kJ/mole and then we can access individual values using the index. Examine the following code..."
   ]
  },
  {
   "cell_type": "code",
   "execution_count": 2,
   "id": "b0028366",
   "metadata": {},
   "outputs": [],
   "source": [
    "n = 90      # num,ber of rows to display.  I want it all this time.\n",
    "pd.set_option('display.max_rows', n) #replace n with the number of rows you want to see completely\n",
    "\n",
    "df1[\"dHfkJ\"] = df1[\"dHf\"]*4.18        # add a series in units of Kj/mole\n",
    "#display(df1)\n",
    "\n",
    "i=df1[\"dHfkJ\"]             # extract a series of group increments in kJ/mole as \"i\"\n",
    "#display(i.head())"
   ]
  },
  {
   "cell_type": "markdown",
   "id": "087c9f45",
   "metadata": {},
   "source": [
    "## Handout Problem 2\n",
    "\"Calculate the $\\Delta H^{\\circ}_f$ for benzene. Compare to experimental values. Were you close? Did you use the correct group increments?\"\n",
    "\n",
    "See NIST website for experimental values at https://webbook.nist.gov/chemistry/\n",
    "\n",
    "The code is all below and hopefull will explain itself. Observe how there are three similar blocks of code for each case where I just copied and pasted them and made changes as needed.\n",
    "\n",
    "Data for Heats of formation\n",
    "\n",
    "| Compound    |    Heat of Formation $\\Delta H^{\\circ}_f$  $/ \\frac{kJ}{mole}$    |    Source   |\n",
    "| :------     | :------:                    | :-----      |\n",
    "|  Benzene  |  +82.9   |  https://webbook.nist.gov/cgi/inchi/InChI=1S/C6H6/c1-2-4-6-5-3-1/h1-6H   | \n",
    "|  Benzene  |  +82.6   |  \"Thermochemical Data of Organic Compounds\", J.B. Pedley, R.D. Naylor, S.P. Kirby, *Chapman and Hall, New York*, **1986**, page 91  | \n",
    "\n",
    "\n",
    "### Results\n",
    "\n",
    "The calculated values are very close to the observed. using the Benson group increment for a benzene CH group gave the correct vale as expected. \n",
    "\n",
    "Note that the code used was exactly the same as in the case of problem \\#1. I just changed the values and hit shift-return."
   ]
  },
  {
   "cell_type": "code",
   "execution_count": 3,
   "id": "458a65fb",
   "metadata": {},
   "outputs": [
    {
     "name": "stdout",
     "output_type": "stream",
     "text": [
      "Benzene\n",
      "-----\n",
      "the calculated delta Hf is +82.76 kJ/mole\n",
      "the experimental delta Hf is +82.90 kJ/mole\n",
      "-----\n",
      "the difference is +0.14 kJ/mole\n"
     ]
    }
   ],
   "source": [
    "### Benzene\n",
    "\n",
    "measuredHf = +82.9     # Value from NIST database\n",
    "\n",
    "CbH = i[\"Cb-H\"]       # increment for CH2 groups\n",
    "\n",
    "print(\"Benzene\")\n",
    "print(\"-----\")\n",
    "\n",
    "'''  # Commenting the whole block below out of the code. Delete the triple quotes to resore it.\n",
    "print(f\"The group increment for Cb-H is {CbH:+.2f}\")\n",
    "print(\"-----\")\n",
    "'''\n",
    "\n",
    "Hf = 6*CbH\n",
    "\n",
    "print(f\"the calculated delta Hf is {Hf:+.2f} kJ/mole\")\n",
    "\n",
    "print(f\"the experimental delta Hf is {measuredHf:+.2f} kJ/mole\")\n",
    "print(\"-----\")\n",
    "\n",
    "diff = measuredHf  - Hf\n",
    "\n",
    "print (f\"the difference is {diff:+.2f} kJ/mole\")\n"
   ]
  },
  {
   "cell_type": "markdown",
   "id": "273d2583",
   "metadata": {},
   "source": [
    "## Handout Problem 3\n",
    "\n",
    "Calculate the $\\Delta H^{\\circ}_f$ for benzene the wrong way by treating all carbons as...\n",
    "\n",
    "a) separate double bonds that are not conjugated (find a suitable group increment and justify your decision).\n",
    "\n",
    "b) conjugated double bonds that are not aromatic. Justify your choice of group increments.\n",
    "\n",
    "Compare these values to those calculated for benzene above. What does this reveal about the stabilization due to conjugate and the stabilization beyond that due to aromaticity?\n",
    "\n",
    "\n",
    "### My Approach\n",
    "\n",
    "The group increments that would represent **unconjugated double bonds** in benzene would be the \"Cd-HC\" increment.\n",
    "\n",
    "The group increments that would represent **conjugated double bonds** in benzene would be the \"Cd-CdH\" increment.\n",
    "\n",
    "The code is all below and hopefull will explain itself. Observe how there are three similar blocks of code for each case where I just copied and pasted them and made changes as needed.\n",
    "\n",
    "### Results\n",
    "\n",
    "The calculated values are very close to the observed. using the Benson group increment for a benzene CH group gave the correct vale as expected. \n",
    "\n",
    "Note that the code used was exactly the same as in the case of problem \\#1. I just changed the values and hit shift-return.\n",
    "\n",
    "The difference in energy for modelling as unconjugated double bonds is $-132.54 \\frac{kJ}{mole}$. benzene is much more stable than 3 double bonds that are not interacting.\n",
    "\n",
    "When we model the double bonds as interacting through conjugation only, the difference in energy is $-87.14 \\frac{kJ}{mole}$. Benzene is much more stable than 3 double bonds that are interacting through conjugation only. This **aromatic stabilization** is $-87.14 \\frac{kJ}{mole}$ beyond the conjugation energy.  We can calculate the conjugation energy to be $-45.4 \\frac{kJ}{mole}$.\n",
    "\n",
    "Aromaticity is a powerful stabilizing force far more important than conjugation. Why is there such a difference for wehn we arrange double bonds in a circle and obey the 4n+2 rule?\n"
   ]
  },
  {
   "cell_type": "code",
   "execution_count": 4,
   "id": "a2259c76",
   "metadata": {},
   "outputs": [
    {
     "name": "stdout",
     "output_type": "stream",
     "text": [
      "Benzene modelled as UNconjugated double bonds\n",
      "-----\n",
      "the calculated delta Hf is +215.44 kJ/mole\n",
      "the experimental delta Hf is +82.90 kJ/mole\n",
      "-----\n",
      "the difference is -132.54 kJ/mole\n",
      "-------------------------------------------\n",
      "Benzene modelled as CONJUGATED double bonds\n",
      "-----\n",
      "the calculated delta Hf is +170.04 kJ/mole\n",
      "the experimental delta Hf is +82.90 kJ/mole\n",
      "-----\n",
      "the difference is -87.14 kJ/mole\n"
     ]
    }
   ],
   "source": [
    "### Benzene modelled as unconjugated double bonds\n",
    "\n",
    "measuredHf = +82.9     # Value from NIST database\n",
    "\n",
    "CbH = i[\"Cd-HC\"]       # increment for CH2 groups\n",
    "\n",
    "print(\"Benzene modelled as UNconjugated double bonds\")\n",
    "print(\"-----\")\n",
    "\n",
    "'''  # Commenting the whole block below out of the code. Delete the triple quotes to resore it.\n",
    "print(f\"The group increment for Cb-H is {CbH:+.2f}\")\n",
    "print(\"-----\")\n",
    "'''\n",
    "\n",
    "Hf = 6*CbH\n",
    "\n",
    "print(f\"the calculated delta Hf is {Hf:+.2f} kJ/mole\")\n",
    "\n",
    "print(f\"the experimental delta Hf is {measuredHf:+.2f} kJ/mole\")\n",
    "print(\"-----\")\n",
    "\n",
    "diff = measuredHf  - Hf\n",
    "\n",
    "print (f\"the difference is {diff:+.2f} kJ/mole\")\n",
    "\n",
    "\n",
    "### Benzene modelled as conugated double bonds\n",
    "\n",
    "measuredHf = +82.9     # Value from NIST database\n",
    "\n",
    "CbH = i[\"Cd-CdH\"]       # increment for CH2 groups\n",
    "\n",
    "print(\"-------------------------------------------\")\n",
    "print(\"Benzene modelled as CONJUGATED double bonds\")\n",
    "print(\"-----\")\n",
    "\n",
    "'''  # Commenting the whole block below out of the code. Delete the triple quotes to resore it.\n",
    "print(f\"The group increment for Cb-H is {CbH:+.2f}\")\n",
    "print(\"-----\")\n",
    "'''\n",
    "\n",
    "Hf = 6*CbH\n",
    "\n",
    "print(f\"the calculated delta Hf is {Hf:+.2f} kJ/mole\")\n",
    "\n",
    "print(f\"the experimental delta Hf is {measuredHf:+.2f} kJ/mole\")\n",
    "print(\"-----\")\n",
    "\n",
    "diff = measuredHf  - Hf\n",
    "\n",
    "print (f\"the difference is {diff:+.2f} kJ/mole\")"
   ]
  },
  {
   "cell_type": "markdown",
   "id": "93129e12",
   "metadata": {},
   "source": [
    "## Handout Problem 4\n",
    "\n",
    "\"How would you define aromaticity using a chemical reaction?\"\n",
    "\n",
    "Clearly there is a large chemical difference between aromatic double bonds and alkenes.  We se this in the bromination reaction.\n",
    "\n",
    "Alkene + Br2 ---> dibromoalkane\n",
    "\n",
    "Benzene + Br2 ----> Bromobenzene + HBr\n",
    "\n",
    "So we observe that alkene react via an addition reaction with elemental bromine while aromatic system react via a substitution reaction (electrophilic aromatic substitution). For many years this was the sole definition of chemical aromaticity. After Kekulé articulated his dream, we began defining aromatic system by the arrangement of double bonds."
   ]
  },
  {
   "cell_type": "markdown",
   "id": "6e761ae3",
   "metadata": {},
   "source": []
  },
  {
   "cell_type": "markdown",
   "id": "9844eae2",
   "metadata": {},
   "source": [
    "## References\n",
    "Below are some places that I found data used in this exercise. If you find useful tables or databases please share with the class.\n",
    "<hr>\n",
    "\n",
    "Heats of combustion from CRC handbook: \n",
    "https://hbcp-chemnetbase-com.proxy.library.upei.ca/faces/documents/05_05/05_05_0001.xhtml\n",
    "\n",
    "Heats of Formation from Argonne National laboratory: \n",
    "https://atct.anl.gov/Thermochemical%20Data/version%201.122r/index.php\n",
    "\n",
    "NIST Webbook: \n",
    "https://webbook.nist.gov/chemistry/\n",
    "\n",
    "See also : \"Chemical calculations ; an introduction to the use of mathematics in chemistry\", Sidney W. Benson, *Wiley \\& Sons*, **1971**, UPEI library Stacks (2nd floor) QD42.B453 1971\n",
    "\n",
    "and\n",
    "\n",
    "\"[Thermochemical Data of Organic Compounds](https://moodle31.upei.ca/mod/resource/view.php?id=759268)\", J.B. Pedley, R.D. Naylor, S.P. Kirby, *Chapman and Hall, New York*, **1986**, 1-792 (pirated from the web - honestly, the only legitimate copy that I could find within a library system was in Australia). - There was one error/omission in table 2.4 that I corrected using data from this book.\n",
    "\n",
    "\"Organic Compounds – Physical and Thermochemical Data\".  J.G. Speight, *Rules of Thumb for Petroleum Engineers, John Wiley & Sons*, **2017**. 539-545.  https://ebookcentral.proquest.com/lib/upei/detail.action?docID=4812517\n"
   ]
  },
  {
   "cell_type": "code",
   "execution_count": null,
   "id": "475b4e54",
   "metadata": {},
   "outputs": [],
   "source": []
  }
 ],
 "metadata": {
  "celltoolbar": "Edit Metadata",
  "kernelspec": {
   "display_name": "Python 3 (ipykernel)",
   "language": "python",
   "name": "python3"
  },
  "language_info": {
   "codemirror_mode": {
    "name": "ipython",
    "version": 3
   },
   "file_extension": ".py",
   "mimetype": "text/x-python",
   "name": "python",
   "nbconvert_exporter": "python",
   "pygments_lexer": "ipython3",
   "version": "3.9.7"
  }
 },
 "nbformat": 4,
 "nbformat_minor": 5
}
