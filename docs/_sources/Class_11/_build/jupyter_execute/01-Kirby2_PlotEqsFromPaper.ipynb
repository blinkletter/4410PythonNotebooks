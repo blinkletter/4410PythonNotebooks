{
 "cells": [
  {
   "cell_type": "markdown",
   "metadata": {},
   "source": [
    "# 1: The Literature Equation\n",
    "##  Example 2, Part 1: pH-Rate Profile Example - Kirby 2002\n",
    "\n",
    "Tony Kirby is one of the giants of physical organic and bio-organic chemistry. In this paper he follows up on a decades-long series of papers investigating the mechanism of *amylases* that catalyze the hydrolysis of acetal groups in polysaccharide chains.\n",
    "\n",
    "OIn this *Python* notebook **we will plot the integrated rate equations that were used in the paper**. Spoiler Alert: they will be revealled to be incorrect. We will then establish the correct equation.\n",
    "\n",
    "``Concerted general acid and nucleophilic catalysis of acetalhydrolysis. A simple model for the lysozyme mechanism''. K.E.S. Deana, A.J. Kirby, *J. Chem. Soc., Perkin Trans. 2*, **2002**, 428-432. https://doi.org/10.1039/B110948K. \n",
    "\n",
    "\n",
    "## Creating the Equations\n",
    "\n",
    "Below is *Python* code that recreates the equation that describes absorbance vs time for the reaction. This is eq. 3 from the paper.\n",
    "\n",
    "$$\\text{Abs}_t = \\text{Abs}_0 \\left\\{\n",
    "             e^{-k_1 t} + \\frac{\\epsilon_I}{\\epsilon_A} \\frac{k_1}{k_2-k_1}\\left(e^{-k_1 t} - e^{-k_2 t} \\right)\n",
    "             + \\frac{\\epsilon_P}{\\epsilon_A} \\left[ 2 - e^{-k_1 t} - \\frac{1}{k_2-k_1}\\left(e^{-k_1 t} - e^{-k_2 t}\\right) \\right] \\right\\}$$\n",
    "\n",
    "We will separate this equation into the components for the absorbance for each of the three species and then add them all together to get the total absorbance. This will allow us to plot the absorbance due to each species along with the combined total."
   ]
  },
  {
   "cell_type": "code",
   "execution_count": 4,
   "metadata": {
    "tags": [
     "hide-input"
    ]
   },
   "outputs": [
    {
     "data": {
      "text/latex": [
       "$\\displaystyle Abs_{A} = Abs_{0} e^{- k_{1} t}$"
      ],
      "text/plain": [
       "Eq(Abs_A, Abs_0*exp(-k1*t))"
      ]
     },
     "metadata": {},
     "output_type": "display_data"
    },
    {
     "data": {
      "text/latex": [
       "$\\displaystyle Abs_{I} = \\frac{Abs_{0} \\epsilon_{I} k_{1} \\left(- e^{- k_{2} t} + e^{- k_{1} t}\\right)}{\\epsilon_{A} \\left(- k_{1} + k_{2}\\right)}$"
      ],
      "text/plain": [
       "Eq(Abs_I, Abs_0*epsilon_I*k1*(-exp(-k2*t) + exp(-k1*t))/(epsilon_A*(-k1 + k2)))"
      ]
     },
     "metadata": {},
     "output_type": "display_data"
    },
    {
     "data": {
      "text/latex": [
       "$\\displaystyle Abs_{P} = \\frac{Abs_{0} \\epsilon_{P} \\left(- \\frac{k_{1} \\left(- e^{- k_{2} t} + e^{- k_{1} t}\\right)}{- k_{1} + k_{2}} + 2 - e^{- k_{1} t}\\right)}{\\epsilon_{A}}$"
      ],
      "text/plain": [
       "Eq(Abs_P, Abs_0*epsilon_P*(-k1*(-exp(-k2*t) + exp(-k1*t))/(-k1 + k2) + 2 - exp(-k1*t))/epsilon_A)"
      ]
     },
     "metadata": {},
     "output_type": "display_data"
    },
    {
     "data": {
      "text/latex": [
       "$\\displaystyle Abs_{t} = Abs_{0} \\left(e^{- k_{1} t} + \\frac{\\epsilon_{I} k_{1} \\left(- e^{- k_{2} t} + e^{- k_{1} t}\\right)}{\\epsilon_{A} \\left(- k_{1} + k_{2}\\right)} + \\frac{\\epsilon_{P} \\left(- \\frac{k_{1} \\left(- e^{- k_{2} t} + e^{- k_{1} t}\\right)}{- k_{1} + k_{2}} + 2 - e^{- k_{1} t}\\right)}{\\epsilon_{A}}\\right)$"
      ],
      "text/plain": [
       "Eq(Abs_t, Abs_0*(exp(-k1*t) + epsilon_I*k1*(-exp(-k2*t) + exp(-k1*t))/(epsilon_A*(-k1 + k2)) + epsilon_P*(-k1*(-exp(-k2*t) + exp(-k1*t))/(-k1 + k2) + 2 - exp(-k1*t))/epsilon_A))"
      ]
     },
     "metadata": {},
     "output_type": "display_data"
    },
    {
     "name": "stdout",
     "output_type": "stream",
     "text": [
      "Examine the equations for AbsA, AbsI, AbsP and AbsT and convince\n",
      "yourself that they are the same as in the paper.\n"
     ]
    }
   ],
   "source": [
    "import sympy as sym\n",
    "import matplotlib.pyplot as plt\n",
    "import numpy as np\n",
    "\n",
    "# create math symbols for the equations\n",
    "t = sym.symbols('t')     \n",
    "t, k1, k2, A0 = sym.symbols('t k1 k2 A_0') \n",
    "eA, eI, eP = sym.symbols('epsilon_A epsilon_I epsilon_P')\n",
    "At, It, Pt = sym.symbols('A_t, I_t, P_t') \n",
    "Abs0, AbsA, AbsI, AbsP = sym.symbols('Abs_0, Abs_A, Abs_I, Abs_P')\n",
    "Abst = sym.Symbol('Abs_t')    \n",
    "\n",
    "# create expressions that define the concentrations of reactants and products\n",
    "A0_expr = Abs0/eA\n",
    "At_expr = A0 * sym.exp(-k1 * t)\n",
    "It_expr = A0 * k1/(k2-k1) * (sym.exp(-k1*t)-sym.exp(-k2*t))\n",
    "Pt_expr = A0 * (2 - 1*sym.exp(-k1 * t) - k1/(k2-k1) * (sym.exp(-k1*t)-sym.exp(-k2*t)))\n",
    "\n",
    "#display(At_expr, It_expr, Pt_expr)\n",
    "\n",
    "# Create expressions for absorbance due to each species in terms of Abs(t=0)\n",
    "AbsA_expr = eA * At\n",
    "AbsI_expr = eI * It\n",
    "AbsP_expr = eP * Pt\n",
    "\n",
    "#substitute expressions for Absorbance into expressions for concentration\n",
    "AbsA_expr = AbsA_expr.subs({At: At_expr})\n",
    "AbsI_expr = AbsI_expr.subs({It: It_expr})\n",
    "AbsP_expr = AbsP_expr.subs({Pt: Pt_expr})\n",
    "\n",
    "#display(AbsA_expr, AbsI_expr, AbsP_expr)\n",
    "\n",
    "AbsA_expr = AbsA_expr.subs({A0: A0_expr})\n",
    "AbsI_expr = AbsI_expr.subs({A0: A0_expr})\n",
    "AbsP_expr = AbsP_expr.subs({A0: A0_expr})\n",
    "Abst_expr = AbsA_expr + AbsI_expr + AbsP_expr\n",
    "Abst_expr = Abst_expr.collect(Abs0)\n",
    "display(sym.Eq(AbsA,AbsA_expr), \n",
    "        sym.Eq(AbsI,AbsI_expr), \n",
    "        sym.Eq(AbsP,AbsP_expr), \n",
    "        sym.Eq(Abst,Abst_expr))\n",
    "\n",
    "print(\"Examine the equations for AbsA, AbsI, AbsP and AbsT and convince\\n\"+\n",
    "      \"yourself that they are the same as in the paper.\")"
   ]
  },
  {
   "cell_type": "markdown",
   "metadata": {},
   "source": [
    "## Plotting the Model\n",
    "\n",
    "Examine the equations for AbsA, AbsI, AbsP and AbsT and convince yourself that they are the same as from eq. 3 of the paper. Using the equations let us plot the absorbance for $Abs_A$, $Abs_I$, $Abs_P$, and $Abs_t$. We will use values for $k_1$ and $k_2$ from the data in figure 1. The relative values of $Abs_0$, $\\epsilon_A$, $\\epsilon_I$,, and $\\epsilon_P$ are guesstimates (the author did not provide this data.)"
   ]
  },
  {
   "cell_type": "code",
   "execution_count": 5,
   "metadata": {
    "tags": [
     "hide-input"
    ]
   },
   "outputs": [
    {
     "data": {
      "image/png": "[encoded data removed]",
      "text/plain": [
       "<Figure size 400x300 with 1 Axes>"
      ]
     },
     "metadata": {},
     "output_type": "display_data"
    }
   ],
   "source": [
    "## Plot the function for Abst and its components\n",
    "\n",
    "time = np.linspace(0,10000,100)  # 100 data points between 0 and 1E5 seconds\n",
    "k1_value = 2E-3\n",
    "k2_value = 2E-4\n",
    "Abs0_value = 0.2\n",
    "eA_value = 1       # use ratio so that eI/eA = 0.6 for example\n",
    "eI_value = 0.3\n",
    "eP_value = 0.6\n",
    "\n",
    "# Create dictionaries contains substitution for each term\n",
    "subs_dict_At = { \n",
    "                k1: k1_value, \n",
    "                Abs0: Abs0_value\n",
    "                }\n",
    "subs_dict_It = {\n",
    "                k1: k1_value,\n",
    "                k2: k2_value,\n",
    "                Abs0: Abs0_value,\n",
    "                eA: eA_value,\n",
    "                eI: eI_value,\n",
    "                }\n",
    "subs_dict_Pt = {\n",
    "                k1: k1_value,\n",
    "                k2: k2_value,\n",
    "                Abs0: Abs0_value,\n",
    "                eA: eA_value,\n",
    "                eP: eP_value,\n",
    "                }\n",
    "subs_dict_Abst = {\n",
    "                  k1: k1_value,\n",
    "                  k2: k2_value,\n",
    "                  Abs0: Abs0_value,\n",
    "                  eA: eA_value,\n",
    "                  eI: eI_value,\n",
    "                  eP: eP_value,\n",
    "                  }\n",
    "\n",
    "# plot each term using the values established above\n",
    "t_range = [t,0,10000]\n",
    "p1 = sym.plot(AbsA_expr.subs(subs_dict_At),t_range, show=False)\n",
    "p2 = sym.plot(AbsI_expr.subs(subs_dict_It),t_range, show=False)\n",
    "p3 = sym.plot(AbsP_expr.subs(subs_dict_Pt),t_range, show=False)\n",
    "p4 = sym.plot(Abst_expr.subs(subs_dict_Abst),t_range, show=False)\n",
    "\n",
    "p1.extend(p2)   # add all plots to p1\n",
    "p1.extend(p3)\n",
    "p1.extend(p4)\n",
    "\n",
    "# Outout the combined plot\n",
    "\n",
    "p1.size = [4,3]           # display settings for p1\n",
    "p1.xlabel = r\"time $/s$\"\n",
    "p1.ylabel = r\"Absorbance\"\n",
    "\n",
    "plt.rcdefaults()\n",
    "plt.style.use(\"../styles/tufte.mplstyle\")     ### Then add a fancy style sheet   \n",
    "\n",
    "p1.title=\"All values\"\n",
    "p1.ylim = [None,None]\n",
    "p1.save(\"plots/1_plot1.pdf\")   # save and show p1\n",
    "#p1.show()          # show p1\n",
    "\n"
   ]
  },
  {
   "cell_type": "markdown",
   "metadata": {},
   "source": []
  },
  {
   "cell_type": "markdown",
   "metadata": {},
   "source": [
    "## Conclusions\n",
    "\n",
    "We can see that the equation used in the paper gave nonsensical results. The initial total absorbance should be 0.2, but we see that the equation gives a result of 0.32 at time = 0. The amount of absorbance due to product should be zero at time = 0 and we see that it is 0.12 according to the equation. \n",
    "\n",
    "This equation has an error. You will need to derive the correct equation and then modify this *Python* notebook to check it. It seems that the term for $Abs_P$ is the source of the error."
   ]
  },
  {
   "cell_type": "markdown",
   "metadata": {},
   "source": [
    "## The Same Thing Again, but Different\n",
    "\n",
    "Below is code that will make the same plot as above for total absorbance. Rather than use *SymPy*, I just manually enetered the equation as it appears in the paper."
   ]
  },
  {
   "cell_type": "code",
   "execution_count": 6,
   "metadata": {
    "tags": [
     "hide-input"
    ]
   },
   "outputs": [
    {
     "data": {
      "image/png": "[encoded data removed]",
      "text/plain": [
       "<Figure size 400x300 with 1 Axes>"
      ]
     },
     "metadata": {},
     "output_type": "display_data"
    }
   ],
   "source": [
    "import matplotlib.pyplot as plt\n",
    "\n",
    "time = np.linspace(0,10000,100)  # 100 data points between 0 and 1E5 seconds\n",
    "\n",
    "def absvstime(t):\n",
    "    k1_value = 2E-3\n",
    "    k2_value = 2E-4\n",
    "    Abs0_value = 0.2\n",
    "    eA_value = 1       # use ratio so that eI/eA = 0.6 for example\n",
    "    eI_value = 0.3\n",
    "    eP_value = 0.6\n",
    "\n",
    "    AbsA = Abs0_value * np.exp(-k1_value * t)\n",
    "    AbsI = eI_value/eA_value * Abs0_value * k1_value / (k2_value-k1_value) * (np.exp(-k1_value * t) - np.exp(-k2_value * t))\n",
    "    AbsP = eP_value/eA_value * Abs0_value * (2 - np.exp(-k1_value * t)\\\n",
    "            - 1 / (k2_value - k1_value) * (k1_value * np.exp(-k1_value * t) - k1_value * np.exp(-k2_value * t)))\n",
    "    Total_Abs = AbsA + AbsI + AbsP\n",
    "    return(AbsA, AbsI, AbsP, Total_Abs)\n",
    "\n",
    "[AbsA, AbsI, AbsP, Total_Abs] = absvstime(time)\n",
    "\n",
    "plt.plot(time, AbsA)\n",
    "plt.plot(time, AbsI)\n",
    "plt.plot(time, AbsP)\n",
    "plt.plot(time, Total_Abs)\n",
    "plt.savefig(\"plots/1_plot2.pdf\")   # save and show p1\n",
    "\n",
    "plt.show()"
   ]
  },
  {
   "cell_type": "code",
   "execution_count": null,
   "metadata": {},
   "outputs": [],
   "source": []
  }
 ],
 "metadata": {
  "kernelspec": {
   "display_name": "base",
   "language": "python",
   "name": "python3"
  },
  "language_info": {
   "codemirror_mode": {
    "name": "ipython",
    "version": 3
   },
   "file_extension": ".py",
   "mimetype": "text/x-python",
   "name": "python",
   "nbconvert_exporter": "python",
   "pygments_lexer": "ipython3",
   "version": "3.12.2"
  }
 },
 "nbformat": 4,
 "nbformat_minor": 2
}