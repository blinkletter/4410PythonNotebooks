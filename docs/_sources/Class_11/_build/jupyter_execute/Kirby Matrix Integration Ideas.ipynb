{
 "cells": [
  {
   "cell_type": "code",
   "execution_count": 1,
   "metadata": {
    "tags": [
     "hide-input"
    ]
   },
   "outputs": [
    {
     "name": "stdout",
     "output_type": "stream",
     "text": [
      "V = \n"
     ]
    },
    {
     "data": {
      "text/latex": [
       "$\\displaystyle \\left[\\begin{matrix}0 & - \\frac{k_{1}^{2}}{k_{2} k_{3}} + \\frac{k_{1}}{k_{3}} + \\frac{k_{1}}{k_{2}} - 1 & 0 & 0\\\\0 & \\frac{k_{1} \\left(k_{1} - k_{3}\\right)}{k_{2} k_{3}} & \\frac{k_{2} - k_{3}}{k_{3}} & 0\\\\0 & - \\frac{k_{1}}{k_{3}} & - \\frac{k_{2}}{k_{3}} & -1\\\\1 & 1 & 1 & 1\\end{matrix}\\right]$"
      ],
      "text/plain": [
       "Matrix([\n",
       "[0, -k1**2/(k2*k3) + k1/k3 + k1/k2 - 1,            0,  0],\n",
       "[0,               k1*(k1 - k3)/(k2*k3), (k2 - k3)/k3,  0],\n",
       "[0,                             -k1/k3,       -k2/k3, -1],\n",
       "[1,                                  1,            1,  1]])"
      ]
     },
     "metadata": {},
     "output_type": "display_data"
    },
    {
     "name": "stdout",
     "output_type": "stream",
     "text": [
      "D = \n"
     ]
    },
    {
     "data": {
      "text/latex": [
       "$\\displaystyle \\left[\\begin{matrix}0 & 0 & 0 & 0\\\\0 & - k_{1} & 0 & 0\\\\0 & 0 & - k_{2} & 0\\\\0 & 0 & 0 & - k_{3}\\end{matrix}\\right]$"
      ],
      "text/plain": [
       "Matrix([\n",
       "[0,   0,   0,   0],\n",
       "[0, -k1,   0,   0],\n",
       "[0,   0, -k2,   0],\n",
       "[0,   0,   0, -k3]])"
      ]
     },
     "metadata": {},
     "output_type": "display_data"
    },
    {
     "name": "stdout",
     "output_type": "stream",
     "text": [
      "x (t) = \n"
     ]
    },
    {
     "data": {
      "text/latex": [
       "$\\displaystyle \\left[\\begin{matrix}A_{0} e^{- k_{1} t}\\\\\\frac{A_{0} k_{1} \\left(e^{k_{1} t} - e^{k_{2} t}\\right) e^{- t \\left(k_{1} + k_{2}\\right)}}{k_{1} - k_{2}}\\\\\\frac{A_{0} k_{1} k_{2} \\left(k_{1} e^{t \\left(k_{1} + k_{2}\\right)} - k_{1} e^{t \\left(k_{1} + k_{3}\\right)} - k_{2} e^{t \\left(k_{1} + k_{2}\\right)} + k_{2} e^{t \\left(k_{2} + k_{3}\\right)} + k_{3} e^{t \\left(k_{1} + k_{3}\\right)} - k_{3} e^{t \\left(k_{2} + k_{3}\\right)}\\right) e^{- t \\left(k_{1} + k_{2} + k_{3}\\right)}}{k_{1}^{2} k_{2} - k_{1}^{2} k_{3} - k_{1} k_{2}^{2} + k_{1} k_{3}^{2} + k_{2}^{2} k_{3} - k_{2} k_{3}^{2}}\\\\- A_{0} \\left(\\frac{k_{1} k_{2} e^{- k_{3} t}}{k_{1} k_{2} - k_{1} k_{3} - k_{2} k_{3} + k_{3}^{2}} - \\frac{k_{1} k_{3} e^{- k_{2} t}}{k_{1} k_{2} - k_{1} k_{3} - k_{2}^{2} + k_{2} k_{3}} + \\frac{k_{2} k_{3} e^{- k_{1} t}}{k_{1}^{2} - k_{1} k_{2} - k_{1} k_{3} + k_{2} k_{3}} - 1\\right)\\end{matrix}\\right]$"
      ],
      "text/plain": [
       "Matrix([\n",
       "[                                                                                                                                                                                                                        A0*exp(-k1*t)],\n",
       "[                                                                                                                                                                            A0*k1*(exp(k1*t) - exp(k2*t))*exp(-t*(k1 + k2))/(k1 - k2)],\n",
       "[A0*k1*k2*(k1*exp(t*(k1 + k2)) - k1*exp(t*(k1 + k3)) - k2*exp(t*(k1 + k2)) + k2*exp(t*(k2 + k3)) + k3*exp(t*(k1 + k3)) - k3*exp(t*(k2 + k3)))*exp(-t*(k1 + k2 + k3))/(k1**2*k2 - k1**2*k3 - k1*k2**2 + k1*k3**2 + k2**2*k3 - k2*k3**2)],\n",
       "[                                                                     -A0*(k1*k2*exp(-k3*t)/(k1*k2 - k1*k3 - k2*k3 + k3**2) - k1*k3*exp(-k2*t)/(k1*k2 - k1*k3 - k2**2 + k2*k3) + k2*k3*exp(-k1*t)/(k1**2 - k1*k2 - k1*k3 + k2*k3) - 1)]])"
      ]
     },
     "metadata": {},
     "output_type": "display_data"
    }
   ],
   "source": [
    "from sympy import *\n",
    "\n",
    "t = Symbol('t')\n",
    "x10 = Symbol('A0')\n",
    "k1, k2, k3 = symbols('k1 k2 k3')\n",
    "\n",
    "A = Matrix([[-k1,  0,  0, 0],\n",
    "            [ k1,-k2,  0, 0],\n",
    "            [  0, k2,-k3, 0],\n",
    "            [  0,  0, k3, 0]])\n",
    "\n",
    "\n",
    "i_conc = Matrix([x10,0,0,0])\n",
    "\n",
    "V, D = A.diagonalize()\n",
    "\n",
    "\n",
    "print(\"V = \")\n",
    "display(V)\n",
    "print(\"D = \")\n",
    "display(D)\n",
    "\n",
    "print(\"x (t) = \")\n",
    "display(simplify(V * diag(1, exp(-k1*t),exp(-k2*t),exp(-k3*t)) * V**-1 * i_conc))\n",
    "\n"
   ]
  },
  {
   "cell_type": "code",
   "execution_count": 5,
   "metadata": {
    "tags": [
     "hide-input"
    ]
   },
   "outputs": [
    {
     "name": "stdout",
     "output_type": "stream",
     "text": [
      "conc = \n"
     ]
    },
    {
     "data": {
      "text/latex": [
       "$\\displaystyle \\left[\\begin{matrix}A_{0}\\\\0\\\\0\\end{matrix}\\right]$"
      ],
      "text/plain": [
       "Matrix([\n",
       "[A0],\n",
       "[ 0],\n",
       "[ 0]])"
      ]
     },
     "metadata": {},
     "output_type": "display_data"
    },
    {
     "name": "stdout",
     "output_type": "stream",
     "text": [
      "V = \n"
     ]
    },
    {
     "data": {
      "text/latex": [
       "$\\displaystyle \\left[\\begin{matrix}0 & \\frac{- k_{1} + k_{2}}{k_{1} - 2 k_{2}} & 0\\\\0 & \\frac{k_{1}}{k_{1} - 2 k_{2}} & -1\\\\1 & 1 & 1\\end{matrix}\\right]$"
      ],
      "text/plain": [
       "Matrix([\n",
       "[0, (-k1 + k2)/(k1 - 2*k2),  0],\n",
       "[0,         k1/(k1 - 2*k2), -1],\n",
       "[1,                      1,  1]])"
      ]
     },
     "metadata": {},
     "output_type": "display_data"
    },
    {
     "name": "stdout",
     "output_type": "stream",
     "text": [
      "D = \n"
     ]
    },
    {
     "data": {
      "text/latex": [
       "$\\displaystyle \\left[\\begin{matrix}0 & 0 & 0\\\\0 & - k_{1} & 0\\\\0 & 0 & - k_{2}\\end{matrix}\\right]$"
      ],
      "text/plain": [
       "Matrix([\n",
       "[0,   0,   0],\n",
       "[0, -k1,   0],\n",
       "[0,   0, -k2]])"
      ]
     },
     "metadata": {},
     "output_type": "display_data"
    },
    {
     "name": "stdout",
     "output_type": "stream",
     "text": [
      "x (t) = \n"
     ]
    },
    {
     "data": {
      "text/latex": [
       "$\\displaystyle \\left[\\begin{matrix}\\frac{A_{0} \\left(- k_{1} + k_{2}\\right) \\left(- k_{1} + 2 k_{2}\\right) e^{- k_{1} t}}{\\left(k_{1} - 2 k_{2}\\right) \\left(k_{1} - k_{2}\\right)}\\\\A_{0} \\left(\\frac{k_{1} \\left(- k_{1} + 2 k_{2}\\right) e^{- k_{1} t}}{\\left(k_{1} - 2 k_{2}\\right) \\left(k_{1} - k_{2}\\right)} + \\frac{k_{1} e^{- k_{2} t}}{k_{1} - k_{2}}\\right)\\\\A_{0} \\left(- \\frac{k_{1} e^{- k_{2} t}}{k_{1} - k_{2}} + \\frac{\\left(- k_{1} + 2 k_{2}\\right) e^{- k_{1} t}}{k_{1} - k_{2}} + 2\\right)\\end{matrix}\\right]$"
      ],
      "text/plain": [
       "Matrix([\n",
       "[                    A0*(-k1 + k2)*(-k1 + 2*k2)*exp(-k1*t)/((k1 - 2*k2)*(k1 - k2))],\n",
       "[A0*(k1*(-k1 + 2*k2)*exp(-k1*t)/((k1 - 2*k2)*(k1 - k2)) + k1*exp(-k2*t)/(k1 - k2))],\n",
       "[            A0*(-k1*exp(-k2*t)/(k1 - k2) + (-k1 + 2*k2)*exp(-k1*t)/(k1 - k2) + 2)]])"
      ]
     },
     "metadata": {},
     "output_type": "display_data"
    },
    {
     "data": {
      "text/latex": [
       "$\\displaystyle \\left[\\begin{matrix}A_{0} e^{- k_{1} t}\\\\\\frac{A_{0} k_{1} \\left(e^{k_{1} t} - e^{k_{2} t}\\right) e^{- t \\left(k_{1} + k_{2}\\right)}}{k_{1} - k_{2}}\\\\- \\frac{A_{0} \\left(k_{1} e^{k_{1} t} + \\left(k_{1} - 2 k_{2}\\right) e^{k_{2} t} - 2 \\left(k_{1} - k_{2}\\right) e^{t \\left(k_{1} + k_{2}\\right)}\\right) e^{- t \\left(k_{1} + k_{2}\\right)}}{k_{1} - k_{2}}\\end{matrix}\\right]$"
      ],
      "text/plain": [
       "Matrix([\n",
       "[                                                                                        A0*exp(-k1*t)],\n",
       "[                                            A0*k1*(exp(k1*t) - exp(k2*t))*exp(-t*(k1 + k2))/(k1 - k2)],\n",
       "[-A0*(k1*exp(k1*t) + (k1 - 2*k2)*exp(k2*t) - 2*(k1 - k2)*exp(t*(k1 + k2)))*exp(-t*(k1 + k2))/(k1 - k2)]])"
      ]
     },
     "metadata": {},
     "output_type": "display_data"
    }
   ],
   "source": [
    "from sympy import *\n",
    "\n",
    "t = Symbol('t')\n",
    "x10 = Symbol('A0')\n",
    "k1, k2 = symbols('k1 k2')\n",
    "\n",
    "A = Matrix([[-k1,  0,  0],\n",
    "            [ k1,-k2,  0],\n",
    "            [ k1, k2,  0]])\n",
    "\n",
    "\n",
    "i_conc = Matrix([x10,0,0])\n",
    "\n",
    "V, D = A.diagonalize()\n",
    "\n",
    "print(\"conc = \")\n",
    "display(i_conc)\n",
    "\n",
    "print(\"V = \")\n",
    "display(V)\n",
    "print(\"D = \")\n",
    "display(D)\n",
    "\n",
    "print(\"x (t) = \")\n",
    "display((V * diag(1, exp(-k1*t),exp(-k2*t)) * V**-1 * i_conc))\n",
    "display(simplify(V * diag(1, exp(-k1*t),exp(-k2*t)) * V**-1 * i_conc))\n",
    "\n"
   ]
  },
  {
   "cell_type": "code",
   "execution_count": 3,
   "metadata": {
    "tags": [
     "hide-input"
    ]
   },
   "outputs": [
    {
     "name": "stdout",
     "output_type": "stream",
     "text": [
      "conc = \n"
     ]
    },
    {
     "data": {
      "text/latex": [
       "$\\displaystyle \\left[\\begin{matrix}A_{0}\\\\0\\\\0\\end{matrix}\\right]$"
      ],
      "text/plain": [
       "Matrix([\n",
       "[A0],\n",
       "[ 0],\n",
       "[ 0]])"
      ]
     },
     "metadata": {},
     "output_type": "display_data"
    },
    {
     "name": "stdout",
     "output_type": "stream",
     "text": [
      "V = \n"
     ]
    },
    {
     "data": {
      "text/latex": [
       "$\\displaystyle \\left[\\begin{matrix}0 & \\frac{k_{1} - k_{2}}{k_{2}} & 0\\\\0 & - \\frac{k_{1}}{k_{2}} & -1\\\\1 & 1 & 1\\end{matrix}\\right]$"
      ],
      "text/plain": [
       "Matrix([\n",
       "[0, (k1 - k2)/k2,  0],\n",
       "[0,       -k1/k2, -1],\n",
       "[1,            1,  1]])"
      ]
     },
     "metadata": {},
     "output_type": "display_data"
    },
    {
     "name": "stdout",
     "output_type": "stream",
     "text": [
      "D = \n"
     ]
    },
    {
     "data": {
      "text/latex": [
       "$\\displaystyle \\left[\\begin{matrix}0 & 0 & 0\\\\0 & - k_{1} & 0\\\\0 & 0 & - k_{2}\\end{matrix}\\right]$"
      ],
      "text/plain": [
       "Matrix([\n",
       "[0,   0,   0],\n",
       "[0, -k1,   0],\n",
       "[0,   0, -k2]])"
      ]
     },
     "metadata": {},
     "output_type": "display_data"
    },
    {
     "name": "stdout",
     "output_type": "stream",
     "text": [
      "x (t) = \n"
     ]
    },
    {
     "data": {
      "text/latex": [
       "$\\displaystyle \\left[\\begin{matrix}A_{0} e^{- k_{1} t}\\\\\\frac{A_{0} k_{1} \\left(e^{k_{1} t} - e^{k_{2} t}\\right) e^{- t \\left(k_{1} + k_{2}\\right)}}{k_{1} - k_{2}}\\\\\\frac{A_{0} \\left(- k_{1} e^{k_{1} t} + k_{2} e^{k_{2} t} + \\left(k_{1} - k_{2}\\right) e^{t \\left(k_{1} + k_{2}\\right)}\\right) e^{- t \\left(k_{1} + k_{2}\\right)}}{k_{1} - k_{2}}\\end{matrix}\\right]$"
      ],
      "text/plain": [
       "Matrix([\n",
       "[                                                                             A0*exp(-k1*t)],\n",
       "[                                 A0*k1*(exp(k1*t) - exp(k2*t))*exp(-t*(k1 + k2))/(k1 - k2)],\n",
       "[A0*(-k1*exp(k1*t) + k2*exp(k2*t) + (k1 - k2)*exp(t*(k1 + k2)))*exp(-t*(k1 + k2))/(k1 - k2)]])"
      ]
     },
     "metadata": {},
     "output_type": "display_data"
    }
   ],
   "source": [
    "from sympy import *\n",
    "\n",
    "t = Symbol('t')\n",
    "A0 = Symbol('A0')\n",
    "k1, k2 = symbols('k1 k2')\n",
    "\n",
    "A = Matrix([[-k1,  0,  0],\n",
    "            [ k1,-k2,  k2],\n",
    "            [ 0, 0,  k2]])\n",
    "\n",
    "\n",
    "i_conc = Matrix([A0,0,0])\n",
    "\n",
    "V, D = A.diagonalize()\n",
    "\n",
    "print(\"conc = \")\n",
    "display(i_conc)\n",
    "\n",
    "print(\"V = \")\n",
    "display(V)\n",
    "print(\"D = \")\n",
    "display(D)\n",
    "\n",
    "print(\"x (t) = \")\n",
    "integrated = simplify(V * diag(1, exp(-k1*t),exp(-k2*t)) * V**-1 * i_conc)\n",
    "display(integrated)\n",
    "\n"
   ]
  },
  {
   "cell_type": "code",
   "execution_count": 4,
   "metadata": {
    "tags": [
     "hide-input"
    ]
   },
   "outputs": [
    {
     "data": {
      "text/latex": [
       "$\\displaystyle \\frac{A_{0} \\left(- k_{1} e^{k_{1} t} + k_{2} e^{k_{2} t} + \\left(k_{1} - k_{2}\\right) e^{t \\left(k_{1} + k_{2}\\right)}\\right) e^{- t \\left(k_{1} + k_{2}\\right)}}{k_{1} - k_{2}}$"
      ],
      "text/plain": [
       "A0*(-k1*exp(k1*t) + k2*exp(k2*t) + (k1 - k2)*exp(t*(k1 + k2)))*exp(-t*(k1 + k2))/(k1 - k2)"
      ]
     },
     "metadata": {},
     "output_type": "display_data"
    }
   ],
   "source": [
    "z = integrated[2]\n",
    "\n",
    "\n",
    "display(z)"
   ]
  },
  {
   "cell_type": "code",
   "execution_count": null,
   "metadata": {},
   "outputs": [],
   "source": []
  }
 ],
 "metadata": {
  "kernelspec": {
   "display_name": "main",
   "language": "python",
   "name": "python3"
  },
  "language_info": {
   "codemirror_mode": {
    "name": "ipython",
    "version": 3
   },
   "file_extension": ".py",
   "mimetype": "text/x-python",
   "name": "python",
   "nbconvert_exporter": "python",
   "pygments_lexer": "ipython3",
   "version": "3.12.2"
  }
 },
 "nbformat": 4,
 "nbformat_minor": 2
}