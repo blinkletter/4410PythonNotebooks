{
 "cells": [
  {
   "cell_type": "markdown",
   "metadata": {},
   "source": [
    "# 2: The Correct Equation\n",
    "##  Example 2, Part 2: pH-Rate Profile Example - Kirby 2002\n",
    "\n",
    "Tony Kirby is one of the giants of physical organic and bio-organic chemistry. In this paper he follows up on a decades-long series of papers investigating the mechanism of *amylases* that catalyze the hydrolysis of acetal groups in polysaccharide chains.\n",
    "\n",
    "As you now know the equation 3 in the paper is incorrect. **Here we will present the correct equation** and plot the integrated rate equations that describe the observed absorbance vs time. \n",
    "\n",
    "``Concerted general acid and nucleophilic catalysis of acetalhydrolysis. A simple model for the lysozyme mechanism''. K.E.S. Deana, A.J. Kirby, *J. Chem. Soc., Perkin Trans. 2*, **2002**, 428-432. https://doi.org/10.1039/B110948K. \n",
    "\n",
    "\n",
    "## Creating the Correct Equations\n",
    "\n",
    "Below is *Python* code that creates the equation that describes absorbance vs time for the reaction. This is the correct version of eq. 3 from the paper.\n",
    "\n",
    "$$\\text{Abs} = \\text{Abs}_0 e^{-k_1 t}\n",
    "             + \\frac{\\epsilon_I}{\\epsilon_A}\\text{Abs}_0\\frac{k_1}{k_2-k_1}\\left(e^{-k_1 t} - e^{-k_2 t} \\right)\n",
    "             + \\frac{\\epsilon_P}{\\epsilon_A}\\text{Abs}_0\\left[ 2 - 2 e^{-k_1 t} - \\frac{k_1}{k_2-k_1}\\left(e^{-k_1 t} - e^{-k_2 t}\\right) \\right]$$\n",
    "\n",
    "We will separate this equation into the components for the absorbance for each of the three species and then add them all together to get the total absorbance. This will allow us to plot the absorbance due to each species along with the combined total.\n",
    "\n",
    "*Note: The code below is identical to that on the previous notebook. All I did was fix the term for `Pt_expr` and the rest took care of itself.*"
   ]
  },
  {
   "cell_type": "code",
   "execution_count": 1,
   "metadata": {
    "tags": [
     "hide-input"
    ]
   },
   "outputs": [
    {
     "data": {
      "text/latex": [
       "$\\displaystyle Abs_{A} = Abs_{0} e^{- k_{1} t}$"
      ],
      "text/plain": [
       "Eq(Abs_A, Abs_0*exp(-k1*t))"
      ]
     },
     "metadata": {},
     "output_type": "display_data"
    },
    {
     "data": {
      "text/latex": [
       "$\\displaystyle Abs_{I} = \\frac{Abs_{0} \\epsilon_{I} k_{1} \\left(- e^{- k_{2} t} + e^{- k_{1} t}\\right)}{\\epsilon_{A} \\left(- k_{1} + k_{2}\\right)}$"
      ],
      "text/plain": [
       "Eq(Abs_I, Abs_0*\\epsilon_I*k1*(-exp(-k2*t) + exp(-k1*t))/(\\epsilon_A*(-k1 + k2)))"
      ]
     },
     "metadata": {},
     "output_type": "display_data"
    },
    {
     "data": {
      "text/latex": [
       "$\\displaystyle Abs_{P} = \\frac{Abs_{0} \\epsilon_{P} \\left(- \\frac{k_{1} \\left(- e^{- k_{2} t} + e^{- k_{1} t}\\right)}{- k_{1} + k_{2}} + 2 - 2 e^{- k_{1} t}\\right)}{\\epsilon_{A}}$"
      ],
      "text/plain": [
       "Eq(Abs_P, Abs_0*\\epsilon_P*(-k1*(-exp(-k2*t) + exp(-k1*t))/(-k1 + k2) + 2 - 2*exp(-k1*t))/\\epsilon_A)"
      ]
     },
     "metadata": {},
     "output_type": "display_data"
    },
    {
     "data": {
      "text/latex": [
       "$\\displaystyle Abs_{t} = Abs_{0} e^{- k_{1} t} + \\frac{Abs_{0} \\epsilon_{I} k_{1} \\left(- e^{- k_{2} t} + e^{- k_{1} t}\\right)}{\\epsilon_{A} \\left(- k_{1} + k_{2}\\right)} + \\frac{Abs_{0} \\epsilon_{P} \\left(- \\frac{k_{1} \\left(- e^{- k_{2} t} + e^{- k_{1} t}\\right)}{- k_{1} + k_{2}} + 2 - 2 e^{- k_{1} t}\\right)}{\\epsilon_{A}}$"
      ],
      "text/plain": [
       "Eq(Abs_t, Abs_0*exp(-k1*t) + Abs_0*\\epsilon_I*k1*(-exp(-k2*t) + exp(-k1*t))/(\\epsilon_A*(-k1 + k2)) + Abs_0*\\epsilon_P*(-k1*(-exp(-k2*t) + exp(-k1*t))/(-k1 + k2) + 2 - 2*exp(-k1*t))/\\epsilon_A)"
      ]
     },
     "metadata": {},
     "output_type": "display_data"
    }
   ],
   "source": [
    "import sympy as sym\n",
    "import matplotlib.pyplot as plt\n",
    "import numpy as np\n",
    "\n",
    "# create math symbols for the equations\n",
    "t = sym.symbols('t')     \n",
    "t, k1, k2, A0 = sym.symbols('t k1 k2 A_0') \n",
    "eA, eI, eP = sym.symbols(r'\\epsilon_A \\epsilon_I \\epsilon_P')\n",
    "At, It, Pt = sym.symbols('A_t, I_t, P_t') \n",
    "Abs0, AbsA, AbsI, AbsP = sym.symbols('Abs_0, Abs_A, Abs_I, Abs_P')\n",
    "Abst = sym.Symbol('Abs_t')    \n",
    "\n",
    "# create expressions that define the concentrations of reactants and products\n",
    "A0_expr = Abs0/eA\n",
    "At_expr = A0 * sym.exp(-k1 * t)\n",
    "It_expr = A0 * k1/(k2-k1) * (sym.exp(-k1*t)-sym.exp(-k2*t))\n",
    "Pt_expr = A0 * (2 - 2*sym.exp(-k1 * t) - k1/(k2-k1) * (sym.exp(-k1*t)-sym.exp(-k2*t)))\n",
    "\n",
    "#display(At_expr, It_expr, Pt_expr)\n",
    "\n",
    "# Create expressions for absorbance due to each species in terms of Abs(t=0)\n",
    "AbsA_expr = eA * At\n",
    "AbsI_expr = eI * It\n",
    "AbsP_expr = eP * Pt\n",
    "\n",
    "#substitute expressions for Absorbance into expressions for concentration\n",
    "AbsA_expr = AbsA_expr.subs({At: At_expr})\n",
    "AbsI_expr = AbsI_expr.subs({It: It_expr})\n",
    "AbsP_expr = AbsP_expr.subs({Pt: Pt_expr})\n",
    "\n",
    "#display(AbsA_expr, AbsI_expr, AbsP_expr)\n",
    "\n",
    "AbsA_expr = AbsA_expr.subs({A0: A0_expr})\n",
    "AbsI_expr = AbsI_expr.subs({A0: A0_expr})\n",
    "AbsP_expr = AbsP_expr.subs({A0: A0_expr})\n",
    "Abst_expr = AbsA_expr + AbsI_expr + AbsP_expr\n",
    "display(sym.Eq(AbsA,AbsA_expr), \n",
    "        sym.Eq(AbsI,AbsI_expr), \n",
    "        sym.Eq(AbsP,AbsP_expr), \n",
    "        sym.Eq(Abst,Abst_expr))\n",
    "\n"
   ]
  },
  {
   "cell_type": "markdown",
   "metadata": {},
   "source": [
    "## Plotting the Model\n",
    "\n",
    "Examine the equations for AbsA, AbsI, AbsP and AbsT and convince yourself that they are correct. Using these equations, let us plot the absorbance for $Abs_A$, $Abs_I$, $Abs_P$, and $Abs_t$. We will use values for $k_1$ and $k_2$ from the data in figure 1. The relative values of $Abs_0$, $\\epsilon_A$, $\\epsilon_I$,, and $\\epsilon_P$ are guesstimates (the author did not provide this data.)"
   ]
  },
  {
   "cell_type": "code",
   "execution_count": 2,
   "metadata": {
    "tags": [
     "hide-input"
    ]
   },
   "outputs": [
    {
     "data": {
      "image/png": "[encoded data removed]",
      "text/plain": [
       "<Figure size 400x300 with 1 Axes>"
      ]
     },
     "metadata": {},
     "output_type": "display_data"
    }
   ],
   "source": [
    "## Plot the function for Abst and its components\n",
    "\n",
    "time = np.linspace(0,10000,100)  # 100 data points between 0 and 1E5 seconds\n",
    "k1_value = 2E-3\n",
    "k2_value = 2E-4\n",
    "Abs0_value = 0.2\n",
    "eA_value = 1       # use ratio so that eI/eA = 0.6 for example\n",
    "eI_value = 0.3\n",
    "eP_value = 0.6\n",
    "\n",
    "# Create dictionaries contains substitution for each term\n",
    "subs_dict_At = { \n",
    "                k1: k1_value, \n",
    "                Abs0: Abs0_value\n",
    "                }\n",
    "subs_dict_It = {\n",
    "                k1: k1_value,\n",
    "                k2: k2_value,\n",
    "                Abs0: Abs0_value,\n",
    "                eA: eA_value,\n",
    "                eI: eI_value,\n",
    "                }\n",
    "subs_dict_Pt = {\n",
    "                k1: k1_value,\n",
    "                k2: k2_value,\n",
    "                Abs0: Abs0_value,\n",
    "                eA: eA_value,\n",
    "                eP: eP_value,\n",
    "                }\n",
    "subs_dict_Abst = {\n",
    "                  k1: k1_value,\n",
    "                  k2: k2_value,\n",
    "                  Abs0: Abs0_value,\n",
    "                  eA: eA_value,\n",
    "                  eI: eI_value,\n",
    "                  eP: eP_value,\n",
    "                  }\n",
    "\n",
    "# plot each term using the values established above\n",
    "t_range = [t,0,10000]\n",
    "p1 = sym.plot(AbsA_expr.subs(subs_dict_At),t_range, show=False)\n",
    "p2 = sym.plot(AbsI_expr.subs(subs_dict_It),t_range, show=False)\n",
    "p3 = sym.plot(AbsP_expr.subs(subs_dict_Pt),t_range, show=False)\n",
    "p4 = sym.plot(Abst_expr.subs(subs_dict_Abst),t_range, show=False)\n",
    "\n",
    "p1.extend(p2)   # add all plots to p1\n",
    "p1.extend(p3)\n",
    "p1.extend(p4)\n",
    "\n",
    "# Outout the combined plot\n",
    "\n",
    "p1.size = [4,3]           # display settings for p1\n",
    "p1.xlabel = r\"time $/s$\"\n",
    "p1.ylabel = r\"Absorbance\"\n",
    "\n",
    "p1.title=\"All values\"\n",
    "p1.ylim = [None,None]\n",
    "p1.save(\"plots/2_plot1.pdf\")   # save and show p1\n",
    "#p1.show()          # show p1\n",
    "\n"
   ]
  },
  {
   "cell_type": "markdown",
   "metadata": {},
   "source": []
  },
  {
   "cell_type": "markdown",
   "metadata": {},
   "source": [
    "## Conclusions\n",
    "\n",
    "We saw that the equation used in the paper gave nonsensical results. We have been presented with the correct equation (differing only by omissions of a $k_1$ term and a number \"2\" in the erroneous version.) Using the correct equation we see a plot of absorbances vs tile that makes much more sense."
   ]
  }
 ],
 "metadata": {
  "kernelspec": {
   "display_name": "base",
   "language": "python",
   "name": "python3"
  },
  "language_info": {
   "codemirror_mode": {
    "name": "ipython",
    "version": 3
   },
   "file_extension": ".py",
   "mimetype": "text/x-python",
   "name": "python",
   "nbconvert_exporter": "python",
   "pygments_lexer": "ipython3",
   "version": "3.12.2"
  }
 },
 "nbformat": 4,
 "nbformat_minor": 2
}