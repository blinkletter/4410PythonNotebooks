{
 "cells": [
  {
   "cell_type": "markdown",
   "metadata": {},
   "source": [
    "# Taft Plot Investigations\n",
    "\n",
    "This workbook contains the code and imports the data to explore how Taft used acid and base-catalyzed ester hydrolysis to develope the taft steric and electronic parameters."
   ]
  },
  {
   "cell_type": "markdown",
   "metadata": {},
   "source": [
    "## Our own versions of $E_s$\n",
    "\n",
    "We have a data set of acid hydrolysis for some chloro substituted esters. Lets use it to create our own versions of Taft $E_s$ steric parameters based on hdrolysis of aliphatic esters.\n",
    "\n",
    "First let us load then data set..."
   ]
  },
  {
   "cell_type": "code",
   "execution_count": 2,
   "metadata": {},
   "outputs": [],
   "source": [
    "import pandas as pd\n",
    "import numpy as np\n",
    "import matplotlib.pyplot as plt\n",
    "import scipy.stats as stats\n",
    "\n",
    "github_location = \"https://raw.githubusercontent.com/blinkletter/4410PythonNotebooks/main/Class_17/data/\"\n",
    "github_location_styles = \"https://raw.githubusercontent.com/blinkletter/LFER-QSAR/main/styles/\"\n",
    "github_location_LFER_tables = \"https://raw.githubusercontent.com/blinkletter/LFER-QSAR/main/data/\"\n",
    "\n",
    "\n",
    "#################################################################\n",
    "### a function to fill in sigma for empty spaces in s+ and s- ###\n",
    "#################################################################\n",
    "\n",
    "def fill_sigma(df):     \n",
    "    for z in df.index:\n",
    "        if np.isnan(df.loc[z,\"s_plus\"]):\n",
    "            df.loc[z,\"s_plus\"] = df.loc[z,\"sigma\"]\n",
    "        if np.isnan(df[\"s_minus\"][z]):\n",
    "            df.loc[z,\"s_minus\"] = df.loc[z,\"sigma\"]\n",
    "    return(df)\n"
   ]
  },
  {
   "cell_type": "code",
   "execution_count": 3,
   "metadata": {},
   "outputs": [
    {
     "data": {
      "text/html": [
       "<div>\n",
       "<style scoped>\n",
       "    .dataframe tbody tr th:only-of-type {\n",
       "        vertical-align: middle;\n",
       "    }\n",
       "\n",
       "    .dataframe tbody tr th {\n",
       "        vertical-align: top;\n",
       "    }\n",
       "\n",
       "    .dataframe thead th {\n",
       "        text-align: right;\n",
       "    }\n",
       "</style>\n",
       "<table border=\"1\" class=\"dataframe\">\n",
       "  <thead>\n",
       "    <tr style=\"text-align: right;\">\n",
       "      <th></th>\n",
       "      <th>Name</th>\n",
       "      <th>Substituent</th>\n",
       "      <th>log(k X 10^6 s^-1)</th>\n",
       "      <th>k X 10^6 s^-1</th>\n",
       "      <th>ref</th>\n",
       "    </tr>\n",
       "  </thead>\n",
       "  <tbody>\n",
       "    <tr>\n",
       "      <th>0</th>\n",
       "      <td>Ethyl acetate</td>\n",
       "      <td>CH3</td>\n",
       "      <td>4.03</td>\n",
       "      <td>1072</td>\n",
       "      <td>Timm</td>\n",
       "    </tr>\n",
       "    <tr>\n",
       "      <th>1</th>\n",
       "      <td>Ethyl chloroacetate</td>\n",
       "      <td>CH2Cl</td>\n",
       "      <td>3.86</td>\n",
       "      <td>724</td>\n",
       "      <td>Timm</td>\n",
       "    </tr>\n",
       "    <tr>\n",
       "      <th>2</th>\n",
       "      <td>Ethyl dichloroacetate</td>\n",
       "      <td>CHCl2</td>\n",
       "      <td>3.44</td>\n",
       "      <td>275</td>\n",
       "      <td>Timm</td>\n",
       "    </tr>\n",
       "    <tr>\n",
       "      <th>3</th>\n",
       "      <td>Ethyl trichloroacetate</td>\n",
       "      <td>CCl3</td>\n",
       "      <td>3.74</td>\n",
       "      <td>550</td>\n",
       "      <td>Timm</td>\n",
       "    </tr>\n",
       "  </tbody>\n",
       "</table>\n",
       "</div>"
      ],
      "text/plain": [
       "                     Name Substituent  log(k X 10^6 s^-1)  k X 10^6 s^-1  \\\n",
       "0           Ethyl acetate         CH3                4.03           1072   \n",
       "1     Ethyl chloroacetate       CH2Cl                3.86            724   \n",
       "2   Ethyl dichloroacetate       CHCl2                3.44            275   \n",
       "3  Ethyl trichloroacetate        CCl3                3.74            550   \n",
       "\n",
       "         ref  \n",
       "0       Timm  \n",
       "1  Timm       \n",
       "2   Timm      \n",
       "3    Timm     "
      ]
     },
     "metadata": {},
     "output_type": "display_data"
    }
   ],
   "source": [
    "############################################\n",
    "### Read in data from literature example ###\n",
    "############################################\n",
    "\n",
    "datafile = \"17-Table_3.csv\"\n",
    "\n",
    "acid_data = pd.read_csv(github_location + datafile, \n",
    "                 delimiter = \",\", \n",
    "                 skipinitialspace=True, \n",
    "#                 index_col=\"Substituent\", \n",
    "                 comment = \"#\") \n",
    "#display(acid_data.head())\n",
    "\n",
    "###\n",
    "### Note: The values of the rate constants are in units of 10^(-6) s^-1\n",
    "###\n",
    "\n",
    "###############################\n",
    "### Remove unneeded columns ###\n",
    "###############################\n",
    "\n",
    "#acid_data.drop(labels = [\"Name\",\"log_k\",\"ref\"], axis = 1, inplace = True)  # remove unwanted columns\n",
    "display(acid_data.head())"
   ]
  },
  {
   "cell_type": "markdown",
   "metadata": {},
   "source": [
    "If we set the electronic sensitivity, $\\rho^*$, to zero and the seric sensitivity, $\\gamma$, to 1.0 (this is the reference reaction) "
   ]
  },
  {
   "cell_type": "markdown",
   "metadata": {},
   "source": []
  }
 ],
 "metadata": {
  "kernelspec": {
   "display_name": "Python 3 (ipykernel)",
   "language": "python",
   "name": "python3"
  },
  "language_info": {
   "codemirror_mode": {
    "name": "ipython",
    "version": 3
   },
   "file_extension": ".py",
   "mimetype": "text/x-python",
   "name": "python",
   "nbconvert_exporter": "python",
   "pygments_lexer": "ipython3",
   "version": "3.11.4"
  }
 },
 "nbformat": 4,
 "nbformat_minor": 2
}
