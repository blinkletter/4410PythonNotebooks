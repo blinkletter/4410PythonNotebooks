{
 "cells": [
  {
   "cell_type": "markdown",
   "metadata": {},
   "source": [
    "# Hammett Plot for pH = 11.5 ($\\log{k_{OH^-}}$ vs $\\sigma$)\n",
    "\n",
    "This workbook imports the data set of kinetic parameters for the rearrangement described in the paper below. It then generates a Hammett plot for the reaction indicated in the title.\n",
    "\n",
    "The data being pklotted is from 'On the Rearrangement in Dioxane/Water of (*Z*)-Arylhydrazones of 5-Amino-3-benzoyl-1,2,4-oxadiazole into (2-Aryl-5-phenyl-2*H*-1,2,3-triazol-4-yl)ureas: Substituent Effects on the Different Reaction Pathways.\" F. D'Anna, V. Frenna, G. Macaluso, S. Marullo, S. Morganti, V. Pace, D. Spinelli, R. Spisani, C. Tavani, *J. Org. Chem.*, **2006**, *71*, 5616-5624. https://doi.org/10.1021/jo0605849\n",
    "\n",
    "The data is found in tables within the supplementary material at https://ndownloader.figstatic.com/files/4775281\n"
   ]
  },
  {
   "cell_type": "markdown",
   "metadata": {},
   "source": [
    "## Setup Tools and Read Data Table\n",
    "\n",
    "The libraries are imported and any functions defined"
   ]
  },
  {
   "cell_type": "code",
   "execution_count": 10,
   "metadata": {},
   "outputs": [],
   "source": [
    "##############################################################\n",
    "### Set up libraries and global variables\n",
    "##############################################################\n",
    "\n",
    "import pandas as pd\n",
    "import numpy as np\n",
    "import matplotlib.pyplot as plt\n",
    "import scipy.stats as stats\n",
    "from scipy.optimize import curve_fit\n",
    "\n",
    "github_location = \"https://raw.githubusercontent.com/blinkletter/4410PythonNotebooks/main/Class_23/data/\"\n",
    "#github_location = \"./data/\"\n",
    "github_location_styles = \"https://raw.githubusercontent.com/blinkletter/LFER-QSAR/main/styles/\"\n",
    "github_location_LFER_tables = \"https://raw.githubusercontent.com/blinkletter/LFER-QSAR/main/data/\"\n",
    "\n",
    "result_file_name = \"results.csv\"\n"
   ]
  },
  {
   "cell_type": "markdown",
   "metadata": {},
   "source": [
    "## Read Data and make Plots\n",
    "\n",
    "We now have a data set of kinetic parameters and substituent parameters.  We can plot the log of the rate constants *vs* the Hammett $\\sigma$ values and draw conclusion based on the results."
   ]
  },
  {
   "cell_type": "code",
   "execution_count": 15,
   "metadata": {},
   "outputs": [
    {
     "name": "stdout",
     "output_type": "stream",
     "text": [
      "kOH\n",
      "slope = 2.317 +/- 0.093\n",
      "intercept = 0.099 +/- 0.055\n",
      "rsq = 0.991\n",
      "p = 2.68e-07\n",
      "\n",
      "kOH\n",
      "slope = -0.283 +/- 0.011\n",
      "intercept = -0.003 +/- 0.004\n",
      "rsq = 0.997\n",
      "p = 0.0014\n",
      "\n"
     ]
    },
    {
     "data": {
      "image/png": "[encoded data removed]",
      "text/plain": [
       "<Figure size 500x400 with 1 Axes>"
      ]
     },
     "metadata": {},
     "output_type": "display_data"
    }
   ],
   "source": [
    "import pandas as pd\n",
    "import numpy as np\n",
    "import matplotlib.pyplot as plt\n",
    "import scipy.stats as stats\n",
    "from scipy.stats import linregress\n",
    "\n",
    "def Report(comment, result):\n",
    "    print(comment)\n",
    "    print(f\"slope = {result.slope:-.3f} +/- {result.stderr:.3f}\")\n",
    "    print(f\"intercept = {result.intercept:-.3f} +/- {result.intercept_stderr:.3f}\")\n",
    "    print(f\"rsq = {(result.rvalue)**2:-.3}\")\n",
    "    print(f\"p = {(result.pvalue):-.3}\")\n",
    "    print(\"\")\n",
    "\n",
    "\n",
    "#Filename = github_location_LFER_tables + LFER_Data\n",
    "Filename = result_file_name        ### Use when working file is being stored locally\n",
    "\n",
    "\n",
    "df = pd.read_csv(Filename, \n",
    "                 delimiter = \",\", \n",
    "                 skipinitialspace=True, \n",
    "                 index_col=\"Substituent\", \n",
    "                 comment = \"#\") \n",
    "\n",
    "#display(df)\n",
    "\n",
    "dfcopy = df.copy()\n",
    "\n",
    "################################################\n",
    "### Electron Acceptors with YK and sigma minus\n",
    "################################################\n",
    "\n",
    "\n",
    "df_rhs = df.drop([\"p-OCH3\",\"p-CH3\",\"m-CH3\"])\n",
    "#display(df_rhs)\n",
    "sigmatype = \"s_minus\"   # \"sigma\", \"s_plus\", or \"s_minus\"\n",
    "column = \"kOH\"  # \"Ka\", \"kOH\", \"kH2O\", \"kH\"\n",
    "\n",
    "y_H = df[column][\"H\"]\n",
    "\n",
    "r = 0.64\n",
    "#x = df_rhs[sigmatype]  \n",
    "x = df_rhs[\"sigma\"]+r*(df_rhs[sigmatype]-df_rhs[\"sigma\"])\n",
    "\n",
    "y = np.log10(df_rhs[column] / y_H)\n",
    "\n",
    "#print (x,y)\n",
    "\n",
    "style = \"tufte.mplstyle\"\n",
    "#style = \"S2_classic2.mplstyle\"\n",
    "style_name = github_location_styles + style\n",
    "plt.style.use(style_name)\n",
    "\n",
    "fig, ax = plt.subplots(nrows=1, ncols=1, figsize=(5,4))  \n",
    "ax.margins(x=.07, y=.07, tight=True)\n",
    "\n",
    "\n",
    "if sigmatype == \"s_plus\":\n",
    "    x_label = r\"$\\sigma^+$\"\n",
    "elif sigmatype == \"s_minus\":\n",
    "    x_label = r\"$\\sigma^-$\"\n",
    "elif sigmatype == \"sigma\":\n",
    "    x_label = r\"$\\sigma$\"\n",
    "else:\n",
    "    x_label = \"ERROR\"\n",
    "\n",
    "#x_label = r\"$\\sigma + r(\\sigma^--\\sigma)$, $r = \"+str(r)+r\"$\"\n",
    "x_label = r\"$\\sigma<0,\\ \\sigma^+\\ \\|\\ \\sigma>0,\\ \\sigma + r(\\sigma^--\\sigma)$, $r = \"+str(r)+r\"$\"\n",
    "\n",
    "#y_label = r\"$\\log{\\frac{k_{OH_X}}{k_{OH_H}}}$\"\n",
    "y_label = r\"$\\log{(k_{OH_X} / k_{OH_H})}$\"\n",
    "\n",
    "ax.set(\n",
    "#    title=\"Yukawa-Tsuno Plot\",       \n",
    "          ylabel=y_label, \n",
    "          xlabel=x_label,                \n",
    "#          xlim=[-.9,.9],                  \n",
    "#          ylim=[-3.7,-2.7]\n",
    "       )\n",
    "\n",
    "\n",
    "##############################\n",
    "\n",
    "linfit = linregress(x,y)\n",
    "fity = linfit.slope * x + linfit.intercept\n",
    "\n",
    "ax.plot(x, fity, color='black', zorder=1, linewidth=0.5)\n",
    "\n",
    "ax.scatter(x,y, s=52, color=\"black\", marker='o', edgecolors = \"none\", zorder=3)\n",
    "ax.scatter(x,y, s=32, color=\"white\", marker='o', edgecolors = \"none\", zorder=3)\n",
    "ax.scatter(x,y, s=32, color=\"black\", marker='o', edgecolors = \"none\", alpha = 0.1, zorder=3)\n",
    "\n",
    "\n",
    "Report(column, linfit)   # use the 'Report' function to output the line fit parameters\n",
    "\n",
    "\n",
    "################################################\n",
    "### Electron Donors with YK and sigma plus\n",
    "################################################\n",
    "\n",
    "df_lhs = df.drop([\"p-Cl\",\"p-Br\",\"m-Cl\",\"m-Br\",\"p-CN\",\"m-NO2\",\"p-NO2\"])\n",
    "\n",
    "\n",
    "\n",
    "\n",
    "\n",
    "\n",
    "#display(df_lhs)\n",
    "sigmatype = \"s_plus\"   # \"sigma\", \"s_plus\", or \"s_minus\"\n",
    "column = \"kOH\"  # \"Ka\", \"kOH\", \"kH2O\", \"kH\"\n",
    "\n",
    "r = 1\n",
    "#x = df_lhs[sigmatype]  \n",
    "x = df_lhs[\"sigma\"]+r*(df_lhs[sigmatype]-df_lhs[\"sigma\"])\n",
    "\n",
    "y = np.log10(df_lhs[column] / y_H)\n",
    "\n",
    "\n",
    "##############################\n",
    "\n",
    "linfit = linregress(x,y)\n",
    "fity = linfit.slope * x + linfit.intercept\n",
    "\n",
    "ax.plot(x, fity, color='black', zorder=1, linewidth=0.5)\n",
    "\n",
    "ax.scatter(x,y, s=52, color=\"black\", marker='o', edgecolors = \"none\", zorder=3)\n",
    "ax.scatter(x,y, s=32, color=\"white\", marker='o', edgecolors = \"none\", zorder=3)\n",
    "ax.scatter(x,y, s=32, color=\"black\", marker='o', edgecolors = \"none\", alpha = 0.5, zorder=3)\n",
    "\n",
    "\n",
    "Report(column, linfit)   # use the 'Report' function to output the line fit parameters\n",
    "\n",
    "\n",
    "\n",
    "###############################################################################\n",
    "fig.savefig(\"images/plotYK_kOH_part3_1.pdf\")   # use this to save the figure in PDF format\n",
    "plt.show()\n"
   ]
  },
  {
   "cell_type": "markdown",
   "metadata": {},
   "source": [
    "## Determine Yukawa-Tsuno *r*-Value\n",
    "\n",
    "the code below uses the y-data and determines a set of $\\sigma$ values based on blending $\\sigma$ and $\\sigma^-$ values using the Yukawa-Tsuno method."
   ]
  },
  {
   "cell_type": "code",
   "execution_count": 12,
   "metadata": {},
   "outputs": [
    {
     "ename": "ValueError",
     "evalue": "all the input array dimensions except for the concatenation axis must match exactly, but along dimension 1, the array at index 0 has size 8 and the array at index 1 has size 4",
     "output_type": "error",
     "traceback": [
      "\u001b[0;31m---------------------------------------------------------------------------\u001b[0m",
      "\u001b[0;31mValueError\u001b[0m                                Traceback (most recent call last)",
      "Cell \u001b[0;32mIn[12], line 18\u001b[0m\n\u001b[1;32m     16\u001b[0m r_range \u001b[38;5;241m=\u001b[39m np\u001b[38;5;241m.\u001b[39marange(\u001b[38;5;241m0\u001b[39m,\u001b[38;5;241m1\u001b[39m,\u001b[38;5;241m0.01\u001b[39m)\n\u001b[1;32m     17\u001b[0m \u001b[38;5;28;01mfor\u001b[39;00m r \u001b[38;5;129;01min\u001b[39;00m r_range:\n\u001b[0;32m---> 18\u001b[0m     rsq \u001b[38;5;241m=\u001b[39m RSQ_function(r)\n\u001b[1;32m     19\u001b[0m     rsq_range\u001b[38;5;241m.\u001b[39mappend(rsq)\n\u001b[1;32m     21\u001b[0m \u001b[38;5;66;03m##########################################################\u001b[39;00m\n\u001b[1;32m     22\u001b[0m \u001b[38;5;66;03m### Plot the value of -RSQ as the value of r is varied \u001b[39;00m\n\u001b[1;32m     23\u001b[0m \u001b[38;5;66;03m##########################################################\u001b[39;00m\n",
      "Cell \u001b[0;32mIn[12], line 7\u001b[0m, in \u001b[0;36mRSQ_function\u001b[0;34m(r)\u001b[0m\n\u001b[1;32m      5\u001b[0m \u001b[38;5;28;01mdef\u001b[39;00m \u001b[38;5;21mRSQ_function\u001b[39m(r):    \u001b[38;5;66;03m# returns the RSQ for linefits using the given Yukawa-Tsuno r factor\u001b[39;00m\n\u001b[1;32m      6\u001b[0m     x \u001b[38;5;241m=\u001b[39m df_rhs[\u001b[38;5;124m\"\u001b[39m\u001b[38;5;124msigma\u001b[39m\u001b[38;5;124m\"\u001b[39m]\u001b[38;5;241m+\u001b[39mr\u001b[38;5;241m*\u001b[39m(df_rhs[\u001b[38;5;124m\"\u001b[39m\u001b[38;5;124ms_minus\u001b[39m\u001b[38;5;124m\"\u001b[39m]\u001b[38;5;241m-\u001b[39mdf_rhs[\u001b[38;5;124m\"\u001b[39m\u001b[38;5;124msigma\u001b[39m\u001b[38;5;124m\"\u001b[39m])\n\u001b[0;32m----> 7\u001b[0m     linfit \u001b[38;5;241m=\u001b[39m linregress(x,y)    \u001b[38;5;66;03m# y is the set of y values from above\u001b[39;00m\n\u001b[1;32m      8\u001b[0m     \u001b[38;5;28;01mreturn\u001b[39;00m \u001b[38;5;241m-\u001b[39m(linfit\u001b[38;5;241m.\u001b[39mrvalue\u001b[38;5;241m*\u001b[39m\u001b[38;5;241m*\u001b[39m\u001b[38;5;241m2\u001b[39m)\n",
      "File \u001b[0;32m/opt/anaconda3/envs/main/lib/python3.12/site-packages/scipy/stats/_stats_mstats_common.py:167\u001b[0m, in \u001b[0;36mlinregress\u001b[0;34m(x, y, alternative)\u001b[0m\n\u001b[1;32m    162\u001b[0m ymean \u001b[38;5;241m=\u001b[39m np\u001b[38;5;241m.\u001b[39mmean(y, \u001b[38;5;28;01mNone\u001b[39;00m)\n\u001b[1;32m    164\u001b[0m \u001b[38;5;66;03m# Average sums of square differences from the mean\u001b[39;00m\n\u001b[1;32m    165\u001b[0m \u001b[38;5;66;03m#   ssxm = mean( (x-mean(x))^2 )\u001b[39;00m\n\u001b[1;32m    166\u001b[0m \u001b[38;5;66;03m#   ssxym = mean( (x-mean(x)) * (y-mean(y)) )\u001b[39;00m\n\u001b[0;32m--> 167\u001b[0m ssxm, ssxym, _, ssym \u001b[38;5;241m=\u001b[39m np\u001b[38;5;241m.\u001b[39mcov(x, y, bias\u001b[38;5;241m=\u001b[39m\u001b[38;5;241m1\u001b[39m)\u001b[38;5;241m.\u001b[39mflat\n\u001b[1;32m    169\u001b[0m \u001b[38;5;66;03m# R-value\u001b[39;00m\n\u001b[1;32m    170\u001b[0m \u001b[38;5;66;03m#   r = ssxym / sqrt( ssxm * ssym )\u001b[39;00m\n\u001b[1;32m    171\u001b[0m \u001b[38;5;28;01mif\u001b[39;00m ssxm \u001b[38;5;241m==\u001b[39m \u001b[38;5;241m0.0\u001b[39m \u001b[38;5;129;01mor\u001b[39;00m ssym \u001b[38;5;241m==\u001b[39m \u001b[38;5;241m0.0\u001b[39m:\n\u001b[1;32m    172\u001b[0m     \u001b[38;5;66;03m# If the denominator was going to be 0\u001b[39;00m\n",
      "File \u001b[0;32m/opt/anaconda3/envs/main/lib/python3.12/site-packages/numpy/lib/function_base.py:2683\u001b[0m, in \u001b[0;36mcov\u001b[0;34m(m, y, rowvar, bias, ddof, fweights, aweights, dtype)\u001b[0m\n\u001b[1;32m   2681\u001b[0m     \u001b[38;5;28;01mif\u001b[39;00m \u001b[38;5;129;01mnot\u001b[39;00m rowvar \u001b[38;5;129;01mand\u001b[39;00m y\u001b[38;5;241m.\u001b[39mshape[\u001b[38;5;241m0\u001b[39m] \u001b[38;5;241m!=\u001b[39m \u001b[38;5;241m1\u001b[39m:\n\u001b[1;32m   2682\u001b[0m         y \u001b[38;5;241m=\u001b[39m y\u001b[38;5;241m.\u001b[39mT\n\u001b[0;32m-> 2683\u001b[0m     X \u001b[38;5;241m=\u001b[39m np\u001b[38;5;241m.\u001b[39mconcatenate((X, y), axis\u001b[38;5;241m=\u001b[39m\u001b[38;5;241m0\u001b[39m)\n\u001b[1;32m   2685\u001b[0m \u001b[38;5;28;01mif\u001b[39;00m ddof \u001b[38;5;129;01mis\u001b[39;00m \u001b[38;5;28;01mNone\u001b[39;00m:\n\u001b[1;32m   2686\u001b[0m     \u001b[38;5;28;01mif\u001b[39;00m bias \u001b[38;5;241m==\u001b[39m \u001b[38;5;241m0\u001b[39m:\n",
      "\u001b[0;31mValueError\u001b[0m: all the input array dimensions except for the concatenation axis must match exactly, but along dimension 1, the array at index 0 has size 8 and the array at index 1 has size 4"
     ]
    }
   ],
   "source": [
    "# YUKAWA-TSUNO DETERMINATION FOR RIGHT_HAND SIDE\n",
    "\n",
    "from scipy.optimize import minimize_scalar\n",
    "\n",
    "def RSQ_function(r):    # returns the RSQ for linefits using the given Yukawa-Tsuno r factor\n",
    "    x = df_rhs[\"sigma\"]+r*(df_rhs[\"s_minus\"]-df_rhs[\"sigma\"])\n",
    "    linfit = linregress(x,y)    # y is the set of y values from above\n",
    "    return -(linfit.rvalue**2)\n",
    "\n",
    "\n",
    "##########################################################\n",
    "### Calculate the value of -RSQ as the value of r is varied \n",
    "##########################################################\n",
    "\n",
    "rsq_range=[]\n",
    "r_range = np.arange(0,1,0.01)\n",
    "for r in r_range:\n",
    "    rsq = RSQ_function(r)\n",
    "    rsq_range.append(rsq)\n",
    "\n",
    "##########################################################\n",
    "### Plot the value of -RSQ as the value of r is varied \n",
    "##########################################################\n",
    "\n",
    "style_file = \"tufte.mplstyle\"\n",
    "#style_file = \"S2_classic2.mplstyle\"\n",
    "plt.style.use(github_location_styles + style_file)        \n",
    "\n",
    "fig, ax = plt.subplots(nrows=1, ncols=1, figsize=(3,3))  \n",
    "ax.margins(x=.07, y=.07, tight=True)      # add 7% empty space around outside of plot area   \n",
    "ax.set(ylabel=r\"$-R^2$\", \n",
    "       xlabel=r\"Yukawa-Tsuno $r$ value\")\n",
    "\n",
    "ax.plot(r_range,rsq_range)\n",
    "\n",
    "fig.savefig(\"plotYK_kOH_rhs_r.pdf\")   # use this to save the figure in PDF format\n",
    "plt.show()\n",
    "\n",
    "##################################################\n",
    "### Determine optimal r value to minimize -RSQ \n",
    "##################################################\n",
    "\n",
    "r_opt = minimize_scalar(RSQ_function)\n",
    "print(f\"The optimal value for r is {r_opt['x']:0.3f} for rsq = {r_opt['fun']:0.5f}\")"
   ]
  },
  {
   "cell_type": "code",
   "execution_count": null,
   "metadata": {},
   "outputs": [
    {
     "data": {
      "image/png": "[encoded data removed]",
      "text/plain": [
       "<Figure size 300x300 with 1 Axes>"
      ]
     },
     "metadata": {},
     "output_type": "display_data"
    },
    {
     "name": "stdout",
     "output_type": "stream",
     "text": [
      "The optimal value for r is -6.426 for rsq = -0.98930\n"
     ]
    }
   ],
   "source": [
    "# YUKAWA-TSUNO DETERMINATION FOR LEFT_HAND SIDE\n",
    "\n",
    "from scipy.optimize import minimize_scalar\n",
    "\n",
    "def RSQ_function(r):    # returns the RSQ for linefits using the given Yukawa-Tsuno r factor\n",
    "    x = df_lhs[\"sigma\"]+r*(df_lhs[\"s_minus\"]-df_lhs[\"sigma\"])\n",
    "    linfit = linregress(x,y)    # y is the set of y values from above\n",
    "    return -(linfit.rvalue**2)\n",
    "\n",
    "\n",
    "##########################################################\n",
    "### Calculate the value of -RSQ as the value of r is varied \n",
    "##########################################################\n",
    "\n",
    "rsq_range=[]\n",
    "r_range = np.arange(0,1,0.01)\n",
    "for r in r_range:\n",
    "    rsq = RSQ_function(r)\n",
    "    rsq_range.append(rsq)\n",
    "\n",
    "##########################################################\n",
    "### Plot the value of -RSQ as the value of r is varied \n",
    "##########################################################\n",
    "\n",
    "style_file = \"tufte.mplstyle\"\n",
    "#style_file = \"S2_classic2.mplstyle\"\n",
    "plt.style.use(github_location_styles + style_file)        \n",
    "\n",
    "fig, ax = plt.subplots(nrows=1, ncols=1, figsize=(3,3))  \n",
    "ax.margins(x=.07, y=.07, tight=True)      # add 7% empty space around outside of plot area   \n",
    "ax.set(ylabel=r\"$-R^2$\", \n",
    "       xlabel=r\"Yukawa-Tsuno $r$ value\")\n",
    "\n",
    "ax.plot(r_range,rsq_range)\n",
    "\n",
    "fig.savefig(\"plotYK_kOH_lhs_r.pdf\")   # use this to save the figure in PDF format\n",
    "plt.show()\n",
    "\n",
    "##################################################\n",
    "### Determine optimal r value to minimize -RSQ \n",
    "##################################################\n",
    "\n",
    "r_opt = minimize_scalar(RSQ_function)\n",
    "print(f\"The optimal value for r is {r_opt['x']:0.3f} for rsq = {r_opt['fun']:0.5f}\")"
   ]
  },
  {
   "cell_type": "code",
   "execution_count": null,
   "metadata": {},
   "outputs": [
    {
     "ename": "SyntaxError",
     "evalue": "invalid syntax. Perhaps you forgot a comma? (4249110036.py, line 1)",
     "output_type": "error",
     "traceback": [
      "\u001b[0;36m  Cell \u001b[0;32mIn[29], line 1\u001b[0;36m\u001b[0m\n\u001b[0;31m    df.loc[\"p-OCH3\",\"m-CH3\",\"p-CH3,\"H]\u001b[0m\n\u001b[0m                            ^\u001b[0m\n\u001b[0;31mSyntaxError\u001b[0m\u001b[0;31m:\u001b[0m invalid syntax. Perhaps you forgot a comma?\n"
     ]
    }
   ],
   "source": [
    "df.[\"p-OCH3\",\"m-CH3\",\"p-CH3,\"H]"
   ]
  },
  {
   "cell_type": "markdown",
   "metadata": {},
   "source": []
  },
  {
   "cell_type": "code",
   "execution_count": null,
   "metadata": {},
   "outputs": [],
   "source": []
  }
 ],
 "metadata": {
  "kernelspec": {
   "display_name": "main",
   "language": "python",
   "name": "python3"
  },
  "language_info": {
   "codemirror_mode": {
    "name": "ipython",
    "version": 3
   },
   "file_extension": ".py",
   "mimetype": "text/x-python",
   "name": "python",
   "nbconvert_exporter": "python",
   "pygments_lexer": "ipython3",
   "version": "3.12.2"
  }
 },
 "nbformat": 4,
 "nbformat_minor": 2
}
