{
 "cells": [
  {
   "cell_type": "code",
   "execution_count": null,
   "metadata": {},
   "outputs": [
    {
     "name": "stdout",
     "output_type": "stream",
     "text": [
      "Requirement already satisfied: uncertainties in /opt/anaconda3/envs/main/lib/python3.12/site-packages (3.2.2)\n"
     ]
    }
   ],
   "source": [
    "##############################################################\n",
    "### Set up libraries and global variables\n",
    "##############################################################\n",
    "\n",
    "import pandas as pd\n",
    "import numpy as np\n",
    "import matplotlib.pyplot as plt\n",
    "import scipy.stats as stats\n",
    "import scipy.constants as constants  # a collection of scientific constants\n",
    "from scipy.optimize import curve_fit\n",
    "from scipy.stats import linregress\n",
    "\n",
    "!pip install uncertainties\n",
    "\n",
    "import uncertainties as un\n",
    "from uncertainties import unumpy as unp\n",
    "\n",
    "github_location_styles = \"https://raw.githubusercontent.com/blinkletter/LFER-QSAR/main/styles/\"\n",
    "github_location_LFER_tables = \"https://raw.githubusercontent.com/blinkletter/LFER-QSAR/main/data/\"\n",
    "\n",
    "#################################################################\n",
    "### a function to fill in sigma for empty spaces in s+ and s- \n",
    "#################################################################\n",
    "\n",
    "def fill_sigma(df):     \n",
    "    for z in df.index:\n",
    "        if np.isnan(df.loc[z,\"s_plus\"]):\n",
    "            df.loc[z,\"s_plus\"] = df.loc[z,\"sigma\"]\n",
    "        if np.isnan(df[\"s_minus\"][z]):\n",
    "            df.loc[z,\"s_minus\"] = df.loc[z,\"sigma\"]\n",
    "    return(df)\n",
    "\n",
    "#################################################################\n",
    "### a function calculate rsq for data and a model with parameters\n",
    "#################################################################\n",
    "\n",
    "def rsq(x, y, popt, model):\n",
    "    ### RSQ calc from https://stackoverflow.com/questions/19189362/getting-the-r-squared-value-using-curve-fit\n",
    "    y_calc = model(x, *popt)\n",
    "    residuals = y-y_calc\n",
    "    \n",
    "    ss_res = np.sum(residuals**2)\n",
    "    ss_tot = np.sum((y-np.mean(y))**2)\n",
    "    r_squared = 1 - (ss_res / ss_tot)   # calculate correlation constant rsq\n",
    "    return(r_squared)\n",
    "\n"
   ]
  },
  {
   "cell_type": "code",
   "execution_count": 3,
   "metadata": {},
   "outputs": [],
   "source": [
    "################################################################################\n",
    "### Read Hammett data set. The fields are separated by commas; comments are enabled  \n",
    "################################################################################\n",
    "\n",
    "#LFER_Data = \"LFER_HanschLeoTaft.csv\"   # Choose which set of Hammett parameters you prefer\n",
    "LFER_Data = \"LFER_Williams.csv\"\n",
    "\n",
    "Filename = github_location_LFER_tables + LFER_Data\n",
    "\n",
    "df = pd.read_csv(Filename,            # load in substituent constants from database\n",
    "                 delimiter = \",\", \n",
    "                 skipinitialspace=True, \n",
    "                 index_col=\"Substituent\", \n",
    "                 comment = \"#\") \n",
    "#display(df)\n",
    "\n",
    "################################################################################\n",
    "### Fill across sigma values and select substituents \n",
    "################################################################################\n",
    "\n",
    "df = fill_sigma(df)\n",
    "#display(df2)\n",
    "\n",
    "################################################################################\n",
    "### Remove unneeded columns \n",
    "################################################################################\n",
    " \n",
    "#df.drop(labels = [\"TABLE V\", \"TABLE I\"],    #Trim \"LFER_HanschLeoTaft.csv\" data\n",
    "df.drop(labels = [\"Page\"],                   #Trim \"LFER_Williams.csv\"\" data\n",
    "        axis = 1,\n",
    "        inplace = True)\n",
    "\n",
    "df.sort_values(by=['sigma'], inplace=True)\n",
    "\n",
    "#result = pd.concat([df2, df], axis=1, join=\"inner\")   # combine the experimental data and the Hammett parameters\n",
    "\n"
   ]
  },
  {
   "cell_type": "code",
   "execution_count": 4,
   "metadata": {},
   "outputs": [],
   "source": [
    "################################################################################\n",
    "### Data for plot\n",
    "################################################################################\n",
    "\n",
    "list = [\"m-Br\", \"p-OCH3\", \"p-Cl\", \"p-Br\", \"p-CH3\", \"m-CH3\", \"p-CN\", \"m-NO2\", \"p-NO2\",]\n",
    "x = df[\"sigma\"][list]   # pull out corresponding sigma values from dataframe\n",
    "\n",
    "numbers = np.array([0.18, 1, 0.2, 0.25, 0.8, 0.75, 0.05, 0.05, 0.04])\n",
    "y = np.log10(numbers)\n",
    "\n",
    "\n",
    "#plt.plot(x, y, \"ko\")\n"
   ]
  },
  {
   "cell_type": "code",
   "execution_count": 8,
   "metadata": {},
   "outputs": [
    {
     "data": {
      "image/png": "[encoded data removed]",
      "text/plain": [
       "<Figure size 500x400 with 1 Axes>"
      ]
     },
     "metadata": {},
     "output_type": "display_data"
    },
    {
     "name": "stdout",
     "output_type": "stream",
     "text": [
      "slope is -1.405+/-0.066\n",
      "intercept is -0.300+/-0.031\n",
      "rsq is 0.985\n"
     ]
    }
   ],
   "source": [
    "################################################################################\n",
    "### Define Models and other functions\n",
    "################################################################################\n",
    "\n",
    "def linear_model(x, m, b):\n",
    "       y = m*x + b\n",
    "       return(y)\n",
    "\n",
    "################################################################################\n",
    "### Curve Fit to Model\n",
    "################################################################################\n",
    "\n",
    "popt, pcov = curve_fit(linear_model, x, y)   # curve fit data to model\n",
    "\n",
    "################################################################################\n",
    "### Plot Data\n",
    "################################################################################\n",
    "\n",
    "plt.rcdefaults()                  # reset plot styles (just in case)\n",
    "\n",
    "style = \"tufte.mplstyle\"\n",
    "#style = \"S2_classic2.mplstyle\"\n",
    "style_name = github_location_styles + style\n",
    "plt.style.use(style_name)         # use a chosen style sheet (or not)\n",
    "\n",
    "fig, ax = plt.subplots(nrows=1, ncols=1, figsize=(5,4))    # create empty plot\n",
    "#ax.margins(x=.07, y=.07, tight=True)\n",
    "\n",
    "ax.scatter(x, y,                  # plot the data points\n",
    "           s=64, color=\"lightgray\", marker='o', \n",
    "           edgecolors = \"black\", linewidth = 0.7, \n",
    "           alpha = 1, zorder=3)\n",
    "\n",
    "y_calc = linear_model(x, *popt)   # calculate line values using optimize parameters\n",
    "\n",
    "ax.plot(x, y_calc,                # plot the line for optimized parameters\n",
    "           color=\"black\", marker=None, \n",
    "           linewidth = 0.5, \n",
    "           alpha = 1, zorder=2)\n",
    "\n",
    "ax.set(                           # set options for plot appearance\n",
    "#    title=\"Yukawa-Tsuno Plot\",       \n",
    "          ylabel=r\"$\\log{k_{obs}}$\", \n",
    "          xlabel=r\"$\\sigma$\",                \n",
    "#          xlim=[-.9,.9],                  \n",
    "#          ylim=[-3.7,-2.7]\n",
    "       )\n",
    "\n",
    "fig.savefig(\"starter.pdf\")   # use this to save the figure in PDF format\n",
    "plt.show()\n",
    "\n",
    "################################################################################\n",
    "### report\n",
    "################################################################################\n",
    "\n",
    "popt_u = un.correlated_values(popt,pcov) # use covariance matrix and parameters to make uncertain parameters\n",
    "\n",
    "print(f\"slope is {popt_u[0]:0.3f}\")\n",
    "print(f\"intercept is {popt_u[1]:0.3f}\")\n",
    "print(f\"rsq is {rsq(x,y,popt,linear_model):0.3f}\")"
   ]
  },
  {
   "cell_type": "code",
   "execution_count": null,
   "metadata": {},
   "outputs": [],
   "source": []
  }
 ],
 "metadata": {
  "kernelspec": {
   "display_name": "main",
   "language": "python",
   "name": "python3"
  },
  "language_info": {
   "codemirror_mode": {
    "name": "ipython",
    "version": 3
   },
   "file_extension": ".py",
   "mimetype": "text/x-python",
   "name": "python",
   "nbconvert_exporter": "python",
   "pygments_lexer": "ipython3",
   "version": "3.12.2"
  }
 },
 "nbformat": 4,
 "nbformat_minor": 2
}
