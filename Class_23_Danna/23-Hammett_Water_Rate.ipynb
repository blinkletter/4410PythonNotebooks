{
 "cells": [
  {
   "cell_type": "markdown",
   "metadata": {},
   "source": [
    "# Hammett Plot for pH = 3.8 ($\\log{k_{H_2O}}$ vs $\\sigma$)\n",
    "\n",
    "This workbook imports the data set of kinetic parameters for the rearrangement described in the paper below. It then generates a Hammett plot for the reaction indicated in the title.\n",
    "\n",
    "The data being pklotted is from 'On the Rearrangement in Dioxane/Water of (*Z*)-Arylhydrazones of 5-Amino-3-benzoyl-1,2,4-oxadiazole into (2-Aryl-5-phenyl-2*H*-1,2,3-triazol-4-yl)ureas: Substituent Effects on the Different Reaction Pathways.\" F. D'Anna, V. Frenna, G. Macaluso, S. Marullo, S. Morganti, V. Pace, D. Spinelli, R. Spisani, C. Tavani, *J. Org. Chem.*, **2006**, *71*, 5616-5624. https://doi.org/10.1021/jo0605849\n",
    "\n",
    "The data is found in tables within the supplementary material at https://ndownloader.figstatic.com/files/4775281\n"
   ]
  },
  {
   "cell_type": "markdown",
   "metadata": {},
   "source": [
    "## Setup Tools and Read Data Table\n",
    "\n",
    "The libraries are imported and any functions defined"
   ]
  },
  {
   "cell_type": "code",
   "execution_count": 1,
   "metadata": {},
   "outputs": [],
   "source": [
    "##############################################################\n",
    "### Set up libraries and global variables\n",
    "##############################################################\n",
    "\n",
    "import pandas as pd\n",
    "import numpy as np\n",
    "import matplotlib.pyplot as plt\n",
    "import scipy.stats as stats\n",
    "from scipy.optimize import curve_fit\n",
    "\n",
    "github_location = \"https://raw.githubusercontent.com/blinkletter/4410PythonNotebooks/main/Class_23/data/\"\n",
    "#github_location = \"./data/\"\n",
    "github_location_styles = \"https://raw.githubusercontent.com/blinkletter/LFER-QSAR/main/styles/\"\n",
    "github_location_LFER_tables = \"https://raw.githubusercontent.com/blinkletter/LFER-QSAR/main/data/\"\n",
    "\n",
    "result_file_name = \"results.csv\"\n"
   ]
  },
  {
   "cell_type": "markdown",
   "metadata": {},
   "source": [
    "## Read Data and make Plots\n",
    "\n",
    "We now have a data set of kinetic parameters and substituent parameters.  We can plot the log of the rate constants *vs* the Hammett $\\sigma$ values and draw conclusion based on the results."
   ]
  },
  {
   "cell_type": "code",
   "execution_count": 14,
   "metadata": {},
   "outputs": [
    {
     "name": "stdout",
     "output_type": "stream",
     "text": [
      "kH2O\n",
      "slope = -1.183 +/- 0.023\n",
      "intercept = -5.168 +/- 0.011\n",
      "rsq = 0.997\n",
      "p = 2.2e-12\n",
      "\n"
     ]
    },
    {
     "data": {
      "image/png": "[encoded data removed]",
      "text/plain": [
       "<Figure size 500x400 with 1 Axes>"
      ]
     },
     "metadata": {},
     "output_type": "display_data"
    }
   ],
   "source": [
    "import pandas as pd\n",
    "import numpy as np\n",
    "import matplotlib.pyplot as plt\n",
    "import scipy.stats as stats\n",
    "from scipy.stats import linregress\n",
    "\n",
    "def Report(comment, result):\n",
    "    print(comment)\n",
    "    print(f\"slope = {result.slope:-.3f} +/- {result.stderr:.3f}\")\n",
    "    print(f\"intercept = {result.intercept:-.3f} +/- {result.intercept_stderr:.3f}\")\n",
    "    print(f\"rsq = {(result.rvalue)**2:-.3}\")\n",
    "    print(f\"p = {(result.pvalue):-.3}\")\n",
    "    print(\"\")\n",
    "\n",
    "\n",
    "#Filename = github_location_LFER_tables + LFER_Data\n",
    "Filename = result_file_name        ### Use when working file is being stored locally\n",
    "\n",
    "\n",
    "df = pd.read_csv(Filename, \n",
    "                 delimiter = \",\", \n",
    "                 skipinitialspace=True, \n",
    "                 index_col=\"Substituent\", \n",
    "                 comment = \"#\") \n",
    "\n",
    "#display(df)\n",
    "\n",
    "\n",
    "sigmatype = \"s_minus\"   # \"sigma\", \"s_plus\", or \"s_minus\"\n",
    "column = \"kH2O\"  # \"Ka\", \"kOH\", \"kH2O\", \"kH\"\n",
    "\n",
    "r = 0.39\n",
    "#x = df[sigmatype]  \n",
    "x = df[\"sigma\"]+r*(df[\"s_minus\"]-df[\"sigma\"])\n",
    "\n",
    "y = np.log10(df[column])\n",
    "\n",
    "\n",
    "\n",
    "style = \"tufte.mplstyle\"\n",
    "#style = \"S2_classic2.mplstyle\"\n",
    "style_name = github_location_styles + style\n",
    "plt.style.use(style_name)\n",
    "\n",
    "fig, ax = plt.subplots(nrows=1, ncols=1, figsize=(5,4))  \n",
    "ax.margins(x=.07, y=.07, tight=True)\n",
    "\n",
    "\n",
    "if sigmatype == \"s_plus\":\n",
    "    x_label = r\"$\\sigma^+$\"\n",
    "elif sigmatype == \"s_minus\":\n",
    "    x_label = r\"$\\sigma^-$\"\n",
    "elif sigmatype == \"sigma\":\n",
    "    x_label = r\"$\\sigma$\"\n",
    "else:\n",
    "    x_label = \"ERROR\"\n",
    "\n",
    "x_label = r\"$\\sigma + r(\\sigma^--\\sigma)$, $r = \"+str(r)+r\"$\"\n",
    "\n",
    "ax.set(\n",
    "#    title=\"Yukawa-Tsuno Plot\",       \n",
    "          ylabel=r\"$\\log{k_{H_2O}}$\", \n",
    "          xlabel=x_label,                \n",
    "#          xlim=[-.9,.9],                  \n",
    "#          ylim=[-3.7,-2.7]\n",
    "       )\n",
    "\n",
    "\n",
    "##############################\n",
    "\n",
    "linfit = linregress(x,y)\n",
    "fity = linfit.slope * x + linfit.intercept\n",
    "\n",
    "ax.plot(x, fity, color='black', zorder=1, linewidth=0.5)\n",
    "\n",
    "ax.scatter(x,y, s=52, color=\"black\", marker='o', edgecolors = \"none\", zorder=3)\n",
    "ax.scatter(x,y, s=32, color=\"white\", marker='o', edgecolors = \"none\", zorder=3)\n",
    "ax.scatter(x,y, s=32, color=\"black\", marker='o', edgecolors = \"none\", alpha = 0.1, zorder=3)\n",
    "\n",
    "ax.scatter(df[\"sigma\"],y, color=\"red\", marker='|', zorder=2)\n",
    "ax.scatter(df[\"s_minus\"],y, color=\"red\", marker='|', zorder=2)\n",
    "\n",
    "################################################################################\n",
    "### get fancy and add horizontal lines to connect alternate points with hammett sigma points.\n",
    "################################################################################\n",
    "\n",
    "if True:                  # An easy switch to turn this on or off. 'True' for on, 'False' for off.\n",
    "    for n in df.index:\n",
    "        yhline = y[n]\n",
    "        start = df[\"s_minus\"][n]\n",
    "        end = df[\"sigma\"][n]\n",
    "        ax.hlines(yhline, start, end, \n",
    "                  color='red', zorder=0, linewidth=0.5)\n",
    "\n",
    "ax.text(0.75,-6.25,r\"$\\sigma$\", size = \"large\", color = \"red\")\n",
    "ax.text(1.25,-6.25,r\"$\\sigma^-$\", size = \"large\", color = \"red\")\n",
    "\n",
    "Report(column, linfit)   # use the 'Report' function to output the line fit parameters\n",
    "\n",
    "fig.savefig(\"images/plotYK_kH2O.pdf\")   # use this to save the figure in PDF format\n",
    "plt.show()\n"
   ]
  },
  {
   "cell_type": "markdown",
   "metadata": {},
   "source": [
    "## Determine Yukawa-Tsuno *r*-Value\n",
    "\n",
    "the code below uses the y-data and determines a set of $\\sigma$ values based on blending $\\sigma$ and $\\sigma^-$ values using the Yukawa-Tsuno method."
   ]
  },
  {
   "cell_type": "code",
   "execution_count": 13,
   "metadata": {},
   "outputs": [
    {
     "data": {
      "image/png": "[encoded data removed]",
      "text/plain": [
       "<Figure size 300x300 with 1 Axes>"
      ]
     },
     "metadata": {},
     "output_type": "display_data"
    },
    {
     "name": "stdout",
     "output_type": "stream",
     "text": [
      "The optimal value for r is 0.381 for rsq = -0.99654\n"
     ]
    }
   ],
   "source": [
    "# YUKAWA-TSUNO DETERMINATION\n",
    "\n",
    "from scipy.optimize import minimize_scalar\n",
    "\n",
    "def RSQ_function(r):    # returns the RSQ for linefits using the given Yukawa-Tsuno r factor\n",
    "    x = df[\"sigma\"]+r*(df[\"s_minus\"]-df[\"sigma\"])\n",
    "    linfit = linregress(x,y)    # y is the set of y values from above\n",
    "    return -(linfit.rvalue**2)\n",
    "\n",
    "\n",
    "##########################################################\n",
    "### Calculate the value of -RSQ as the value of r is varied \n",
    "##########################################################\n",
    "\n",
    "rsq_range=[]\n",
    "r_range = np.arange(0,1,0.01)\n",
    "for r in r_range:\n",
    "    rsq = RSQ_function(r)\n",
    "    rsq_range.append(rsq)\n",
    "\n",
    "##########################################################\n",
    "### Plot the value of -RSQ as the value of r is varied \n",
    "##########################################################\n",
    "\n",
    "style_file = \"tufte.mplstyle\"\n",
    "#style_file = \"S2_classic2.mplstyle\"\n",
    "plt.style.use(github_location_styles + style_file)        \n",
    "\n",
    "fig, ax = plt.subplots(nrows=1, ncols=1, figsize=(3,3))  \n",
    "ax.margins(x=.07, y=.07, tight=True)      # add 7% empty space around outside of plot area   \n",
    "ax.set(ylabel=r\"$-R^2$\", \n",
    "       xlabel=r\"Yukawa-Tsuno $r$ value\")\n",
    "\n",
    "ax.plot(r_range,rsq_range)\n",
    "\n",
    "r_opt = minimize_scalar(RSQ_function)\n",
    "\n",
    "ax.scatter(r_opt['x'],r_opt['fun'], s=32, color=\"white\", marker='o', \n",
    "           edgecolor = \"black\", linewidth = 0.5, zorder=3)\n",
    "\n",
    "fig.savefig(\"images/plotYK_kH2O_r.pdf\")   # use this to save the figure in PDF format\n",
    "plt.show()\n",
    "\n",
    "##################################################\n",
    "### Determine optimal r value to minimize -RSQ \n",
    "##################################################\n",
    "\n",
    "print(f\"The optimal value for r is {r_opt['x']:0.3f} for rsq = {r_opt['fun']:0.5f}\")"
   ]
  },
  {
   "cell_type": "code",
   "execution_count": null,
   "metadata": {},
   "outputs": [],
   "source": []
  }
 ],
 "metadata": {
  "kernelspec": {
   "display_name": "main",
   "language": "python",
   "name": "python3"
  },
  "language_info": {
   "codemirror_mode": {
    "name": "ipython",
    "version": 3
   },
   "file_extension": ".py",
   "mimetype": "text/x-python",
   "name": "python",
   "nbconvert_exporter": "python",
   "pygments_lexer": "ipython3",
   "version": "3.12.2"
  }
 },
 "nbformat": 4,
 "nbformat_minor": 2
}
