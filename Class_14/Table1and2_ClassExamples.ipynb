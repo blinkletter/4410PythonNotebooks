{
 "cells": [
  {
   "cell_type": "markdown",
   "id": "b6a2949b",
   "metadata": {},
   "source": [
    "# Class Discussion Data\n",
    "The code below will build the data set from the handout today and plot the information in various forms. Ultimately we will come to the conclusion that the Hammett parameter, $\\sigma$ is really just the $\\Delta pK_a$ for the corresponding benzoic acids. The change in the $pL_a$ value in benzoic acid is what is being used as the comparator for all the rest of chemistry. Do you agree?\n",
    "\n",
    "## Load Data\n",
    "The code below build the data set directly from the handout. I set up a list of lists and converted it to a dataframe object. Then I can use the dataframe object and manipulate it just like a spreadsheet.\n",
    "\n",
    "First I will enter the **data from tables 1 \\& 2** in the class handout. I will use the $pK_a$ values from table 1 and the corresponding rate data from table 2. I'm just going to enter them directly as a matrix right here in this notebook."
   ]
  },
  {
   "cell_type": "code",
   "execution_count": 1,
   "id": "69ef1698",
   "metadata": {},
   "outputs": [
    {
     "name": "stdout",
     "output_type": "stream",
     "text": [
      "              pKa    rate\n",
      "Substituent              \n",
      "p-NO2        3.45  32.900\n",
      "p-CN         3.56  15.700\n",
      "p-Cl         4.00   2.100\n",
      "H            4.20   0.289\n",
      "p-CH3        4.37   0.172\n",
      "p-OCH3       4.47   0.143\n"
     ]
    }
   ],
   "source": [
    "####################################################\n",
    "### Import Libraries and set up global variables ###\n",
    "####################################################\n",
    "\n",
    "import pandas as pd\n",
    "import numpy as np\n",
    "import matplotlib.pyplot as plt\n",
    "import scipy.stats as stats\n",
    "from scipy.stats import linregress\n",
    "\n",
    "# github_location_data = \"https://github.com/blinkletter/LFER-QSAR/blob/main/data/\"\n",
    "# github_location_styles = \"https://github.com/blinkletter/LFER-QSAR/blob/main/styles/\"\n",
    "# github_download = \"?raw=True\"\n",
    "\n",
    "github_location = \"https://raw.githubusercontent.com/blinkletter/4410PythonNotebooks/main/Class_14/\"\n",
    "github_location_styles = \"https://raw.githubusercontent.com/blinkletter/LFER-QSAR/main/styles/\"\n",
    "github_location_LFER_tables = \"https://raw.githubusercontent.com/blinkletter/LFER-QSAR/main/data/\"\n",
    "\n",
    "#################################################################\n",
    "### a function to fill in sigma for empty spaces in s+ and s- ###\n",
    "#################################################################\n",
    "\n",
    "def fill_sigma(df):     \n",
    "    for z in df.index:\n",
    "        if np.isnan(df.loc[z,\"s_plus\"]):\n",
    "            df.loc[z,\"s_plus\"] = df.loc[z,\"sigma\"]\n",
    "        if np.isnan(df[\"s_minus\"][z]):\n",
    "            df.loc[z,\"s_minus\"] = df.loc[z,\"sigma\"]\n",
    "    return(df)\n",
    "\n"
   ]
  },
  {
   "cell_type": "code",
   "execution_count": null,
   "id": "46b0cfa6",
   "metadata": {},
   "outputs": [],
   "source": [
    "def plot_plot(plot_dict)\n",
    "    \n",
    "    linfit_flag = True   # change flag to True for linear fit and False for basic scatter plot\n",
    "    label_flag = True   # change flag to True for linear fit and False for basic scatter plot\n",
    "    save_pdf_flag = False\n",
    "\n",
    "    \n",
    "\n",
    "    github_location_styles = \"https://raw.githubusercontent.com/blinkletter/LFER-QSAR/main/styles/\"\n",
    "\n",
    "    ##################################################\n",
    "    ### Setup a figure and choose a stylesheet     ###\n",
    "    ##################################################\n",
    "\n",
    "    plot_style_file = \"S2_classic2.mplstyle\"\n",
    "    plt.style.use(github_location_styles + plot_style_file)        # Set plot style\n",
    "\n",
    "    fig, ax = plt.subplots(nrows=1, ncols=1, figsize=(5,4))  \n",
    "    ax.margins(x=.07, y=.07, tight=True)      # add 7% empty space around outside of plot area   \n",
    "\n",
    "\n",
    "    #########################################\n",
    "    ### Plot the data and the line fit.   ###\n",
    "    #########################################\n",
    "\n",
    "    if linfit_flag:     # Change flag to True to plot a linear line fit, False to do a scatter plot\n",
    "        linfit = linregress(x,y)\n",
    "        fity = linfit.slope * x + linfit.intercept\n",
    "        ax.plot(x, fity, color='black', zorder=1, linewidth=0.7)\n",
    "        ax.scatter(x,y, s=64, color=\"white\", zorder=3)\n",
    "        ax.scatter(x,y, s=16, color=\"black\", zorder=3)\n",
    "    else:         \n",
    "    #    ax.plot(x, y, color='black', zorder=1, linewidth=0.7)\n",
    "        ax.scatter(x,y, s=64, color=\"white\", zorder=3)\n",
    "        ax.scatter(x,y, s=16, color=\"black\", zorder=3)\n",
    "\n",
    "\n",
    "    ############################\n",
    "    ### Set labels and scale ###\n",
    "    ############################\n",
    "\n",
    "    ax.set(\n",
    "    #    title=\"Initial Rate Log-Log Plot\",       \n",
    "            ylabel=y_label, \n",
    "            xlabel=x_label,                \n",
    "    #          xlim=[-.9,.9],                  \n",
    "    #          ylim=[-1,7]\n",
    "            )\n",
    "\n",
    "\n",
    "    ############################\n",
    "    ### Print labels on plot ###\n",
    "    ############################\n",
    "\n",
    "    if label_flag:      # Change to True to add annotations to the plot \n",
    "    names = list(df.index)\n",
    "    for name,x1,y1 in zip(names,x,y):\n",
    "        plt.annotate(name,             # this is the text\n",
    "                    (x1,y1),          # these are the coordinates to position the label\n",
    "                    textcoords=\"offset points\", # how to position the text\n",
    "                    xytext=(0,-20),  # distance from text to points (x,y)\n",
    "                    ha='left')      # horizontal alignment can be left, right or center\n",
    "\n",
    "\n",
    "    #############################\n",
    "    ### Output the final plot ###\n",
    "    #############################\n",
    "\n",
    "    if save_pdf_flag:\n",
    "        fig.savefig(\"plot.pdf\")   # use this to save the figure in PDF format\n",
    "    \n",
    "    plt.show()                 # output the combined plot plots\n",
    "\n",
    "\n",
    "    #####################################\n",
    "    ### Print the line fit parameters ###\n",
    "    #####################################\n",
    "\n",
    "    if linfit_flag:         # Change to True to print a linear line fit results\n",
    "        print(f\"slope = {linfit.slope:0.1f}\")\n",
    "        print(f\"intercept = {linfit.intercept:0.3f}\")\n",
    "        print(f\"RSQ = {(linfit.rvalue**2):0.3f}\")"
   ]
  },
  {
   "cell_type": "markdown",
   "id": "7ee0c1f8",
   "metadata": {},
   "source": []
  },
  {
   "cell_type": "code",
   "execution_count": null,
   "id": "0619c0fe",
   "metadata": {},
   "outputs": [],
   "source": [
    "######################################\n",
    "### Set Up Dataframe for Reactions ###\n",
    "######################################\n",
    "\n",
    "# substituent, pKa, ester rate hydrolysis (M-1 s-1)\n",
    "\n",
    "data = [[\"p-NO2\",   3.45,  32.9 ],\n",
    "        [\"p-CN\",    3.56,  15.7 ],\n",
    "        [\"p-Cl\",    4.00,  2.10 ],\n",
    "        [\"H\",       4.20,  0.289],\n",
    "        [\"p-CH3\",   4.37,  0.172],\n",
    "        [\"p-OCH3\",  4.47,  0.143]]\n",
    "\n",
    "df = pd.DataFrame(data, columns=[\"Substituent\", \"pKa\", \"rate\"])\n",
    "df = df.set_index(\"Substituent\")\n",
    "\n",
    "print(df)"
   ]
  },
  {
   "cell_type": "markdown",
   "id": "b25146c2",
   "metadata": {},
   "source": [
    "## Pick x and y-values\n",
    "\n",
    "We need x and y-values to plot. The code block below will take the two data series in the data set and assign them to the two axes opf the plot."
   ]
  },
  {
   "cell_type": "code",
   "execution_count": 2,
   "id": "1fb6d80b",
   "metadata": {},
   "outputs": [],
   "source": [
    "#####################################################\n",
    "### Get series of data to plot from the dataframe ###\n",
    "#####################################################\n",
    "\n",
    "\n",
    "x = -df[\"pKa\"]\n",
    "y =  df[\"rate\"]\n",
    "\n",
    "x_label = \"$pK_a$\"\n",
    "y_label = \"$k_{obs}$ / $M^{-1} min^{-1}$\""
   ]
  },
  {
   "cell_type": "markdown",
   "id": "f48a651d",
   "metadata": {},
   "source": [
    "## Plot the Data\n",
    "the code below will plot any x,y pair that is in memory when it is run.  Execute the block above or any of the blocks below to load in different sets of x,y.\n",
    "\n",
    "use the `if True:` and `if False:` flags below to activate or deactivate given blocks of code."
   ]
  },
  {
   "cell_type": "code",
   "execution_count": 14,
   "id": "6d4bd076",
   "metadata": {
    "scrolled": true
   },
   "outputs": [
    {
     "data": {
      "image/png": "[encoded data removed]",
      "text/plain": [
       "<Figure size 400x320 with 1 Axes>"
      ]
     },
     "metadata": {},
     "output_type": "display_data"
    },
    {
     "name": "stdout",
     "output_type": "stream",
     "text": [
      "slope = 2.4\n",
      "intercept = -0.315\n",
      "RSQ = 0.983\n"
     ]
    }
   ],
   "source": [
    "flag = True   # change flag to True for linear fit and False for basic scatter plot\n",
    "\n",
    "\n",
    "##################################################\n",
    "### Setup a figure and choose a stylesheet     ###\n",
    "##################################################\n",
    "\n",
    "plot_style_file = \"S2_classic2.mplstyle\"\n",
    "plt.style.use(github_location_styles + plot_style_file)        # Set plot style\n",
    "\n",
    "fig, ax = plt.subplots(nrows=1, ncols=1, figsize=(5,4))  \n",
    "ax.margins(x=.07, y=.07, tight=True)      # add 7% empty space around outside of plot area   \n",
    "\n",
    "\n",
    "#########################################\n",
    "### Plot the data and the line fit.   ###\n",
    "#########################################\n",
    "\n",
    "if flag:     # Change flag to True to plot a linear line fit, False to do a scatter plot\n",
    "    linfit = linregress(x,y)\n",
    "    fity = linfit.slope * x + linfit.intercept\n",
    "    ax.plot(x, fity, color='black', zorder=1, linewidth=0.7)\n",
    "    ax.scatter(x,y, s=64, color=\"white\", zorder=3)\n",
    "    ax.scatter(x,y, s=16, color=\"black\", zorder=3)\n",
    "else:         \n",
    "#    ax.plot(x, y, color='black', zorder=1, linewidth=0.7)\n",
    "    ax.scatter(x,y, s=64, color=\"white\", zorder=3)\n",
    "    ax.scatter(x,y, s=16, color=\"black\", zorder=3)\n",
    "\n",
    "\n",
    "############################\n",
    "### Set labels and scale ###\n",
    "############################\n",
    "\n",
    "ax.set(\n",
    "#    title=\"Initial Rate Log-Log Plot\",       \n",
    "          ylabel=y_label, \n",
    "          xlabel=x_label,                \n",
    "#          xlim=[-.9,.9],                  \n",
    "#          ylim=[-1,7]\n",
    "         )\n",
    "\n",
    "\n",
    "############################\n",
    "### Print labels on plot ###\n",
    "############################\n",
    "\n",
    "if flag:      # Change to True to add annotations to the plot \n",
    "   names = list(df.index)\n",
    "   for name,x1,y1 in zip(names,x,y):\n",
    "       plt.annotate(name,             # this is the text\n",
    "                 (x1,y1),          # these are the coordinates to position the label\n",
    "                 textcoords=\"offset points\", # how to position the text\n",
    "                 xytext=(0,-20),  # distance from text to points (x,y)\n",
    "                 ha='left')      # horizontal alignment can be left, right or center\n",
    "\n",
    "\n",
    "#############################\n",
    "### Output the final plot ###\n",
    "#############################\n",
    "\n",
    "#fig.savefig(\"plot2.pdf\")   # use this to save the figure in PDF format\n",
    "plt.show()                 # output the combined plot plots\n",
    "\n",
    "\n",
    "#####################################\n",
    "### Print the line fit parameters ###\n",
    "#####################################\n",
    "\n",
    "if flag:         # Change to True to print a linear line fit results\n",
    "    print(f\"slope = {linfit.slope:0.1f}\")\n",
    "    print(f\"intercept = {linfit.intercept:0.3f}\")\n",
    "    print(f\"RSQ = {(linfit.rvalue**2):0.3f}\")"
   ]
  },
  {
   "cell_type": "markdown",
   "id": "1bdbc284",
   "metadata": {},
   "source": [
    "## Other Data Series\n",
    "The code in the blocks below adds columns to the dataframe and selects the x,y pairs to highlight various plots. Run one of the blocks below and then run the plotting block above to plot a give x,y data set."
   ]
  },
  {
   "cell_type": "code",
   "execution_count": 9,
   "id": "34964a7c",
   "metadata": {},
   "outputs": [
    {
     "name": "stdout",
     "output_type": "stream",
     "text": [
      "              pKa    rate        Ka  log rate\n",
      "Substituent                                  \n",
      "p-NO2        3.45  32.900  0.000355  1.517196\n",
      "p-CN         3.56  15.700  0.000275  1.195900\n",
      "p-Cl         4.00   2.100  0.000100  0.322219\n",
      "H            4.20   0.289  0.000063 -0.539102\n",
      "p-CH3        4.37   0.172  0.000043 -0.764472\n",
      "p-OCH3       4.47   0.143  0.000034 -0.844664\n"
     ]
    }
   ],
   "source": [
    "#####################################################\n",
    "### Get series of data to plot from the dataframe ###\n",
    "#####################################################\n",
    "\n",
    "df[\"Ka\"] = 10**(-df[\"pKa\"])\n",
    "print(df)\n",
    "\n",
    "x = df[\"Ka\"]\n",
    "y = df[\"rate\"]\n",
    "\n",
    "x_label = \"$K_a$\"\n",
    "y_label = \"$k_{obs}$ / $M^{-1} min^{-1}$\""
   ]
  },
  {
   "cell_type": "code",
   "execution_count": 11,
   "id": "1ed8c117",
   "metadata": {},
   "outputs": [
    {
     "name": "stdout",
     "output_type": "stream",
     "text": [
      "              pKa    rate        Ka  log rate\n",
      "Substituent                                  \n",
      "p-NO2        3.45  32.900  0.000355  1.517196\n",
      "p-CN         3.56  15.700  0.000275  1.195900\n",
      "p-Cl         4.00   2.100  0.000100  0.322219\n",
      "H            4.20   0.289  0.000063 -0.539102\n",
      "p-CH3        4.37   0.172  0.000043 -0.764472\n",
      "p-OCH3       4.47   0.143  0.000034 -0.844664\n"
     ]
    }
   ],
   "source": [
    "#####################################################\n",
    "### Get series of data to plot from the dataframe ###\n",
    "#####################################################\n",
    "\n",
    "df[\"log rate\"] = np.log10(df[\"rate\"])\n",
    "\n",
    "print(df)\n",
    "\n",
    "x = -df[\"pKa\"]\n",
    "y =  df[\"log rate\"]\n",
    "\n",
    "x_label = \"$pK_a$\"\n",
    "y_label = \"$\\log{(k_{obs}/ M^{-1} min^{-1})}$\""
   ]
  },
  {
   "cell_type": "code",
   "execution_count": 13,
   "id": "0b08af4a",
   "metadata": {},
   "outputs": [
    {
     "name": "stdout",
     "output_type": "stream",
     "text": [
      "              pKa    rate        Ka  log rate  diff\n",
      "Substituent                                        \n",
      "p-NO2        3.45  32.900  0.000355  1.517196  0.75\n",
      "p-CN         3.56  15.700  0.000275  1.195900  0.64\n",
      "p-Cl         4.00   2.100  0.000100  0.322219  0.20\n",
      "H            4.20   0.289  0.000063 -0.539102  0.00\n",
      "p-CH3        4.37   0.172  0.000043 -0.764472 -0.17\n",
      "p-OCH3       4.47   0.143  0.000034 -0.844664 -0.27\n"
     ]
    }
   ],
   "source": [
    "df[\"diff\"]=df[\"pKa\"][\"H\"]-df[\"pKa\"]\n",
    "\n",
    "print(df)\n",
    "\n",
    "x = df[\"diff\"]\n",
    "y = df[\"log rate\"]\n",
    "\n",
    "x_label = \"$\\Delta pK_a$\"\n",
    "y_label = \"$k_{obs}$ / $M^{-1} min^{-1}$\""
   ]
  },
  {
   "cell_type": "markdown",
   "id": "faceed04",
   "metadata": {},
   "source": [
    "## Load and process Hammett parameters\n",
    "the code below loads the Hammett data from `LFER_HanschLeoTaft.csv` and processes it to remove the fields that we do not need (it is a large data set). I stores the data frame as `df2`.\n",
    "\n",
    "You will need to execute this code BEFORE you execute the call to rhe `df2` dataframe in the block above. I placed this code at the bottom to keep it from cluttering the line or discussion above but you must load in the hammett data into `df2` before you can call upon it."
   ]
  },
  {
   "cell_type": "code",
   "execution_count": null,
   "id": "6bead665",
   "metadata": {},
   "outputs": [],
   "source": [
    "\n",
    "################################################################################\n",
    "### Read data set. The fields are separated by commas; comments are enabled  ###\n",
    "################################################################################\n",
    "\n",
    "filename = \"LFER_HanschLeoTaft.csv\"\n",
    "#filename = \"LFER_Williams.csv\"\n",
    "\n",
    "hdf = pd.read_csv(github_location_data + filename + github_download, \n",
    "                 delimiter = \",\", \n",
    "                 skipinitialspace=True, \n",
    "                 index_col=\"Substituent\", \n",
    "                 comment = \"#\") \n",
    "\n",
    "########################################################\n",
    "### Fill across sigma values and select substituents ###\n",
    "########################################################\n",
    "hdf=fill_sigma(hdf)\n",
    "\n",
    "rowlist = [\"m-Br\", \"p-Br\", \"m-CH3\", \"p-CH3\", \n",
    "           \"m-Cl\", \"p-Cl\", \"p-CN\", \"m-COCH3\", \n",
    "           \"p-COCH3\", \"m-F\", \"p-F\", \"H\",\n",
    "           \"m-NO2\",  \"p-NO2\", \"m-OCH3\", \"p-OCH3\"]\n",
    "df2 = hdf.loc[rowlist]\n",
    "\n",
    "### Remove unneeded columns\n",
    "\n",
    "df2.drop(labels = [\"TABLE V\", \"TABLE I\"],\n",
    "        axis = 1,\n",
    "        inplace = True)\n",
    "#print(df2)\n",
    "df2.sort_values(by=['sigma'], inplace=True)\n",
    "print(df2)"
   ]
  },
  {
   "cell_type": "markdown",
   "id": "7e44db88",
   "metadata": {},
   "source": [
    "## Add in Hammett $\\sigma$ Values from the Data Table\n",
    "include published $\\sigma$ values for substituents. Plot $\\log{rate}$ vs. $\\sigma$. You will need to execute the block at the bottom of this notebook BEFORE using this code."
   ]
  },
  {
   "cell_type": "code",
   "execution_count": null,
   "id": "c068300a",
   "metadata": {},
   "outputs": [],
   "source": [
    "s = \"sigma\"\n",
    "#s = \"s_plus\"\n",
    "#s = \"s_minus\"\n",
    "\n",
    "df[\"sigma\"] = df2[s]\n",
    "print(df)\n",
    "\n",
    "x = df[\"sigma\"]\n",
    "y = df[\"log rate\"]\n",
    "\n",
    "x_label = \"$pK_a$\"\n",
    "y_label = \"$\\sigma$\"\n",
    "#y_label = \"$\\sigma^+$\"\n",
    "#y_label = \"$\\sigma^-$\""
   ]
  },
  {
   "cell_type": "code",
   "execution_count": null,
   "id": "f9da9f22",
   "metadata": {},
   "outputs": [],
   "source": []
  }
 ],
 "metadata": {
  "kernelspec": {
   "display_name": "Python 3 (ipykernel)",
   "language": "python",
   "name": "python3"
  },
  "language_info": {
   "codemirror_mode": {
    "name": "ipython",
    "version": 3
   },
   "file_extension": ".py",
   "mimetype": "text/x-python",
   "name": "python",
   "nbconvert_exporter": "python",
   "pygments_lexer": "ipython3",
   "version": "3.11.4"
  }
 },
 "nbformat": 4,
 "nbformat_minor": 5
}
