{
 "cells": [
  {
   "cell_type": "markdown",
   "id": "b6a2949b",
   "metadata": {},
   "source": [
    "# Class Discussion Data\n",
    "The code below will build the data set from the handout today and plot the information in various forms to enable us to move quickly during the class meeting. We are beginning to use data sets that are too large to type in during a class example and this *Python* notebook will demonstrate loading data from text files.\n",
    "\n",
    "## The Goal\n",
    "\n",
    "The goal of the class exercise is to construct and interpret yoiur first Hammett plot. Ultimately we will come to the conclusion that the Hammett parameter, $\\sigma$ is really just the $\\Delta pK_a$ for the corresponding benzoic acids. The change in the $pK_a$ value in benzoic acid is what is being used as the score for electronoc effects for all the rest of chemistry. Do you agree?\n",
    "\n",
    "## An Initial Plot\n",
    "\n",
    "Hammett related the $K_a$ value of benzoic acid to the rate of hydrolysis of benzoate esters. The benzoate is not the leaving group in the rds and it is not an acid or a base. So, this is not a Brønsted plot. We are not relating the equilibrium for acid dissociation of benzoic acid to the rate of the benzoic acid group leaving, we are relating acid equilibrium to the rate of hydroxide attack on an ester. This is a different reaction. Bronsted plots relate apples to apples, Hammett expores how apples relate to oranges and the results are very informative.\n",
    "\n",
    "So does the effect of a substituent on the benzoic acid $K_a$ value relate directly to the effect of that same substituent on the rate of ester hydrolysis? Let us plot the rate constant, $k_{OH^-}$ against the $K_a$ value. The text and code blocks below will take us through the process.\n",
    "\n"
   ]
  },
  {
   "cell_type": "markdown",
   "id": "925d0825",
   "metadata": {},
   "source": [
    "## Setup\n",
    "\n",
    "The code below imports modules, below declares functions and sets up variables. Run it and then move on."
   ]
  },
  {
   "cell_type": "code",
   "execution_count": 1,
   "id": "69ef1698",
   "metadata": {},
   "outputs": [],
   "source": [
    "####################################################\n",
    "### Import Libraries and set up global variables ###\n",
    "####################################################\n",
    "\n",
    "import pandas as pd\n",
    "import numpy as np\n",
    "import matplotlib.pyplot as plt\n",
    "import scipy.stats as stats\n",
    "from scipy.stats import linregress\n",
    "\n",
    "############################\n",
    "### Set global variables ###\n",
    "############################\n",
    "\n",
    "data_path = \"https://raw.githubusercontent.com/blinkletter/4410PythonNotebooks/main/Class_14/data/\"\n",
    "image_path = \"https://raw.githubusercontent.com/blinkletter/4410PythonNotebooks/main/Class_14/images/\"\n",
    "\n",
    "github_data_location = \"https://raw.githubusercontent.com/blinkletter/LFER-QSAR/main/data/\"\n",
    "github_styles_location = \"https://raw.githubusercontent.com/blinkletter/LFER-QSAR/main/styles/\"\n",
    "\n",
    "#################################################################\n",
    "### a function to fill in sigma for empty spaces in s+ and s- ###\n",
    "#################################################################\n",
    "\n",
    "def fill_sigma(df):     \n",
    "    for z in df.index:\n",
    "        if np.isnan(df.loc[z,\"s_plus\"]):\n",
    "            df.loc[z,\"s_plus\"] = df.loc[z,\"sigma\"]\n",
    "        if np.isnan(df[\"s_minus\"][z]):\n",
    "            df.loc[z,\"s_minus\"] = df.loc[z,\"sigma\"]\n",
    "    return(df)\n",
    "\n",
    "################################################################################\n",
    "### a function to plot an x,y data set with options for line fits and labels ###\n",
    "################################################################################\n",
    "\n",
    "\n",
    "def plot_plot(x,y,names, \n",
    "              x_label = \"x\", \n",
    "              y_label = \"y\", \n",
    "              add_labels_flag = False, \n",
    "              line_fit_flag = False ):\n",
    "    \n",
    "    ##################################################\n",
    "    ### Setup a figure and choose a stylesheet     ###\n",
    "    ##################################################\n",
    "\n",
    "    plot_style_file = github_styles_location + \"tufte.mplstyle\"   #\"S2_classic2.mplstyle\"\n",
    "    plt.style.use(plot_style_file)                                       # Set plot style\n",
    "\n",
    "    fig, ax = plt.subplots(nrows=1, ncols=1, figsize=(5,4))  \n",
    "    ax.margins(x=.07, y=.07, tight=True)      # add 7% empty space around outside of plot area   \n",
    "\n",
    "\n",
    "    #########################################\n",
    "    ### Plot the data and the line fit.   ###\n",
    "    #########################################\n",
    "\n",
    "    if line_fit_flag:     # Change flag to True to plot a linear line fit, False to do a scatter plot\n",
    "        linfit = linregress(x,y)\n",
    "        fity = linfit.slope * x + linfit.intercept\n",
    "        ax.plot(x, fity, color='black', zorder=1, linewidth=0.7)\n",
    "        ax.scatter(x,y, s=64, color=\"white\", zorder=3)\n",
    "        ax.scatter(x,y, s=16, color=\"black\", zorder=3)\n",
    "    else:         \n",
    "    #    ax.plot(x, y, color='black', zorder=1, linewidth=0.7)\n",
    "        ax.scatter(x,y, s=64, color=\"white\", zorder=3)\n",
    "        ax.scatter(x,y, s=16, color=\"black\", zorder=3)\n",
    "\n",
    "\n",
    "    ############################\n",
    "    ### Set labels and scale ###\n",
    "    ############################\n",
    "\n",
    "    ax.set(\n",
    "    #    title=\"Initial Rate Log-Log Plot\",       \n",
    "            ylabel=y_label, \n",
    "            xlabel=x_label,                \n",
    "    #        xlim=[-.48,None],                  \n",
    "    #        ylim=[-.48,None]\n",
    "            )\n",
    "\n",
    "\n",
    "    ############################\n",
    "    ### Print labels on plot ###\n",
    "    ############################\n",
    "\n",
    "    if add_labels_flag:      # Change to True to add annotations to the plot \n",
    "        #names = list(df.index)\n",
    "        for name,x1,y1 in zip(names,x,y):\n",
    "            plt.annotate(name,             # this is the text\n",
    "                        (x1,y1),          # these are the coordinates to position the label\n",
    "                        textcoords=\"offset points\", # how to position the text\n",
    "                        xytext=(0,-20),  # distance from text to points (x,y)\n",
    "                        ha='left')      # horizontal alignment can be left, right or center\n",
    "\n",
    "\n",
    "    #############################\n",
    "    ### Output the final plot ###\n",
    "    #############################\n",
    "\n",
    "    fig.savefig(\"plot.pdf\")   # use this to save the figure in PDF format\n",
    "    plt.show()                 # output the combined plot plots\n",
    "\n",
    "\n",
    "    #####################################\n",
    "    ### Print the line fit parameters ###\n",
    "    #####################################\n",
    "\n",
    "    if line_fit_flag:         # Change to True to print a linear line fit results\n",
    "        print(f\"slope = {linfit.slope:0.2f} +/- {linfit.stderr:0.3f}\")\n",
    "        print(f\"intercept = {linfit.intercept:0.3f} +/- {linfit.intercept_stderr:0.3f}\")\n",
    "        print(f\"RSQ = {(linfit.rvalue**2):0.3f}\")"
   ]
  },
  {
   "cell_type": "markdown",
   "id": "93a1cd26",
   "metadata": {},
   "source": [
    "## Load Data\n",
    "The data in the handout (tables 1 and 2) are brief enough to type in directly. But the other tables are much larger and will be read in from text files, when we get to them. For our first plot, I set up a list of lists and converted it to a dataframe object. Then I can use the dataframe object and manipulate it just like a spreadsheet.\n",
    "\n",
    "First I will enter the **data from tables 1 \\& 2** in the class handout. I will use the $pK_a$ values from table 1 and the corresponding rate data from table 2. I'm just going to enter them directly as a matrix right here in this notebook.\n",
    "\n",
    "Note: You will see our first exmple of a *dataframe* structure below. The dataframe is provided as part of the *Pandas$ package. It is a data object that behaves similarly to a spreadsheet and provides tools for access the data as row and columns."
   ]
  },
  {
   "cell_type": "code",
   "execution_count": 2,
   "id": "2f840452",
   "metadata": {},
   "outputs": [
    {
     "name": "stdout",
     "output_type": "stream",
     "text": [
      "              pKa    rate  log_rate\n",
      "Substituent                        \n",
      "p-NO2        3.45  32.900  1.517196\n",
      "p-CN         3.56  15.700  1.195900\n",
      "p-Cl         4.00   2.100  0.322219\n",
      "H            4.20   0.289 -0.539102\n",
      "p-CH3        4.37   0.172 -0.764472\n",
      "p-OCH3       4.47   0.143 -0.844664\n"
     ]
    }
   ],
   "source": [
    "######################################\n",
    "### Set Up Dataframe for Reactions ###\n",
    "######################################\n",
    "\n",
    "# substituent, pKa, ester rate hydrolysis (M-1 s-1)\n",
    "\n",
    "data = [[\"p-NO2\",   3.45,  32.9 ],\n",
    "        [\"p-CN\",    3.56,  15.7 ],\n",
    "        [\"p-Cl\",    4.00,  2.10 ],\n",
    "        [\"H\",       4.20,  0.289],\n",
    "        [\"p-CH3\",   4.37,  0.172],\n",
    "        [\"p-OCH3\",  4.47,  0.143]]\n",
    "\n",
    "df = pd.DataFrame(data, columns=[\"Substituent\", \"pKa\", \"rate\"])\n",
    "df = df.set_index(\"Substituent\")\n",
    "\n",
    "df[\"log_rate\"] = np.log10(df[\"rate\"])  # make a new column with log rate data\n",
    "\n",
    "print(df)"
   ]
  },
  {
   "cell_type": "markdown",
   "id": "b25146c2",
   "metadata": {},
   "source": [
    "## Pick x and y-values and Plot the Data\n",
    "\n",
    "We need x and y-values to plot. The code block below will take the two data series in the data set and assign them to the two axes opf the plot.\n",
    "\n",
    "The code below will plot any x,y pair that is in memory when it is run.  Set the flags to \"True\" or \"False\" to add substituent names or a line fit. "
   ]
  },
  {
   "cell_type": "code",
   "execution_count": 3,
   "id": "1fb6d80b",
   "metadata": {},
   "outputs": [
    {
     "data": {
      "image/png": "[encoded data removed]",
      "text/plain": [
       "<Figure size 500x400 with 1 Axes>"
      ]
     },
     "metadata": {},
     "output_type": "display_data"
    },
    {
     "name": "stdout",
     "output_type": "stream",
     "text": [
      "slope = 2.41 +/- 0.161\n",
      "intercept = 9.819 +/- 0.647\n",
      "RSQ = 0.983\n"
     ]
    }
   ],
   "source": [
    "#####################################################\n",
    "### Get series of data to plot from the dataframe ###\n",
    "#####################################################\n",
    "\n",
    "x = -df[\"pKa\"]                         # -pKa is the same as log Ka\n",
    "y =  df[\"log_rate\"]                    # log k vs log Ka is a log-log plot\n",
    "\n",
    "names = list(df.index)                 # list of substituent names \n",
    "x_label = r\"$-pK_a$\"                   # labels for plot\n",
    "y_label = r\"$k_{obs}$ / $M^{-1} min^{-1}$\"\n",
    "\n",
    "#####################################################\n",
    "### Call the plot_plot function\n",
    "#####################################################\n",
    "\n",
    "plot_plot(x, y, \n",
    "          names, x_label, y_label, \n",
    "          add_labels_flag = True, line_fit_flag = True)"
   ]
  },
  {
   "cell_type": "markdown",
   "id": "1bdbc284",
   "metadata": {},
   "source": [
    "## Use $\\Delta pK_a$\n",
    "The code in the blocks below adds columns to the dataframe and selects the x,y pairs to highlight various plots. Run one of the blocks below and then run the plotting block above to plot a give x,y data set."
   ]
  },
  {
   "cell_type": "code",
   "execution_count": 4,
   "id": "0b08af4a",
   "metadata": {},
   "outputs": [
    {
     "name": "stdout",
     "output_type": "stream",
     "text": [
      "              pKa    rate  log_rate  diff\n",
      "Substituent                              \n",
      "p-NO2        3.45  32.900  1.517196  0.75\n",
      "p-CN         3.56  15.700  1.195900  0.64\n",
      "p-Cl         4.00   2.100  0.322219  0.20\n",
      "H            4.20   0.289 -0.539102  0.00\n",
      "p-CH3        4.37   0.172 -0.764472 -0.17\n",
      "p-OCH3       4.47   0.143 -0.844664 -0.27\n"
     ]
    },
    {
     "data": {
      "image/png": "[encoded data removed]",
      "text/plain": [
       "<Figure size 500x400 with 1 Axes>"
      ]
     },
     "metadata": {},
     "output_type": "display_data"
    },
    {
     "name": "stdout",
     "output_type": "stream",
     "text": [
      "slope = 2.41 +/- 0.161\n",
      "intercept = -0.315 +/- 0.069\n",
      "RSQ = 0.983\n"
     ]
    }
   ],
   "source": [
    "df[\"diff\"] = df[\"pKa\"][\"H\"] - df[\"pKa\"] # difference between pK_a for R=H and R=X\n",
    "\n",
    "print(df)\n",
    "\n",
    "x = df[\"diff\"]\n",
    "y = df[\"log_rate\"]\n",
    "\n",
    "names = list(df.index)                 # list of substituent names \n",
    "x_label = r\"$\\Delta pK_a$\"\n",
    "y_label = r\"$k_{obs}$ / $M^{-1} min^{-1}$\"\n",
    "\n",
    "plot_plot(x,y, names, x_label, y_label, add_labels_flag = False, line_fit_flag = True)"
   ]
  },
  {
   "cell_type": "markdown",
   "id": "faceed04",
   "metadata": {},
   "source": [
    "## Load and process Hammett parameters\n",
    "the code below loads the Hammett data from `LFER_HanschLeoTaft.csv` and processes it to remove the fields that we do not need (it is a large data set). I stores the dataframe as `df2`.\n",
    "\n"
   ]
  },
  {
   "cell_type": "code",
   "execution_count": 5,
   "id": "6bead665",
   "metadata": {},
   "outputs": [
    {
     "name": "stdout",
     "output_type": "stream",
     "text": [
      "             sigma\n",
      "Substituent       \n",
      "p-OCH3       -0.27\n",
      "p-CH3        -0.17\n",
      "m-CH3        -0.07\n",
      "H             0.00\n",
      "p-F           0.06\n",
      "m-OCH3        0.12\n",
      "p-Br          0.23\n",
      "p-Cl          0.23\n",
      "m-F           0.34\n",
      "m-Cl          0.37\n",
      "m-COCH3       0.38\n",
      "m-Br          0.39\n",
      "p-COCH3       0.50\n",
      "p-CN          0.66\n",
      "m-NO2         0.71\n",
      "p-NO2         0.78\n"
     ]
    }
   ],
   "source": [
    "\n",
    "################################################################################\n",
    "### Read data set. The fields are separated by commas; comments are enabled  ###\n",
    "################################################################################\n",
    "\n",
    "filename = \"LFER_HanschLeoTaft.csv\"\n",
    "#filename = \"LFER_Williams.csv\"\n",
    "\n",
    "data = pd.read_csv(github_data_location + filename, \n",
    "                 delimiter = \",\", \n",
    "                 skipinitialspace=True, \n",
    "                 index_col=\"Substituent\", \n",
    "                 comment = \"#\") \n",
    "\n",
    "########################################################\n",
    "### Fill across sigma values and select substituents ###\n",
    "########################################################\n",
    "\n",
    "data = fill_sigma(data)        \n",
    "\n",
    "rowlist = [\"m-Br\", \"p-Br\", \"m-CH3\", \"p-CH3\", \n",
    "           \"m-Cl\", \"p-Cl\", \"p-CN\", \"m-COCH3\", \n",
    "           \"p-COCH3\", \"m-F\", \"p-F\", \"H\",\n",
    "           \"m-NO2\",  \"p-NO2\", \"m-OCH3\", \"p-OCH3\"]\n",
    "df2 = data.loc[rowlist]          # select rows that match these substituents\n",
    "df2 = df2[[\"sigma\"]]             # select column that matches this label\n",
    "\n",
    "#### Remove unneeded columns\n",
    "#to_be_dropped = [\"TABLE V\", \"TABLE I\", \"s_minus\", \"s_plus\", \n",
    "#                 \"sigma_I\", \"sigma_n\", \"sigma_star\", \"F\", \"R\", \"R+\", \"R-\"]\n",
    "#df2.drop(labels = to_be_dropped,\n",
    "#        axis = \"columns\",\n",
    "#        inplace = True)\n",
    "\n",
    "df2.sort_values(by=['sigma'], inplace=True)\n",
    "print(df2)"
   ]
  },
  {
   "cell_type": "markdown",
   "id": "7e44db88",
   "metadata": {},
   "source": [
    "## Plot Using Hammett $\\sigma$ Values from the Data Table\n",
    "Include published $\\sigma$ values for substituents. Plot $\\log{rate}$ vs. $\\sigma$. "
   ]
  },
  {
   "cell_type": "code",
   "execution_count": 6,
   "id": "c068300a",
   "metadata": {},
   "outputs": [
    {
     "name": "stdout",
     "output_type": "stream",
     "text": [
      "              pKa    rate  log_rate  diff  sigma\n",
      "Substituent                                     \n",
      "p-NO2        3.45  32.900  1.517196  0.75   0.78\n",
      "p-CN         3.56  15.700  1.195900  0.64   0.66\n",
      "p-Cl         4.00   2.100  0.322219  0.20   0.23\n",
      "H            4.20   0.289 -0.539102  0.00   0.00\n",
      "p-CH3        4.37   0.172 -0.764472 -0.17  -0.17\n",
      "p-OCH3       4.47   0.143 -0.844664 -0.27  -0.27\n"
     ]
    },
    {
     "data": {
      "image/png": "[encoded data removed]",
      "text/plain": [
       "<Figure size 500x400 with 1 Axes>"
      ]
     },
     "metadata": {},
     "output_type": "display_data"
    },
    {
     "name": "stdout",
     "output_type": "stream",
     "text": [
      "slope = 2.35 +/- 0.138\n",
      "intercept = -0.334 +/- 0.062\n",
      "RSQ = 0.986\n"
     ]
    }
   ],
   "source": [
    "s = \"sigma\"\n",
    "#s = \"s_plus\"\n",
    "#s = \"s_minus\"\n",
    "\n",
    "df[\"sigma\"] = df2[s]\n",
    "print(df)\n",
    "\n",
    "x = df[\"sigma\"]\n",
    "y = df[\"log_rate\"] \n",
    "\n",
    "x_label = r\"$\\sigma$\"\n",
    "y_label = r\"$\\log{\\left({k_{X}}/{k_{H}}\\right)}$\"\n",
    "#y_label = r\"$\\sigma^+$\"\n",
    "#y_label = r\"$\\sigma^-$\"\n",
    "\n",
    "plot_plot(x,y, names, x_label, y_label, add_labels_flag = False, line_fit_flag = True)"
   ]
  }
 ],
 "metadata": {
  "kernelspec": {
   "display_name": "main",
   "language": "python",
   "name": "python3"
  },
  "language_info": {
   "codemirror_mode": {
    "name": "ipython",
    "version": 3
   },
   "file_extension": ".py",
   "mimetype": "text/x-python",
   "name": "python",
   "nbconvert_exporter": "python",
   "pygments_lexer": "ipython3",
   "version": "3.12.2"
  }
 },
 "nbformat": 4,
 "nbformat_minor": 5
}
