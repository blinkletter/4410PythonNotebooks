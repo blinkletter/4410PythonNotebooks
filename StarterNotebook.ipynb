{
 "cells": [
  {
   "cell_type": "code",
   "execution_count": 2,
   "metadata": {},
   "outputs": [
    {
     "name": "stdout",
     "output_type": "stream",
     "text": [
      "Requirement already satisfied: uncertainties in /opt/anaconda3/envs/main/lib/python3.12/site-packages (3.2.2)\n"
     ]
    }
   ],
   "source": [
    "##############################################################\n",
    "### Set up libraries and global variables\n",
    "##############################################################\n",
    "\n",
    "import pandas as pd\n",
    "import numpy as np\n",
    "import matplotlib.pyplot as plt\n",
    "import scipy.stats as stats\n",
    "import scipy.constants as constants  # a collection of scientific constants\n",
    "from scipy.optimize import curve_fit\n",
    "from scipy.stats import linregress\n",
    "\n",
    "!pip install uncertainties\n",
    "\n",
    "import uncertainties as un\n",
    "from uncertainties import unumpy as unp\n",
    "\n",
    "github_location_styles = \"https://raw.githubusercontent.com/blinkletter/LFER-QSAR/main/styles/\"\n",
    "github_location_LFER_tables = \"https://raw.githubusercontent.com/blinkletter/LFER-QSAR/main/data/\"\n",
    "\n"
   ]
  },
  {
   "cell_type": "code",
   "execution_count": 5,
   "metadata": {},
   "outputs": [
    {
     "name": "stdout",
     "output_type": "stream",
     "text": [
      "             sigma  s_plus  s_minus           Page\n",
      "Substituent                                       \n",
      "m-Br          0.39     NaN      NaN            259\n",
      "p-Br          0.23    0.15     0.25            259\n",
      "m-C6H5        0.06     NaN      NaN            278\n",
      "p-C6H5       -0.01    0.02    -0.18            278\n",
      "m-CCCH3       0.10     NaN      NaN            265\n",
      "...            ...     ...      ...            ...\n",
      "o-I           1.34     NaN      NaN             46\n",
      "p-C(CH3)3    -0.20   -0.26    -0.13            267\n",
      "m-C(CH3)3    -0.10     NaN      NaN            267\n",
      "3,5-CH3      -0.20     NaN      NaN  sum of values\n",
      "3,4,5-CH3    -0.40   -0.46    -0.33  sum of values\n",
      "\n",
      "[71 rows x 4 columns]\n"
     ]
    }
   ],
   "source": [
    "################################################################################\n",
    "### Read Hammett data set. The fields are separated by commas; comments are enabled  \n",
    "################################################################################\n",
    "\n",
    "#LFER_Data = \"LFER_HanschLeoTaft.csv\"   # Choose which set of Hammett parameters you prefer\n",
    "LFER_Data = \"LFER_Williams.csv\"\n",
    "\n",
    "Filename = github_location_LFER_tables + LFER_Data\n",
    "\n",
    "df = pd.read_csv(Filename, \n",
    "                 delimiter = \",\", \n",
    "                 skipinitialspace=True, \n",
    "                 index_col=\"Substituent\", \n",
    "                 comment = \"#\") \n",
    "print(df)\n"
   ]
  },
  {
   "cell_type": "code",
   "execution_count": null,
   "metadata": {},
   "outputs": [],
   "source": [
    "list = [\"m-Br\", \"m-\"]"
   ]
  }
 ],
 "metadata": {
  "kernelspec": {
   "display_name": "main",
   "language": "python",
   "name": "python3"
  },
  "language_info": {
   "codemirror_mode": {
    "name": "ipython",
    "version": 3
   },
   "file_extension": ".py",
   "mimetype": "text/x-python",
   "name": "python",
   "nbconvert_exporter": "python",
   "pygments_lexer": "ipython3",
   "version": "3.12.2"
  }
 },
 "nbformat": 4,
 "nbformat_minor": 2
}
