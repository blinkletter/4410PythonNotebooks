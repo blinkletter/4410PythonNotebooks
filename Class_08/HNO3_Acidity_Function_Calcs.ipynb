{
 "cells": [
  {
   "cell_type": "markdown",
   "id": "134beb66",
   "metadata": {},
   "source": [
    "# Lesson \\#3, Meeting \\#8, Class Problem \\#1\n",
    "This notebook follows the calculations for the first class problem in meeting \\#8: Acid Base Review\n",
    "\n",
    "We will use a solution of known pH to calculate the $pK_a$ of an aniline buffer. Then we can place that anoline molecule in a stronger acid solution of unknown acidity and measure that acidity by determining the protonation of the buffer (the $\\frac{[A]}{[AH]}$ ratio). We can then take an aniline that is a stronger acid than the first buffer molecule and determine its pKa in this stronger acid mixture where we now have determined the acidity.\n",
    "\n",
    "We often express acidity as $pH$.  However the $pH$ value is determine electrically and is only meaningful in dilute solution. $pH$ is an acidity function, it expresses the acidity of a system. There are other acidity functions. The Hammett acidity function, $H_0$, is based on a series of anilines. In this problem we have four such molecules and a single starting point, a dilute solution of 0.1 \\% nitric acid."
   ]
  },
  {
   "cell_type": "markdown",
   "id": "c2f7496e",
   "metadata": {},
   "source": [
    "$pH = pK_a + log\\frac{A}{HA}$ where $pH$ is the $-log{[H^+]}$ (determined using an electrode.)\n",
    "\n",
    "$H_0 = pK_a + log\\frac{A}{HA}$ where $\\frac{A}{HA}$ is the protonation ratio of a substituted aniline."
   ]
  },
  {
   "cell_type": "markdown",
   "id": "b73732f8",
   "metadata": {},
   "source": [
    "## Data Set\n",
    "\n",
    "Below is the data for mixtures of nitric acid and water and the protonation of a series of substituted anilines. "
   ]
  },
  {
   "cell_type": "markdown",
   "id": "b3bc8cde",
   "metadata": {},
   "source": [
    " \n",
    "|%wt HNO3 | 4-nitroaniline | 4-chloro-2-nitroaniline  | 4,6-dichloro-2-nitroaniline  |  6-bromo-2,4-dinitroaniline    |\n",
    "|----- | -------| ---------| ---------| ---------|\n",
    "|  0.1 |14.53   | 0.15     | 0.00     | 0.00     |\n",
    "|  4   |92.80   | 10.30    | 0.03     | 0.00     |\n",
    "|  40  |99.96   | 95.63    | 5.32     | 0.01     |\n",
    "|  85  |100.00  | 99.99    | 95.72    | 2.05     |\n",
    "| 100  |100.00  | 100.00   | 99.80    | 31.37    |\n",
    "\n"
   ]
  },
  {
   "cell_type": "markdown",
   "id": "44323253",
   "metadata": {},
   "source": [
    "## Step 0: Calculate pH of dilute solution"
   ]
  },
  {
   "cell_type": "code",
   "execution_count": null,
   "id": "dd579fde",
   "metadata": {},
   "outputs": [
    {
     "name": "stdout",
     "output_type": "stream",
     "text": [
      "conc HNO3 = 0.016 M\n",
      "pH = 1.80\n"
     ]
    }
   ],
   "source": [
    "import pandas as pd\n",
    "import numpy as np\n",
    "import matplotlib.pyplot as plt\n",
    "import scipy.optimize as opt      # load the optimize sublibrary from scipy\n",
    "import scipy.stats as stats       # load the stats sublibrary from scipy\n",
    "\n",
    "\n",
    "############################\n",
    "### Set global variables ###\n",
    "############################\n",
    "\n",
    "github_data_location = \"https://github.com/blinkletter/LFER-QSAR/blob/main/data/\"\n",
    "github_styles_location = \"https://github.com/blinkletter/LFER-QSAR/blob/main/styles/\"\n",
    "github_download = \"?raw=True\"\n",
    "\n"
   ]
  },
  {
   "cell_type": "code",
   "execution_count": null,
   "id": "fd07beb9",
   "metadata": {},
   "outputs": [],
   "source": [
    "### Calculate pH of dilute HNO3 solution\n",
    "\n",
    "# moles HNO3 in 100g of solution\n",
    "moles = .1 / 63.01\n",
    "\n",
    "# assume 100g of solution is 100 mL \n",
    "volume = 0.1     # 100 mL is 0.1 L\n",
    "\n",
    "conc = moles / volume\n",
    "pH = -np.log10(conc)\n",
    "\n",
    "print(f\"conc HNO3 = {conc:0.3f} M\")\n",
    "print(f\"pH = {pH:0.2f}\")"
   ]
  },
  {
   "cell_type": "markdown",
   "id": "8a5a850d",
   "metadata": {},
   "source": [
    "## Step 1a: Get $H_0$ in dilute solution with known indicator \\#1\n",
    "\n",
    "The $pK_a$ of 4-nitroaniline is 1.03.[^Data] That will allow us to calculate the acid strength (pH) of the system. I will calculate it at 0.1%. How does the measured pH match with the calculated pH?\n",
    "\n",
    "As you can see from this calculation and the above calculation, all we need to start is to know the pH of an initial acid/water mixture or the $pK_a$ value for an initial aniline indicator."
   ]
  },
  {
   "cell_type": "code",
   "execution_count": null,
   "id": "0e520436",
   "metadata": {},
   "outputs": [
    {
     "name": "stdout",
     "output_type": "stream",
     "text": [
      "H0 acidity function for 0.1% HNO3 is...\n",
      "H0 = 1.80\n"
     ]
    }
   ],
   "source": [
    "### Measure \"H0\" of HNO3 Mixture\n",
    "\n",
    "MassPercentHNO3 =   0.1\n",
    "pKaIndicator    =   1.03\n",
    "Indicator       =  \"4-nitroaniline\"\n",
    "HAPercent       =  14.53\n",
    "\n",
    "# calculate ratio of A/HA from % table\n",
    "HA  = HAPercent / 100\n",
    "A   = 1 - HA\n",
    "pKa = pKaIndicator\n",
    "\n",
    "pH = pKa + np.log10(A/HA)\n",
    "\n",
    "print(f\"H0 acidity function for {MassPercentHNO3}% HNO3 is...\") \n",
    "print(f\"H0 = {pH:0.2f}\")"
   ]
  },
  {
   "cell_type": "markdown",
   "id": "f42b9ddb",
   "metadata": {},
   "source": [
    "## Step 1b: Use known $H_0$ to get $pK_a$ of new indicator \\#2"
   ]
  },
  {
   "cell_type": "code",
   "execution_count": null,
   "id": "1b6b0f89",
   "metadata": {},
   "outputs": [
    {
     "name": "stdout",
     "output_type": "stream",
     "text": [
      "The measured pKa value of 4-chloro-2-nitroaniline at 0.1% HNO3 is...\n",
      "pka = -1.02\n"
     ]
    }
   ],
   "source": [
    "# measure pKa of indicator at known \"pH\" value\n",
    "\n",
    "MassPercentHNO3 =   0.1\n",
    "pH              =   pH\n",
    "Indicator       =  \"4-chloro-2-nitroaniline\"\n",
    "HAPercent       =  0.15\n",
    "\n",
    "HA  = HAPercent/100\n",
    "A   = 1-HA\n",
    "\n",
    "pKa = pH - np.log10(A/HA)\n",
    "\n",
    "print(f\"The measured pKa value of {Indicator} at {MassPercentHNO3}% HNO3 is...\")\n",
    "print(f\"pka = {pKa:0.2f}\")\n",
    "\n",
    "\n"
   ]
  },
  {
   "cell_type": "markdown",
   "id": "dd3999b7",
   "metadata": {},
   "source": [
    "## Step 2a: Get $H_0$ in acid mixture with calculated $pK_a$ of indicator \\#2\n",
    "\n",
    "From now on we just have to copy and paste the two code blocks from steps 1a and 1b again and again. Change the vlaues for the concentration of acid or for the H0 of the indicator as you move along. We can climb this ladder step by step all the way to some crazy values for $H_0$. Can you imagine a $pH$ of $-10$? Louis P. Hammett could.\n"
   ]
  },
  {
   "cell_type": "code",
   "execution_count": null,
   "id": "4dc736de",
   "metadata": {},
   "outputs": [
    {
     "name": "stdout",
     "output_type": "stream",
     "text": [
      "H0 acidity function for 4% HNO3 is...\n",
      "H0 = -0.08\n"
     ]
    }
   ],
   "source": [
    "### Measure \"pH\" of HNO3 Mixture\n",
    "\n",
    "MassPercentHNO3 =   4\n",
    "pKaIndicator    =   -1.02\n",
    "Indicator       =  \"4-chloro-2-nitroaniline\"\n",
    "HAPercent       =  10.30\n",
    "\n",
    "# calculate ratio of A/HA from % table\n",
    "HA  = HAPercent/100\n",
    "A   = 1-HA\n",
    "pKa = pKaIndicator\n",
    "\n",
    "pH = pKa + np.log10(A/HA)\n",
    "\n",
    "print(f\"H0 acidity function for {MassPercentHNO3}% HNO3 is...\") \n",
    "print(f\"H0 = {pH:0.2f}\")"
   ]
  },
  {
   "cell_type": "markdown",
   "id": "07340746",
   "metadata": {},
   "source": [
    "## Step 2b: Use known $H_0$ to get $pK_a$ of new indicator \\#3"
   ]
  },
  {
   "cell_type": "code",
   "execution_count": null,
   "id": "302b1a10",
   "metadata": {},
   "outputs": [
    {
     "name": "stdout",
     "output_type": "stream",
     "text": [
      "The measured pKa value of 4,6-dichloro-2-nitroaniline at 4% HNO3 is...\n",
      "pka = -3.60\n"
     ]
    }
   ],
   "source": [
    "# measure pKa of indicator at known \"pH\" value\n",
    "\n",
    "MassPercentHNO3 =   4\n",
    "pH              =   pH\n",
    "Indicator       =  \"4,6-dichloro-2-nitroaniline\"\n",
    "HAPercent       =  0.03\n",
    "\n",
    "HA  = HAPercent/100\n",
    "A   = 1-HA\n",
    "\n",
    "pKa = pH - np.log10(A/HA)\n",
    "\n",
    "print(f\"The measured pKa value of {Indicator} at {MassPercentHNO3}% HNO3 is...\")\n",
    "print(f\"pka = {pKa:0.2f}\")\n",
    "\n",
    "\n"
   ]
  },
  {
   "cell_type": "markdown",
   "id": "c2afaaa3",
   "metadata": {},
   "source": [
    "### Step 3a: Get $H_0$ in acid mixture with calculated $pK_a$ of indicator \\#3"
   ]
  },
  {
   "cell_type": "code",
   "execution_count": null,
   "id": "3c7fc47f",
   "metadata": {},
   "outputs": [
    {
     "name": "stdout",
     "output_type": "stream",
     "text": [
      "H0 acidity function for 40% HNO3 is...\n",
      "H0 = -2.35\n"
     ]
    }
   ],
   "source": [
    "### Measure \"pH\" of HNO3 Mixture\n",
    "\n",
    "MassPercentHNO3 =   40\n",
    "pKaIndicator    =   -3.60\n",
    "Indicator       =  \"4,6-dichloro-2-nitroaniline\"\n",
    "HAPercent       =  5.32\n",
    "\n",
    "# calculate ratio of A/HA from % table\n",
    "HA  = HAPercent/100\n",
    "A   = 1-HA\n",
    "pKa = pKaIndicator\n",
    "\n",
    "pH = pKa + np.log10(A/HA)\n",
    "\n",
    "print(f\"H0 acidity function for {MassPercentHNO3}% HNO3 is...\") \n",
    "print(f\"H0 = {pH:0.2f}\")"
   ]
  },
  {
   "cell_type": "markdown",
   "id": "a0b384a6",
   "metadata": {},
   "source": [
    "## Step 3b: Use known $H_0$ to get $pK_a$ of new indicator \\#4"
   ]
  },
  {
   "cell_type": "code",
   "execution_count": null,
   "id": "9bad0b1f",
   "metadata": {},
   "outputs": [
    {
     "name": "stdout",
     "output_type": "stream",
     "text": [
      "The measured pKa value of 6-bromo-2,4-dinitroaniline at 40% HNO3 is...\n",
      "pka = -6.35\n"
     ]
    }
   ],
   "source": [
    "# measure pKa of indicator at known \"pH\" value\n",
    "\n",
    "MassPercentHNO3 =   40\n",
    "pH              =   pH\n",
    "Indicator       =  \"6-bromo-2,4-dinitroaniline\"\n",
    "HAPercent       =  0.01\n",
    "\n",
    "HA  = HAPercent/100\n",
    "A   = 1-HA\n",
    "\n",
    "pKa = pH - np.log10(A/HA)\n",
    "\n",
    "print(f\"The measured pKa value of {Indicator} at {MassPercentHNO3}% HNO3 is...\")\n",
    "print(f\"pka = {pKa:0.2f}\")\n",
    "\n",
    "\n"
   ]
  },
  {
   "cell_type": "markdown",
   "id": "b9c026ca",
   "metadata": {},
   "source": [
    "### Step 4a: Get $H_0$ in acid mixture with calculated $pK_a$ of indicator \\#4"
   ]
  },
  {
   "cell_type": "code",
   "execution_count": null,
   "id": "58ec00a7",
   "metadata": {},
   "outputs": [
    {
     "name": "stdout",
     "output_type": "stream",
     "text": [
      "H0 acidity function for 100% HNO3 is...\n",
      "H0 = -6.01\n"
     ]
    }
   ],
   "source": [
    "### Measure \"pH\" of HNO3 Mixture\n",
    "\n",
    "MassPercentHNO3 =   100\n",
    "pKaIndicator    =   -6.35\n",
    "Indicator       =  \"6-bromo-2,4-dinitroaniline\"\n",
    "HAPercent       =  31.37\n",
    "\n",
    "# calculate ratio of A/HA from % table\n",
    "HA  = HAPercent/100\n",
    "A   = 1-HA\n",
    "\n",
    "pKa = pKaIndicator\n",
    "\n",
    "pH = pKa + np.log10(A/HA)\n",
    "\n",
    "print(f\"H0 acidity function for {MassPercentHNO3}% HNO3 is...\") \n",
    "print(f\"H0 = {pH:0.2f}\")"
   ]
  },
  {
   "cell_type": "code",
   "execution_count": null,
   "id": "15fd6159",
   "metadata": {},
   "outputs": [],
   "source": []
  }
 ],
 "metadata": {
  "kernelspec": {
   "display_name": "Python 3 (ipykernel)",
   "language": "python",
   "name": "python3"
  },
  "language_info": {
   "codemirror_mode": {
    "name": "ipython",
    "version": 3
   },
   "file_extension": ".py",
   "mimetype": "text/x-python",
   "name": "python",
   "nbconvert_exporter": "python",
   "pygments_lexer": "ipython3",
   "version": "3.9.7"
  }
 },
 "nbformat": 4,
 "nbformat_minor": 5
}
