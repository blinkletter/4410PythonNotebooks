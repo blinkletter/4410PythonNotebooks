{
 "cells": [
  {
   "cell_type": "markdown",
   "id": "eafd2375",
   "metadata": {},
   "source": [
    "# HNO<sub>3</sub> Acidity Function Data\n",
    "\n",
    "The following is a plot of the acidity function of mixtures of HNO<sub>3</sub> and water. First we will load the data from a file.[^Data]\n",
    "\n",
    "[^Data]:  \"The Hammett Acidity Function of Aqueous Nitric Acid\", J.G. Dawber, P.A.H. Wyat, *J. Chem. Soc.*, **1960**, 3589-3593. [https://doi.org/10.1039/JR9600003589](https://doi.org/10.1039/JR9600003589)"
   ]
  },
  {
   "cell_type": "code",
   "execution_count": 2,
   "id": "940b5578",
   "metadata": {},
   "outputs": [
    {
     "data": {
      "image/png": "[encoded data removed]",
      "text/plain": [
       "<Figure size 480x320 with 1 Axes>"
      ]
     },
     "metadata": {},
     "output_type": "display_data"
    }
   ],
   "source": [
    "file_path = \"H0_data/\"\n",
    "file_name = \"HNO3_Values.csv\"\n",
    "\n",
    "import pandas as pd\n",
    "import numpy as np\n",
    "import matplotlib.pyplot as plt\n",
    "from scipy.interpolate import CubicSpline\n",
    "\n",
    "############################\n",
    "### Set global variables ###\n",
    "############################\n",
    "\n",
    "data_path = \"https://raw.githubusercontent.com/blinkletter/4410PythonNotebooks/main/Class_08/data/\"\n",
    "image_path = \"https://raw.githubusercontent.com/blinkletter/4410PythonNotebooks/main/Class_08/images/\"\n",
    "\n",
    "github_data_location = \"https://raw.githubusercontent.com/blinkletter/LFER-QSAR/main/data/\"\n",
    "github_styles_location = \"https://raw.githubusercontent.com/blinkletter/LFER-QSAR/main/styles/\"\n",
    "\n",
    "\n",
    "\n",
    "#print(file_path+file_name)\n",
    "df = pd.read_csv(data_path + file_path + file_name) \n",
    "#display(df2)    # Uncomment to print out the data set\n",
    "\n",
    "style_file_path = github_styles_location\n",
    "style = \"S2_classic2.mplstyle\"\n",
    "\n",
    "style_file = style_file_path + style\n",
    "\n",
    "x = df[:][\"%wt\"]\n",
    "y = df[:][\"-H0\"]            # pick out the xy data as two lists of x and y values.\n",
    "\n",
    "plt.style.use(style_file)        \n",
    "fig, ax = plt.subplots(nrows=1, ncols=1, figsize=(6,4))  \n",
    "\n",
    "cs = CubicSpline(x, y)      # Creates a function that defines the cubic spline fit to the xy data.\n",
    "x = np.arange(2, 101, 1)    # make a list of closely spaced x values\n",
    "y = cs(x)                   # Use the cubic spline function to create y values for every x value\n",
    "ax.plot(x, y, \"-\")          # plot the cubic spline model agains the list of x values to craete the line fit\n",
    "\n",
    "x = df[:][\"%wt\"]\n",
    "y = df[:][\"-H0\"]            # pick out the xy data as two lists of x and y values (again). \n",
    "ax.plot(x,y,\".\")            # plot the x, y data over the line fit\n",
    "\n",
    "ax.set(title=\"$H_0$ Value for HNO$_3$ Mixtures\",       \n",
    "          ylabel=r\"$-H_0$\", \n",
    "          xlabel=\"%wt HNO$_3$\",                \n",
    "          xlim=[0,100],                  \n",
    "          ylim=[-1,7]\n",
    "      )                   \n",
    "\n",
    "#fig.savefig(\"plot.pdf\")\n",
    "plt.show()\n",
    "\n"
   ]
  },
  {
   "cell_type": "markdown",
   "id": "9596752a",
   "metadata": {},
   "source": [
    "## Extract $H_0$ from interpolation of data set\n",
    "The below code will interpolate between any two points on the stat set using the cubic spline curve fit that was applied in the previous code block."
   ]
  },
  {
   "cell_type": "code",
   "execution_count": 3,
   "id": "5e934193",
   "metadata": {},
   "outputs": [
    {
     "name": "stdout",
     "output_type": "stream",
     "text": [
      "The H0 at 98.0% is -6.07\n"
     ]
    }
   ],
   "source": [
    "Percentw = 98\n",
    "\n",
    "H0 = -cs(Percentw)\n",
    "print(f\"The H0 at {Percentw:0.1f}% is {H0:0.2f}\")"
   ]
  },
  {
   "cell_type": "code",
   "execution_count": null,
   "id": "cc298d3d",
   "metadata": {},
   "outputs": [],
   "source": []
  }
 ],
 "metadata": {
  "kernelspec": {
   "display_name": "Python 3 (ipykernel)",
   "language": "python",
   "name": "python3"
  },
  "language_info": {
   "codemirror_mode": {
    "name": "ipython",
    "version": 3
   },
   "file_extension": ".py",
   "mimetype": "text/x-python",
   "name": "python",
   "nbconvert_exporter": "python",
   "pygments_lexer": "ipython3",
   "version": "3.11.4"
  }
 },
 "nbformat": 4,
 "nbformat_minor": 5
}
