{
 "cells": [
  {
   "cell_type": "markdown",
   "id": "5cc8492e",
   "metadata": {},
   "source": [
    "# Acidity Function Data\n",
    "The acidity function plots that were handed out in class were made using a graph from a review of acidity functions (referenced below). The figure below was scanned from the paper and digitized. The data was plotted to provide the handouts that you now have. This workbook and its associated data files will provide the data set.\n",
    "\n",
    "<img src=\"images/Can.J.Chem.1983.2225-Acidity-Functions-Yates.jpg\" width=300 class=center />\n",
    "\n",
    "\"Acidity functions: an update\", Robin A. Cox and Keith Yates, *Can. J. Chem.*, **1983**, *61*, 2225-2243 [https://doi.org/10.1139/v83-388](https://doi.org/10.1139/v83-388)\n",
    "\n"
   ]
  },
  {
   "cell_type": "markdown",
   "id": "8854bee6",
   "metadata": {},
   "source": [
    "## Data Sets\n",
    "The extracted data is available in a series of csv files accompanying this notebook. the following files should be present in the ```data``` folder.\n",
    "\n",
    "```\n",
    "Formic_Acid.csv\n",
    "Hydrochloric_Acid.csv\n",
    "Hydrofluoric_Acid.csv\n",
    "Nitric_Acid.csv\n",
    "Perchloric_Acid.csv\n",
    "Sulfuric_Acid.csv\n",
    "Trifluoroacetic_Acid.csv\n",
    "```"
   ]
  },
  {
   "cell_type": "markdown",
   "id": "33fba39c",
   "metadata": {},
   "source": [
    "## Using Data Sets\n",
    "\n",
    "The code below will load in a data set, plot the data and provide a function for interpolating the H0 value at any value of mole fraction acid."
   ]
  },
  {
   "cell_type": "code",
   "execution_count": 1,
   "id": "cb1ae8d7",
   "metadata": {
    "tags": [
     "hide-input"
    ]
   },
   "outputs": [
    {
     "data": {
      "image/png": "[encoded data removed]",
      "text/plain": [
       "<Figure size 480x320 with 1 Axes>"
      ]
     },
     "metadata": {},
     "output_type": "display_data"
    }
   ],
   "source": [
    "file_path = \"data/\"\n",
    "file_name = \"Nitric_Acid.csv\"  # Change this filename to access the other data sets\n",
    "\n",
    "import pandas as pd\n",
    "import numpy as np\n",
    "import matplotlib.pyplot as plt\n",
    "from scipy.interpolate import CubicSpline  # A function for interpolating a plot using the cubic spline method\n",
    "from scipy.interpolate import interp1d     # A function for interpolating a plot using the connect-the-dots method\n",
    "\n",
    "\n",
    "#print(file_path+file_name)   # Uncomment to print out the file with its path\n",
    "df = pd.read_csv(file_path+file_name) \n",
    "#display(df)    # Uncomment to print out the data set\n",
    "\n",
    "style_file_path = \"https://github.com/blinkletter/LFER-QSAR/blob/main/styles/\"\n",
    "github_download = \"?raw=True\"\n",
    "style = \"S2_classic2.mplstyle\"\n",
    "\n",
    "style_file = style_file_path + style + github_download\n",
    "plt.style.use(style_file)        \n",
    "fig, ax = plt.subplots(nrows=1, ncols=1, figsize=(6,4))  \n",
    "\n",
    "\n",
    "x = df[:][\"Mole_Fraction\"]\n",
    "y = df[:][\"-H0\"]\n",
    "\n",
    "## Interpolate plot points. We can use a linear interpolation between points or cubic spline\n",
    "#interpolation = interp1d(x, y, kind='linear')\n",
    "interpolation = CubicSpline(x, y)\n",
    "\n",
    "x = np.arange(np.min(df[:][\"Mole_Fraction\"]), np.max(df[:][\"Mole_Fraction\"]), .001)\n",
    "#print(x)\n",
    "y = interpolation(x)\n",
    "ax.plot(x, y, \"-\")\n",
    "\n",
    "x = df[:][\"Mole_Fraction\"]\n",
    "y = df[:][\"-H0\"]\n",
    "ax.plot(x,y,\".\")\n",
    "\n",
    "ax.set(title=file_name,       \n",
    "          ylabel=r\"$-H_0$\", \n",
    "          xlabel=\"Mole Fraction of Acid\",                \n",
    "          xlim=[0,1],                  \n",
    "#          ylim=[-1,7]\n",
    "      )                   \n",
    "\n",
    "#fig.savefig(\"plot.pdf\")     # Uncomment to create a PDF file of the plot\n",
    "plt.show()\n"
   ]
  },
  {
   "cell_type": "code",
   "execution_count": 15,
   "id": "ee9bb755",
   "metadata": {},
   "outputs": [
    {
     "name": "stdout",
     "output_type": "stream",
     "text": [
      "The H0 at mole fraction = 0.55 is -4.57\n"
     ]
    }
   ],
   "source": [
    "mfraction = 0.55\n",
    "\n",
    "H0 = -cs(mfraction)\n",
    "print(f\"The H0 at mole fraction = {mfraction:0.2f} is {H0:0.2f}\")"
   ]
  },
  {
   "cell_type": "code",
   "execution_count": null,
   "id": "54ba2b80",
   "metadata": {},
   "outputs": [],
   "source": []
  }
 ],
 "metadata": {
  "celltoolbar": "Edit Metadata",
  "kernelspec": {
   "display_name": "Python 3 (ipykernel)",
   "language": "python",
   "name": "python3"
  },
  "language_info": {
   "codemirror_mode": {
    "name": "ipython",
    "version": 3
   },
   "file_extension": ".py",
   "mimetype": "text/x-python",
   "name": "python",
   "nbconvert_exporter": "python",
   "pygments_lexer": "ipython3",
   "version": "3.9.6"
  }
 },
 "nbformat": 4,
 "nbformat_minor": 5
}
