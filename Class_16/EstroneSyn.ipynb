{
 "cells": [
  {
   "cell_type": "markdown",
   "id": "ccdc8e1b",
   "metadata": {},
   "source": [
    "# Curved Plot Example\n",
    "\n",
    "The following notebook provides the plot for the substiytuent effect in estrone synthesis as described in the following work.\n",
    "\n",
    "\"Mechanism of a nonenzymic biogenetic-like olefinic cyclization.\" Paul A. Bartlett, John I. Brauman, William S. Johnson, and Robert A. Volkmann, *Journal of the American Chemical Society*, **1973**, *95*, 7502-7504. https://doi.org/10.1021/ja00803a048\n",
    "\n",
    "You can review the synthesis of the starting material in the paper that precedes the above in the same journal. All of the reactions are ones that you have seen before.  Can you follow the steps?\n",
    "\n",
    "\"Stereospecific total synthesis of estrone via a cationic olefinic cyclization.\" Paul A. Bartlett and William S. Johnson, *Journal of the American Chemical Society*, **1973**, *95*, 7501-7502. https://doi.org/10.1021/ja00803a047"
   ]
  },
  {
   "cell_type": "markdown",
   "id": "af357ae3",
   "metadata": {},
   "source": [
    "## Setup Tools and Read Substituent Data Table\n",
    "\n",
    "Here the data table for Hammett substitutent constants is read in and processed."
   ]
  },
  {
   "cell_type": "code",
   "execution_count": 1,
   "id": "9571bfaa",
   "metadata": {},
   "outputs": [],
   "source": [
    "import pandas as pd\n",
    "import numpy as np\n",
    "import matplotlib.pyplot as plt\n",
    "import scipy.stats as stats\n",
    "\n",
    "github_data_location = \"https://github.com/blinkletter/LFER-QSAR/blob/main/data/\"\n",
    "github_styles_location = \"https://github.com/blinkletter/LFER-QSAR/blob/main/styles/\"\n",
    "github_download = \"?raw=True\"\n",
    "\n",
    "#################################################################\n",
    "### a function to fill in sigma for empty spaces in s+ and s- ###\n",
    "#################################################################\n",
    "\n",
    "def fill_sigma(df):     \n",
    "    for z in df.index:\n",
    "        if np.isnan(df.loc[z,\"s_plus\"]):\n",
    "            df.loc[z,\"s_plus\"] = df.loc[z,\"sigma\"]\n",
    "        if np.isnan(df[\"s_minus\"][z]):\n",
    "            df.loc[z,\"s_minus\"] = df.loc[z,\"sigma\"]\n",
    "    return(df)\n",
    "\n",
    "\n",
    "\n",
    "################################################################################\n",
    "### Read data set. The fields are separated by commas; comments are enabled  ###\n",
    "################################################################################\n",
    "\n",
    "LFER_file = \"LFER_HanschLeoTaft.csv\"\n",
    "#LFER_file = \"Taft_Es_Williams.csv\"\n",
    "\n",
    "data_set = pd.read_csv(github_data_location + LFER_file + github_download,\n",
    "                 delimiter = \",\", \n",
    "                 skipinitialspace=True, \n",
    "                 index_col=\"Substituent\", \n",
    "                 comment = \"#\") \n",
    "\n",
    "########################################################\n",
    "### Fill across sigma values and select substituents ###\n",
    "########################################################\n",
    "\n",
    "data_set=fill_sigma(data_set)\n",
    "\n",
    "### Remove unneeded columns\n",
    "data_set.drop(labels = [\"TABLE V\", \"TABLE I\"], axis = 1, inplace = True)\n",
    "\n",
    "data_set.sort_values(by=['sigma'], inplace=True)\n",
    "\n",
    "#print(data_set)"
   ]
  },
  {
   "cell_type": "markdown",
   "id": "b4066093",
   "metadata": {},
   "source": [
    "## Read Experimenatl Data\n",
    "Here the data from the publication is read in. It had been saved in a csv file. the data is from...\n",
    "\n",
    "\"Mechanism of a nonenzymic biogenetic-like olefinic cyclization.\" Paul A. Bartlett, John I. Brauman, William S. Johnson, and Robert A. Volkmann, *Journal of the American Chemical Society*, **1973**, *95*, 7502-7504. https://doi.org/10.1021/ja00803a048\n"
   ]
  },
  {
   "cell_type": "code",
   "execution_count": 2,
   "id": "c057a99b",
   "metadata": {},
   "outputs": [
    {
     "name": "stdout",
     "output_type": "stream",
     "text": [
      "             rel. rate  math\n",
      "Substituent                 \n",
      "p-CF3             1.00     1\n",
      "p-Cl              3.12     5\n",
      "H                 5.90    41\n",
      "p-CH3             6.50    99\n",
      "p-OCH3            6.70   194\n"
     ]
    }
   ],
   "source": [
    "############################################\n",
    "### Read in data from literature example ###\n",
    "############################################\n",
    "\n",
    "df = pd.read_csv(\"data.csv\", \n",
    "                 delimiter = \",\", \n",
    "                 skipinitialspace=True, \n",
    "                 index_col=\"Substituent\", \n",
    "                 comment = \"#\") \n",
    "print(df)\n",
    "\n",
    "###\n",
    "### Note: \"rel. rate\" is the k_obs reported by the authors. the \"math\"\n",
    "### column is their strange calculation for the k_2 value. I cannot\n",
    "### match their approach and have no idea how they calculated those\n",
    "### values. See the note below on why you should document your treatment of\n",
    "### data in notebooks like this one. I will only use the relative rate data. "
   ]
  },
  {
   "cell_type": "markdown",
   "id": "8935fb36",
   "metadata": {},
   "source": [
    "## Process Data\n",
    "The calculations and cross refernces to build the final data table are made. The log of the rate constants are calculated abd the corresponding values for substituent constants are included from the Hammett data table."
   ]
  },
  {
   "cell_type": "code",
   "execution_count": 3,
   "id": "df32f87c",
   "metadata": {
    "scrolled": true
   },
   "outputs": [
    {
     "name": "stdout",
     "output_type": "stream",
     "text": [
      "             rel. rate  math      relH      logk  sigma  s_plus  s_minus\n",
      "Substituent                                                             \n",
      "p-CF3             1.00     1  0.169492 -0.770852   0.54    0.61     0.65\n",
      "p-Cl              3.12     5  0.528814 -0.276697   0.23    0.11     0.19\n",
      "H                 5.90    41  1.000000  0.000000   0.00    0.00     0.00\n",
      "p-CH3             6.50    99  1.101695  0.042061  -0.17   -0.31    -0.17\n",
      "p-OCH3            6.70   194  1.135593  0.055223  -0.27   -0.78    -0.26\n"
     ]
    }
   ],
   "source": [
    "#################################################################\n",
    "### calculate log(k) and impoirt sigma values from data table ###\n",
    "#################################################################\n",
    "df[\"relH\"] = df[\"rel. rate\"]/df[\"rel. rate\"][\"H\"]\n",
    "df[\"logk\"]=np.log10(df[\"relH\"])\n",
    "\n",
    "df[\"sigma\"] =   data_set[\"sigma\"]\n",
    "df[\"s_plus\"] =  data_set[\"s_plus\"]\n",
    "df[\"s_minus\"] = data_set[\"s_minus\"]\n",
    "\n",
    "#df.dropna(inplace=True)\n",
    "print(df)"
   ]
  },
  {
   "cell_type": "markdown",
   "id": "0b3131b2",
   "metadata": {},
   "source": [
    "## Select Data Series for Plot\n",
    "below the x and y values to plot are selected. The x values are the Yukawa-Tsuno $\\sigma$ values using the optimized value for $r$ that is determined in the sections below. Also selected were alternate x values (x1 and x2) to plot the unaltered $\\sigma$ and $\\sigma^+$ values on the plot as well.\n",
    "\n",
    "The plotting code that follows was altered to add in the plots for the x1 and x2 series."
   ]
  },
  {
   "cell_type": "code",
   "execution_count": 4,
   "id": "13492914",
   "metadata": {},
   "outputs": [],
   "source": [
    "#####################################################\n",
    "### Get series of data to plot from the dataframe ###\n",
    "#####################################################\n",
    "#sigma = \"s_plus\"\n",
    "sigma = \"sigma\"\n",
    "\n",
    "x = df[sigma]\n",
    "y=  df[\"logk\"]\n",
    "\n",
    "### Pick out the two parts of the plot. I visually inspected the plot and then\n",
    "### chose the first 3 of 5 data points for one series and the last 3 of 5\n",
    "### for the other series.  I used these two sets to plot the slopes of the\n",
    "### lines in these regions to get the reaction constant, rho, for each\n",
    "### section of the curved plot.  I altered the plotting code below to use \n",
    "### these two extra data sets.\n",
    "\n",
    "### This will pick the section of the plot with the HIGHER sigma values\n",
    "top3x = x[0:3]     # Python numbers arrays from 0. This will slice of positipns 0,1 and 2.\n",
    "top3y = y[0:3]\n",
    "\n",
    "### This will pick the section of the plot with the LOWER sigma values\n",
    "bot3x = x[2:5]     # This will slice of positipns 2,3 and 4.\n",
    "bot3y = y[2:5]\n",
    "\n"
   ]
  },
  {
   "cell_type": "markdown",
   "id": "747db01b",
   "metadata": {},
   "source": [
    "## Plot Code\n",
    "Here is my standard plotting code. It was slightly altered to suit this situation."
   ]
  },
  {
   "cell_type": "code",
   "execution_count": 5,
   "id": "d1e4cf82",
   "metadata": {},
   "outputs": [
    {
     "name": "stdout",
     "output_type": "stream",
     "text": [
      "slope1 = -0.2091\n",
      "intercept1 = 0.002\n",
      "RSQ_1 = 0.979166\n",
      "\n",
      "slope1 = -1.4369\n",
      "intercept1 = 0.020\n",
      "RSQ_1 = 0.994216\n"
     ]
    },
    {
     "data": {
      "image/png": "[encoded data removed]",
      "text/plain": [
       "<Figure size 500x400 with 1 Axes>"
      ]
     },
     "metadata": {
      "needs_background": "light"
     },
     "output_type": "display_data"
    },
    {
     "name": "stdout",
     "output_type": "stream",
     "text": [
      "slope = -1.4369\n",
      "intercept = 0.020\n",
      "RSQ = 0.994216\n"
     ]
    }
   ],
   "source": [
    "import pandas as pd\n",
    "import numpy as np\n",
    "import matplotlib.pyplot as plt\n",
    "import scipy.stats as stats\n",
    "from scipy.stats import linregress\n",
    "\n",
    "\n",
    "##################################################\n",
    "### Setup a figure with two plots side-by-side ###\n",
    "### and choose a stylesheet                    ###\n",
    "##################################################\n",
    "\n",
    "\n",
    "style_file = \"tufte.mplstyle\"\n",
    "plt.style.use(github_styles_location + style_file + github_download)        \n",
    "\n",
    "fig, ax = plt.subplots(nrows=1, ncols=1, figsize=(5,4))  \n",
    "ax.margins(x=.07, y=.07, tight=True)      # add 7% empty space around outside of plot area   \n",
    "\n",
    "\n",
    "#########################################\n",
    "### Plot the data and the line fit.   ###\n",
    "#########################################\n",
    "\n",
    "\n",
    "    \n",
    "#ax.plot(x, y, color='black', zorder=1, linewidth=0.7)\n",
    "\n",
    "ax.scatter(x,y, s=64, color=\"white\", zorder=3)\n",
    "ax.scatter(x,y, s=16, color=\"black\", zorder=3)\n",
    "\n",
    "\n",
    "if True:   # Flag to run or not. True = run this section, False = skip it\n",
    "    linfit = linregress(bot3x,bot3y)\n",
    "    fity = linfit.slope * bot3x + linfit.intercept\n",
    "    ax.plot(bot3x, fity, color='black', zorder=1, linewidth=0.7)\n",
    "    print(f\"slope1 = {linfit.slope:0.4f}\")\n",
    "    print(f\"intercept1 = {linfit.intercept:0.3f}\")\n",
    "    print(f\"RSQ_1 = {(linfit.rvalue**2):0.6f}\")\n",
    "    print()\n",
    "    linfit = linregress(top3x,top3y)\n",
    "    fity = linfit.slope * top3x + linfit.intercept\n",
    "    ax.plot(top3x, fity, color='black', zorder=1, linewidth=0.7)\n",
    "    print(f\"slope1 = {linfit.slope:0.4f}\")\n",
    "    print(f\"intercept1 = {linfit.intercept:0.3f}\")\n",
    "    print(f\"RSQ_1 = {(linfit.rvalue**2):0.6f}\")\n",
    "\n",
    "\n",
    "    \n",
    "############################\n",
    "### Set labels and scale ###\n",
    "############################\n",
    "\n",
    "ax.set(ylabel=r\"$\\log{\\frac{k_X}{k_H}}$\", \n",
    "       xlabel=r\"$\\sigma$\",\n",
    "          xlim=[-.4,.6],                  \n",
    "          ylim=[-.85,0.15]\n",
    "      \n",
    "      )\n",
    "\n",
    "ax.margins(x=.07, y=.07, tight=True)      # add 7% empty space around outside of plot area   \n",
    "############################\n",
    "### Print labels on plot ###\n",
    "############################\n",
    "\n",
    "if True:      # Change to True to add annotations to the plot \n",
    "   names = list(df.index)\n",
    "   for name,x_loc,y_loc in zip(names,x,y):\n",
    "       plt.annotate(name,             # this is the text\n",
    "                 (x_loc,y_loc),          # these are the coordinates to position the label\n",
    "                 textcoords=\"offset points\", # how to position the text\n",
    "                 xytext=(0,-20),  # distance from text to points (x,y)\n",
    "                 ha='left')      # horizontal alignment can be left, right or center\n",
    "\n",
    "\n",
    "#############################\n",
    "### Output the final plot ###\n",
    "#############################\n",
    "\n",
    "#fig.savefig(\"plot.pdf\")   # use this to save the figure in PDF format\n",
    "plt.show()                 # output the combined plot plots\n",
    "\n",
    "\n",
    "#####################################\n",
    "### Print the line fit parameters ###\n",
    "#####################################\n",
    "\n",
    "if True:         # Change to True to print a linear line fit results\n",
    "    print(f\"slope = {linfit.slope:0.4f}\")\n",
    "    print(f\"intercept = {linfit.intercept:0.3f}\")\n",
    "    print(f\"RSQ = {(linfit.rvalue**2):0.6f}\")\n"
   ]
  },
  {
   "cell_type": "markdown",
   "id": "dd619941",
   "metadata": {},
   "source": [
    "## The Strange approximation of the $k_2/k_{-1}$ ratio.\n",
    "\n",
    "the authors state that a more rigourous approach to evaluating the effect of substituents on the rate constant for ring closing, $k_2$, is to use the full rate equation. The observed rate constant is...\n",
    "\n",
    "$$k_{obs} = \\frac{k_1k_2}{k_{-1}+k_2}$$\n",
    "\n",
    "First they note that when the sunstituent is OMe, we are at the extreme side of the region where $k_1$ is the rds. This means that $k_{obs}^{OMe} \\approx k_1$. So if we take the ratio of $k_{obs}^{OMe}/k_{obs}^{R}$ we will get a term that gives us the ratio of $k_2/k_{-1}$. It is reasoned that both $k_{1}$ and $k_{-1}$ do not cha nge across the series as they are involved with the leaving group, not the substitued aromatic ring. So the $k_2/k_{-1}$ ratio should refelct the change in the value of $k_2$.\n",
    "\n",
    "So let us state that...\n",
    "\n",
    "$$ k_{obs}^{OMe} \\approx k_1 \\\\ k_{obs}^{R} = \\frac{k_1k_2^R}{k_{-1}+k_2^R}$$\n",
    "\n",
    "so...\n",
    "\n",
    "$$ \\frac{k_{obs}^{OMe}}{k_{obs}^{R}}=\\frac{k_1}{\\frac{k_1k_2^R}{k_{-1}+k_2^R}}$$\n",
    "\n",
    "$$ \\frac{k_{obs}^{OMe}}{k_{obs}^{R}}=\\frac{k_{-1}+k_2^R}{k_2^R}$$\n",
    "\n",
    "$$ \\frac{k_{obs}^{OMe}}{k_{obs}^{R}}=\\frac{k_{-1}}{k_2^R}+1$$\n",
    "\n",
    "We could get a value for $k_2/k_{-1}$ as follows...\n",
    "\n",
    "$$ \\frac{k_2^R}{k_{-1}} =  \\frac{1}{\\frac{k_{obs}^{OMe}}{k_{obs}^{R}}-1}$$\n",
    "\n",
    "Lets do the math!"
   ]
  },
  {
   "cell_type": "code",
   "execution_count": 6,
   "id": "2897eaa9",
   "metadata": {},
   "outputs": [
    {
     "name": "stdout",
     "output_type": "stream",
     "text": [
      "             rel. rate  math      relH      logk  sigma  s_plus  s_minus  \\\n",
      "Substituent                                                                \n",
      "p-CF3             1.00     1  0.169492 -0.770852   0.54    0.61     0.65   \n",
      "p-Cl              3.12     5  0.528814 -0.276697   0.23    0.11     0.19   \n",
      "H                 5.90    41  1.000000  0.000000   0.00    0.00     0.00   \n",
      "p-CH3             6.50    99  1.101695  0.042061  -0.17   -0.31    -0.17   \n",
      "\n",
      "                 ratio  log ratio  \n",
      "Substituent                        \n",
      "p-CF3         0.175439  -0.755875  \n",
      "p-Cl          0.871508  -0.059728  \n",
      "H             7.375000   0.867762  \n",
      "p-CH3        32.500000   1.511883  \n"
     ]
    }
   ],
   "source": [
    "kOCH3 = df[\"rel. rate\"][\"p-OCH3\"]\n",
    "\n",
    "# We cant use the whole dataframe because this ewuation is undefined for when R=OMe\n",
    "# It will explode if we apply it across the whole data series that includes OMe\n",
    "# in theory k_obs^OMe will approach but never reach the value of k_1. But we have set \n",
    "# it to equal k_1. So let us take a new data frame and drop that records.\n",
    "\n",
    "newDF = df.drop([\"p-OCH3\"],inplace = False)\n",
    "newDF[\"ratio\"] = 1 / (kOCH3 / newDF[\"rel. rate\"] - 1)\n",
    "newDF[\"log ratio\"]=np.log10(newDF[\"ratio\"])\n",
    "print(newDF)"
   ]
  },
  {
   "cell_type": "code",
   "execution_count": 7,
   "id": "ce4bee74",
   "metadata": {},
   "outputs": [
    {
     "data": {
      "image/png": "[encoded data removed]",
      "text/plain": [
       "<Figure size 500x400 with 1 Axes>"
      ]
     },
     "metadata": {
      "needs_background": "light"
     },
     "output_type": "display_data"
    },
    {
     "name": "stdout",
     "output_type": "stream",
     "text": [
      "slope = -3.2235\n",
      "intercept = 0.875\n",
      "RSQ = 0.980885\n"
     ]
    }
   ],
   "source": [
    "x = newDF[sigma]\n",
    "y = newDF[\"log ratio\"]\n",
    "\n",
    "\n",
    "##################################################\n",
    "### Setup a figure with two plots side-by-side ###\n",
    "### and choose a stylesheet                    ###\n",
    "##################################################\n",
    "\n",
    "style_file = \"tufte.mplstyle\"\n",
    "plt.style.use(github_styles_location + style_file + github_download)        \n",
    "\n",
    "fig, ax = plt.subplots(nrows=1, ncols=1, figsize=(5,4))  \n",
    "ax.margins(x=.07, y=.07, tight=True)      # add 7% empty space around outside of plot area   \n",
    "\n",
    "\n",
    "#########################################\n",
    "### Plot the data and the line fit.   ###\n",
    "#########################################\n",
    "\n",
    "\n",
    "    \n",
    "#ax.plot(x, y, color='black', zorder=1, linewidth=0.7)\n",
    "\n",
    "ax.scatter(x,y, s=64, color=\"white\", zorder=3)\n",
    "ax.scatter(x,y, s=16, color=\"black\", zorder=3)\n",
    "\n",
    "\n",
    "if True:   # Flag to run or not. True = run this section, False = skip it\n",
    "    linfit = linregress(x,y)\n",
    "    fity = linfit.slope * x + linfit.intercept\n",
    "    ax.plot(x, fity, color='black', zorder=1, linewidth=0.7)\n",
    "\n",
    "\n",
    "    \n",
    "############################\n",
    "### Set labels and scale ###\n",
    "############################\n",
    "\n",
    "ax.set(ylabel=r\"$\\log{\\frac{k_2^R}{k_{-1}}}$\", \n",
    "       xlabel=r\"$\\sigma$\",\n",
    "          xlim=[-.4,.6],                  \n",
    "          ylim=[-1,1.6]\n",
    "      \n",
    "      )\n",
    "\n",
    "ax.margins(x=.07, y=.07, tight=True)      # add 7% empty space around outside of plot area   \n",
    "############################\n",
    "### Print labels on plot ###\n",
    "############################\n",
    "\n",
    "if True:      # Change to True to add annotations to the plot \n",
    "   names = list(df.index)\n",
    "   for name,x_loc,y_loc in zip(names,x,y):\n",
    "       plt.annotate(name,             # this is the text\n",
    "                 (x_loc,y_loc),          # these are the coordinates to position the label\n",
    "                 textcoords=\"offset points\", # how to position the text\n",
    "                 xytext=(0,-20),  # distance from text to points (x,y)\n",
    "                 ha='left')      # horizontal alignment can be left, right or center\n",
    "\n",
    "\n",
    "#############################\n",
    "### Output the final plot ###\n",
    "#############################\n",
    "\n",
    "#fig.savefig(\"plotR.pdf\")   # use this to save the figure in PDF format\n",
    "plt.show()                 # output the combined plot plots\n",
    "\n",
    "\n",
    "#####################################\n",
    "### Print the line fit parameters ###\n",
    "#####################################\n",
    "\n",
    "if True:         # Change to True to print a linear line fit results\n",
    "    print(f\"slope = {linfit.slope:0.4f}\")\n",
    "    print(f\"intercept = {linfit.intercept:0.3f}\")\n",
    "    print(f\"RSQ = {(linfit.rvalue**2):0.6f}\")\n"
   ]
  },
  {
   "cell_type": "code",
   "execution_count": null,
   "id": "86ae5d61",
   "metadata": {},
   "outputs": [],
   "source": []
  }
 ],
 "metadata": {
  "kernelspec": {
   "display_name": "Python 3 (ipykernel)",
   "language": "python",
   "name": "python3"
  },
  "language_info": {
   "codemirror_mode": {
    "name": "ipython",
    "version": 3
   },
   "file_extension": ".py",
   "mimetype": "text/x-python",
   "name": "python",
   "nbconvert_exporter": "python",
   "pygments_lexer": "ipython3",
   "version": "3.9.13"
  }
 },
 "nbformat": 4,
 "nbformat_minor": 5
}
