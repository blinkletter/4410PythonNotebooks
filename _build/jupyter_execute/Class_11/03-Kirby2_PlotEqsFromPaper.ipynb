{
 "cells": [
  {
   "cell_type": "markdown",
   "metadata": {},
   "source": [
    "# 3: Integrating the Rate Laws\n",
    "\n",
    "##  Example 2, Part 3: pH-Rate Profile Example - Kirby 2002\n",
    "\n",
    "Tony Kirby is one of the giants of physical organic and bio-organic chemistry. In this paper he follows up on a decades-long series of papers investigating the mechanism of *amylases* that catalyze the hydrolysis of acetal groups in polysaccharide chains.\n",
    "\n",
    "This *Python* notebook **use calculus** tools in *Python* **to integrate the rate laws** and derive the correct equation for the change in absrorbance vs time.\n",
    "\n",
    "``Concerted general acid and nucleophilic catalysis of acetalhydrolysis. A simple model for the lysozyme mechanism''. K.E.S. Deana, A.J. Kirby, *J. Chem. Soc., Perkin Trans. 2*, **2002**, 428-432. https://doi.org/10.1039/B110948K. \n",
    "\n",
    "\n",
    "## A Consecutive Reaction\n",
    "\n",
    "For a consecutive reaction of the form...\n",
    "\n",
    "$$\\text{A} \\overset{k_1}{\\longrightarrow} \\text{I} $$\n",
    "$$\\text{I} \\overset{k_2}{\\longrightarrow} \\text{P}$$\n",
    "\n",
    "...we can easily derive the integrated rate equations that describe the concentrations of all three species over time. These are available in any physical chemistry book (and are also derived using *Python* code is the latter part of this notebook) and are presented below...\n",
    "\n",
    "$$\n",
    "\\begin{align*}\n",
    "\\left[ \\text{A} \\right]_t &= \\left[ \\text{A} \\right]_0 e^{-k_1 t} \\\\\n",
    "\\left[\\text{I} \\right]_t &= \\left[ \\text{A} \\right]_0 \\frac{ k_{1} }{k_1 - k_2}\\left( e^{- k_2 t} - e^{- k_1 t}\\right) \\\\\n",
    "\\left[\\text{P} \\right]_t &= \\left[ \\text{A} \\right]_0 \\left( \\left( 1 -  e^{- k_1 t} \\right) - \\frac{k_1}{k_1 - k_2} \\left( e^{- k_2 t} - e^{- k_1 t} \\right) \\right)\n",
    "\\end{align*}\n",
    "$$\n",
    "\n",
    "\n",
    "## Deriving the Equations using a Known System\n",
    "\n",
    "The reaction in Kirby's system is described as...\n",
    "\n",
    "\n",
    "$$\\text{A} \\overset{k_1}{\\longrightarrow} \\text{I} + \\text{P}$$\n",
    "$$\\text{I} \\overset{k_2}{\\longrightarrow} \\text{P}$$\n",
    "\n",
    "This system is very similar to the simple consecutive reaction above with the additional fact that the product (P) is produced in two separate events. P will appear as part of a first-order reaction in the first step. It will also appear as a product of a consecutive reaction in the second step. So the amount of product will be the sum of the two processes.\n",
    "\n",
    "Thus we can use the integrated rate laws for a simple consecutive reaction to derive the equations that describe concentratons vs time for this system.\n",
    "\n",
    "$$\n",
    "\\begin{align*}\n",
    "\\left[\\text{P} \\right]_t &= \\left[ \\text{A} \\right]_0\\left(1-e^{-k1 t}\\right)\\text{ and } \\\\\n",
    "\\left[\\text{P} \\right]_t &= \\left[ \\text{A} \\right]_0 \\left( \\left(1 -  e^{- k_{1} t}\\right) - \\frac{k_{1} }{k_{1} - k_{2}}\\left(e^{- k_{2} t} - e^{- k_{1} t}\\right)\\right)\n",
    "\\end{align*}\n",
    "$$\n",
    "\n",
    "Adding the two amounts of P produced will get the equation that describes P vs time.\n",
    "$$\n",
    "\\left[\\text{P} \\right]_t = \\left[ \\text{A} \\right]_0\\left(1-e^{-k1 t}\\right) + \\left[ \\text{A} \\right]_0 \\left( \\left(1 -  e^{- k_{1} t}\\right) - \\frac{k_{1} }{k_{1} - k_{2}}\\left(e^{- k_{2} t} - e^{- k_{1} t}\\right)\\right) \n",
    "$$\n",
    "\n",
    "...which simplifies to give...\n",
    "$$\n",
    "\\left[\\text{P} \\right]_t = \\left[ \\text{A} \\right]_0 \\left( 2 \\left(1 -  e^{- k_{1} t}\\right) - \\frac{k_{1} }{k_{1} - k_{2}}\\left(e^{- k_{2} t} - e^{- k_{1} t}\\right)\\right) \n",
    "$$\n",
    "\n",
    "The equations for $\\left[ \\text{A} \\right]_t$ and $\\left[ \\text{I} \\right]_t$ are the same as above.\n",
    "\n",
    "$$\n",
    "\\begin{align*}\n",
    "\\left[ \\text{A} \\right]_t &= \\left[ \\text{A} \\right]_0 e^{-k_1 t} \\\\\n",
    "\\left[\\text{I} \\right]_t &= \\left[ \\text{A} \\right]_0 \\frac{ k_{1} }{k_1 - k_2}\\left( e^{- k_2 t} - e^{- k_1 t}\\right) \n",
    "\\end{align*}\n",
    "$$\n",
    "\n",
    "\n",
    "### Total Absorbance\n",
    "\n",
    "The absorbance for each species is...\n",
    "\n",
    "$$\n",
    "\\begin{align*}\n",
    "\\text{Abs}_A &= \\epsilon_A \\left[ \\text{A} \\right]_t \\\\\n",
    "\\text{Abs}_I &= \\epsilon_I \\left[ \\text{I} \\right]_t \\\\\n",
    "\\text{Abs}_P &= \\epsilon_P \\left[ \\text{P} \\right]_t \n",
    "\\end{align*}\n",
    "$$\n",
    "\n",
    "...and we can get the value of $A_0$ from the initial absorbance...\n",
    "\n",
    "$$ \\left[\\text{A}\\right]_0 = \\frac{\\text{Abs}_0}{\\epsilon_A}$$\n",
    "\n",
    "Combining these equations with the integrated rate equations yields the following relationships...\n",
    "\n",
    "$$\n",
    "\\begin{align*}\n",
    "\\text{Abs}_A &=  \\text{Abs}_0 e^{-k_1 t} \\\\\n",
    "\\text{Abs}_I &=  \\frac{\\epsilon_I}{\\epsilon_A}\\text{Abs}_0 \\frac{ k_{1} }{k_1 - k_2}\\left( e^{- k_2 t} - e^{- k_1 t}\\right) \\\\\n",
    "\\text{Abs}_P &=  \\frac{\\epsilon_P}{\\epsilon_A}\\text{Abs}_0 \\left( 2 \\left( 1 -  e^{- k_1 t} \\right) - \\frac{k_1}{k_1 - k_2} \\left( e^{- k_2 t} - e^{- k_1 t} \\right) \\right)\n",
    "\\end{align*}\n",
    "$$\n",
    "\n",
    "Below is the combined equation $\\text{Abs}_t = \\text{Abs}_A + \\text{Abs}_I + \\text{Abs}_P$ that describes absorbance vs time for the reaction. This is the correct version of eq. 3 from the paper.\n",
    "\n",
    "$$\\text{Abs}_t = \\text{Abs}_0 e^{-k_1 t}\n",
    "             + \\frac{\\epsilon_I}{\\epsilon_A}\\text{Abs}_0\\frac{k_1}{k_2-k_1}\\left(e^{-k_1 t} - e^{-k_2 t} \\right)\n",
    "             + \\frac{\\epsilon_P}{\\epsilon_A}\\text{Abs}_0\\left[ 2 - 2 e^{-k_1 t} - \\frac{k_1}{k_2-k_1}\\left(e^{-k_1 t} - e^{-k_2 t}\\right) \\right]$$"
   ]
  },
  {
   "cell_type": "markdown",
   "metadata": {},
   "source": [
    "## Integration from Scratch with Python\n",
    "\n",
    "You will have seen computer assisted integration using the symbolic math system *Maple* (available to all UPEI students) in the integrated rate equation tutorial document available on the moodle site. Below we will perform a similar solution for the integrated rate equations of this system.\n",
    "\n",
    "The three code blocks below produce the integrated rate laws for the concentration of A, I and P.\n",
    "\n",
    "### Integration for A\n",
    "\n",
    "The rate can be expressed as the disappearance of A over time and is equal to the rate constant multiplied by the concentration of reacatant at a given time point...\n",
    "\n",
    "$$ -\\frac{d}{dt}[A]_t = k[A]_t $$\n",
    "\n",
    "We can state that the amount of reactant consumed at a give time point is $x$ and that the concentration of reactant is the initial concentration less this value.\n",
    "\n",
    "$$ [A]_t = [A]_0 - x $$\n",
    "\n",
    "Substitute this into the equation for rate and we get...\n",
    "\n",
    "$$ -\\frac{d}{d t}([A]_0 - x) = k([A]_0 - x) $$\n",
    "\n",
    "...which can be simplified to give...\n",
    "\n",
    " $$   \\frac{d x}{d t} = k([A]_0 - x) $$\n",
    "\n",
    "In your first year calculus class you would solve this by collecting the differentials for $x$ and $t$ on either side of the equation and then integrating each side over the span of time.\n",
    "\n",
    "$$ \\frac{d x}{[A]_0 - x} = k\\,dt $$\n",
    "$$ \\int_0^x \\frac{d x}{[A]_0 - x} = \\int_0^t k\\,dt $$\n",
    "\n",
    "After integration we get...\n",
    "\n",
    "$$-\\ln{(A_0 - x)} = k t - c $$\n",
    "\n",
    "We can evaluate $c$ because we know that $x = 0$ when $t = 0$.\n",
    "\n",
    "$$\n",
    "\\begin{align*}\n",
    "-\\ln{(A_0 - 0)} &= k \\cdot 0 - c \\\\\n",
    "-\\ln{A_0} &= - c \n",
    "\\end{align*}\n",
    "$$\n",
    "\n",
    "We substitute the value for $c$ into the integrated equation...\n",
    "\n",
    "$$\n",
    "\\begin{align*}\n",
    "-\\ln{(A_0 - x)} &= k t - \\ln{A_0} \\\\\n",
    "\\ln{\\left(\\frac{A_0 - x}{{A_0} }\\right)} &= -k t  \n",
    "\\end{align*}\n",
    "$$\n",
    "\n",
    "Apply the exponential function to both sides...\n",
    "\n",
    "$$\n",
    "\\begin{align*}\n",
    "\\frac{A_0 - x}{A_0} &= e^{-kt} \\\\\n",
    "A_0 - x &= A_0 e^{-kt}\n",
    "\\end{align*}\n",
    "$$\n",
    "\n",
    "And we has stated that $A_t = A_0 - x$ so we now have...\n",
    "\n",
    "$$A_t = A_0 e^{-kt}$$\n",
    "\n",
    "\n"
   ]
  },
  {
   "cell_type": "code",
   "execution_count": 1,
   "metadata": {
    "tags": [
     "hide-input"
    ]
   },
   "outputs": [
    {
     "name": "stdout",
     "output_type": "stream",
     "text": [
      "The initial differential equation is...\n"
     ]
    },
    {
     "data": {
      "text/latex": [
       "$\\displaystyle - \\frac{d}{d t} A_{t} = A_{t} k_{1}$"
      ],
      "text/plain": [
       "Eq(-Derivative(A_t, t), A_t*k1)"
      ]
     },
     "metadata": {},
     "output_type": "display_data"
    },
    {
     "name": "stdout",
     "output_type": "stream",
     "text": [
      "After substituting the differential equation is...\n"
     ]
    },
    {
     "data": {
      "text/latex": [
       "$\\displaystyle - \\frac{\\partial}{\\partial t} \\left(A_{0} - x_{t}{\\left(t \\right)}\\right) = k_{1} \\left(A_{0} - x_{t}{\\left(t \\right)}\\right)$"
      ],
      "text/plain": [
       "Eq(-Derivative(A_0 - x_t(t), t), k1*(A_0 - x_t(t)))"
      ]
     },
     "metadata": {},
     "output_type": "display_data"
    },
    {
     "name": "stdout",
     "output_type": "stream",
     "text": [
      "The integrated equation starting at x=0 when t=0 is...\n"
     ]
    },
    {
     "data": {
      "text/latex": [
       "$\\displaystyle x_{t}{\\left(t \\right)} = A_{0} - A_{0} e^{- k_{1} t}$"
      ],
      "text/plain": [
       "Eq(x_t(t), A_0 - A_0*exp(-k1*t))"
      ]
     },
     "metadata": {},
     "output_type": "display_data"
    },
    {
     "name": "stdout",
     "output_type": "stream",
     "text": [
      "The expression for x(t) is...\n"
     ]
    },
    {
     "data": {
      "text/latex": [
       "$\\displaystyle A_{0} - A_{0} e^{- k_{1} t}$"
      ],
      "text/plain": [
       "A_0 - A_0*exp(-k1*t)"
      ]
     },
     "metadata": {},
     "output_type": "display_data"
    },
    {
     "name": "stdout",
     "output_type": "stream",
     "text": [
      "The equation for A(t) in terms of x(t) is...\n"
     ]
    },
    {
     "data": {
      "text/latex": [
       "$\\displaystyle A_{t} = A_{0} - x_{t}{\\left(t \\right)}$"
      ],
      "text/plain": [
       "Eq(A_t, A_0 - x_t(t))"
      ]
     },
     "metadata": {},
     "output_type": "display_data"
    },
    {
     "name": "stdout",
     "output_type": "stream",
     "text": [
      "The equation for A(t) after substituting in the term for x(t)\n"
     ]
    },
    {
     "data": {
      "text/latex": [
       "$\\displaystyle A_{t} = A_{0} e^{- k_{1} t}$"
      ],
      "text/plain": [
       "Eq(A_t, A_0*exp(-k1*t))"
      ]
     },
     "metadata": {},
     "output_type": "display_data"
    }
   ],
   "source": [
    "import sympy as sym\n",
    "\n",
    "t = sym.symbols('t')     \n",
    "k1 = sym.symbols('k1')  \n",
    "k2 = sym.symbols('k2')  \n",
    "At = sym.symbols('A_t') \n",
    "A0 = sym.symbols('A_0') \n",
    "It = sym.symbols('I_t') \n",
    "Pt = sym.symbols('P_t')  \n",
    "\n",
    "xt = sym.Function('x_t')    # create x as a 'function', not a variable\n",
    "\n",
    "lhs = -sym.Derivative(At, t) # Using Derivative function to get differential of A(t) w.r.t. t\n",
    "                            # could not used At.diff(t) because At is not a function \n",
    "rhs = k1*(At)\n",
    "\n",
    "diffeq = sym.Eq(lhs, rhs)   # create a sympy differential equation\n",
    "print(\"The initial differential equation is...\")\n",
    "display(diffeq)             \n",
    "\n",
    "diffeq = diffeq.subs({At: A0-xt(t)})    # substitute in At = A0 - x\n",
    "\n",
    "print(\"After substituting the differential equation is...\")\n",
    "display(diffeq) \n",
    "\n",
    "\n",
    "print(\"The integrated equation starting at x=0 when t=0 is...\")\n",
    "result = sym.dsolve(diffeq, ics={xt(0): 0})     # Solve the differential equation. \n",
    "                                            # Initial condition is x(t) = 0 when t = 0\n",
    "display(result)\n",
    "\n",
    "xt_rhs = result.rhs   # Get the expression for x(t)\n",
    "print(\"The expression for x(t) is...\")\n",
    "display(xt_rhs)\n",
    "\n",
    "eq1 = sym.Eq(At, A0-xt(t))  # create an equation that defines A(t) in terms of A0 and x\n",
    "print(\"The equation for A(t) in terms of x(t) is...\")\n",
    "display(eq1)\n",
    "\n",
    "A = eq1.subs(xt(t), xt_rhs)  # xt is an expression for x. Substitute x for xt.\n",
    "print(\"The equation for A(t) after substituting in the term for x(t)\")\n",
    "display(A)\n"
   ]
  },
  {
   "cell_type": "markdown",
   "metadata": {},
   "source": [
    "### Integrating for [I]\n",
    "\n",
    "Substitute the integrated rate law for $[A]$ into the rate law for $[I]$ above...\n",
    "\n",
    "$$\\dfrac{d \\left[ \\text{I} \\right]_t}{dt} = k_1 \\left[ \\text{A} \\right]_0 e^{-k_1 t} - k_2 \\left[ \\text{I} \\right]_t$$\n",
    "\n",
    "As before we can set a value, $x$, that describes the progress of the reaction. We can state that $[I]_t = x$ and set up a differential equation like so...\n",
    "\n",
    "$$ \\frac{d}{d t}{x} = A_{0} k_{1} e^{- k_{1} t} - k_{2} x$$\n",
    "\n",
    "My integration skills are very rusty. Do I use integration by parts or integration by substitution? rather than relearn calculus I turn to the symbolic math tools of sympy. Consider the code in the clovkbelow.\n",
    "\n",
    "After integration, we have the term...\n",
    "\n",
    "$$ x =A_{0} \\frac{ k_{1} }{k_{1} - k_{2}}\\left(e^{- k_{2} t} - e^{- k_{1} t}\\right)$$\n",
    "\n",
    "...and, knowing that $[I]_t = x$, we can now say...\n",
    "\n",
    "$$ \\left[I \\right]_t =A_{0} \\frac{ k_{1} }{k_{1} - k_{2}}\\left(e^{- k_{2} t} - e^{- k_{1} t}\\right)$$\n",
    "\n"
   ]
  },
  {
   "cell_type": "code",
   "execution_count": 2,
   "metadata": {
    "tags": [
     "hide-input"
    ]
   },
   "outputs": [
    {
     "name": "stdout",
     "output_type": "stream",
     "text": [
      "The initial differential equation is...\n"
     ]
    },
    {
     "data": {
      "text/latex": [
       "$\\displaystyle \\frac{d}{d t} I_{t} = A_{0} k_{1} e^{- k_{1} t} - I_{t} k_{2}$"
      ],
      "text/plain": [
       "Eq(Derivative(I_t, t), A_0*k1*exp(-k1*t) - I_t*k2)"
      ]
     },
     "metadata": {},
     "output_type": "display_data"
    },
    {
     "name": "stdout",
     "output_type": "stream",
     "text": [
      "After substituting the differential equation is...\n"
     ]
    },
    {
     "data": {
      "text/latex": [
       "$\\displaystyle \\frac{d}{d t} x_{t}{\\left(t \\right)} = A_{0} k_{1} e^{- k_{1} t} - k_{2} x_{t}{\\left(t \\right)}$"
      ],
      "text/plain": [
       "Eq(Derivative(x_t(t), t), A_0*k1*exp(-k1*t) - k2*x_t(t))"
      ]
     },
     "metadata": {},
     "output_type": "display_data"
    },
    {
     "name": "stdout",
     "output_type": "stream",
     "text": [
      "The integrated equation starting at x=0 when t=0 is...\n"
     ]
    },
    {
     "data": {
      "text/latex": [
       "$\\displaystyle x_{t}{\\left(t \\right)} = \\frac{A_{0} k_{1} e^{- k_{2} t}}{k_{1} - k_{2}} - \\frac{A_{0} k_{1} e^{- k_{1} t}}{k_{1} - k_{2}}$"
      ],
      "text/plain": [
       "Eq(x_t(t), A_0*k1*exp(-k2*t)/(k1 - k2) - A_0*k1*exp(-k1*t)/(k1 - k2))"
      ]
     },
     "metadata": {},
     "output_type": "display_data"
    },
    {
     "name": "stdout",
     "output_type": "stream",
     "text": [
      "Collecting some terms and substiting for x gives...\n"
     ]
    },
    {
     "data": {
      "text/latex": [
       "$\\displaystyle I_{t} = \\frac{A_{0} k_{1} \\left(e^{- k_{2} t} - e^{- k_{1} t}\\right)}{k_{1} - k_{2}}$"
      ],
      "text/plain": [
       "Eq(I_t, A_0*k1*(exp(-k2*t) - exp(-k1*t))/(k1 - k2))"
      ]
     },
     "metadata": {},
     "output_type": "display_data"
    }
   ],
   "source": [
    "import sympy as sym\n",
    "\n",
    "t = sym.symbols('t')     \n",
    "k1 = sym.symbols('k1')  \n",
    "k2 = sym.symbols('k2')  \n",
    "At = sym.symbols('A_t') \n",
    "A0 = sym.symbols('A_0') \n",
    "It = sym.symbols('I_t') \n",
    "Pt = sym.symbols('P_t')  \n",
    "\n",
    "xt = sym.Function('x_t')    # create x as a 'function', not a variable\n",
    "\n",
    "lhs = sym.Derivative(It, t) # Using Derivative function to get differential of A(t) w.r.t. t\n",
    "                            # could not used At.diff(t) because At is not a function \n",
    "rhs = k1*At-k2*It\n",
    "rhs = rhs.subs({At: A.rhs})\n",
    "\n",
    "diffeq = sym.Eq(lhs, rhs)   # create a sympy differential equation\n",
    "print(\"The initial differential equation is...\")\n",
    "display(diffeq)             \n",
    "\n",
    "diffeq = diffeq.subs({It: xt(t)})    # substitute I for x\n",
    "\n",
    "print(\"After substituting the differential equation is...\")\n",
    "display(diffeq) \n",
    "\n",
    "\n",
    "print(\"The integrated equation starting at x=0 when t=0 is...\")\n",
    "result = sym.dsolve(diffeq, ics={xt(0): 0})     # Solve the differential equation. \n",
    "                                            # Initial condition is x(t) = 0 when t = 0\n",
    "display(result)\n",
    "\n",
    "print(\"Collecting some terms and substiting for x gives...\")\n",
    "simplified = sym.collect(result.rhs,(A0*k1/(k1-k2)))\n",
    "I = sym.Eq(result.lhs,simplified)\n",
    "I = I.subs({xt(t): It})              # substitute x for I\n",
    "display(I)"
   ]
  },
  {
   "cell_type": "markdown",
   "metadata": {},
   "source": [
    "### Solving for [P]\n",
    "\n",
    "We dont have to integrate for this last term. We can say that the total amount of material is equal to $[A]_0$. Recall the reaction scheme...\n",
    "\n",
    "For reactions of the form...\n",
    "\n",
    "$$\\text{A} \\overset{k_1}{\\longrightarrow} \\text{I} + \\text{P}$$\n",
    "$$\\text{I} \\overset{k_2}{\\longrightarrow} \\text{P}$$\n",
    "\n",
    "... and write a mass balance equation...\n",
    "\n",
    "$$\\begin{align}\n",
    "2 [A]_0 &= 2*[A]_t+[I]_t+[P]_t \\\\\n",
    "[P]_t &= 2 [A]_0 - \\left(2*[A]_t+[I]_t\\right) \n",
    "\\end{align}$$\n",
    "\n",
    "Once we substitute the terms for \n",
    "\n",
    "$$\\left[ P\\right]_{t} = A_{0} \\left(- \\frac{k_{1} \\left(e^{- k_{2} t} - e^{- k_{1} t}\\right)}{k_{1} - k_{2}} + 2 - 2 e^{- k_{1} t}\\right)$$\n",
    "\n",
    "\n",
    "For the fun of it, lets let sympy do all the work in the code below..."
   ]
  },
  {
   "cell_type": "code",
   "execution_count": 3,
   "metadata": {
    "tags": [
     "hide-input"
    ]
   },
   "outputs": [
    {
     "data": {
      "text/latex": [
       "$\\displaystyle A_{t} = A_{0} e^{- k_{1} t}$"
      ],
      "text/plain": [
       "Eq(A_t, A_0*exp(-k1*t))"
      ]
     },
     "metadata": {},
     "output_type": "display_data"
    },
    {
     "data": {
      "text/latex": [
       "$\\displaystyle I_{t} = \\frac{A_{0} k_{1} \\left(e^{- k_{2} t} - e^{- k_{1} t}\\right)}{k_{1} - k_{2}}$"
      ],
      "text/plain": [
       "Eq(I_t, A_0*k1*(exp(-k2*t) - exp(-k1*t))/(k1 - k2))"
      ]
     },
     "metadata": {},
     "output_type": "display_data"
    },
    {
     "data": {
      "text/latex": [
       "$\\displaystyle - \\frac{A_{0} k_{1} \\left(e^{- k_{2} t} - e^{- k_{1} t}\\right)}{k_{1} - k_{2}} + 2 A_{0} - 2 A_{0} e^{- k_{1} t}$"
      ],
      "text/plain": [
       "-A_0*k1*(exp(-k2*t) - exp(-k1*t))/(k1 - k2) + 2*A_0 - 2*A_0*exp(-k1*t)"
      ]
     },
     "metadata": {},
     "output_type": "display_data"
    },
    {
     "data": {
      "text/latex": [
       "$\\displaystyle A_{0} \\left(- \\frac{k_{1} \\left(e^{- k_{2} t} - e^{- k_{1} t}\\right)}{k_{1} - k_{2}} + 2 - 2 e^{- k_{1} t}\\right)$"
      ],
      "text/plain": [
       "A_0*(-k1*(exp(-k2*t) - exp(-k1*t))/(k1 - k2) + 2 - 2*exp(-k1*t))"
      ]
     },
     "metadata": {},
     "output_type": "display_data"
    },
    {
     "data": {
      "text/latex": [
       "$\\displaystyle P_{t} = A_{0} \\left(- \\frac{k_{1} \\left(e^{- k_{2} t} - e^{- k_{1} t}\\right)}{k_{1} - k_{2}} + 2 - 2 e^{- k_{1} t}\\right)$"
      ],
      "text/plain": [
       "Eq(P_t, A_0*(-k1*(exp(-k2*t) - exp(-k1*t))/(k1 - k2) + 2 - 2*exp(-k1*t)))"
      ]
     },
     "metadata": {},
     "output_type": "display_data"
    }
   ],
   "source": [
    "Pt = sym.symbols('P_t')   # create Pt as a 'symbol'\n",
    "\n",
    "A = sym.Eq(At,A0*sym.exp(-k1*t))\n",
    "display(A,I)\n",
    "\n",
    "rhs = 2*A0 - 2*A.rhs - I.rhs\n",
    "display(rhs)\n",
    "\n",
    "rhs = sym.collect(rhs,A0)\n",
    "display(rhs)\n",
    "\n",
    "P = sym.Eq(Pt,rhs)\n",
    "display(P)\n"
   ]
  },
  {
   "cell_type": "markdown",
   "metadata": {},
   "source": [
    "### Add It Up\n",
    "\n",
    "Now let us add the three terms for $\\left[A\\right]_t$, $\\left[I\\right]_t$, and $\\left[P\\right]_t$. Then substitute in the equations for Beers law to get the equation for total absorbance, $Abs_t$.\n",
    "\n",
    "We did all of that at the top of this notebook. And again we obtain...\n",
    "\n",
    "$$\\text{Abs}_t = \\text{Abs}_0 e^{-k_1 t}\n",
    "             + \\frac{\\epsilon_I}{\\epsilon_A}\\text{Abs}_0\\frac{k_1}{k_2-k_1}\\left(e^{-k_1 t} - e^{-k_2 t} \\right)\n",
    "             + \\frac{\\epsilon_P}{\\epsilon_A}\\text{Abs}_0\\left[ 2 - 2 e^{-k_1 t} - \\frac{k_1}{k_2-k_1}\\left(e^{-k_1 t} - e^{-k_2 t}\\right) \\right]$$"
   ]
  },
  {
   "cell_type": "code",
   "execution_count": 4,
   "metadata": {
    "tags": [
     "hide-input"
    ]
   },
   "outputs": [
    {
     "data": {
      "text/latex": [
       "$\\displaystyle Abs_{0} e^{- k_{1} t}$"
      ],
      "text/plain": [
       "Abs_0*exp(-k1*t)"
      ]
     },
     "metadata": {},
     "output_type": "display_data"
    },
    {
     "data": {
      "text/latex": [
       "$\\displaystyle \\frac{Abs_{0} \\epsilon_{I} k_{1} \\left(e^{- k_{2} t} - e^{- k_{1} t}\\right)}{\\epsilon_{A} \\left(k_{1} - k_{2}\\right)}$"
      ],
      "text/plain": [
       "Abs_0*\\epsilon_I*k1*(exp(-k2*t) - exp(-k1*t))/(\\epsilon_A*(k1 - k2))"
      ]
     },
     "metadata": {},
     "output_type": "display_data"
    },
    {
     "data": {
      "text/latex": [
       "$\\displaystyle \\frac{Abs_{0} \\epsilon_{P} \\left(- \\frac{k_{1} \\left(e^{- k_{2} t} - e^{- k_{1} t}\\right)}{k_{1} - k_{2}} + 2 - 2 e^{- k_{1} t}\\right)}{\\epsilon_{A}}$"
      ],
      "text/plain": [
       "Abs_0*\\epsilon_P*(-k1*(exp(-k2*t) - exp(-k1*t))/(k1 - k2) + 2 - 2*exp(-k1*t))/\\epsilon_A"
      ]
     },
     "metadata": {},
     "output_type": "display_data"
    },
    {
     "name": "stdout",
     "output_type": "stream",
     "text": [
      "Model for change in absorbance with time is...\n"
     ]
    },
    {
     "data": {
      "text/latex": [
       "$\\displaystyle Abs_{t} = Abs_{0} \\left(e^{- k_{1} t} + \\frac{\\epsilon_{I} k_{1} \\left(e^{- k_{2} t} - e^{- k_{1} t}\\right)}{\\epsilon_{A} \\left(k_{1} - k_{2}\\right)} + \\frac{\\epsilon_{P} \\left(- \\frac{k_{1} \\left(e^{- k_{2} t} - e^{- k_{1} t}\\right)}{k_{1} - k_{2}} + 2 - 2 e^{- k_{1} t}\\right)}{\\epsilon_{A}}\\right)$"
      ],
      "text/plain": [
       "Eq(Abs_t, Abs_0*(exp(-k1*t) + \\epsilon_I*k1*(exp(-k2*t) - exp(-k1*t))/(\\epsilon_A*(k1 - k2)) + \\epsilon_P*(-k1*(exp(-k2*t) - exp(-k1*t))/(k1 - k2) + 2 - 2*exp(-k1*t))/\\epsilon_A))"
      ]
     },
     "metadata": {},
     "output_type": "display_data"
    }
   ],
   "source": [
    "### Model that explains absorbance\n",
    "\n",
    "eA, eI, eP = sym.symbols(r'\\epsilon_A \\epsilon_I \\epsilon_P')\n",
    "Abs0, AbsA, AbsI, AbsP = sym.symbols('Abs_0, Abs_A, Abs_I, Abs_P')\n",
    "Abst = sym.Symbol('Abs_t')    \n",
    "\n",
    "\n",
    "AbsA = eA * At\n",
    "AbsI = eI * It\n",
    "AbsP = eP * Pt\n",
    "\n",
    "AbsA_expr = AbsA.subs([(At, A.rhs), \n",
    "                  (A0, Abs0/eA)])\n",
    "display(AbsA_expr)\n",
    "\n",
    "AbsI_expr = AbsI.subs([(It, I.rhs), \n",
    "                  (A0, Abs0/eA)])\n",
    "display(AbsI_expr)\n",
    "\n",
    "AbsP_expr = AbsP.subs([(Pt, P.rhs), \n",
    "                  (A0, Abs0/eA)])\n",
    "display(AbsP_expr)\n",
    "\n",
    "print(\"Model for change in absorbance with time is...\")\n",
    "Abst_expr = AbsA_expr + AbsI_expr + AbsP_expr\n",
    "Abst_expr = sym.collect(Abst_expr, Abs0)\n",
    "\n",
    "Absmodel = sym.Eq(Abst, Abst_expr)\n",
    "display(Absmodel)"
   ]
  },
  {
   "cell_type": "markdown",
   "metadata": {},
   "source": [
    "## Plot the Model using SymPy\n",
    "\n",
    "Below we will plot the *SymPy* expressions for $Abs_A$, $Abs_I$, $Abs_P$, and $Abs_{total}$ using the same code demonstrated in the *Python* notebooks that precede this one."
   ]
  },
  {
   "cell_type": "code",
   "execution_count": 5,
   "metadata": {
    "tags": [
     "hide-input"
    ]
   },
   "outputs": [
    {
     "data": {
      "image/png": "[encoded data removed]",
      "text/plain": [
       "<Figure size 400x300 with 1 Axes>"
      ]
     },
     "metadata": {},
     "output_type": "display_data"
    }
   ],
   "source": [
    "### Plot the model \n",
    "### This is exactly the same code as used on notebook 01 and 02.\n",
    "\n",
    "## Plot the function for Abst and its components\n",
    "\n",
    "import numpy as np \n",
    "\n",
    "time = np.linspace(0,10000,100)  # 100 data points between 0 and 1E5 seconds\n",
    "k1_value = 2E-3\n",
    "k2_value = 2E-4\n",
    "Abs0_value = 0.2\n",
    "eA_value = 1       # use ratio so that eI/eA = 0.6 for example\n",
    "eI_value = 0.3\n",
    "eP_value = 0.6\n",
    "\n",
    "# Create dictionaries contains substitution for each term\n",
    "subs_dict_At = { \n",
    "                k1: k1_value, \n",
    "                Abs0: Abs0_value\n",
    "                }\n",
    "subs_dict_It = {\n",
    "                k1: k1_value,\n",
    "                k2: k2_value,\n",
    "                Abs0: Abs0_value,\n",
    "                eA: eA_value,\n",
    "                eI: eI_value,\n",
    "                }\n",
    "subs_dict_Pt = {\n",
    "                k1: k1_value,\n",
    "                k2: k2_value,\n",
    "                Abs0: Abs0_value,\n",
    "                eA: eA_value,\n",
    "                eP: eP_value,\n",
    "                }\n",
    "subs_dict_Abst = {\n",
    "                  k1: k1_value,\n",
    "                  k2: k2_value,\n",
    "                  Abs0: Abs0_value,\n",
    "                  eA: eA_value,\n",
    "                  eI: eI_value,\n",
    "                  eP: eP_value,\n",
    "                  }\n",
    "\n",
    "# plot each term using the values established above\n",
    "t_range = [t,0,10000]\n",
    "p1 = sym.plot(AbsA_expr.subs(subs_dict_At),t_range, show=False)\n",
    "p2 = sym.plot(AbsI_expr.subs(subs_dict_It),t_range, show=False)\n",
    "p3 = sym.plot(AbsP_expr.subs(subs_dict_Pt),t_range, show=False)\n",
    "p4 = sym.plot(Abst_expr.subs(subs_dict_Abst),t_range, show=False)\n",
    "\n",
    "p1.extend(p2)   # add all plots to p1\n",
    "p1.extend(p3)\n",
    "p1.extend(p4)\n",
    "\n",
    "# Outout the combined plot\n",
    "\n",
    "p1.size = [4,3]           # display settings for p1\n",
    "p1.xlabel = r\"time $/s$\"\n",
    "p1.ylabel = r\"Absorbance\"\n",
    "\n",
    "p1.title=\"All values\"\n",
    "p1.ylim = [None,None]\n",
    "p1.save(\"plots/3_plot1.pdf\")   # save and show p1\n",
    "#p1.show()          # show p1\n",
    "\n"
   ]
  },
  {
   "cell_type": "markdown",
   "metadata": {},
   "source": [
    "## Plot The Model Using Functions\n",
    "\n",
    "Here we will plot the calculated values of the concentrations using the equations derived above. After that we will plot the absorbance contribution of each species and the total.\n",
    "\n",
    "By calculating the resukts this way we get the values in a list and then can do what we want. Below I will plot them using `MatPlotLib.PyPlot` tools rather than the *SymPy* plot functions.\n",
    "\n",
    "### Concentration Plot\n",
    "\n",
    "We could plot the equations directly using the `sympy.plot` function as demonstrated in the previous notebook. This time we will calculate the concentartion values using the equations and plot the x,y data using `matplotlib`. We can convert an equation into a function using the `sympy.lambdify` function. See examples in the code below."
   ]
  },
  {
   "cell_type": "code",
   "execution_count": 6,
   "metadata": {
    "tags": [
     "hide-input"
    ]
   },
   "outputs": [
    {
     "data": {
      "image/png": "[encoded data removed]",
      "text/plain": [
       "<Figure size 500x400 with 1 Axes>"
      ]
     },
     "metadata": {},
     "output_type": "display_data"
    }
   ],
   "source": [
    "### from StealThisCode/4_SciPy/K05_NumericIntegration_SystemEq.ipynb\n",
    "\n",
    "#######################\n",
    "### import packages \n",
    "#######################\n",
    "\n",
    "import sympy as sym\n",
    "import numpy as np\n",
    "import matplotlib.pyplot as plt\n",
    "\n",
    "############################################\n",
    "### Create a function that describes the \n",
    "### system of differential equations. \n",
    "############################################\n",
    "\n",
    "#display(A.rhs,I.rhs,P.rhs)\n",
    "\n",
    "fA = sym.lambdify([t, A0, k1], A.rhs)   \n",
    "fI = sym.lambdify([t, A0, k1, k2], I.rhs)\n",
    "fP = sym.lambdify([t, A0, k1, k2], P.rhs)\n",
    "\n",
    "############################################\n",
    "### Parameters and experimental conditions\n",
    "############################################\n",
    "\n",
    "k_1 = 2e-3          ### Values for kinetic parameters\n",
    "k_2 = 2e-4\n",
    "A0_conc = 1\n",
    "\n",
    "time_end = 10000   ### The end time\n",
    "n_points = 100   ### number of points - increase if needed\n",
    "\n",
    "#########################################\n",
    "### Create series of time points      \n",
    "#########################################\n",
    "\n",
    "time = np.linspace(0, time_end, n_points) ### time vector (list of time points)\n",
    "\n",
    "##################################################################################\n",
    "### Plot the results\n",
    "##################################################################################\n",
    "\n",
    "plt.rcdefaults()                    ### resets the plot defaults so we always start in the same place\n",
    "plt.style.use(\"../styles/tufte.mplstyle\")     ### Then add a fancy style sheet   \n",
    "\n",
    "fig, ax = plt.subplots(nrows=1, ncols=1, figsize=(5,4))  \n",
    "\n",
    "#########################################\n",
    "### Plot the line using the x_fit, y_fit points\n",
    "#########################################\n",
    "x = time      \n",
    "y = fA(time, A0_conc, k_1) \n",
    "ax.plot(x, y, \n",
    "        linestyle = '-',            ### use a line between points\n",
    " #       linewidth='0.5',            ### make the line thin\n",
    "        color = 'C0',            ### the line is black\n",
    "        zorder = 0                  ### everything is in layer 0 (the bottom layer in this case)\n",
    "        )\n",
    "\n",
    "x = time      \n",
    "y = fI(time, A0_conc, k_1, k_2) \n",
    "ax.plot(x, y, \n",
    "        linestyle = '-',            ### use a line between points\n",
    " #       linewidth='0.5',            ### make the line thin\n",
    "        color = 'C1',            ### the line is black\n",
    "        zorder = 0                  ### everything is in layer 0 (the bottom layer in this case)\n",
    "        )\n",
    "\n",
    "x = time      \n",
    "y = fP(time, A0_conc, k_1, k_2) \n",
    "ax.plot(x, y, \n",
    "        linestyle = '-',            ### use a line between points\n",
    " #       linewidth='0.5',            ### make the line thin\n",
    "        color = 'C2',            ### the line is black\n",
    "        zorder = 0                  ### everything is in layer 0 (the bottom layer in this case)\n",
    "        )\n",
    "#########################################\n",
    "### Add more style\n",
    "#########################################\n",
    "        \n",
    "ax.set(ylabel=r\"$\\rm conc.\\;/\\;mM $\", \n",
    "        xlabel=r\"$time\\; /\\; s$\",\n",
    "        title = \"Conc. vs time\",\n",
    "        xlim=[None, None],      \n",
    "        ylim=[-0.1, 2])\n",
    "\n",
    "\n",
    "fig.tight_layout()  # otherwise the right y-label is slightly clipped\n",
    "\n",
    "fig.savefig(\"plots/3_plot2.pdf\")    # use this to save the figure in PDF format\n",
    "plt.show()                 # output the combined four plots\n",
    "\n"
   ]
  },
  {
   "cell_type": "markdown",
   "metadata": {},
   "source": [
    "### Absorbance Plot\n",
    "\n",
    "Here is the same again but presenting the absorbances."
   ]
  },
  {
   "cell_type": "code",
   "execution_count": 7,
   "metadata": {
    "tags": [
     "hide-input"
    ]
   },
   "outputs": [
    {
     "data": {
      "image/png": "[encoded data removed]",
      "text/plain": [
       "<Figure size 500x400 with 1 Axes>"
      ]
     },
     "metadata": {},
     "output_type": "display_data"
    }
   ],
   "source": [
    "### from StealThisCode/4_SciPy/K05_NumericIntegration_SystemEq.ipynb\n",
    "\n",
    "#######################\n",
    "### import packages \n",
    "#######################\n",
    "\n",
    "import sympy as sym\n",
    "import numpy as np\n",
    "import matplotlib.pyplot as plt\n",
    "\n",
    "############################################\n",
    "### Create a function that describes the \n",
    "### system of differential equations. \n",
    "############################################\n",
    "\n",
    "#display(A.rhs,I.rhs,P.rhs)\n",
    "\n",
    "fA = sym.lambdify([t, A0, k1], A.rhs)   \n",
    "fI = sym.lambdify([t, A0, k1, k2], I.rhs)\n",
    "fP = sym.lambdify([t, A0, k1, k2], P.rhs)\n",
    "\n",
    "############################################\n",
    "### Parameters and experimental conditions\n",
    "############################################\n",
    "\n",
    "k_1 = 2e-3          ### Values for kinetic parameters\n",
    "k_2 = 2e-4\n",
    "A0_conc = 1\n",
    "Abs_0 = 0.2\n",
    "e_A = 1       ### relative extinction coefficents\n",
    "e_I = 0.3\n",
    "e_P = 0.6\n",
    "\n",
    "time_end = 10000   ### The end time\n",
    "n_points = 100   ### number of points - increase if needed\n",
    "\n",
    "#########################################\n",
    "### Create series of time points      \n",
    "#########################################\n",
    "\n",
    "time = np.linspace(0, time_end, n_points) ### time vector (list of time points)\n",
    "\n",
    "##################################################################################\n",
    "### Plot the results\n",
    "##################################################################################\n",
    "\n",
    "plt.rcdefaults()                    ### resets the plot defaults so we always start in the same place\n",
    "plt.style.use(\"../styles/tufte.mplstyle\")     ### Then add a fancy style sheet   \n",
    "\n",
    "fig, ax = plt.subplots(nrows=1, ncols=1, figsize=(5,4))  \n",
    "\n",
    "#########################################\n",
    "### Plot the line using the x_fit, y_fit points\n",
    "#########################################\n",
    "x = time      \n",
    "y = fA(time, A0_conc, k_1) / A0_conc * Abs_0 * e_A / e_A\n",
    "ax.plot(x, y, \n",
    "        linestyle = '-',            ### use a line between points\n",
    " #       linewidth='0.5',            ### make the line thin\n",
    "        color = 'C0',            ### the line is black\n",
    "        zorder = 0                  ### everything is in layer 0 (the bottom layer in this case)\n",
    "        )\n",
    "\n",
    "x = time      \n",
    "y = fI(time, A0_conc, k_1, k_2) / A0_conc * Abs_0 * e_I / e_A\n",
    "ax.plot(x, y, \n",
    "        linestyle = '-',            ### use a line between points\n",
    " #       linewidth='0.5',           ### make the line thin\n",
    "        color = 'C1',               ### the line is black\n",
    "        zorder = 0                  ### everything is in layer 0 (the bottom layer in this case)\n",
    "        )\n",
    "\n",
    "x = time      \n",
    "y = fP(time, A0_conc, k_1, k_2) / A0_conc * Abs_0 * e_P / e_A\n",
    "ax.plot(x, y, \n",
    "        linestyle = '-',            ### use a line between points\n",
    " #       linewidth='0.5',           ### make the line thin\n",
    "        color = 'C2',               ### the line is black\n",
    "        zorder = 0                  ### everything is in layer 0 (the bottom layer in this case)\n",
    "        )\n",
    "\n",
    "x = time      \n",
    "y = fA(time, A0_conc, k_1) / A0_conc * Abs_0 * e_A / e_A + \\\n",
    "    fI(time, A0_conc, k_1, k_2) / A0_conc * Abs_0 * e_I / e_A + \\\n",
    "    fP(time, A0_conc, k_1, k_2) / A0_conc * Abs_0 * e_P / e_A\n",
    "ax.plot(x, y, \n",
    "        linestyle = '-',            ### use a line between points\n",
    " #       linewidth='0.5',            ### make the line thin\n",
    "        color = 'C3',            ### the line is black\n",
    "        zorder = 0                  ### everything is in layer 0 (the bottom layer in this case)\n",
    "        )\n",
    "\n",
    "#########################################\n",
    "### Add more style\n",
    "#########################################\n",
    "        \n",
    "ax.set(ylabel=r\"$\\rm Absorbance $\", \n",
    "        xlabel=r\"$time\\; /\\; s$\",\n",
    "        title = \"Abs. vs time\",\n",
    "        xlim=[None, None],      \n",
    "        ylim=[-0.03, .24])\n",
    "\n",
    "\n",
    "fig.tight_layout()  # otherwise the right y-label is slightly clipped\n",
    "\n",
    "fig.savefig(\"plots/3_plot3.pdf\")    # use this to save the figure in PDF format\n",
    "plt.show()                 # output the combined four plots\n",
    "\n"
   ]
  },
  {
   "cell_type": "markdown",
   "metadata": {},
   "source": [
    "## Conclusion\n",
    "\n",
    "We have derived the integrated rate laws that describe the concentrations of all species over time and used these equations to build the expressions that describe absorbances over time. "
   ]
  }
 ],
 "metadata": {
  "kernelspec": {
   "display_name": "base",
   "language": "python",
   "name": "python3"
  },
  "language_info": {
   "codemirror_mode": {
    "name": "ipython",
    "version": 3
   },
   "file_extension": ".py",
   "mimetype": "text/x-python",
   "name": "python",
   "nbconvert_exporter": "python",
   "pygments_lexer": "ipython3",
   "version": "3.12.2"
  }
 },
 "nbformat": 4,
 "nbformat_minor": 2
}