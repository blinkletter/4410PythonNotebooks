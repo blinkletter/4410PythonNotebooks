{
 "cells": [
  {
   "cell_type": "markdown",
   "id": "e253f2cd",
   "metadata": {},
   "source": [
    "# Plotting Related $pK_a$ Values\n",
    "\n",
    "We can see if one set of $pK_a$ values correlates with another. Does a series of substituted phenols correlate with a series of substituted benzoic acids? Let's find out.\n",
    "\n",
    "Below is an example Jupyter notebook providing a walk through of my own workflow."
   ]
  },
  {
   "cell_type": "markdown",
   "id": "b2b5b0d7",
   "metadata": {},
   "source": [
    "## Step 1: Find some data sets.\n",
    "\n",
    "I looked in the class information for lesson 5 and at the end of the page was a list of $pK_a$ data sets.  I picked through them looking for substituted phenol systems and substituted benzoic acids. In the lengthy [Williams $pK_a$ data set](https://organicchemistrydata.org/hansreich/resources/pka/) I found lots of possibilities.  On page 7 are listed many values for substituted benzoic acids and on page 9 there is a corresponding list for phenols. I chose to use only *meta* and *para* substituents to avoid any extra steric affects that may be present in *ortho* systems."
   ]
  },
  {
   "cell_type": "markdown",
   "id": "c2677c08",
   "metadata": {},
   "source": [
    "## Step 2: Type in the Data\n",
    "\n",
    "I entered the data in a text file. The text file is reproduced below.  I saved the file as ```correlation.csv```.\n",
    "\n",
    "```\n",
    "Substituent,   PhCOOH,    Phenol\n",
    "H,             4.21,      9.95\n",
    "m-Br,          3.81,      9.11\n",
    "m-CH3,         4.24,      10.08\n",
    "m-CH3O,        4.09,      9.65\n",
    "m-Cl,          3.83,      9.02\n",
    "m-CN,          3.6,       8.61\n",
    "m-F,           3.87,      9.28\n",
    "m-NO2,         3.45,      8.35\n",
    "p-Br,          4.00,      9.34\n",
    "p-CH3,         4.34,      10.19\n",
    "p-CH3O,        4.47,      10.2\n",
    "p-Cl,          3.99,      9.38\n",
    "p-CN,          3.55,      7.95\n",
    "p-F,           4.14,      9.95\n",
    "p-NO2,         3.44,      7.14\n",
    "```"
   ]
  },
  {
   "cell_type": "markdown",
   "id": "989ec39d",
   "metadata": {},
   "source": [
    "## Step 3: Visualize the Data\n",
    "I will make a quick plot of the data and see if it looks like there is a correlation.\n",
    "\n",
    "*Note: Initially the commands kept crahing out with an \"index error\" because the text indexes \"PhCOOH\" and \"Phenol\" were not being recognized. I eventually figured out that all the spaces in my csv file were being included in the imported data set. I [looked up the ```pandas.read_csv``` command online](https://pandas.pydata.org/docs/reference/api/pandas.read_csv.html) and found the* ```skipinitialspace``` *parameter. I used it and that solved my problem.*"
   ]
  },
  {
   "cell_type": "code",
   "execution_count": 2,
   "id": "37fcb386",
   "metadata": {},
   "outputs": [
    {
     "data": {
      "text/html": [
       "<div>\n",
       "<style scoped>\n",
       "    .dataframe tbody tr th:only-of-type {\n",
       "        vertical-align: middle;\n",
       "    }\n",
       "\n",
       "    .dataframe tbody tr th {\n",
       "        vertical-align: top;\n",
       "    }\n",
       "\n",
       "    .dataframe thead th {\n",
       "        text-align: right;\n",
       "    }\n",
       "</style>\n",
       "<table border=\"1\" class=\"dataframe\">\n",
       "  <thead>\n",
       "    <tr style=\"text-align: right;\">\n",
       "      <th></th>\n",
       "      <th>Substituent</th>\n",
       "      <th>PhCOOH</th>\n",
       "      <th>Phenol</th>\n",
       "    </tr>\n",
       "  </thead>\n",
       "  <tbody>\n",
       "    <tr>\n",
       "      <th>0</th>\n",
       "      <td>H</td>\n",
       "      <td>4.21</td>\n",
       "      <td>9.95</td>\n",
       "    </tr>\n",
       "    <tr>\n",
       "      <th>1</th>\n",
       "      <td>m-Br</td>\n",
       "      <td>3.81</td>\n",
       "      <td>9.11</td>\n",
       "    </tr>\n",
       "    <tr>\n",
       "      <th>2</th>\n",
       "      <td>m-CH3</td>\n",
       "      <td>4.24</td>\n",
       "      <td>10.08</td>\n",
       "    </tr>\n",
       "    <tr>\n",
       "      <th>3</th>\n",
       "      <td>m-CH3O</td>\n",
       "      <td>4.09</td>\n",
       "      <td>9.65</td>\n",
       "    </tr>\n",
       "    <tr>\n",
       "      <th>4</th>\n",
       "      <td>m-Cl</td>\n",
       "      <td>3.83</td>\n",
       "      <td>9.02</td>\n",
       "    </tr>\n",
       "    <tr>\n",
       "      <th>5</th>\n",
       "      <td>m-CN</td>\n",
       "      <td>3.60</td>\n",
       "      <td>8.61</td>\n",
       "    </tr>\n",
       "    <tr>\n",
       "      <th>6</th>\n",
       "      <td>m-F</td>\n",
       "      <td>3.87</td>\n",
       "      <td>9.28</td>\n",
       "    </tr>\n",
       "    <tr>\n",
       "      <th>7</th>\n",
       "      <td>m-NO2</td>\n",
       "      <td>3.45</td>\n",
       "      <td>8.35</td>\n",
       "    </tr>\n",
       "    <tr>\n",
       "      <th>8</th>\n",
       "      <td>p-Br</td>\n",
       "      <td>4.00</td>\n",
       "      <td>9.34</td>\n",
       "    </tr>\n",
       "    <tr>\n",
       "      <th>9</th>\n",
       "      <td>p-CH3</td>\n",
       "      <td>4.34</td>\n",
       "      <td>10.19</td>\n",
       "    </tr>\n",
       "    <tr>\n",
       "      <th>10</th>\n",
       "      <td>p-CH3O</td>\n",
       "      <td>4.47</td>\n",
       "      <td>10.20</td>\n",
       "    </tr>\n",
       "    <tr>\n",
       "      <th>11</th>\n",
       "      <td>p-Cl</td>\n",
       "      <td>3.99</td>\n",
       "      <td>9.38</td>\n",
       "    </tr>\n",
       "    <tr>\n",
       "      <th>12</th>\n",
       "      <td>p-CN</td>\n",
       "      <td>3.55</td>\n",
       "      <td>7.95</td>\n",
       "    </tr>\n",
       "    <tr>\n",
       "      <th>13</th>\n",
       "      <td>p-F</td>\n",
       "      <td>4.14</td>\n",
       "      <td>9.95</td>\n",
       "    </tr>\n",
       "    <tr>\n",
       "      <th>14</th>\n",
       "      <td>p-NO2</td>\n",
       "      <td>3.44</td>\n",
       "      <td>7.14</td>\n",
       "    </tr>\n",
       "  </tbody>\n",
       "</table>\n",
       "</div>"
      ],
      "text/plain": [
       "   Substituent  PhCOOH  Phenol\n",
       "0            H    4.21    9.95\n",
       "1         m-Br    3.81    9.11\n",
       "2        m-CH3    4.24   10.08\n",
       "3       m-CH3O    4.09    9.65\n",
       "4         m-Cl    3.83    9.02\n",
       "5         m-CN    3.60    8.61\n",
       "6          m-F    3.87    9.28\n",
       "7        m-NO2    3.45    8.35\n",
       "8         p-Br    4.00    9.34\n",
       "9        p-CH3    4.34   10.19\n",
       "10      p-CH3O    4.47   10.20\n",
       "11        p-Cl    3.99    9.38\n",
       "12        p-CN    3.55    7.95\n",
       "13         p-F    4.14    9.95\n",
       "14       p-NO2    3.44    7.14"
      ]
     },
     "metadata": {},
     "output_type": "display_data"
    }
   ],
   "source": [
    "### Note: lines that begin with the \"#\" symbol are comments\n",
    "\n",
    "### Set the name and location of the data file. This might be the only thing you ever need to change in a notebook\n",
    "\n",
    "file_path = \"\"\n",
    "file_name = \"Correlation.csv\"  \n",
    "\n",
    "### import the function libraries and sublibraries that we will be using.\n",
    "\n",
    "import pandas as pd\n",
    "import numpy as np\n",
    "import matplotlib.pyplot as plt\n",
    "import scipy.optimize as opt      # load the optimize sublibrary from scipy\n",
    "import scipy.stats as stats       # load the stats sublibrary from scipy\n",
    "\n",
    "############################\n",
    "### Set global variables ###\n",
    "############################\n",
    "\n",
    "data_path = \"https://raw.githubusercontent.com/blinkletter/4410PythonNotebooks/main/Class_08/data/\"\n",
    "image_path = \"https://raw.githubusercontent.com/blinkletter/4410PythonNotebooks/main/Class_08/images/\"\n",
    "\n",
    "github_data_location = \"https://raw.githubusercontent.com/blinkletter/LFER-QSAR/main/data/\"\n",
    "github_styles_location = \"https://raw.githubusercontent.com/blinkletter/LFER-QSAR/main/styles/\"\n",
    "\n",
    "#################################\n",
    "### Read and display data set ###\n",
    "#################################\n",
    "\n",
    "### read in the selcted data file as a dataframe named \"df\"\n",
    "\n",
    "df = pd.read_csv(data_path+file_name, skipinitialspace=True) \n",
    "\n",
    "display(df)"
   ]
  },
  {
   "cell_type": "code",
   "execution_count": 17,
   "id": "3514869a",
   "metadata": {},
   "outputs": [
    {
     "data": {
      "image/png": "[encoded data removed]",
      "text/plain": [
       "<Figure size 432x288 with 1 Axes>"
      ]
     },
     "metadata": {
      "needs_background": "light"
     },
     "output_type": "display_data"
    }
   ],
   "source": [
    "### select data for the x,y plot\n",
    "### This is another place where you may need to make changes in notebooks.\n",
    "### Not all data sets have the same column labels.\n",
    "\n",
    "y = df['Phenol']\n",
    "x = df['PhCOOH']\n",
    "\n",
    "### plot the x-y data using a \"circle\" symbol\n",
    "### Try \".\", \"^\", \"s\", \"D\", \"*\" and \"x\" for fun \n",
    "\n",
    "plt.plot(x,y,\"o\")\n",
    "plt.show()"
   ]
  },
  {
   "cell_type": "markdown",
   "id": "6ac364ac",
   "metadata": {},
   "source": [
    "## Step 4: Investigate the Data\n",
    "\n",
    "There was a general correlation in the plot above. There were some outliers at the lower left corner.  I looked into them and observed that they were para-substituents that were resonance electron acceptors. I decided to plot the para substituents separately from the meta substituents. See the plot below. the meta substituents displayed a very strong correlation.  the para substituents showed a correlation, just not as good. Do para substituents have a different effect in some cases? Yes, they do. Compare resonace electron sharing of the negative charge for the anions of nitrobenzoate and nitrophenoxide. "
   ]
  },
  {
   "cell_type": "code",
   "execution_count": 18,
   "id": "a39962a6",
   "metadata": {},
   "outputs": [
    {
     "data": {
      "image/png": "[encoded data removed]",
      "text/plain": [
       "<Figure size 432x288 with 1 Axes>"
      ]
     },
     "metadata": {
      "needs_background": "light"
     },
     "output_type": "display_data"
    }
   ],
   "source": [
    "### The para-substituents are in positions 8 to 14 in the data list\n",
    "### Python addresses arrays by slicing before the positions selected.\n",
    "### e.g.: ...5 6 7 | 8 9 10 11 12 13 14 | 15\n",
    "### To get data at positions 8 through 14 we slice at 8 and 15. (You'll get used to it).\n",
    "\n",
    "y = df[8:15]['Phenol']  \n",
    "x = df[8:15]['PhCOOH']\n",
    "\n",
    "### plot the x-y data using an \"x\" symbol\n",
    "\n",
    "plt.plot(x,y,\"x\")  \n",
    "\n",
    "### The meta substituents are in positions 0 through 7.\n",
    "### So address these positions as slices before position 0 and 8\n",
    "### e.g. | 0 1 2 3 4 5 6 7 | 8 9...\n",
    "\n",
    "y = df[0:8]['Phenol']\n",
    "x = df[0:8]['PhCOOH']\n",
    "\n",
    "### plot the x-y data using a \"circle\" symbol\n",
    " \n",
    "plt.plot(x,y,\"o\")  \n",
    "\n",
    "### write the plot out as an image. Delete the comment \"#\" to use the command.\n",
    "\n",
    "#plt.savefig(\"fig.pdf\") \n",
    "\n",
    "### show the plot in this notebook and clear the figure\n",
    "\n",
    "plt.show() \n"
   ]
  },
  {
   "cell_type": "markdown",
   "id": "a9cf3e2d",
   "metadata": {},
   "source": [
    "## Step 5: Make it Fancy\n",
    "\n",
    "Why would you do this? The above plot is clear and professional in appearance and is good enough for any report that you may choose to use it in. \n",
    "\n",
    "However, if you have the time (and only if you have truely extra free time that you would either spend doomscrolling Hurricane disaster images or making fancy plots) then you may want to look at how some of my other notebooks styled the plots. The [Math With Python book](https://blinkletter.github.io/MathWithPython/) \\[via GitHub\\] is a good place to start."
   ]
  },
  {
   "cell_type": "code",
   "execution_count": null,
   "id": "f5fdd7fd",
   "metadata": {},
   "outputs": [],
   "source": []
  }
 ],
 "metadata": {
  "kernelspec": {
   "display_name": "Python 3 (ipykernel)",
   "language": "python",
   "name": "python3"
  },
  "language_info": {
   "codemirror_mode": {
    "name": "ipython",
    "version": 3
   },
   "file_extension": ".py",
   "mimetype": "text/x-python",
   "name": "python",
   "nbconvert_exporter": "python",
   "pygments_lexer": "ipython3",
   "version": "3.11.4"
  }
 },
 "nbformat": 4,
 "nbformat_minor": 5
}