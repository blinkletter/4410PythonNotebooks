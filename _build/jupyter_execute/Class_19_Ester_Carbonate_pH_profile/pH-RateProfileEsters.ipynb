{
 "cells": [
  {
   "cell_type": "markdown",
   "metadata": {},
   "source": [
    "# pH-rate Profile for Esters\n",
    "\n",
    "In wqater esters have three possible routes to hydrolysis. \n",
    "\n",
    "1. Water attacks the carbonyl group of the ester.\n",
    "2. Acid catalysis: Water attacks the protonated carbonyl group of the ester.\n",
    "3. Base catalysis: Hydroxide attacks the carbonyl group of the ester\n",
    "\n",
    "Let us explore analyzing data for ester hydrolysios\n",
    "\n",
    "This workbook contains the code and imports the data from multiple files and fits the data to the model..\n",
    "\n",
    "The data being plotted is from \"The Hydrolysis of Diclofenac Esters: Synthetic Prodrug Building Blocks for Biodegradable Drug–Polymer Conjugates.\" Feng Wang, Joshua Finnin et al., *J. Pharm. Sci.*, **2016**, *105*, 773-785.  https://doi.org/10.1002/jps.24665\n",
    "\n",
    "The data is found in tables within the supplementary material at https://ars.els-cdn.com/content/image/1-s2.0-S0022354915001550-mmc1.docx\n"
   ]
  },
  {
   "cell_type": "markdown",
   "metadata": {},
   "source": [
    "## Setup Tools and Read Data Table\n",
    "\n",
    "Here the data table is read in and processed. Also the libraries are imported and any functions defined"
   ]
  },
  {
   "cell_type": "code",
   "execution_count": 2,
   "metadata": {},
   "outputs": [],
   "source": [
    "### SETUP\n",
    "\n",
    "!pip install uncertainties\n",
    "!pip install lmfit\n",
    "!mkdir plots\n",
    "\n",
    "import pandas as pd\n",
    "import numpy as np\n",
    "import matplotlib.pyplot as plt\n",
    "\n",
    "import scipy.stats as stats\n",
    "from scipy.optimize import curve_fit\n",
    "\n",
    "import uncertainties as un\n",
    "from uncertainties import unumpy as unp\n",
    "\n",
    "import lmfit\n",
    "\n",
    "github_location = \"https://raw.githubusercontent.com/blinkletter/4410PythonNotebooks/main/Class_19/data/\"\n",
    "#github_location = \"data/\"\n",
    "github_location_styles = \"https://raw.githubusercontent.com/blinkletter/LFER-QSAR/main/styles/\"\n",
    "github_location_LFER_tables = \"https://raw.githubusercontent.com/blinkletter/LFER-QSAR/main/data/\"\n",
    "\n"
   ]
  },
  {
   "cell_type": "markdown",
   "metadata": {},
   "source": [
    "## Read Data\n",
    "\n",
    "Read the data in from the csv text file."
   ]
  },
  {
   "cell_type": "code",
   "execution_count": null,
   "metadata": {},
   "outputs": [],
   "source": [
    "### READ DATA\n",
    "\n",
    "data_file = \"3ab.csv\"\n",
    "data_file = \"3c.csv\"\n",
    "\n",
    "df = pd.read_csv(github_location + data_file, \n",
    "             delimiter = \",\", \n",
    "             skipinitialspace=True, \n",
    " #            index_col=\"pH\", \n",
    "             comment = \"#\") \n",
    "\n",
    "display(df)"
   ]
  },
  {
   "cell_type": "markdown",
   "metadata": {},
   "source": [
    "## Plot Data\n",
    "\n",
    "This code will quickly plot the data. We idenify the columns we want to use for $x$ and $y$ and then call the plot function."
   ]
  },
  {
   "cell_type": "code",
   "execution_count": null,
   "metadata": {},
   "outputs": [],
   "source": [
    "x = df[\"pH\"]\n",
    "y = np.log10(df[\"k1 (10-5 hr-1)\"] *1E-5)\n",
    "\n",
    "plt.plot(x,y, \"ko\")\n",
    "plt.show()\n"
   ]
  },
  {
   "cell_type": "markdown",
   "metadata": {},
   "source": [
    "## Fit To a Model\n",
    "\n",
    "Modify the code below to use a model and get best-fit parameters for your data."
   ]
  },
  {
   "cell_type": "code",
   "execution_count": null,
   "metadata": {},
   "outputs": [],
   "source": [
    "#######################################################\n",
    "### DEFINE FUNCTIONS FOR EACH MODEL\n",
    "#######################################################\n",
    "\n",
    "def line1(x, int):\n",
    "    ### slope set to -1. We are fitting only for the intercept.\n",
    "    y = x * -1 + int\n",
    "    return y\n",
    "\n",
    "def line2(x, int):\n",
    "    ### slope set to +1. We are fitting only for the intercept.\n",
    "    y = x * 1 + int\n",
    "    return y\n",
    "\n",
    "def model2(pH, kHKa, kOH):\n",
    "    ### Two parameter model for acid and base catalysis\n",
    "    H = 10**(-pH)\n",
    "    Kw = 10**-13.995\n",
    "    k1 = kHKa * H\n",
    "    k2 = kOH * Kw/H\n",
    "    kobs = k1 + k2\n",
    "    return np.log10(kobs)\n",
    "     \n",
    "def model3(pH, kHKa, kH2O, kOH):\n",
    "    ### Three parameter model for acid and base catalysis plus water rate\n",
    "    H = 10**(-pH)\n",
    "    Kw = 10**-13.995\n",
    "    k1 = kHKa * H\n",
    "    k2 = kOH * Kw/H\n",
    "    kobs = k1 + k2 + kH2O\n",
    "    return np.log10(kobs)\n",
    "\n",
    "#######################################################\n",
    "### PLOT DATA\n",
    "#######################################################\n",
    "x = df[\"pH\"]\n",
    "y = np.log10(df[\"k1 (10-5 hr-1)\"] *1E-5)\n",
    "plt.plot(x,y, \"ko\")\n",
    "\n",
    "#######################################################\n",
    "### FIT DATA TO MODEL\n",
    "#######################################################\n",
    "\n",
    "popt,pcov = curve_fit(model3, x, y)\n",
    "\n",
    "#######################################################\n",
    "### COLLECT RESULTS AND PRINT\n",
    "#######################################################\n",
    "\n",
    "popt_uncertain = un.correlated_values(popt,pcov)\n",
    "\n",
    "for p in popt_uncertain:    # print all results from curve fit\n",
    "    print(f\"{p:0.4f}\")\n",
    "\n",
    "#######################################################\n",
    "### Plot BEST FIT LINE\n",
    "#######################################################\n",
    "\n",
    "x1 = np.linspace(1,8,100)  # make 100 points between 1 and 8 for x-axis\n",
    "y1 = model3(x1, *popt)     # calculate y values for those 100 x values\n",
    "\n",
    "plt.plot(x1, y1)           # plot the calculated line\n",
    "plt.show()"
   ]
  }
 ],
 "metadata": {
  "kernelspec": {
   "display_name": "main",
   "language": "python",
   "name": "python3"
  },
  "language_info": {
   "codemirror_mode": {
    "name": "ipython",
    "version": 3
   },
   "file_extension": ".py",
   "mimetype": "text/x-python",
   "name": "python",
   "nbconvert_exporter": "python",
   "pygments_lexer": "ipython3",
   "version": "3.12.2"
  }
 },
 "nbformat": 4,
 "nbformat_minor": 2
}