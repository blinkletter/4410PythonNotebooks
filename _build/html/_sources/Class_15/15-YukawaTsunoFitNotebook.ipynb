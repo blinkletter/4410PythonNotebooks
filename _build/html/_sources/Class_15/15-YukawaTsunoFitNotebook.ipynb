{
 "cells": [
  {
   "cell_type": "markdown",
   "id": "6e075e43",
   "metadata": {},
   "source": [
    "# Yukawa-Tsuno Example\n",
    "Let us explore an example of Yukawa-Tsuno LFER plots using a literature example. This *Jupyter* notebook provides the calculations used in the discussion.  Let us see if we agree with the conclusions of the authors.\n",
    "\n",
    "\"Substituent Effects in the Acid-Catalyzed Hydrolysis of Cyclic Acetals of Benzophenones\",\n",
    "Ueno Shinya, Oshima Takumi, and Nagai Toshikazu,\n",
    "*Bulletin of the Chemical Society of Japan*, **1986**, *59*, 305-306 \n",
    "https://www.journal.csj.jp/doi/10.1246/bcsj.59.305"
   ]
  },
  {
   "cell_type": "markdown",
   "id": "540bcd69",
   "metadata": {},
   "source": [
    "## Setup Tools"
   ]
  },
  {
   "cell_type": "code",
   "execution_count": 9,
   "id": "dd9809c9",
   "metadata": {},
   "outputs": [],
   "source": [
    "import pandas as pd\n",
    "import numpy as np\n",
    "import matplotlib.pyplot as plt\n",
    "import scipy.stats as stats\n",
    "\n",
    "github_location = \"https://raw.githubusercontent.com/blinkletter/4410PythonNotebooks/main/Class_15/data/\"\n",
    "github_location_styles = \"https://raw.githubusercontent.com/blinkletter/LFER-QSAR/main/styles/\"\n",
    "github_location_LFER_tables = \"https://raw.githubusercontent.com/blinkletter/LFER-QSAR/main/data/\"\n",
    "\n",
    "sigmatype = \"s_plus\"          # sigmatype can be one of [\"sigma\", \"s_plus\", \"s_minus\"]\n",
    "\n",
    "\n",
    "#################################################################\n",
    "### a function to fill in sigma for empty spaces in s+ and s- ###\n",
    "#################################################################\n",
    "\n",
    "def fill_sigma(df):     \n",
    "    for z in df.index:\n",
    "        if np.isnan(df.loc[z,\"s_plus\"]):\n",
    "            df.loc[z,\"s_plus\"] = df.loc[z,\"sigma\"]\n",
    "        if np.isnan(df[\"s_minus\"][z]):\n",
    "            df.loc[z,\"s_minus\"] = df.loc[z,\"sigma\"]\n",
    "    return(df)"
   ]
  },
  {
   "cell_type": "markdown",
   "id": "cf18ee9c",
   "metadata": {},
   "source": [
    "## Read in Data Table\n",
    "here the data table for Hammett substitutent constants is read in and processed."
   ]
  },
  {
   "cell_type": "code",
   "execution_count": 10,
   "id": "6bead665",
   "metadata": {},
   "outputs": [],
   "source": [
    "### FIRST READ IN DATA TABLE OF SIGMA VALUES\n",
    "\n",
    "################################################################################\n",
    "### Read data set. The fields are separated by commas; comments are enabled  ###\n",
    "################################################################################\n",
    "\n",
    "LFER_file = \"LFER_HanschLeoTaft.csv\"\n",
    "\n",
    "df = pd.read_csv(github_location_LFER_tables + LFER_file, \n",
    "                 delimiter = \",\", \n",
    "                 skipinitialspace=True, \n",
    "                 index_col=\"Substituent\", \n",
    "                 comment = \"#\") \n",
    "\n",
    "########################################################\n",
    "### Fill across sigma values and select substituents ###\n",
    "########################################################\n",
    "\n",
    "data_set = fill_sigma(df)\n",
    "\n",
    "### Remove unneeded columns\n",
    "data_set.drop(labels = [\"TABLE V\", \"TABLE I\"], axis = 1, inplace = True)\n",
    "\n",
    "data_set.sort_values(by=['sigma'], inplace=True)\n",
    "\n",
    "#print(data_set)"
   ]
  },
  {
   "cell_type": "markdown",
   "id": "10c494c4",
   "metadata": {},
   "source": [
    "## Read Data\n",
    "Here the data from the publication is read in. It had been saved in a csv file."
   ]
  },
  {
   "cell_type": "code",
   "execution_count": 16,
   "id": "5140e985",
   "metadata": {},
   "outputs": [],
   "source": [
    "############################################\n",
    "### Read in data from literature example ###\n",
    "############################################\n",
    "\n",
    "df = pd.read_csv(github_location + \"NagaiData_YukawaTsuno.csv\", \n",
    "                 delimiter = \",\",\n",
    "                 skipinitialspace=True,\n",
    "                 index_col=\"Substituent\",\n",
    "                 comment = \"#\")\n",
    "#print(df)"
   ]
  },
  {
   "cell_type": "markdown",
   "id": "a1677306",
   "metadata": {},
   "source": [
    "## Process Data\n",
    "The calculations and cross refernces to build the final data table are made. The log of the rate constants are calculated abd the corresponding values for substituent constants are included from the Hammett data table."
   ]
  },
  {
   "cell_type": "code",
   "execution_count": 12,
   "id": "2b223b82",
   "metadata": {
    "scrolled": true
   },
   "outputs": [
    {
     "name": "stdout",
     "output_type": "stream",
     "text": [
      "             10^4*k_obs      logk  sigma  s_plus  s_minus\n",
      "Substituent                                              \n",
      "p-OCH3          51.0000 -2.292430  -0.27   -0.78    -0.26\n",
      "p-CH3           17.1000 -2.767004  -0.17   -0.31    -0.17\n",
      "m-CH3            6.9600 -3.157391  -0.07   -0.07    -0.07\n",
      "p-C6H5           4.9900 -3.301899  -0.01    0.02    -0.18\n",
      "H                1.3600 -3.866461   0.00    0.00     0.00\n",
      "p-Cl             1.1300 -3.946922   0.23    0.11     0.19\n",
      "m-Cl             0.3110 -4.507240   0.37    0.37     0.37\n",
      "m-NO2            0.0396 -5.402305   0.71    0.71     0.71\n"
     ]
    }
   ],
   "source": [
    "#################################################################\n",
    "### calculate log(k) and impoirt sigma values from data table ###\n",
    "#################################################################\n",
    "\n",
    "df[\"logk\"]=np.log10(df[\"10^4*k_obs\"]/10**4)\n",
    "\n",
    "df[\"sigma\"] =   data_set[\"sigma\"]\n",
    "df[\"s_plus\"] =  data_set[\"s_plus\"]\n",
    "df[\"s_minus\"] = data_set[\"s_minus\"]\n",
    "\n",
    "#df.dropna(inplace=True)\n",
    "print(df)"
   ]
  },
  {
   "cell_type": "markdown",
   "id": "a3657058",
   "metadata": {},
   "source": [
    "## Select Data Series for Plot\n",
    "below the x and y values to plot are selected. The x values are the Yukawa-Tsuno $\\sigma$ values using the optimized value for $r$ that is determined in the sections below. Also selected were alternate x values (x1 and x2) to plot the unaltered $\\sigma$ and $\\sigma^+$ values on the plot as well.\n",
    "\n",
    "The plotting code that follows was altered to add in the plots for the x1 and x2 series."
   ]
  },
  {
   "cell_type": "code",
   "execution_count": 13,
   "id": "a02fb1e7",
   "metadata": {},
   "outputs": [],
   "source": [
    "#####################################################\n",
    "### Get series of data to plot from the dataframe ###\n",
    "#####################################################\n",
    "\n",
    "\n",
    "x = df[\"sigma\"]+0.325*(df[\"s_plus\"]-df[\"sigma\"])\n",
    "y=  df[\"logk\"]\n",
    "\n",
    "x1 = df[\"s_plus\"]\n",
    "x2 = df[\"sigma\"]"
   ]
  },
  {
   "cell_type": "markdown",
   "id": "4a82e30d",
   "metadata": {},
   "source": [
    "## Plot Code\n",
    "Here is my standard plotting code. It was slightly altered to suit this situation."
   ]
  },
  {
   "cell_type": "code",
   "execution_count": 14,
   "id": "ad70531d",
   "metadata": {},
   "outputs": [
    {
     "data": {
      "image/png": "[encoded data removed]",
      "text/plain": [
       "<Figure size 500x400 with 1 Axes>"
      ]
     },
     "metadata": {},
     "output_type": "display_data"
    },
    {
     "name": "stdout",
     "output_type": "stream",
     "text": [
      "slope = -2.7602\n",
      "intercept = -3.466\n",
      "RSQ = 0.968935\n"
     ]
    }
   ],
   "source": [
    "import pandas as pd\n",
    "import numpy as np\n",
    "import matplotlib.pyplot as plt\n",
    "import scipy.stats as stats\n",
    "from scipy.stats import linregress\n",
    "\n",
    "\n",
    "##################################################\n",
    "### Setup a figure with two plots side-by-side ###\n",
    "### and choose a stylesheet                    ###\n",
    "##################################################\n",
    "\n",
    "\n",
    "style_file = \"tufte.mplstyle\"\n",
    "#style_file = \"S2_classic2.mplstyle\"\n",
    "plt.style.use(github_location_styles + style_file)        \n",
    "\n",
    "fig, ax = plt.subplots(nrows=1, ncols=1, figsize=(5,4))  \n",
    "ax.margins(x=.07, y=.07, tight=True)      # add 7% empty space around outside of plot area   \n",
    "\n",
    "\n",
    "#########################################\n",
    "### Plot the data and the line fit.   ###\n",
    "#########################################\n",
    "\n",
    "\n",
    "    \n",
    "#ax.plot(x, y, color='black', zorder=1, linewidth=0.7)\n",
    "\n",
    "ax.scatter(x,y, s=64, color=\"white\", zorder=3)\n",
    "ax.scatter(x,y, s=16, color=\"black\", zorder=3)\n",
    "\n",
    "ax.scatter(x1,y, s=64, marker=\"|\", color=\"white\", zorder=2)\n",
    "ax.scatter(x1,y, s=16, marker=\"|\", color=\"k\", zorder=3)\n",
    "\n",
    "ax.scatter(x2,y, s=64, marker=\"|\", color=\"white\", zorder=2)\n",
    "ax.scatter(x2,y, s=16, marker=\"|\", color=\"k\", zorder=3)\n",
    "\n",
    "\n",
    "if True:   # Flag to run or not. True = run this section, False = skip it\n",
    "    linfit = linregress(x,y)\n",
    "    fity = linfit.slope * x + linfit.intercept\n",
    "    ax.plot(x, fity, color='black', zorder=1, linewidth=0.7)\n",
    "\n",
    "    \n",
    "############################\n",
    "### Set labels and scale ###\n",
    "############################\n",
    "\n",
    "ax.set(ylabel=r\"$\\log{k_{obs}}$\", \n",
    "       xlabel=r\"$\\sigma~+ r\\cdot\\left(\\sigma^+-\\sigma \\right)$\")\n",
    "\n",
    "\n",
    "############################\n",
    "### Print labels on plot ###\n",
    "############################\n",
    "\n",
    "if False:      # Change to True to add annotations to the plot \n",
    "   names = list(df.index)\n",
    "   for name,x_loc,y_loc in zip(names,x,y):\n",
    "       plt.annotate(name,                    # this is the text for each label\n",
    "                 (x_loc,y_loc),              # these are the coordinates to position the label\n",
    "                 textcoords=\"offset points\", # how to position the text\n",
    "                 xytext=(0,-20),             # distance from text to points (x,y)\n",
    "                 ha='left')                  # horizontal alignment can be left, right or center\n",
    "\n",
    "\n",
    "#############################\n",
    "### Output the final plot ###\n",
    "#############################\n",
    "\n",
    "#fig.savefig(\"plot.pdf\")   # use this to save the figure in PDF format\n",
    "plt.show()                 # output the combined plot plots\n",
    "\n",
    "\n",
    "#####################################\n",
    "### Print the line fit parameters ###\n",
    "#####################################\n",
    "\n",
    "if True:         # Change to True to print a linear line fit results\n",
    "    print(f\"slope = {linfit.slope:0.4f}\")\n",
    "    print(f\"intercept = {linfit.intercept:0.3f}\")\n",
    "    print(f\"RSQ = {(linfit.rvalue**2):0.6f}\")\n"
   ]
  },
  {
   "cell_type": "markdown",
   "id": "dc8d07d5",
   "metadata": {},
   "source": [
    "## Optimize the Yukawa-Tsuno $r$ Value\n",
    "The r value can be optimized by minimizing for the line fit RSQ value. the `scipy.optimize.minimize_scalar` function was used. For simple functions it should work well. I also plotted the RSQ value as r was varied to make sure that the answer made sense. It is observed that the Yukawa-Tsuno $r$-value that resulted in the best line fit was $0.325$. When that value is used, the curve fit has a RSQ value of 0.969 and a slope of $-2.8$.  The authors obtained values of $r=0.385$ with a slope of $-2.9$. They very likely used slightly different $\\sigma$ values in their calculations"
   ]
  },
  {
   "cell_type": "code",
   "execution_count": 15,
   "id": "8db20805",
   "metadata": {
    "scrolled": false
   },
   "outputs": [
    {
     "data": {
      "image/png": "[encoded data removed]",
      "text/plain": [
       "<Figure size 400x300 with 1 Axes>"
      ]
     },
     "metadata": {},
     "output_type": "display_data"
    },
    {
     "name": "stdout",
     "output_type": "stream",
     "text": [
      "The optimal value for r is 0.325 for rsq = -0.96893\n"
     ]
    }
   ],
   "source": [
    "from scipy.optimize import minimize_scalar\n",
    "\n",
    "def RSQ_function(r):    # returns the RSQ for linefits using the given Yukawa-Tsuno r factor\n",
    "    x = df[\"sigma\"]+r*(df[\"s_plus\"]-df[\"sigma\"])\n",
    "    linfit = linregress(x,y)\n",
    "    return -(linfit.rvalue**2)\n",
    "\n",
    "\n",
    "##########################################################\n",
    "### Plot the value of -RSQ as the value of r is varied ###\n",
    "##################################################\n",
    "\n",
    "style_file = \"tufte.mplstyle\"\n",
    "#style_file = \"S2_classic2.mplstyle\"\n",
    "plt.style.use(github_location_styles + style_file)        \n",
    "\n",
    "fig, ax = plt.subplots(nrows=1, ncols=1, figsize=(4,3))  \n",
    "ax.margins(x=.07, y=.07, tight=True)      # add 7% empty space around outside of plot area   \n",
    "ax.set(ylabel=r\"$-r^2$\", \n",
    "       xlabel=r\"Yukawa-Tsuno $r$ value\")\n",
    "\n",
    "rsq_range=[]\n",
    "r_range = np.arange(0,1,0.01)\n",
    "for r in r_range:\n",
    "    rsq = RSQ_function(r)\n",
    "    rsq_range.append(rsq)\n",
    "    \n",
    "ax.plot(r_range,rsq_range)\n",
    "\n",
    "#fig.savefig(\"plot.pdf\")   # use this to save the figure in PDF format\n",
    "plt.show()\n",
    "\n",
    "##################################################\n",
    "### Determine optimal r value to minimize -RSQ ###\n",
    "##################################################\n",
    "\n",
    "r_opt = minimize_scalar(RSQ_function)\n",
    "print(f\"The optimal value for r is {r_opt['x']:0.3f} for rsq = {r_opt['fun']:0.5f}\")\n"
   ]
  },
  {
   "cell_type": "markdown",
   "id": "75186b38",
   "metadata": {},
   "source": [
    "## A Note on Documentation\n",
    "I hope that you can observe how the optimization was performed to minimize the RSQ as we varied the YK $r$-value. Minimizing RSQ may not be the best way to do this. Perhaps there are better ways. But at least you can see EXACTLY what I did.\n",
    "\n",
    "Note that the authors of the paper do not list the exact $\\sigma$ values they used for their plots. Nor is there a refernce to a source. I assume they used the standard Hammett and Brown-Okamoto values available at the time. There is also NO INFORMATION on the method used to obtain the optimal $r$-value. Did they use a minimization method targetting the RSQ value? Did they use another statistical score for quality-of-fit as the target? There is no supplemental information archived with the paper so we can only trust the authors analysis.\n",
    "\n",
    "Or we can repeat the anaysis using their data and document the process in a Jupyter notebook. Now everyone can see every step that was taken and evaluate the conclusions properly. It may not be the way the authors performed the analysis but it was my way."
   ]
  },
  {
   "cell_type": "code",
   "execution_count": null,
   "id": "2d2b7dc0",
   "metadata": {},
   "outputs": [],
   "source": []
  }
 ],
 "metadata": {
  "kernelspec": {
   "display_name": "Python 3 (ipykernel)",
   "language": "python",
   "name": "python3"
  },
  "language_info": {
   "codemirror_mode": {
    "name": "ipython",
    "version": 3
   },
   "file_extension": ".py",
   "mimetype": "text/x-python",
   "name": "python",
   "nbconvert_exporter": "python",
   "pygments_lexer": "ipython3",
   "version": "3.11.4"
  }
 },
 "nbformat": 4,
 "nbformat_minor": 5
}
