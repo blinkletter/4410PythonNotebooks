{
 "cells": [
  {
   "cell_type": "markdown",
   "id": "1c9e0986",
   "metadata": {},
   "source": [
    "# Chapter 5, Question 13\n",
    "\n",
    "In chapter 5, question 13 asks about correlating the $pK_a$ values of a series of related compounds between water and acetonitrile. The exercise in answering question 13 is exactly what you will be doing when you use similar data in your assignment. Let us make a plot and see if it correlates.\n",
    "\n",
    "<img src=\"images/Ch5Problem13.png\" width=200 class=center />\n"
   ]
  },
  {
   "cell_type": "markdown",
   "id": "7a130e5c",
   "metadata": {},
   "source": [
    "## Step 1: Enter the Data\n",
    "\n",
    "Here I will directly enter the data in this notebook.  I will first create an array of arrays (a matrix) and then convert that to a *Pandas* dataframe.\n",
    "\n"
   ]
  },
  {
   "cell_type": "code",
   "execution_count": 1,
   "id": "fad4bedd",
   "metadata": {},
   "outputs": [],
   "source": [
    "import pandas as pd\n",
    "import numpy as np\n",
    "import matplotlib.pyplot as plt\n",
    "import scipy.optimize as opt      # load the optimize sublibrary from scipy\n",
    "import scipy.stats as stats       # load the stats sublibrary from scipy\n",
    "\n",
    "\n",
    "############################\n",
    "### Set global variables ###\n",
    "############################\n",
    "\n",
    "github_data_location = \"https://github.com/blinkletter/LFER-QSAR/blob/main/data/\"\n",
    "github_styles_location = \"https://github.com/blinkletter/LFER-QSAR/blob/main/styles/\"\n",
    "github_download = \"?raw=True\"\n",
    "\n"
   ]
  },
  {
   "cell_type": "code",
   "execution_count": 2,
   "metadata": {},
   "outputs": [
    {
     "data": {
      "text/plain": [
       "[['H', 20.6, 12.2],\n",
       " ['NO2', 17.8, 9.8],\n",
       " ['CN', 18.4, 10.9],\n",
       " ['CF3', 19.0, 11.4],\n",
       " ['Cl', 19.7, 11.7],\n",
       " ['Br', 19.6, 11.6],\n",
       " ['CH3', 20.9, 12.4],\n",
       " ['OCH3', 21.0, 12.6]]"
      ]
     },
     "metadata": {},
     "output_type": "display_data"
    },
    {
     "data": {
      "text/html": [
       "<div>\n",
       "<style scoped>\n",
       "    .dataframe tbody tr th:only-of-type {\n",
       "        vertical-align: middle;\n",
       "    }\n",
       "\n",
       "    .dataframe tbody tr th {\n",
       "        vertical-align: top;\n",
       "    }\n",
       "\n",
       "    .dataframe thead th {\n",
       "        text-align: right;\n",
       "    }\n",
       "</style>\n",
       "<table border=\"1\" class=\"dataframe\">\n",
       "  <thead>\n",
       "    <tr style=\"text-align: right;\">\n",
       "      <th></th>\n",
       "      <th>Acetonitrile</th>\n",
       "      <th>Water</th>\n",
       "    </tr>\n",
       "    <tr>\n",
       "      <th>Substituent</th>\n",
       "      <th></th>\n",
       "      <th></th>\n",
       "    </tr>\n",
       "  </thead>\n",
       "  <tbody>\n",
       "    <tr>\n",
       "      <th>H</th>\n",
       "      <td>20.6</td>\n",
       "      <td>12.2</td>\n",
       "    </tr>\n",
       "    <tr>\n",
       "      <th>NO2</th>\n",
       "      <td>17.8</td>\n",
       "      <td>9.8</td>\n",
       "    </tr>\n",
       "    <tr>\n",
       "      <th>CN</th>\n",
       "      <td>18.4</td>\n",
       "      <td>10.9</td>\n",
       "    </tr>\n",
       "    <tr>\n",
       "      <th>CF3</th>\n",
       "      <td>19.0</td>\n",
       "      <td>11.4</td>\n",
       "    </tr>\n",
       "    <tr>\n",
       "      <th>Cl</th>\n",
       "      <td>19.7</td>\n",
       "      <td>11.7</td>\n",
       "    </tr>\n",
       "    <tr>\n",
       "      <th>Br</th>\n",
       "      <td>19.6</td>\n",
       "      <td>11.6</td>\n",
       "    </tr>\n",
       "    <tr>\n",
       "      <th>CH3</th>\n",
       "      <td>20.9</td>\n",
       "      <td>12.4</td>\n",
       "    </tr>\n",
       "    <tr>\n",
       "      <th>OCH3</th>\n",
       "      <td>21.0</td>\n",
       "      <td>12.6</td>\n",
       "    </tr>\n",
       "  </tbody>\n",
       "</table>\n",
       "</div>"
      ],
      "text/plain": [
       "             Acetonitrile  Water\n",
       "Substituent                     \n",
       "H                    20.6   12.2\n",
       "NO2                  17.8    9.8\n",
       "CN                   18.4   10.9\n",
       "CF3                  19.0   11.4\n",
       "Cl                   19.7   11.7\n",
       "Br                   19.6   11.6\n",
       "CH3                  20.9   12.4\n",
       "OCH3                 21.0   12.6"
      ]
     },
     "metadata": {},
     "output_type": "display_data"
    }
   ],
   "source": [
    "### We have seen data read in from files. Here we are entering it \n",
    "### directly in the code as an array of arrays (a matrix)\n",
    "### and then we convert the matrix to a dataframe\n",
    "\n",
    "data =[\n",
    "       [\"H\",    20.6, 12.2],\n",
    "       [\"NO2\",  17.8,  9.8],\n",
    "       [\"CN\",   18.4, 10.9],\n",
    "       [\"CF3\",  19.0, 11.4],\n",
    "       [\"Cl\",   19.7, 11.7],\n",
    "       [\"Br\",   19.6, 11.6],\n",
    "       [\"CH3\",  20.9, 12.4],\n",
    "       [\"OCH3\", 21.0, 12.6]\n",
    "      ]\n",
    "display(data)   # display the matrix\n",
    "\n",
    "### The code below converts the matrix to a dataframe and assigns\n",
    "### column names to the dataframe.\n",
    "\n",
    "df = pd.DataFrame(data, columns = ['Substituent','Acetonitrile','Water'])\n",
    "df.set_index(\"Substituent\", inplace = True)\n",
    "\n",
    "display(df)    # display the dataframe with its column labels\n"
   ]
  },
  {
   "cell_type": "markdown",
   "id": "79b63643",
   "metadata": {},
   "source": [
    "## Step 2: Visualize the Data\n",
    "I will run a quick plot to visualize the data. There is a trend but is one point a little off the line?\n",
    "\n",
    "**Note**: The code below demonstrates a simple plot.  I schose a set of x and y values and then plotted them.  that is all."
   ]
  },
  {
   "cell_type": "code",
   "execution_count": 3,
   "id": "f7320d86",
   "metadata": {},
   "outputs": [
    {
     "data": {
      "image/png": "[encoded data removed]",
      "text/plain": [
       "<Figure size 640x480 with 1 Axes>"
      ]
     },
     "metadata": {},
     "output_type": "display_data"
    }
   ],
   "source": [
    "x = df[\"Acetonitrile\"]\n",
    "y = df[\"Water\"]\n",
    "\n",
    "\n",
    "plt.plot(x,y, \"ko\")  # k = black, o = circle\n",
    "plt.show()"
   ]
  },
  {
   "cell_type": "markdown",
   "id": "ff365df5",
   "metadata": {},
   "source": [
    "## Step 3: Making the Plot Informative\n",
    "\n",
    "Lets do some formatting, add axis titles and display a line fit.\n",
    "\n",
    "I openned up the book for Python in Chemistry on the moodle site and plagiarized it mercilessly. Cut and paste is your friend, but only in computer science.\n",
    "\n",
    "**Note**: the code below demonstrates a plot with styles and other features of tge MatPlotLib package. I set axis titles, a title for the plot, styled the plot with a grid and lots more. You can examine it and steal what you find useful."
   ]
  },
  {
   "cell_type": "code",
   "execution_count": 4,
   "id": "b12ccf4a",
   "metadata": {},
   "outputs": [
    {
     "data": {
      "image/png": "[encoded data removed]",
      "text/plain": [
       "<Figure size 400x320 with 1 Axes>"
      ]
     },
     "metadata": {},
     "output_type": "display_data"
    }
   ],
   "source": [
    "x = df[:][\"Acetonitrile\"]\n",
    "y = df[:][\"Water\"]\n",
    "\n",
    "### select a style file for the plot\n",
    "\n",
    "style = \"S2_classic2.mplstyle\"\n",
    "style_file_path = github_styles_location + style + github_download\n",
    "\n",
    "### Apply the style file. This is one way to be the same kind of fancy every time.\n",
    "\n",
    "plt.style.use(style_file_path)        \n",
    "\n",
    "### Create a blank figure (the space for plots) and an empty plot (fig = the figure space, ax = the plot (in python, plots are called axes))\n",
    "\n",
    "fig, ax = plt.subplots(nrows=1, ncols=1, figsize=(5,4))  \n",
    "\n",
    "### Set the titles and ranges for the x and y axis in the plot. We are modifying properties of the \"ax\" object here\n",
    "\n",
    "ax.set(title=r\"Correlation of $pK_a$ valies in Acetonitrile vs. Water\",       \n",
    "       xlabel=r\"$pK_a$ in Acetonitrile\", \n",
    "       ylabel=\"$pK_a$ in Water\",                \n",
    "       xlim=[17,21.5],                  \n",
    "       ylim=[9.5,13]\n",
    "      )                   \n",
    "\n",
    "fit = stats.linregress(x, y)             # use linear regression to fit the data\n",
    "\n",
    "### Extract stat parameters from the \"fit\" object\n",
    "slope = fit.slope\n",
    "slope_stderr = fit.stderr\n",
    "intercept = fit.intercept\n",
    "int_stderr = fit.intercept_stderr\n",
    "r = fit.rvalue\n",
    "rsq = r**2\n",
    "\n",
    "y_calc = slope * x + intercept           # calculate y-values based on the curve fit parameters\n",
    "plt.plot(x, y_calc, \"-\")                 # plot the line for the curve fit parameters\n",
    "\n",
    "ax.plot(x,y,\"o\")                         # now plot the data points. This way the points are on top of the line.\n",
    "\n",
    "#fig.savefig(\"plot.pdf\")     # Uncomment to create a PDF file of the plot\n",
    "plt.show()\n",
    "\n"
   ]
  },
  {
   "cell_type": "markdown",
   "id": "b171747f",
   "metadata": {},
   "source": [
    "## Step 4: Make a Point\n",
    "\n",
    "The left-most data point does indeed appear to be off the line. I will curve fit the data without this point and plot the line. Then I will plot all the data over that, including the point that was not included in the line fit. This will highlight my hypothesis that there is a correlation and only one point is not fitting well. We can then investigate that one point further.\n",
    "\n",
    "**Note**: The code below uses the same styled plot as above and I added a little bit of code that add a string of text next to each data point.  the text chosen was the lav]bel in the 'Substituent' column (which is the index column for both the x and y data series)"
   ]
  },
  {
   "cell_type": "code",
   "execution_count": 8,
   "id": "39eb4bbb",
   "metadata": {},
   "outputs": [
    {
     "data": {
      "text/html": [
       "<div>\n",
       "<style scoped>\n",
       "    .dataframe tbody tr th:only-of-type {\n",
       "        vertical-align: middle;\n",
       "    }\n",
       "\n",
       "    .dataframe tbody tr th {\n",
       "        vertical-align: top;\n",
       "    }\n",
       "\n",
       "    .dataframe thead th {\n",
       "        text-align: right;\n",
       "    }\n",
       "</style>\n",
       "<table border=\"1\" class=\"dataframe\">\n",
       "  <thead>\n",
       "    <tr style=\"text-align: right;\">\n",
       "      <th></th>\n",
       "      <th>Acetonitrile</th>\n",
       "      <th>Water</th>\n",
       "    </tr>\n",
       "    <tr>\n",
       "      <th>Substituent</th>\n",
       "      <th></th>\n",
       "      <th></th>\n",
       "    </tr>\n",
       "  </thead>\n",
       "  <tbody>\n",
       "    <tr>\n",
       "      <th>H</th>\n",
       "      <td>20.6</td>\n",
       "      <td>12.2</td>\n",
       "    </tr>\n",
       "    <tr>\n",
       "      <th>CN</th>\n",
       "      <td>18.4</td>\n",
       "      <td>10.9</td>\n",
       "    </tr>\n",
       "    <tr>\n",
       "      <th>CF3</th>\n",
       "      <td>19.0</td>\n",
       "      <td>11.4</td>\n",
       "    </tr>\n",
       "    <tr>\n",
       "      <th>Cl</th>\n",
       "      <td>19.7</td>\n",
       "      <td>11.7</td>\n",
       "    </tr>\n",
       "    <tr>\n",
       "      <th>Br</th>\n",
       "      <td>19.6</td>\n",
       "      <td>11.6</td>\n",
       "    </tr>\n",
       "    <tr>\n",
       "      <th>CH3</th>\n",
       "      <td>20.9</td>\n",
       "      <td>12.4</td>\n",
       "    </tr>\n",
       "    <tr>\n",
       "      <th>OCH3</th>\n",
       "      <td>21.0</td>\n",
       "      <td>12.6</td>\n",
       "    </tr>\n",
       "  </tbody>\n",
       "</table>\n",
       "</div>"
      ],
      "text/plain": [
       "             Acetonitrile  Water\n",
       "Substituent                     \n",
       "H                    20.6   12.2\n",
       "CN                   18.4   10.9\n",
       "CF3                  19.0   11.4\n",
       "Cl                   19.7   11.7\n",
       "Br                   19.6   11.6\n",
       "CH3                  20.9   12.4\n",
       "OCH3                 21.0   12.6"
      ]
     },
     "metadata": {},
     "output_type": "display_data"
    },
    {
     "data": {
      "image/png": "[encoded data removed]",
      "text/plain": [
       "<Figure size 400x320 with 1 Axes>"
      ]
     },
     "metadata": {},
     "output_type": "display_data"
    }
   ],
   "source": [
    "### x,y data from dataframe\n",
    "y = df[\"Water\"]\n",
    "x = df[\"Acetonitrile\"]\n",
    "\n",
    "### an edited set of x,y data without the outlier point.\n",
    "\n",
    "df_edited = df.drop(labels=[\"NO2\"], axis = 0)   # I inspected the dataframe and saw that the \"NO2\" row was the outlier\n",
    "display(df_edited)\n",
    "\n",
    "y_edited = df_edited[\"Water\"]\n",
    "x_edited = df_edited[\"Acetonitrile\"]\n",
    "\n",
    "\n",
    "fig, ax = plt.subplots(nrows=1, ncols=1, figsize=(5,4))  \n",
    "\n",
    "### Linear fit of edited data\n",
    "fit = stats.linregress(x_edited, y_edited)   # use linear regression to fit the data\n",
    "\n",
    "### Extract stat parameters from the \"fit\" object\n",
    "slope = fit.slope\n",
    "slope_stderr = fit.stderr\n",
    "intercept = fit.intercept\n",
    "int_stderr = fit.intercept_stderr\n",
    "r = fit.rvalue\n",
    "rsq = r**2\n",
    "\n",
    "### Plot a line using the linear fit parameters for edited data\n",
    "y_calc = slope * x + intercept           # calculate y-values based on the curve fit parameters\n",
    "plt.plot(x, y_calc, \"k-\")                # plot the line for the curve fit parameters\n",
    "\n",
    "### Plot the original data\n",
    "ax.plot(x,y,\"o\")\n",
    "\n",
    "### For each data point, add the text label in the substituent column\n",
    "for a in range(len(x)):\n",
    "    plt.text(x[a]+.1, y[a]-.3, df.index[a], fontsize=10)\n",
    "\n",
    "### Add titles and size the plot\n",
    "    ax.set(title=r\"Correlation of $pK_a$ values in Acetonitrile vs. Water\",       \n",
    "       xlabel=r\"$pK_a$ in Acetonitrile\", \n",
    "       ylabel=\"$pK_a$ in Water\",                \n",
    "       ylim=[9,13],                  \n",
    "       xlim=[17.5,21.5]\n",
    "      )                   \n",
    "\n",
    "### display the plot figure    \n",
    "#plt.savefig(\"plot.pdf\")\n",
    "plt.show()\n",
    "\n",
    "\n"
   ]
  },
  {
   "cell_type": "markdown",
   "id": "677a8fc4",
   "metadata": {},
   "source": [
    "## Step 5. Explaining Observations\n",
    "\n",
    "In general we see that substituents that we know are electron-withrawing result in more acidic molecules in this case. Electron-withdrawing groups will destabilize the positive charge formed when the molecule is protonated. The effect is greater in acetonitrile where the positive charge is already less stabilized than in the case of water. The $\\Delta pK_a$ from cyano to methoxy is 2.5 in acetonitrile and only 1.7 in water. (this may not sound like much but is representas almost a 10-fold difference in $K_a$ values)\n",
    "\n",
    "The nitro group is a powerful electron acceptor and the para position allows it to accept electrons by resonance. Because it can establish a resonance connection all the way through to the nitrogens of the guanidinium group, it is much more effective at withdrawing electrons than groups that cannot use resonance. For example, CF$_3$, Br and Cl are electron-withdrawing but do not have the extra power of resonance. \n",
    "\n",
    "<img src=\"images/Question13Scheme.png\" width=400 class=center />\n",
    "\n",
    "This resonance effect is stronger in water because the more polar nature of water allows for more of the resonance contributor with split charges to exist. In acetonitrile the resonance effect is not as large because the electron sharing creates more charges and so is disfavoured in less polar solvents."
   ]
  },
  {
   "cell_type": "markdown",
   "id": "06158668",
   "metadata": {},
   "source": []
  }
 ],
 "metadata": {
  "kernelspec": {
   "display_name": "Python 3 (ipykernel)",
   "language": "python",
   "name": "python3"
  },
  "language_info": {
   "codemirror_mode": {
    "name": "ipython",
    "version": 3
   },
   "file_extension": ".py",
   "mimetype": "text/x-python",
   "name": "python",
   "nbconvert_exporter": "python",
   "pygments_lexer": "ipython3",
   "version": "3.11.4"
  }
 },
 "nbformat": 4,
 "nbformat_minor": 5
}
