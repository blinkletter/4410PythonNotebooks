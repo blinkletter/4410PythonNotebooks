{
 "cells": [
  {
   "cell_type": "markdown",
   "metadata": {},
   "source": [
    "# pH-rate Profile for Esters\n",
    "\n",
    "In wqater esters have three possible routes to hydrolysis. \n",
    "\n",
    "1. Water attacks the carbonyl group of the ester.\n",
    "2. Acid catalysis: Water attacks the protonated carbonyl group of the ester.\n",
    "3. Base catalysis: Hydroxide attacks the carbonyl group of the ester\n",
    "\n",
    "Let us explore analyzing data for ester hydrolysios\n",
    "\n",
    "This workbook contains the code and imports the data from multiple files and fits the data to the model..\n",
    "\n",
    "The data being plotted is from \"The Hydrolysis of Diclofenac Esters: Synthetic Prodrug Building Blocks for Biodegradable Drug–Polymer Conjugates.\" Feng Wang, Joshua Finnin et al., *J. Pharm. Sci.*, **2016**, *105*, 773-785.  https://doi.org/10.1002/jps.24665\n",
    "\n",
    "The data is found in tables within the supplementary material at https://ars.els-cdn.com/content/image/1-s2.0-S0022354915001550-mmc1.docx\n"
   ]
  },
  {
   "cell_type": "markdown",
   "metadata": {},
   "source": [
    "## Setup Tools and Read Data Table\n",
    "\n",
    "Here the data table is read in and processed. Also the libraries are imported and any functions defined"
   ]
  },
  {
   "cell_type": "code",
   "execution_count": 1,
   "metadata": {},
   "outputs": [
    {
     "name": "stdout",
     "output_type": "stream",
     "text": [
      "Requirement already satisfied: uncertainties in /opt/anaconda3/envs/main/lib/python3.12/site-packages (3.2.2)\n",
      "Requirement already satisfied: lmfit in /opt/anaconda3/envs/main/lib/python3.12/site-packages (1.3.1)\n",
      "Requirement already satisfied: asteval>=0.9.28 in /opt/anaconda3/envs/main/lib/python3.12/site-packages (from lmfit) (1.0.1)\n",
      "Requirement already satisfied: numpy>=1.19 in /opt/anaconda3/envs/main/lib/python3.12/site-packages (from lmfit) (1.26.4)\n",
      "Requirement already satisfied: scipy>=1.6 in /opt/anaconda3/envs/main/lib/python3.12/site-packages (from lmfit) (1.13.1)\n",
      "Requirement already satisfied: uncertainties>=3.1.4 in /opt/anaconda3/envs/main/lib/python3.12/site-packages (from lmfit) (3.2.2)\n",
      "Requirement already satisfied: dill>=0.3.4 in /opt/anaconda3/envs/main/lib/python3.12/site-packages (from lmfit) (0.3.8)\n",
      "mkdir: plots: File exists\n"
     ]
    }
   ],
   "source": [
    "### SETUP\n",
    "\n",
    "!pip install uncertainties\n",
    "!pip install lmfit\n",
    "!mkdir plots\n",
    "\n",
    "import pandas as pd\n",
    "import numpy as np\n",
    "import matplotlib.pyplot as plt\n",
    "\n",
    "import scipy.stats as stats\n",
    "from scipy.optimize import curve_fit\n",
    "\n",
    "import uncertainties as un\n",
    "from uncertainties import unumpy as unp\n",
    "\n",
    "import lmfit\n",
    "\n",
    "github_location = \"https://raw.githubusercontent.com/blinkletter/4410PythonNotebooks/main/Class_19/data/\"\n",
    "github_location = \"data/\"\n",
    "github_location_styles = \"https://raw.githubusercontent.com/blinkletter/LFER-QSAR/main/styles/\"\n",
    "github_location_LFER_tables = \"https://raw.githubusercontent.com/blinkletter/LFER-QSAR/main/data/\"\n",
    "\n"
   ]
  },
  {
   "cell_type": "markdown",
   "metadata": {},
   "source": [
    "## Read Data\n",
    "\n",
    "Read the data in from the csv text file."
   ]
  },
  {
   "cell_type": "code",
   "execution_count": 2,
   "metadata": {},
   "outputs": [
    {
     "data": {
      "text/html": [
       "<div>\n",
       "<style scoped>\n",
       "    .dataframe tbody tr th:only-of-type {\n",
       "        vertical-align: middle;\n",
       "    }\n",
       "\n",
       "    .dataframe tbody tr th {\n",
       "        vertical-align: top;\n",
       "    }\n",
       "\n",
       "    .dataframe thead th {\n",
       "        text-align: right;\n",
       "    }\n",
       "</style>\n",
       "<table border=\"1\" class=\"dataframe\">\n",
       "  <thead>\n",
       "    <tr style=\"text-align: right;\">\n",
       "      <th></th>\n",
       "      <th>pH</th>\n",
       "      <th>log(k /s)</th>\n",
       "    </tr>\n",
       "  </thead>\n",
       "  <tbody>\n",
       "    <tr>\n",
       "      <th>0</th>\n",
       "      <td>0.426829</td>\n",
       "      <td>-6.211604</td>\n",
       "    </tr>\n",
       "    <tr>\n",
       "      <th>1</th>\n",
       "      <td>0.825203</td>\n",
       "      <td>-6.552901</td>\n",
       "    </tr>\n",
       "    <tr>\n",
       "      <th>2</th>\n",
       "      <td>1.138211</td>\n",
       "      <td>-6.771331</td>\n",
       "    </tr>\n",
       "    <tr>\n",
       "      <th>3</th>\n",
       "      <td>2.162602</td>\n",
       "      <td>-7.153584</td>\n",
       "    </tr>\n",
       "    <tr>\n",
       "      <th>4</th>\n",
       "      <td>3.044715</td>\n",
       "      <td>-7.235495</td>\n",
       "    </tr>\n",
       "    <tr>\n",
       "      <th>5</th>\n",
       "      <td>4.012195</td>\n",
       "      <td>-7.071672</td>\n",
       "    </tr>\n",
       "    <tr>\n",
       "      <th>6</th>\n",
       "      <td>5.008130</td>\n",
       "      <td>-7.139932</td>\n",
       "    </tr>\n",
       "    <tr>\n",
       "      <th>7</th>\n",
       "      <td>6.032520</td>\n",
       "      <td>-6.948805</td>\n",
       "    </tr>\n",
       "    <tr>\n",
       "      <th>8</th>\n",
       "      <td>7.398374</td>\n",
       "      <td>-6.061433</td>\n",
       "    </tr>\n",
       "    <tr>\n",
       "      <th>9</th>\n",
       "      <td>8.308943</td>\n",
       "      <td>-5.269625</td>\n",
       "    </tr>\n",
       "    <tr>\n",
       "      <th>10</th>\n",
       "      <td>9.788618</td>\n",
       "      <td>-3.658703</td>\n",
       "    </tr>\n",
       "    <tr>\n",
       "      <th>11</th>\n",
       "      <td>11.495935</td>\n",
       "      <td>-2.006826</td>\n",
       "    </tr>\n",
       "    <tr>\n",
       "      <th>12</th>\n",
       "      <td>12.491870</td>\n",
       "      <td>-0.996587</td>\n",
       "    </tr>\n",
       "  </tbody>\n",
       "</table>\n",
       "</div>"
      ],
      "text/plain": [
       "           pH  log(k /s)\n",
       "0    0.426829  -6.211604\n",
       "1    0.825203  -6.552901\n",
       "2    1.138211  -6.771331\n",
       "3    2.162602  -7.153584\n",
       "4    3.044715  -7.235495\n",
       "5    4.012195  -7.071672\n",
       "6    5.008130  -7.139932\n",
       "7    6.032520  -6.948805\n",
       "8    7.398374  -6.061433\n",
       "9    8.308943  -5.269625\n",
       "10   9.788618  -3.658703\n",
       "11  11.495935  -2.006826\n",
       "12  12.491870  -0.996587"
      ]
     },
     "metadata": {},
     "output_type": "display_data"
    }
   ],
   "source": [
    "### READ DATA\n",
    "\n",
    "data_file = \"3ab.csv\"\n",
    "data_file = \"3c.csv\"\n",
    "data_file = \"4_1.csv\"   # 4_1,2,3,4,5 and 9 available\n",
    "\n",
    "df = pd.read_csv(github_location + data_file, \n",
    "             delimiter = \",\", \n",
    "             skipinitialspace=True, \n",
    " #            index_col=\"pH\", \n",
    "             comment = \"#\") \n",
    "\n",
    "display(df)\n"
   ]
  },
  {
   "cell_type": "markdown",
   "metadata": {},
   "source": [
    "## Plot Data\n",
    "\n",
    "This code will quickly plot the data. We idenify the columns we want to use for $x$ and $y$ and then call the plot function."
   ]
  },
  {
   "cell_type": "code",
   "execution_count": 4,
   "metadata": {},
   "outputs": [
    {
     "data": {
      "image/png": "[encoded data removed]",
      "text/plain": [
       "<Figure size 640x480 with 1 Axes>"
      ]
     },
     "metadata": {},
     "output_type": "display_data"
    }
   ],
   "source": [
    "x = df[\"pH\"]\n",
    "#y = np.log10(df[\"k1 (10-5 hr-1)\"] *1E-5)\n",
    "y = df[\"log(k /s)\"]\n",
    "\n",
    "plt.plot(x,y, \"ko\")\n",
    "plt.show()\n"
   ]
  },
  {
   "cell_type": "markdown",
   "metadata": {},
   "source": [
    "## Fit To a Model\n",
    "\n",
    "Modify the code below to use a model and get best-fit parameters for your data."
   ]
  },
  {
   "cell_type": "code",
   "execution_count": 9,
   "metadata": {},
   "outputs": [
    {
     "name": "stdout",
     "output_type": "stream",
     "text": [
      "(1.4146+/-0.1354)e-06\n",
      "(6.8496+/-0.4166)e-08\n",
      "(1.3193+/-0.0728)e+00\n"
     ]
    },
    {
     "data": {
      "image/png": "[encoded data removed]",
      "text/plain": [
       "<Figure size 640x480 with 1 Axes>"
      ]
     },
     "metadata": {},
     "output_type": "display_data"
    }
   ],
   "source": [
    "#######################################################\n",
    "### DEFINE FUNCTIONS FOR EACH MODEL\n",
    "#######################################################\n",
    "\n",
    "def line1(x, int):\n",
    "    ### slope set to -1. We are fitting only for the intercept.\n",
    "    y = x * -1 + int\n",
    "    return y\n",
    "\n",
    "def line2(x, int):\n",
    "    ### slope set to +1. We are fitting only for the intercept.\n",
    "    y = x * 1 + int\n",
    "    return y\n",
    "\n",
    "def model2(pH, kHKa, kOH):\n",
    "    ### Two parameter model for acid and base catalysis\n",
    "    H = 10**(-pH)\n",
    "    Kw = 10**-13.621\n",
    "    k1 = kHKa * H\n",
    "    k2 = kOH * Kw/H\n",
    "    kobs = k1 + k2\n",
    "    return np.log10(kobs)\n",
    "     \n",
    "def model3(pH, kHKa, kH2O, kOH):\n",
    "    ### Three parameter model for acid and base catalysis plus water rate\n",
    "    H = 10**(-pH)\n",
    "    Kw = 10**-13.621\n",
    "    k1 = kHKa * H\n",
    "    k2 = kOH * Kw/H\n",
    "    kobs = k1 + k2 + kH2O\n",
    "    return np.log10(kobs)\n",
    "\n",
    "#######################################################\n",
    "### PLOT DATA\n",
    "#######################################################\n",
    "x = df[\"pH\"]\n",
    "# y = np.log10(df[\"k1 (10-5 hr-1)\"] *1E-5)\n",
    "y = df[\"log(k /s)\"]\n",
    "plt.plot(x,y, \"ko\")\n",
    "\n",
    "m = model3\n",
    "\n",
    "#######################################################\n",
    "### FIT DATA TO MODEL\n",
    "#######################################################\n",
    "\n",
    "popt,pcov = curve_fit(m, x, y)\n",
    "\n",
    "#######################################################\n",
    "### COLLECT RESULTS AND PRINT\n",
    "#######################################################\n",
    "\n",
    "popt_uncertain = un.correlated_values(popt,pcov)\n",
    "\n",
    "for p in popt_uncertain:    # print all results from curve fit\n",
    "    print(f\"{p:0.4e}\")\n",
    "\n",
    "#######################################################\n",
    "### Plot BEST FIT LINE\n",
    "#######################################################\n",
    "\n",
    "x1 = np.linspace(0,13,100)  # make 100 points between 1 and 8 for x-axis\n",
    "y1 = m(x1, *popt)     # calculate y values for those 100 x values\n",
    "\n",
    "plt.plot(x1, y1)           # plot the calculated line\n",
    "plt.show()"
   ]
  }
 ],
 "metadata": {
  "kernelspec": {
   "display_name": "main",
   "language": "python",
   "name": "python3"
  },
  "language_info": {
   "codemirror_mode": {
    "name": "ipython",
    "version": 3
   },
   "file_extension": ".py",
   "mimetype": "text/x-python",
   "name": "python",
   "nbconvert_exporter": "python",
   "pygments_lexer": "ipython3",
   "version": "3.12.2"
  }
 },
 "nbformat": 4,
 "nbformat_minor": 2
}
