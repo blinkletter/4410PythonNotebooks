{
 "cells": [
  {
   "cell_type": "markdown",
   "metadata": {},
   "source": [
    "# pH-rate Profile for Esters\n",
    "\n",
    "In wqater esters have three possible routes to hydrolysis. \n",
    "\n",
    "1. Water attacks the carbonyl group of the ester.\n",
    "2. Acid catalysis: Water attacks the protonated carbonyl group of the ester.\n",
    "3. Base catalysis: Hydroxide attacks the carbonyl group of the ester\n",
    "\n",
    "Let us explore analyzing data for ester hydrolysios\n",
    "\n",
    "This workbook contains the code and imports the data from multiple files and fits the data to the model..\n",
    "\n",
    "The data being plotted is from \"The Hydrolysis of Diclofenac Esters: Synthetic Prodrug Building Blocks for Biodegradable Drug–Polymer Conjugates.\" Feng Wang, Joshua Finnin et al., *J. Pharm. Sci.*, **2016**, *105*, 773-785.  https://doi.org/10.1002/jps.24665\n",
    "\n",
    "The data is found in tables within the supplementary material at https://ars.els-cdn.com/content/image/1-s2.0-S0022354915001550-mmc1.docx\n"
   ]
  },
  {
   "cell_type": "markdown",
   "metadata": {},
   "source": [
    "## Setup Tools and Read Data Table\n",
    "\n",
    "Here the data table is read in and processed. Also the libraries are imported and any functions defined"
   ]
  },
  {
   "cell_type": "code",
   "execution_count": 1,
   "metadata": {},
   "outputs": [],
   "source": [
    "### SETUP\n",
    "\n",
    "import pandas as pd\n",
    "import numpy as np\n",
    "import matplotlib.pyplot as plt\n",
    "\n",
    "import scipy.stats as stats\n",
    "from scipy.optimize import curve_fit\n",
    "\n",
    "import uncertainties as un\n",
    "from uncertainties import unumpy as unp\n",
    "\n",
    "import lmfit\n",
    "\n",
    "github_location = \"https://raw.githubusercontent.com/blinkletter/4410PythonNotebooks/main/Class_19/data/\"\n",
    "github_location = \"data/\"\n",
    "github_location_styles = \"https://raw.githubusercontent.com/blinkletter/LFER-QSAR/main/styles/\"\n",
    "github_location_LFER_tables = \"https://raw.githubusercontent.com/blinkletter/LFER-QSAR/main/data/\"\n",
    "\n"
   ]
  },
  {
   "cell_type": "markdown",
   "metadata": {},
   "source": [
    "## Read Data\n",
    "\n",
    "Read the data in from the csv text file."
   ]
  },
  {
   "cell_type": "code",
   "execution_count": 2,
   "metadata": {},
   "outputs": [
    {
     "data": {
      "text/html": [
       "<div>\n",
       "<style scoped>\n",
       "    .dataframe tbody tr th:only-of-type {\n",
       "        vertical-align: middle;\n",
       "    }\n",
       "\n",
       "    .dataframe tbody tr th {\n",
       "        vertical-align: top;\n",
       "    }\n",
       "\n",
       "    .dataframe thead th {\n",
       "        text-align: right;\n",
       "    }\n",
       "</style>\n",
       "<table border=\"1\" class=\"dataframe\">\n",
       "  <thead>\n",
       "    <tr style=\"text-align: right;\">\n",
       "      <th></th>\n",
       "      <th>pH</th>\n",
       "      <th>k1 (10-5 hr-1)</th>\n",
       "      <th>t1/2 (hr)</th>\n",
       "      <th>r^2</th>\n",
       "    </tr>\n",
       "  </thead>\n",
       "  <tbody>\n",
       "    <tr>\n",
       "      <th>0</th>\n",
       "      <td>1.00</td>\n",
       "      <td>2590</td>\n",
       "      <td>26.800</td>\n",
       "      <td>0.9983</td>\n",
       "    </tr>\n",
       "    <tr>\n",
       "      <th>1</th>\n",
       "      <td>1.90</td>\n",
       "      <td>286</td>\n",
       "      <td>243.000</td>\n",
       "      <td>0.9949</td>\n",
       "    </tr>\n",
       "    <tr>\n",
       "      <th>2</th>\n",
       "      <td>3.10</td>\n",
       "      <td>129</td>\n",
       "      <td>538.000</td>\n",
       "      <td>0.9940</td>\n",
       "    </tr>\n",
       "    <tr>\n",
       "      <th>3</th>\n",
       "      <td>4.04</td>\n",
       "      <td>136</td>\n",
       "      <td>512.000</td>\n",
       "      <td>0.9843</td>\n",
       "    </tr>\n",
       "    <tr>\n",
       "      <th>4</th>\n",
       "      <td>4.98</td>\n",
       "      <td>198</td>\n",
       "      <td>349.000</td>\n",
       "      <td>0.9992</td>\n",
       "    </tr>\n",
       "    <tr>\n",
       "      <th>5</th>\n",
       "      <td>6.09</td>\n",
       "      <td>1530</td>\n",
       "      <td>45.400</td>\n",
       "      <td>0.9937</td>\n",
       "    </tr>\n",
       "    <tr>\n",
       "      <th>6</th>\n",
       "      <td>6.97</td>\n",
       "      <td>12070</td>\n",
       "      <td>5.740</td>\n",
       "      <td>0.9972</td>\n",
       "    </tr>\n",
       "    <tr>\n",
       "      <th>7</th>\n",
       "      <td>7.42</td>\n",
       "      <td>21460</td>\n",
       "      <td>3.230</td>\n",
       "      <td>0.9996</td>\n",
       "    </tr>\n",
       "    <tr>\n",
       "      <th>8</th>\n",
       "      <td>7.96</td>\n",
       "      <td>91270</td>\n",
       "      <td>0.759</td>\n",
       "      <td>0.9962</td>\n",
       "    </tr>\n",
       "  </tbody>\n",
       "</table>\n",
       "</div>"
      ],
      "text/plain": [
       "     pH  k1 (10-5 hr-1)  t1/2 (hr)     r^2\n",
       "0  1.00            2590     26.800  0.9983\n",
       "1  1.90             286    243.000  0.9949\n",
       "2  3.10             129    538.000  0.9940\n",
       "3  4.04             136    512.000  0.9843\n",
       "4  4.98             198    349.000  0.9992\n",
       "5  6.09            1530     45.400  0.9937\n",
       "6  6.97           12070      5.740  0.9972\n",
       "7  7.42           21460      3.230  0.9996\n",
       "8  7.96           91270      0.759  0.9962"
      ]
     },
     "metadata": {},
     "output_type": "display_data"
    }
   ],
   "source": [
    "### READ DATA\n",
    "\n",
    "data_file = \"3c.csv\"\n",
    "\n",
    "df = pd.read_csv(github_location + data_file, \n",
    "             delimiter = \",\", \n",
    "             skipinitialspace=True, \n",
    " #            index_col=\"pH\", \n",
    "             comment = \"#\") \n",
    "\n",
    "display(df)"
   ]
  },
  {
   "cell_type": "code",
   "execution_count": 48,
   "metadata": {},
   "outputs": [
    {
     "name": "stdout",
     "output_type": "stream",
     "text": [
      "[2.04429690e-01 1.10699203e-03 1.02489432e+06]\n",
      "0.204+/-0.034 0.00111+/-0.00016 (1.02+/-0.10)e+06\n"
     ]
    },
    {
     "data": {
      "text/plain": [
       "[<matplotlib.lines.Line2D at 0x162c77e90>]"
      ]
     },
     "execution_count": 48,
     "metadata": {},
     "output_type": "execute_result"
    },
    {
     "data": {
      "image/png": "[encoded data removed]",
      "text/plain": [
       "<Figure size 640x480 with 1 Axes>"
      ]
     },
     "metadata": {},
     "output_type": "display_data"
    }
   ],
   "source": [
    "from scipy.optimize import curve_fit\n",
    "\n",
    "x = df[\"pH\"]\n",
    "y = np.log10(df[\"k1 (10-5 hr-1)\"] *1E-5)\n",
    "\n",
    "plt.plot(x,y, \"ko\")\n",
    "\n",
    "def line1(x, int):\n",
    "    ### slope set to -1. We are fitting only for the intercept.\n",
    "    y = x * -1 + int\n",
    "    return y\n",
    "\n",
    "def line2(x, int):\n",
    "    ### slope set to +1. We are fitting only for the intercept.\n",
    "    y = x * 1 + int\n",
    "    return y\n",
    "\n",
    "def model(pH, kHKa, kOH):\n",
    "    H = 10**(-pH)\n",
    "    Kw = 10**-13.995\n",
    "    k1 = kHKa * H\n",
    "    k2 = kOH * Kw/H\n",
    "    kobs = k1 + k2\n",
    "    return np.log10(kobs)\n",
    "     \n",
    "def model(pH, kHKa, kH2O, kOH):\n",
    "    H = 10**(-pH)\n",
    "    Kw = 10**-13.995\n",
    "    k1 = kHKa * H\n",
    "    k2 = kOH * Kw/H\n",
    "    kobs = k1 + k2 + kH2O\n",
    "    return np.log10(kobs)\n",
    "\n",
    "popt,pcov = curve_fit(model,x,y,\n",
    "                      p0 = (1,1,100),\n",
    "                      bounds=([0,0,0],[np.inf,np.inf,np.inf])\n",
    "                      )\n",
    "\n",
    "kHKa, kH2O, kOH = un.correlated_values(popt,pcov)\n",
    "print(kHKa, kH2O, kOH)\n",
    "\n",
    "\n",
    "x1 = np.linspace(1,8,100)\n",
    "y1 = model(x1, *popt)\n",
    "\n",
    "plt.plot(x1, y1)\n"
   ]
  },
  {
   "cell_type": "code",
   "execution_count": 8,
   "metadata": {},
   "outputs": [
    {
     "data": {
      "text/html": [
       "<h2>Fit Result</h2> <p>Model: Model(profile)</p> <table class=\"jp-toc-ignore\"><caption class=\"jp-toc-ignore\">Fit Statistics</caption><tr><td style='text-align:left'>fitting method</td><td style='text-align:right'>leastsq</td></tr><tr><td style='text-align:left'># function evals</td><td style='text-align:right'>38</td></tr><tr><td style='text-align:left'># data points</td><td style='text-align:right'>9</td></tr><tr><td style='text-align:left'># variables</td><td style='text-align:right'>3</td></tr><tr><td style='text-align:left'>chi-square</td><td style='text-align:right'> 0.04226078</td></tr><tr><td style='text-align:left'>reduced chi-square</td><td style='text-align:right'> 0.00704346</td></tr><tr><td style='text-align:left'>Akaike info crit.</td><td style='text-align:right'>-42.2500836</td></tr><tr><td style='text-align:left'>Bayesian info crit.</td><td style='text-align:right'>-41.6584099</td></tr><tr><td style='text-align:left'>R-squared</td><td style='text-align:right'> 0.99524758</td></tr></table><table class=\"jp-toc-ignore\"><caption>Parameters</caption><tr><th style='text-align:left'>name</th><th style='text-align:left'>value</th><th style='text-align:left'>standard error</th><th style='text-align:left'>relative error</th><th style='text-align:left'>initial value</th><th style='text-align:left'>min</th><th style='text-align:left'>max</th><th style='text-align:right'>vary</th></tr><tr><td style='text-align:left'>kHKa</td><td style='text-align:left'> 0.20442919</td><td style='text-align:left'> 0.03429308</td><td style='text-align:left'>(16.78%)</td><td style='text-align:left'>1</td><td style='text-align:left'> 0.00000000</td><td style='text-align:left'>        inf</td><td style='text-align:right'>True</td></tr><tr><td style='text-align:left'>kH2O</td><td style='text-align:left'> 0.00110699</td><td style='text-align:left'> 1.6074e-04</td><td style='text-align:left'>(14.52%)</td><td style='text-align:left'>1</td><td style='text-align:left'> 0.00000000</td><td style='text-align:left'>        inf</td><td style='text-align:right'>True</td></tr><tr><td style='text-align:left'>kOH</td><td style='text-align:left'> 1024894.12</td><td style='text-align:left'> 99733.5348</td><td style='text-align:left'>(9.73%)</td><td style='text-align:left'>1</td><td style='text-align:left'> 0.00000000</td><td style='text-align:left'>        inf</td><td style='text-align:right'>True</td></tr></table><table class=\"jp-toc-ignore\"><caption>Correlations (unreported values are < 0.100)</caption><tr><th style='text-align:left'>Parameter1</th><th style='text-align:left'>Parameter 2</th><th style='text-align:right'>Correlation</th></tr><tr><td style='text-align:left'>kHKa</td><td style='text-align:left'>kH2O</td><td style='text-align:right'>-0.2353</td></tr><tr><td style='text-align:left'>kH2O</td><td style='text-align:left'>kOH</td><td style='text-align:right'>-0.1581</td></tr></table>"
      ],
      "text/plain": [
       "<lmfit.model.ModelResult at 0x157e36b70>"
      ]
     },
     "execution_count": 8,
     "metadata": {},
     "output_type": "execute_result"
    }
   ],
   "source": [
    "### Use curve_fit function  \n",
    "\n",
    "# define the function for the model\n",
    "def profile(pH, kHKa, kH2O, kOH):\n",
    "    H = 10**(-pH)\n",
    "    Kw = 10**-13.995\n",
    "    k1 = kHKa * H\n",
    "    k2 = kOH * Kw/H\n",
    "    kobs = k1 + k2 + kH2O\n",
    "    return np.log10(kobs)\n",
    "\n",
    "# Create a model by loading the function via the lmfit.Model tool\n",
    "mod = lmfit.Model(profile)  \n",
    "\n",
    "# Set parameters - here i also set minimims so that no negative values are encountered in the fit\n",
    "pars = mod.make_params(kHKa = dict(value = 1, min=0), \n",
    "                       kH2O = dict(value = 1, min=0), \n",
    "                       kOH =  dict(value = 1, min=0),\n",
    "                      )\n",
    "\n",
    "x = df[\"pH\"]\n",
    "y = np.log10(df[\"k1 (10-5 hr-1)\"] *1E-5)\n",
    "\n",
    "\n",
    "# use the .fit method on the model object to perform the curve fit\n",
    "result = mod.fit(y, pars, pH=x)   \n",
    "result"
   ]
  }
 ],
 "metadata": {
  "kernelspec": {
   "display_name": "main",
   "language": "python",
   "name": "python3"
  },
  "language_info": {
   "codemirror_mode": {
    "name": "ipython",
    "version": 3
   },
   "file_extension": ".py",
   "mimetype": "text/x-python",
   "name": "python",
   "nbconvert_exporter": "python",
   "pygments_lexer": "ipython3",
   "version": "3.12.4"
  }
 },
 "nbformat": 4,
 "nbformat_minor": 2
}
