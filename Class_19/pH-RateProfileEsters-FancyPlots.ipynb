{
 "cells": [
  {
   "cell_type": "markdown",
   "metadata": {},
   "source": [
    "# pH-rate Profile for Esters\n",
    "\n",
    "**NOTE: This version of the workbook has code for more formal plots.**\n",
    "\n",
    "In water esters have three possible routes to hydrolysis. \n",
    "\n",
    "1. Water attacks the carbonyl group of the ester.\n",
    "2. Acid catalysis: Water attacks the protonated carbonyl group of the ester.\n",
    "3. Base catalysis: Hydroxide attacks the carbonyl group of the ester\n",
    "\n",
    "Let us explore analyzing data for ester hydrolysios\n",
    "\n",
    "This workbook contains the code and imports the data from multiple files and fits the data to the model..\n",
    "\n",
    "The data being plotted is from \"The Hydrolysis of Diclofenac Esters: Synthetic Prodrug Building Blocks for Biodegradable Drug–Polymer Conjugates.\" Feng Wang, Joshua Finnin et al., *J. Pharm. Sci.*, **2016**, *105*, 773-785.  https://doi.org/10.1002/jps.24665\n",
    "\n",
    "The data is found in tables within the supplementary material at https://ars.els-cdn.com/content/image/1-s2.0-S0022354915001550-mmc1.docx\n"
   ]
  },
  {
   "cell_type": "markdown",
   "metadata": {},
   "source": [
    "## Setup Tools and Read Data Table\n",
    "\n",
    "Here the data table is read in and processed. Also the libraries are imported and any functions defined"
   ]
  },
  {
   "cell_type": "code",
   "execution_count": 15,
   "metadata": {},
   "outputs": [
    {
     "name": "stdout",
     "output_type": "stream",
     "text": [
      "Requirement already satisfied: uncertainties in /opt/anaconda3/envs/main/lib/python3.12/site-packages (3.2.2)\n",
      "Requirement already satisfied: lmfit in /opt/anaconda3/envs/main/lib/python3.12/site-packages (1.3.1)\n",
      "Requirement already satisfied: asteval>=0.9.28 in /opt/anaconda3/envs/main/lib/python3.12/site-packages (from lmfit) (1.0.1)\n",
      "Requirement already satisfied: numpy>=1.19 in /opt/anaconda3/envs/main/lib/python3.12/site-packages (from lmfit) (1.26.4)\n",
      "Requirement already satisfied: scipy>=1.6 in /opt/anaconda3/envs/main/lib/python3.12/site-packages (from lmfit) (1.13.1)\n",
      "Requirement already satisfied: uncertainties>=3.1.4 in /opt/anaconda3/envs/main/lib/python3.12/site-packages (from lmfit) (3.2.2)\n",
      "Requirement already satisfied: dill>=0.3.4 in /opt/anaconda3/envs/main/lib/python3.12/site-packages (from lmfit) (0.3.8)\n",
      "mkdir: plots: File exists\n"
     ]
    }
   ],
   "source": [
    "### SETUP\n",
    "\n",
    "!pip install uncertainties\n",
    "!pip install lmfit\n",
    "!mkdir plots\n",
    "\n",
    "import pandas as pd\n",
    "import numpy as np\n",
    "import matplotlib.pyplot as plt\n",
    "\n",
    "import scipy.stats as stats\n",
    "from scipy.optimize import curve_fit\n",
    "\n",
    "import uncertainties as un\n",
    "from uncertainties import unumpy as unp\n",
    "\n",
    "import lmfit\n",
    "\n",
    "github_location = \"https://raw.githubusercontent.com/blinkletter/4410PythonNotebooks/main/Class_19/data/\"\n",
    "github_location = \"data/\"\n",
    "github_location_styles = \"https://raw.githubusercontent.com/blinkletter/LFER-QSAR/main/styles/\"\n",
    "github_location_LFER_tables = \"https://raw.githubusercontent.com/blinkletter/LFER-QSAR/main/data/\"\n",
    "\n"
   ]
  },
  {
   "cell_type": "markdown",
   "metadata": {},
   "source": [
    "## Read Data\n",
    "\n",
    "Read the data in from the csv text file."
   ]
  },
  {
   "cell_type": "code",
   "execution_count": 22,
   "metadata": {},
   "outputs": [
    {
     "name": "stdout",
     "output_type": "stream",
     "text": [
      "      pH  k1 (10-5 hr-1)  t1/2 (hr)     r^2\n",
      "0   1.00         4270.00       16.3  0.9895\n",
      "1   1.54         1010.00       68.6  0.9988\n",
      "2   1.90          352.00      197.0  0.9864\n",
      "3   2.80          102.00      679.0  0.9989\n",
      "4   3.22           38.40     1810.0  0.9973\n",
      "5   3.52           18.90     3680.0  0.9976\n",
      "6   4.02            8.46     8190.0  0.9857\n",
      "7   4.45            2.46    28200.0  0.8401\n",
      "8   4.87            3.02    23000.0  0.8858\n",
      "9   5.34           13.30     5230.0  0.9906\n",
      "10  5.97           49.10     1410.0  0.9995\n",
      "11  6.59          182.00      382.0  0.9998\n",
      "12  6.93          412.00      168.0  0.9999\n",
      "13  7.32         1050.00       66.2  0.9997\n",
      "14  7.82         2880.00       24.1  0.9999\n"
     ]
    }
   ],
   "source": [
    "### READ DATA\n",
    "# datafiles are \"3ab.csv\" and \"3c.csv\"\n",
    "\n",
    "data_file = \"3ab.csv\"\n",
    "\n",
    "df = pd.read_csv(github_location + data_file, \n",
    "             delimiter = \",\", \n",
    "             skipinitialspace=True, \n",
    " #            index_col=\"pH\", \n",
    "             comment = \"#\") \n",
    "\n",
    "print(df)"
   ]
  },
  {
   "cell_type": "markdown",
   "metadata": {},
   "source": [
    "## Plot Data\n",
    "\n",
    "This code will quickly plot the data. We idenify the columns we want to use for $x$ and $y$ and then call the plot function."
   ]
  },
  {
   "cell_type": "code",
   "execution_count": 23,
   "metadata": {},
   "outputs": [
    {
     "name": "stdout",
     "output_type": "stream",
     "text": [
      "kHKa = 0.49+/-0.05\n",
      "kOH = (4.7+/-0.5)e+04\n"
     ]
    },
    {
     "data": {
      "text/plain": [
       "[<matplotlib.lines.Line2D at 0x14638c3e0>]"
      ]
     },
     "execution_count": 23,
     "metadata": {},
     "output_type": "execute_result"
    },
    {
     "data": {
      "image/png": "[encoded data removed]",
      "text/plain": [
       "<Figure size 640x480 with 1 Axes>"
      ]
     },
     "metadata": {},
     "output_type": "display_data"
    }
   ],
   "source": [
    "plt.rcdefaults()\n",
    "\n",
    "x = df[\"pH\"]\n",
    "y = np.log10(df[\"k1 (10-5 hr-1)\"] *1E-5)\n",
    "\n",
    "plt.plot(x,y, \"ko\")\n",
    "\n",
    "def line1(x, int):\n",
    "    ### slope set to -1. We are fitting only for the intercept.\n",
    "    y = x * -1 + int\n",
    "    return y\n",
    "\n",
    "def line2(x, int):\n",
    "    ### slope set to +1. We are fitting only for the intercept.\n",
    "    y = x * 1 + int\n",
    "    return y\n",
    "\n",
    "def model2(pH, kHKa, kOH):\n",
    "    H = 10**(-pH)\n",
    "    Kw = 10**-13.995\n",
    "    k1 = kHKa * H\n",
    "    k2 = kOH * Kw/H\n",
    "    kobs = k1 + k2\n",
    "    return np.log10(kobs)\n",
    "     \n",
    "def model3(pH, kHKa, kH2O, kOH):\n",
    "    H = 10**(-pH)\n",
    "    Kw = 10**-13.995\n",
    "    k1 = kHKa * H\n",
    "    k2 = kOH * Kw/H\n",
    "    kobs = k1 + k2 + kH2O\n",
    "    return np.log10(kobs)\n",
    "\n",
    "popt,pcov = curve_fit(model2, x, y,\n",
    "                      p0 = (1,100),\n",
    "                      bounds=([0,0],[np.inf,np.inf])\n",
    "                      )\n",
    "\n",
    "kHKa, kOH = un.correlated_values(popt,pcov)\n",
    "print(f\"kHKa = {kHKa}\")\n",
    "print(f\"kOH = {kOH}\")\n",
    "\n",
    "\n",
    "x1 = np.linspace(1,8,100)\n",
    "y1 = model2(x1, *popt)\n",
    "\n",
    "plt.plot(x1, y1)\n"
   ]
  },
  {
   "cell_type": "code",
   "execution_count": 24,
   "metadata": {},
   "outputs": [
    {
     "name": "stdout",
     "output_type": "stream",
     "text": [
      "         99.73%    95.45%    68.27%    _BEST_    68.27%    95.45%    99.73%\n",
      " kHKa:  -0.11971  -0.07142  -0.03399   0.20443  +0.03944  +0.10063  +0.23339\n",
      " kH2O:  -0.00060  -0.00035  -0.00016   0.00111  +0.00018  +0.00046  +0.00102\n",
      " kOH :-393534.99058-224086.49260-103500.403311024894.11767+114348.61113+282028.03149+615902.00546\n"
     ]
    }
   ],
   "source": [
    "data_file = \"3c.csv\"\n",
    "\n",
    "df = pd.read_csv(github_location + data_file, \n",
    "             delimiter = \",\", \n",
    "             skipinitialspace=True, \n",
    " #            index_col=\"pH\", \n",
    "             comment = \"#\") \n",
    "\n",
    " ### Use curve_fit function  \n",
    "\n",
    "# define the function for the model\n",
    "def profile3(pH, kHKa, kH2O, kOH):\n",
    "    H = 10**(-pH)\n",
    "    Kw = 10**-13.995\n",
    "    k1 = kHKa * H\n",
    "    k2 = kOH * Kw/H\n",
    "    kobs = k1 + k2 + kH2O\n",
    "    return np.log10(kobs)\n",
    "\n",
    "# Create a model by loading the function via the lmfit.Model tool\n",
    "mod = lmfit.Model(profile3)  \n",
    "\n",
    "# Set parameters - here i also set minimims so that no negative values are encountered in the fit\n",
    "pars = mod.make_params(kHKa = dict(value = 1, min=0), \n",
    "                       kH2O = dict(value = 1, min=0), \n",
    "                       kOH =  dict(value = 1, min=0),\n",
    "                      )\n",
    "\n",
    "x = df[\"pH\"]\n",
    "y = np.log10(df[\"k1 (10-5 hr-1)\"] *1E-5)\n",
    "\n",
    "\n",
    "# use the .fit method on the model object to perform the curve fit\n",
    "result = mod.fit(y, pars, pH=x)   \n",
    "print(result.ci_report())\n"
   ]
  },
  {
   "cell_type": "code",
   "execution_count": 32,
   "metadata": {},
   "outputs": [
    {
     "name": "stdout",
     "output_type": "stream",
     "text": [
      "         99.73%    95.45%    68.27%    _BEST_    68.27%    95.45%    99.73%\n",
      " kHKa:  -0.16403  -0.10578  -0.05281   0.49009  +0.05890  +0.13341  +0.24168\n",
      " kOH :-15894.01978-10267.50592-5133.5208346783.11417+5741.47339+13026.70905+23651.14475\n"
     ]
    }
   ],
   "source": [
    "data_file = \"3ab.csv\"\n",
    "\n",
    "df = pd.read_csv(github_location + data_file, \n",
    "             delimiter = \",\", \n",
    "             skipinitialspace=True, \n",
    " #            index_col=\"pH\", \n",
    "             comment = \"#\") \n",
    "\n",
    "\n",
    "### Use curve_fit function  \n",
    "\n",
    "# define the function for the model\n",
    "def profile2(pH, kHKa, kOH):\n",
    "    H = 10**(-pH)\n",
    "    Kw = 10**-13.995\n",
    "    k1 = kHKa * H\n",
    "    k2 = kOH * Kw/H\n",
    "    kobs = k1 + k2\n",
    "    return np.log10(kobs)\n",
    "\n",
    "# Create a model by loading the function via the lmfit.Model tool\n",
    "mod = lmfit.Model(profile2)  \n",
    "\n",
    "# Set parameters - here i also set minimims so that no negative values are encountered in the fit\n",
    "pars = mod.make_params(kHKa = dict(value = 1, min=0), \n",
    "                       kOH =  dict(value = 1, min=0),\n",
    "                      )\n",
    "\n",
    "x = df[\"pH\"]\n",
    "y = np.log10(df[\"k1 (10-5 hr-1)\"] *1E-5)\n",
    "\n",
    "\n",
    "# use the .fit method on the model object to perform the curve fit\n",
    "result = mod.fit(y, pars, pH=x)   \n",
    "print(result.ci_report())\n"
   ]
  },
  {
   "cell_type": "code",
   "execution_count": 34,
   "metadata": {},
   "outputs": [
    {
     "data": {
      "image/png": "[encoded data removed]",
      "text/plain": [
       "<Figure size 400x500 with 2 Axes>"
      ]
     },
     "metadata": {},
     "output_type": "display_data"
    },
    {
     "name": "stdout",
     "output_type": "stream",
     "text": [
      "[[Model]]\n",
      "    Model(profile2)\n",
      "[[Fit Statistics]]\n",
      "    # fitting method   = leastsq\n",
      "    # function evals   = 52\n",
      "    # data points      = 15\n",
      "    # variables        = 2\n",
      "    chi-square         = 0.20984310\n",
      "    reduced chi-square = 0.01614178\n",
      "    Akaike info crit   = -60.0416807\n",
      "    Bayesian info crit = -58.6255803\n",
      "    R-squared          = 0.98618859\n",
      "[[Variables]]\n",
      "    kHKa:  0.49008574 +/- 0.05380652 (10.98%) (init = 1)\n",
      "    kOH:   46783.1142 +/- 5238.39283 (11.20%) (init = 1)\n"
     ]
    }
   ],
   "source": [
    "###############################################################################\n",
    "### FANCY PLOT OF RESULT\n",
    "###############################################################################\n",
    "\n",
    "x1 = np.linspace(1,8,100)\n",
    "y1 = result.eval(pH = x1)\n",
    "dely = result.eval_uncertainty(pH = x1, sigma=2)   # 95% confidence band\n",
    "\n",
    "\n",
    "size2 = 4,5\n",
    "###############################################################################\n",
    "######################\n",
    "### Plots - NEW STYLED PLOTTING SECTION\n",
    "######################\n",
    "\n",
    "plt.rcdefaults()\n",
    "\n",
    "style = \"tufte.mplstyle\"\n",
    "#style = \"S2_classic2.mplstyle\"\n",
    "style_name = github_location_styles + style\n",
    "plt.style.use(style_name)\n",
    "\n",
    "fig, ax = plt.subplots(nrows=2, ncols=1, figsize=size2, height_ratios=[1, 4])  \n",
    "\n",
    "# Settings for plot\n",
    "ax[1].set(\n",
    "#          title = Title,       \n",
    "          ylabel=r\"$\\log{(k_{obs}\\ /hr^{-1})}$\",                \n",
    "          xlabel=r\"$pH$ \", \n",
    "#          xlim=[0, np.max(x) + np.max(x) * 0.1],                  \n",
    "#          ylim=[None,None]\n",
    "#          xticks = [1,3,5,7],\n",
    "#          yticks = [0,-1,-2,-3],\n",
    "       )\n",
    "\n",
    "### Data graphics\n",
    "ax[1].scatter(x, y, marker = \"o\", s = 20, \n",
    "              color = \"white\", edgecolors = \"black\", \n",
    "              linewidths=0.5, zorder = 4) \n",
    "\n",
    "# Plot the curve fit line\n",
    "ax[1].plot(x1,unp.nominal_values(y1), \n",
    "           marker = None, color = \"black\", \n",
    "           linewidth=0.5, zorder = 0)\n",
    "\n",
    "# Confidence band\n",
    "fit_up = y1 + dely\n",
    "fit_dn = y1 - dely\n",
    "ax[1].fill_between(x1, fit_up, fit_dn, \n",
    "                   facecolor=\"black\", alpha=0.1, zorder = 2,\n",
    "                   label=\"confidence interval\")\n",
    "\n",
    "######################\n",
    "### Plot the residuals\n",
    "######################\n",
    "\n",
    "# difference between data and line-fit\n",
    "residuals = -result.residual     \n",
    "\n",
    "ax[0].set(\n",
    "#          title = Title,       \n",
    "          ylabel=r\"Residuals\", \n",
    "          xlabel=r\"\",                \n",
    "#          xlim=[0, np.max(x) + np.max(x) * 0.1],                  \n",
    "          ylim=[-np.max(residuals)*3,np.max(residuals)*3]\n",
    "       )\n",
    "### Data graphics\n",
    "ax[0].scatter(x, residuals, marker = \"o\", s = 20, \n",
    "              color = \"white\", edgecolors = \"black\", \n",
    "              linewidths=0.5, zorder = 3)\n",
    "# make filled band\n",
    "ax[0].fill_between(x1, dely, -dely, \n",
    "                   facecolor=\"black\", alpha=0.1, zorder = 1,\n",
    "                   linewidth = 0, label=\"confidence interval\")\n",
    "\n",
    "### Other elements\n",
    "ax[0].axhline(0, color='gray', linewidth=0.5, zorder = 0) \n",
    "ax[0].set_xticks([])\n",
    "\n",
    "################################################\n",
    "### Output Plot\n",
    "################################################\n",
    "\n",
    "name = \"plot13\"\n",
    "\n",
    "# Plot as .pdf\n",
    "plt.savefig(f\"plots/{name}.pdf\")\n",
    "\n",
    "### Set face of plot to transparent\n",
    "ax[0].patch.set_facecolor([0, 0, 0, 0])  \n",
    "ax[1].patch.set_facecolor([0, 0, 0, 0])  \n",
    "\n",
    "# Plot as .png with transparent background\n",
    "plt.savefig(f\"plots/{name}.png\", dpi=600, \n",
    "            facecolor = [0, 0, 0, 0],\n",
    "        )\n",
    "# display plot in notebook\n",
    "plt.show()\n",
    "print(result.fit_report())\n"
   ]
  },
  {
   "cell_type": "code",
   "execution_count": null,
   "metadata": {},
   "outputs": [],
   "source": []
  }
 ],
 "metadata": {
  "kernelspec": {
   "display_name": "main",
   "language": "python",
   "name": "python3"
  },
  "language_info": {
   "codemirror_mode": {
    "name": "ipython",
    "version": 3
   },
   "file_extension": ".py",
   "mimetype": "text/x-python",
   "name": "python",
   "nbconvert_exporter": "python",
   "pygments_lexer": "ipython3",
   "version": "3.12.2"
  }
 },
 "nbformat": 4,
 "nbformat_minor": 2
}
