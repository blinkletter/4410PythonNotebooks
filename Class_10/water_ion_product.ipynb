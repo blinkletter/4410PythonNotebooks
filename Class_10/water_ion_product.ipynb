{
 "cells": [
  {
   "cell_type": "markdown",
   "id": "128b444b",
   "metadata": {},
   "source": [
    "# Water Ion Product\n",
    "\n",
    "Determing KW at an arbitrary temperature\n",
    "\n",
    "## Load Data\n",
    "\n",
    "The data table from the above paper was made into a csv file (`Edwards1950.csv`). The file contains pH and k_obs values. It is read into a dataframe with the pH va;ues as the index series.  Then a $\\log{(K_{obs})}$ series is created and a series for $[H^+]$"
   ]
  },
  {
   "cell_type": "code",
   "execution_count": 2,
   "id": "5d01771b",
   "metadata": {
    "tags": [
     "hide-input"
    ]
   },
   "outputs": [
    {
     "name": "stdout",
     "output_type": "stream",
     "text": [
      "mkdir: plots: File exists\n"
     ]
    }
   ],
   "source": [
    "#!pip install uncertainties\n",
    "#!pip install lmfit\n",
    "\n",
    "import pandas as pd\n",
    "import numpy as np\n",
    "import matplotlib.pyplot as plt\n",
    "import scipy.stats as stats\n",
    "from scipy.stats import linregress\n",
    "from scipy.optimize import curve_fit\n",
    "\n",
    "import uncertainties as un               # tool set for handling uncertainties\n",
    "from uncertainties import unumpy as unp  # a replacement for numpy \n",
    "\n",
    "!mkdir plots\n",
    "\n",
    "################################################################################\n",
    "### Set global variables. Set flag accordingly\n",
    "################################################################################\n",
    "\n",
    "#github = True  \n",
    "github = False  \n",
    "\n",
    "if github:\n",
    "    data_path = \"https://raw.githubusercontent.com/blinkletter/4410PythonNotebooks/main/Class_10/data/\"\n",
    "    image_path = \"https://raw.githubusercontent.com/blinkletter/4410PythonNotebooks/main/Class_10/images/\"\n",
    "    github_data_location = \"https://raw.githubusercontent.com/blinkletter/LFER-QSAR/main/data/\"\n",
    "    github_styles_location = \"https://raw.githubusercontent.com/blinkletter/LFER-QSAR/main/styles/\"\n",
    "else:\n",
    "    data_path = \"../Class_10/data/\"\n",
    "    image_path = \"../Class_10/images/\"\n",
    "    github_data_location = \"/Users/blink/github/LFER-QSAR/data/\"\n",
    "    github_styles_location = \"/Users/blink/github/LFER-QSAR/styles/\"\n",
    "\n",
    "################################################################################\n",
    "### Read data set. The fields are separated by commas; comments are enabled  \n",
    "################################################################################\n",
    "\n",
    "df = pd.read_csv(data_path + \"Edwards1950.csv\", \n",
    "                 delimiter = \",\", \n",
    "                 skipinitialspace=True, \n",
    "                 index_col=\"pH\", \n",
    "                 comment = \"#\") \n",
    "\n",
    "################################################################################\n",
    "### Process data  \n",
    "################################################################################\n",
    "\n",
    "df[\"logk\"] = np.log10(df[\"k_obs\"])        # get log(K) from K\n",
    "df[\"H\"]=10**(-df.index)                   # get [H] from pH\n",
    "df.sort_values(by=['pH'], inplace=True)   # one value was out of order, sort to fix.\n",
    "\n",
    "#display(df)"
   ]
  },
  {
   "cell_type": "markdown",
   "id": "20814b47",
   "metadata": {},
   "source": [
    "## The Components of the pH-rate Profile\n",
    "\n",
    "There are at least three, perhaps four, reactions that contribute to the observed rate constant, $k_{obs}$. In the plot below we will fit each to the region of the plot that applies and find the values of the individual rate constants in piecemeal fashion. See the discussion document for more information."
   ]
  },
  {
   "cell_type": "markdown",
   "id": "b7456612",
   "metadata": {},
   "source": [
    "## Curve Fitting the Model\n",
    "\n",
    "The code below will curve fit the complete mathematical model. Two models are demonstrated, one uses three components, the better fitting model uses four and includes the water rate for the neutral species."
   ]
  },
  {
   "cell_type": "markdown",
   "id": "cf29631c",
   "metadata": {},
   "source": [
    "### Residual Plot\n",
    "\n",
    "The code below will output a residual plot for the model fit above."
   ]
  },
  {
   "cell_type": "markdown",
   "id": "97922751",
   "metadata": {},
   "source": [
    "# Buffer Rate Plot\n",
    "The code below reads the data fro the buffer rate experiment in the paper and plots the result."
   ]
  },
  {
   "cell_type": "markdown",
   "id": "a3c40339",
   "metadata": {},
   "source": [
    "## calculation Kw at 17 degrees\n",
    "\n",
    "The reactions above were performed at $17\\ ^\\circ C$. What is the value of $K_W$ at $17\\ ^\\circ C$? A whitepaper on the NIST website presents an empirical formula for claulating the value of KW at temperatures between zero and 100 deg C. We need a data set for the density of water at those temperatures. I found a table on the website of a valve manufacturer in Britain."
   ]
  },
  {
   "cell_type": "code",
   "execution_count": 13,
   "id": "412e7b1b",
   "metadata": {
    "tags": [
     "hide-input"
    ]
   },
   "outputs": [
    {
     "name": "stdout",
     "output_type": "stream",
     "text": [
      "log Kw at 17 deg is 17   -14.26712\n",
      "Name: d g/cm, dtype: float64\n"
     ]
    },
    {
     "data": {
      "image/png": "[encoded data removed]",
      "text/plain": [
       "<Figure size 500x400 with 1 Axes>"
      ]
     },
     "metadata": {},
     "output_type": "display_data"
    }
   ],
   "source": [
    "# https://srd.nist.gov/JPCRD/jpcrd181.pdf\n",
    "# https://www.chemguide.co.uk/physical/acidbaseeqia/kw.html\n",
    "# \n",
    "import pandas as pd\n",
    "import numpy as np\n",
    "import matplotlib.pyplot as plt\n",
    "import scipy.stats as stats\n",
    "from scipy.stats import linregress\n",
    "from scipy.optimize import curve_fit\n",
    "\n",
    "\n",
    "################################################################################\n",
    "### Read data set. The fields are separated by commas; comments are enabled  ###\n",
    "################################################################################\n",
    "df2 = pd.read_csv(\"data/water_density2.csv\", \n",
    "                 delimiter = \",\", \n",
    "                 skipinitialspace=True, \n",
    "#                 index_col=\"pH\", \n",
    "                 comment = \"#\") \n",
    "#display(df2.head())\n",
    "\n",
    "\n",
    "# Data from https://www.chemguide.co.uk/physical/acidbaseeqia/kw.html\n",
    "Temp = np.array([0,10,20,25,30,40,50,100]) + 273.15 \n",
    "\n",
    "Kw = np.array([0.114e-14,\n",
    "               0.293E-14,\n",
    "               0.681E-14,\n",
    "               1.008E-14,\n",
    "               1.471E-14,\n",
    "               2.916E-14,\n",
    "               5.476E-14,\n",
    "               51.30E-14,\n",
    "           ])\n",
    "\n",
    "# Empirical equation from https://srd.nist.gov/JPCRD/jpcrd181.pdf\n",
    "A = -4.098\n",
    "B = -3245.2\n",
    "C = 2.2362E5\n",
    "D = -3.984E7\n",
    "E = 13.957\n",
    "F = -1262.3\n",
    "G = 8.5641E5\n",
    "\n",
    "T = df2[\"temp degC\"]+273\n",
    "pw = df2[\"d g/cm\"]/1000\n",
    "\n",
    "logKwCalcNIST = A + B/T + C/T**2 + D/T**3 + (E + F/T + G/T**2)*np.log10(pw)\n",
    "logKwCalcNISTnoPressure = A + B/T + C/T**2 + D/T**3 \n",
    "\n",
    "################################################################################\n",
    "### Plot the data and the line fit.   \n",
    "################################################################################\n",
    "plt.rcdefaults()\n",
    "plt.style.use(github_styles_location + \"tufte.mplstyle\")        \n",
    "\n",
    "fig, ax = plt.subplots(nrows=1, ncols=1, figsize=(5,4))  \n",
    "\n",
    "\n",
    "ax.plot(T, logKwCalcNISTnoPressure, color='black', zorder=1, linestyle = \"--\", linewidth=0.4)\n",
    "ax.plot(T, logKwCalcNIST, color='black', zorder=1, linewidth=0.7)\n",
    "\n",
    "ax.scatter(Temp,np.log10(Kw), \n",
    "           marker = \"o\", s=32, \n",
    "           color=\"white\", edgecolor = \"black\",\n",
    "           linewidth = 0.5, zorder=3)\n",
    "\n",
    "ax.set(ylabel=r\"$\\log{(K_W\\ /M^{2})}$\", \n",
    "       xlabel=r\"Temp. $/K$\",\n",
    "#           xlim=[-0.01,0.35],                  \n",
    "#          ylim=[-1.25,-0.7]\n",
    "      \n",
    "      )\n",
    "ax.axvline(17+273.15, linewidth = 0.4, color = \"lightgray\", zorder=0)\n",
    "\n",
    "\n",
    "T=17+273.15\n",
    "line = df2.loc[df2[\"temp degC\"]==17]\n",
    "pw = line[\"d g/cm\"]/1000\n",
    "\n",
    "logKwCalcNIST = A + B/T + C/T**2 + D/T**3 + (E + F/T + G/T**2)*np.log10(pw)\n",
    "\n",
    "KW17 = logKwCalcNIST\n",
    "print(f\"log Kw at 17 deg is {KW17}\")\n",
    "\n",
    "plt.savefig(\"plots/KW_plot.pdf\")\n",
    "plt.show()"
   ]
  },
  {
   "cell_type": "code",
   "execution_count": null,
   "id": "9010bc0f",
   "metadata": {},
   "outputs": [],
   "source": []
  }
 ],
 "metadata": {
  "kernelspec": {
   "display_name": "Python 3 (ipykernel)",
   "language": "python",
   "name": "python3"
  },
  "language_info": {
   "codemirror_mode": {
    "name": "ipython",
    "version": 3
   },
   "file_extension": ".py",
   "mimetype": "text/x-python",
   "name": "python",
   "nbconvert_exporter": "python",
   "pygments_lexer": "ipython3",
   "version": "3.12.2"
  },
  "toc-showcode": true
 },
 "nbformat": 4,
 "nbformat_minor": 5
}
