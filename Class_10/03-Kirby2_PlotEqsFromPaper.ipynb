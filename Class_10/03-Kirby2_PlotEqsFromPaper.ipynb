{
 "cells": [
  {
   "cell_type": "markdown",
   "metadata": {},
   "source": [
    "# Example 2 - Part 3\n",
    "## pH-Rate Profile Example - Kirby 2002\n",
    "\n",
    "Tony Kirby is one of the giants of physical organic and bio-organic chemistry. In this paper he follows up on a decades-long series of papers investigating the mechanism of *amylases* that catalyze the hydrolysis of acetal groups in polysaccharide chains.\n",
    "\n",
    "This *Python* notebook will plot the integrated rate equations that were used in the paper. As you now know the equation 3 in the paper is incorrect. **Here we will derive the correct equation.**\n",
    "\n",
    "``Concerted general acid and nucleophilic catalysis of acetalhydrolysis. A simple model for the lysozyme mechanism''. K.E.S. Deana, A.J. Kirby, *J. Chem. Soc., Perkin Trans. 2*, **2002**, 428-432. https://doi.org/10.1039/B110948K. \n",
    "\n",
    "\n",
    "## A Consecutive Reaction\n",
    "\n",
    "For a consecutive reaction of the form...\n",
    "\n",
    "$$\\text{A} \\overset{k_1}{\\longrightarrow} \\text{I} $$\n",
    "$$\\text{I} \\overset{k_2}{\\longrightarrow} \\text{P}$$\n",
    "\n",
    "...we can easily derive the integrated rate equations that describe the concentrations of all three species over time. These are available in any physical chemistry book (and are also derived using *Python* code is the latter part of this notebook) and are presented below...\n",
    "\n",
    "$$\n",
    "\\begin{align}\n",
    "\\left[ \\text{A} \\right]_t &= \\left[ \\text{A} \\right]_0 e^{-k_1 t} \\\\\n",
    "\\left[I \\right]_t &= \\left[ \\text{A} \\right]_0 \\frac{ k_{1} }{k_1 - k_2}\\left( e^{- k_2 t} - e^{- k_1 t}\\right) \\\\\n",
    "\\left[P \\right]_t &= \\left[ \\text{A} \\right]_0 \\left( \\left( 1 -  e^{- k_1 t} \\right) - \\frac{k_1}{k_1 - k_2} \\left( e^{- k_2 t} - e^{- k_1 t} \\right) \\right)\n",
    "\\end{align}\n",
    "$$\n",
    "\n",
    "\n",
    "## Deriving the Equations\n",
    "\n",
    "the reaction in Kirby's system is described as...\n",
    "\n",
    "\n",
    "$$\\text{A} \\overset{k_1}{\\longrightarrow} \\text{I} + \\text{P}$$\n",
    "$$\\text{I} \\overset{k_2}{\\longrightarrow} \\text{P}$$\n",
    "\n",
    "This system is very similar to the simple consecutive reaction above with the additional fact that the product (P) is produced in two separate events. P will appear as part of a first-order reaction in the first step. It will also appear as a aproduct of a consecutive reaction in the second step. So the amount of product will be the sum of the two processes.\n",
    "\n",
    "$$\n",
    "\\begin{align}\n",
    "\\left[P \\right]_t &= \\left[ \\text{A} \\right]_0\\left(1-e^{-k1 t}\\right)\\text{ and } \\\\\n",
    "\\left[P \\right]_t &= \\left[ \\text{A} \\right]_0 \\left( \\left(1 -  e^{- k_{1} t}\\right) - \\frac{k_{1} }{k_{1} - k_{2}}\\left(e^{- k_{2} t} - e^{- k_{1} t}\\right)\\right)\n",
    "\\end{align}\n",
    "$$\n",
    "\n",
    "Adding the two amounts of P produced will get the equation that describes P vs time.\n",
    "$$\n",
    "\\left[P \\right]_t = \\left[ \\text{A} \\right]_0\\left(1-e^{-k1 t}\\right) + \\left[ \\text{A} \\right]_0 \\left( \\left(1 -  e^{- k_{1} t}\\right) - \\frac{k_{1} }{k_{1} - k_{2}}\\left(e^{- k_{2} t} - e^{- k_{1} t}\\right)\\right) \n",
    "$$\n",
    "\n",
    "...which simplifies to give...\n",
    "$$\n",
    "\\left[P \\right]_t = \\left[ \\text{A} \\right]_0 \\left( 2 \\left(1 -  e^{- k_{1} t}\\right) - \\frac{k_{1} }{k_{1} - k_{2}}\\left(e^{- k_{2} t} - e^{- k_{1} t}\\right)\\right) \n",
    "$$\n",
    "\n",
    "\n",
    "\n",
    "Below is *Python* code that creates the equation that describes absorbance vs time for the reaction. This is the correct version of eq. 3 from the paper.\n",
    "\n",
    "$$\\text{Abs} = \\text{Abs}_0 e^{-k_1 t}\n",
    "             + \\frac{\\epsilon_I}{\\epsilon_A}\\text{Abs}_0\\frac{k_1}{k_2-k_1}\\left(e^{-k_1 t} - e^{-k_2 t} \\right)\n",
    "             + \\frac{\\epsilon_P}{\\epsilon_A}\\text{Abs}_0\\left[ 2 - 2 e^{-k_1 t} - \\frac{k_1}{k_2-k_1}\\left(e^{-k_1 t} - e^{-k_2 t}\\right) \\right]$$\n",
    "\n",
    "We will separate this equation into the components for the absorbance for each of the three species and then add them all together to get the total absorbance. This will allow us to plot the absorbance due to each species along with the combined total.\n",
    "\n",
    "*Note: The code below is identical to that on the previous notebook. All I did was fix the term for `Pt_expr` and the rest took care of itself.*"
   ]
  },
  {
   "cell_type": "code",
   "execution_count": 3,
   "metadata": {},
   "outputs": [
    {
     "data": {
      "text/latex": [
       "$\\displaystyle Abs_{A} = Abs_{0} e^{- k_{1} t}$"
      ],
      "text/plain": [
       "Eq(Abs_A, Abs_0*exp(-k1*t))"
      ]
     },
     "metadata": {},
     "output_type": "display_data"
    },
    {
     "data": {
      "text/latex": [
       "$\\displaystyle Abs_{I} = \\frac{Abs_{0} \\epsilon_{I} k_{1} \\left(- e^{- k_{2} t} + e^{- k_{1} t}\\right)}{\\epsilon_{A} \\left(- k_{1} + k_{2}\\right)}$"
      ],
      "text/plain": [
       "Eq(Abs_I, Abs_0*\\epsilon_I*k1*(-exp(-k2*t) + exp(-k1*t))/(\\epsilon_A*(-k1 + k2)))"
      ]
     },
     "metadata": {},
     "output_type": "display_data"
    },
    {
     "data": {
      "text/latex": [
       "$\\displaystyle Abs_{P} = \\frac{Abs_{0} \\epsilon_{P} \\left(- \\frac{k_{1} \\left(- e^{- k_{2} t} + e^{- k_{1} t}\\right)}{- k_{1} + k_{2}} + 2 - 2 e^{- k_{1} t}\\right)}{\\epsilon_{A}}$"
      ],
      "text/plain": [
       "Eq(Abs_P, Abs_0*\\epsilon_P*(-k1*(-exp(-k2*t) + exp(-k1*t))/(-k1 + k2) + 2 - 2*exp(-k1*t))/\\epsilon_A)"
      ]
     },
     "metadata": {},
     "output_type": "display_data"
    },
    {
     "data": {
      "text/latex": [
       "$\\displaystyle Abs_{t} = Abs_{0} e^{- k_{1} t} + \\frac{Abs_{0} \\epsilon_{I} k_{1} \\left(- e^{- k_{2} t} + e^{- k_{1} t}\\right)}{\\epsilon_{A} \\left(- k_{1} + k_{2}\\right)} + \\frac{Abs_{0} \\epsilon_{P} \\left(- \\frac{k_{1} \\left(- e^{- k_{2} t} + e^{- k_{1} t}\\right)}{- k_{1} + k_{2}} + 2 - 2 e^{- k_{1} t}\\right)}{\\epsilon_{A}}$"
      ],
      "text/plain": [
       "Eq(Abs_t, Abs_0*exp(-k1*t) + Abs_0*\\epsilon_I*k1*(-exp(-k2*t) + exp(-k1*t))/(\\epsilon_A*(-k1 + k2)) + Abs_0*\\epsilon_P*(-k1*(-exp(-k2*t) + exp(-k1*t))/(-k1 + k2) + 2 - 2*exp(-k1*t))/\\epsilon_A)"
      ]
     },
     "metadata": {},
     "output_type": "display_data"
    },
    {
     "name": "stdout",
     "output_type": "stream",
     "text": [
      "Examine the equations for AbsA, AbsI, AbsP and AbsT and convince\n",
      "yourself that they are the same as in the paper.\n"
     ]
    }
   ],
   "source": [
    "import sympy as sym\n",
    "import matplotlib.pyplot as plt\n",
    "import numpy as np\n",
    "\n",
    "# create math symbols for the equations\n",
    "t = sym.symbols('t')     \n",
    "t, k1, k2, A0 = sym.symbols('t k1 k2 A_0') \n",
    "eA, eI, eP = sym.symbols(r'\\epsilon_A \\epsilon_I \\epsilon_P')\n",
    "At, It, Pt = sym.symbols('A_t, I_t, P_t') \n",
    "Abs0, AbsA, AbsI, AbsP = sym.symbols('Abs_0, Abs_A, Abs_I, Abs_P')\n",
    "Abst = sym.Symbol('Abs_t')    \n",
    "\n",
    "# create expressions that define the concentrations of reactants and products\n",
    "A0_expr = Abs0/eA\n",
    "At_expr = A0 * sym.exp(-k1 * t)\n",
    "It_expr = A0 * k1/(k2-k1) * (sym.exp(-k1*t)-sym.exp(-k2*t))\n",
    "Pt_expr = A0 * (2 - 2*sym.exp(-k1 * t) - k1/(k2-k1) * (sym.exp(-k1*t)-sym.exp(-k2*t)))\n",
    "\n",
    "#display(At_expr, It_expr, Pt_expr)\n",
    "\n",
    "# Create expressions for absorbance due to each species in terms of Abs(t=0)\n",
    "AbsA_expr = eA * At\n",
    "AbsI_expr = eI * It\n",
    "AbsP_expr = eP * Pt\n",
    "\n",
    "#substitute expressions for Absorbance into expressions for concentration\n",
    "AbsA_expr = AbsA_expr.subs({At: At_expr})\n",
    "AbsI_expr = AbsI_expr.subs({It: It_expr})\n",
    "AbsP_expr = AbsP_expr.subs({Pt: Pt_expr})\n",
    "\n",
    "#display(AbsA_expr, AbsI_expr, AbsP_expr)\n",
    "\n",
    "AbsA_expr = AbsA_expr.subs({A0: A0_expr})\n",
    "AbsI_expr = AbsI_expr.subs({A0: A0_expr})\n",
    "AbsP_expr = AbsP_expr.subs({A0: A0_expr})\n",
    "Abst_expr = AbsA_expr + AbsI_expr + AbsP_expr\n",
    "display(sym.Eq(AbsA,AbsA_expr), \n",
    "        sym.Eq(AbsI,AbsI_expr), \n",
    "        sym.Eq(AbsP,AbsP_expr), \n",
    "        sym.Eq(Abst,Abst_expr))\n",
    "\n"
   ]
  },
  {
   "cell_type": "markdown",
   "metadata": {},
   "source": [
    "## Plotting the Model\n",
    "\n",
    "Examine the equations for AbsA, AbsI, AbsP and AbsT and convince yourself that they are correct. Using these equations, let us plot the absorbance for $Abs_A$, $Abs_I$, $Abs_P$, and $Abs_t$. We will use values for $k_1$ and $k_2$ from the data in figure 1. The relative values of $Abs_0$, $\\epsilon_A$, $\\epsilon_I$,, and $\\epsilon_P$ are guesstimates (the author did not provide this data.)"
   ]
  },
  {
   "cell_type": "code",
   "execution_count": 5,
   "metadata": {},
   "outputs": [
    {
     "data": {
      "image/png": "[encoded data removed]",
      "text/plain": [
       "<Figure size 400x300 with 1 Axes>"
      ]
     },
     "metadata": {},
     "output_type": "display_data"
    }
   ],
   "source": [
    "## Plot the function for Abst and its components\n",
    "\n",
    "time = np.linspace(0,10000,100)  # 100 data points between 0 and 1E5 seconds\n",
    "k1_value = 2E-3\n",
    "k2_value = 2E-4\n",
    "Abs0_value = 0.1\n",
    "eA_value = 1       # use ratio so that eI/eA = 0.6 for example\n",
    "eI_value = 0.6\n",
    "eP_value = 3\n",
    "\n",
    "# Create dictionaries contains substitution for each term\n",
    "subs_dict_At = { \n",
    "                k1: k1_value, \n",
    "                Abs0: Abs0_value\n",
    "                }\n",
    "subs_dict_It = {\n",
    "                k1: k1_value,\n",
    "                k2: k2_value,\n",
    "                Abs0: Abs0_value,\n",
    "                eA: eA_value,\n",
    "                eI: eI_value,\n",
    "                }\n",
    "subs_dict_Pt = {\n",
    "                k1: k1_value,\n",
    "                k2: k2_value,\n",
    "                Abs0: Abs0_value,\n",
    "                eA: eA_value,\n",
    "                eP: eP_value,\n",
    "                }\n",
    "subs_dict_Abst = {\n",
    "                  k1: k1_value,\n",
    "                  k2: k2_value,\n",
    "                  Abs0: Abs0_value,\n",
    "                  eA: eA_value,\n",
    "                  eI: eI_value,\n",
    "                  eP: eP_value,\n",
    "                  }\n",
    "\n",
    "# plot each term using the values established above\n",
    "t_range = [t,0,10000]\n",
    "p1 = sym.plot(AbsA_expr.subs(subs_dict_At),t_range, show=False)\n",
    "p2 = sym.plot(AbsI_expr.subs(subs_dict_It),t_range, show=False)\n",
    "p3 = sym.plot(AbsP_expr.subs(subs_dict_Pt),t_range, show=False)\n",
    "p4 = sym.plot(Abst_expr.subs(subs_dict_Abst),t_range, show=False)\n",
    "\n",
    "p1.extend(p2)   # add all plots to p1\n",
    "p1.extend(p3)\n",
    "p1.extend(p4)\n",
    "\n",
    "# Outout the combined plot\n",
    "\n",
    "p1.size = [4,3]           # display settings for p1\n",
    "p1.xlabel = r\"time $/s$\"\n",
    "p1.ylabel = r\"Absorbance\"\n",
    "\n",
    "p1.title=\"All values\"\n",
    "p1.ylim = [None,None]\n",
    "p1.save(\"p1_2.pdf\")   # save and show p1\n",
    "#p1.show()          # show p1\n",
    "\n"
   ]
  },
  {
   "cell_type": "markdown",
   "metadata": {},
   "source": []
  },
  {
   "cell_type": "markdown",
   "metadata": {},
   "source": [
    "## Conclusions\n",
    "\n",
    "We can see that the equation used in the paper gived nonsensical results with the absorbance due to the product, P, going into extremely negative values. This is impossible. When looking only in the positive region we see expected behaviour for the absorbance due to A and I.\n",
    "\n",
    "This equation has an error. You will need to derive the correct equation and then modify this *Python* notebook to check it. It seems that the term for $Abs_P$ is the source of the error."
   ]
  }
 ],
 "metadata": {
  "kernelspec": {
   "display_name": "base",
   "language": "python",
   "name": "python3"
  },
  "language_info": {
   "codemirror_mode": {
    "name": "ipython",
    "version": 3
   },
   "file_extension": ".py",
   "mimetype": "text/x-python",
   "name": "python",
   "nbconvert_exporter": "python",
   "pygments_lexer": "ipython3",
   "version": "3.12.4"
  }
 },
 "nbformat": 4,
 "nbformat_minor": 2
}
