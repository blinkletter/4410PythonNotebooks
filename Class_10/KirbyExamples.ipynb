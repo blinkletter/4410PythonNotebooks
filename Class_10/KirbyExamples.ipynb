{
 "cells": [
  {
   "cell_type": "markdown",
   "metadata": {},
   "source": [
    "# Comments on the Examples\n",
    "\n",
    "We have seen two sets of data that give pH rate prfiles from work dony in Tony Kirby's group at cambridge. \n",
    "\n",
    "## Example 2\n",
    "\n",
    "In the second example the author describe how they obtained the rate constants for each step in a consecutive reaction. \n",
    "\n",
    "the reaction scheme is shown below...\n",
    "\n",
    "$$A \\xrightarrow{k_1} B + C \\\\ \n",
    "B \\xrightarrow{k_2} C$$\n",
    "\n",
    "The total reaction is...\n",
    "\n",
    "$$A \\xrightarrow{k_{obs{}}} 2C $$\n",
    "\n",
    "There are two possibilities.\n",
    "\n",
    "1. The first step is rate-determining. The kinetics will be the same as if the reaction produced two products in a single step.\n",
    "2. The second is rate-determining.The kinetics will follow that of a consecutive reaction. See notebook `6_PhysOrgExamples/6_1_start.ipynb` for some code that has already been written for consecutive reactions.\n",
    "\n",
    "The author present integrated rate equations for the observed absorbance for each of the two cases above. For the first case they used the total reaction with $k_{obs}$. In the second case they presented a much more complicatde equation. Can you integrate these equations. I can't. Thats why I use *Python*."
   ]
  },
  {
   "cell_type": "markdown",
   "metadata": {},
   "source": [
    "## Symbolic Integration\n",
    "\n",
    "For the first case we can treat it as a simple first-order reaction with the rate consant of $k_{obs}$.\n",
    "\n",
    "*SymPy* can perform integration and differentiation operations on many expressions. Let us explore integrating the simple rate equations that you are familiar with.\n",
    "\n",
    "# Integrating First Order Reaction for A\n",
    "\n",
    "The basic first order reaction might be described as such...\n",
    "\n",
    "$$ A \\xrightarrow{k} 2C $$ \n",
    "\n",
    "The rate can be expressed as the disappearance of A over time and is equal to the rate constant multiplied by the concentration of reacatant at a given time point...\n",
    "\n",
    "$$ -\\frac{d}{dt}[A]_t = k[A]_t $$\n",
    "\n",
    "We can state that the amount of reactant consumed at a give time point is $x$ and that the concentration of reactant is the initial concentration less this value.\n",
    "\n",
    "$$ [A]_t = [A]_0 - x $$\n",
    "\n",
    "Substitute this into the equation for rate and we get...\n",
    "\n",
    "$$ -\\frac{d}{d t}([A]_0 - x) = k([A]_0 - x) $$\n",
    "\n",
    "...which can be simplified to give...\n",
    "\n",
    " $$   \\frac{d x}{d t} = k([A]_0 - x) $$\n",
    "\n",
    "In your first year calculus class you would solve this by collecting the differentials for $x$ and $t$ on either side of the equation and then integrating each side over the span of time.\n",
    "\n",
    "$$ \\frac{d x}{[A]_0 - x} = k\\,dt $$\n",
    "$$ \\int_0^x \\frac{d x}{[A]_0 - x} = \\int_0^t k\\,dt $$\n",
    "\n",
    "# Using *SymPy* Substitutions\n",
    "Here I will demonstrate the symbolic math features of *SymPy*. Here we start with the rate law and use *SymPy* to make the substitutions discussed above. We will start with...\n",
    "\n",
    "$$ -\\frac{d}{dt}[A]_t = k[A]_t $$\n",
    "\n",
    "...and then substitute in the expression for $A_t$ in terms of $x$ using *SymPy*\n",
    "\n",
    "$$ [A]_t = [A]_0 - x $$\n",
    "\n",
    "We will the solve the differential that is prosuced by the substitution. Observe we get the same answer.\n",
    "\n",
    "# Absorbance\n",
    "\n",
    "he authors observed the reaction as absorbance at 256nm over time. The absorbance contributed by each species is give by Beers law (assuming a 1 cm path length, as always)\n",
    "\n",
    "$$ Abs_A = \\epsilon_A [A]$$"
   ]
  },
  {
   "cell_type": "code",
   "execution_count": 13,
   "metadata": {},
   "outputs": [
    {
     "name": "stdout",
     "output_type": "stream",
     "text": [
      "The initial differential equation is...\n"
     ]
    },
    {
     "data": {
      "text/latex": [
       "$\\displaystyle \\frac{d}{d t} \\left(- A_{t}\\right) = A_{t} k$"
      ],
      "text/plain": [
       "Eq(Derivative(-A_t, t), A_t*k)"
      ]
     },
     "metadata": {},
     "output_type": "display_data"
    },
    {
     "name": "stdout",
     "output_type": "stream",
     "text": [
      "After substituting the differential equation is...\n"
     ]
    },
    {
     "data": {
      "text/latex": [
       "$\\displaystyle \\frac{\\partial}{\\partial t} \\left(- A_{0} + x_{t}{\\left(t \\right)}\\right) = k \\left(A_{0} - x_{t}{\\left(t \\right)}\\right)$"
      ],
      "text/plain": [
       "Eq(Derivative(-A0 + x_t(t), t), k*(A0 - x_t(t)))"
      ]
     },
     "metadata": {},
     "output_type": "display_data"
    },
    {
     "name": "stdout",
     "output_type": "stream",
     "text": [
      "The integrated equation starting at x=0 when t=0 is...\n"
     ]
    },
    {
     "data": {
      "text/latex": [
       "$\\displaystyle x_{t}{\\left(t \\right)} = A_{0} - A_{0} e^{- k t}$"
      ],
      "text/plain": [
       "Eq(x_t(t), A0 - A0*exp(-k*t))"
      ]
     },
     "metadata": {},
     "output_type": "display_data"
    }
   ],
   "source": [
    "import sympy as sym\n",
    "\n",
    "t = sym.symbols('t')     # create t as a 'symbol', not a variable\n",
    "k = sym.symbols('k')     # create k as a 'symbol'\n",
    "At = sym.symbols('A_t')  # create At as a 'symbol'\n",
    "A0 = sym.symbols('A0')   # create A0 as a 'symbol'\n",
    "\n",
    "xt = sym.Function('x_t')    # create x as a 'function', not a variable\n",
    "\n",
    "lhs = sym.Derivative(-At, t) # Using Derivative function to get differential of A(t) w.r.t. t\n",
    "                            # could not used At.diff(t) because At is not a function \n",
    "rhs = k*(At)\n",
    "\n",
    "diffeq = sym.Eq(lhs, rhs)   # create a sympy equation\n",
    "print(\"The initial differential equation is...\")\n",
    "display(diffeq)             # display that equation\n",
    "\n",
    "diffeq = diffeq.subs({At: (A0 - xt(t))})\n",
    "\n",
    "print(\"After substituting the differential equation is...\")\n",
    "display(diffeq)             # display that equation\n",
    "\n",
    "\n",
    "print(\"The integrated equation starting at x=0 when t=0 is...\")\n",
    "res = sym.dsolve(diffeq, ics={xt(0): 0})     # Solve the differential equation. \n",
    "                                            # Initial condition is x(t) = 0 when t = 0\n",
    "display(res)\n",
    "#dir(diffeq)"
   ]
  },
  {
   "cell_type": "code",
   "execution_count": 51,
   "metadata": {},
   "outputs": [
    {
     "name": "stdout",
     "output_type": "stream",
     "text": [
      "The expression for x(t) is...\n"
     ]
    },
    {
     "data": {
      "text/latex": [
       "$\\displaystyle A_{0} - A_{0} e^{- k t}$"
      ],
      "text/plain": [
       "A0 - A0*exp(-k*t)"
      ]
     },
     "metadata": {},
     "output_type": "display_data"
    },
    {
     "name": "stdout",
     "output_type": "stream",
     "text": [
      "The equation for A(t) in terms of x(t) is...\n"
     ]
    },
    {
     "data": {
      "text/latex": [
       "$\\displaystyle A_{t} = A_{0} - x$"
      ],
      "text/plain": [
       "Eq(A_t, A0 - x)"
      ]
     },
     "metadata": {},
     "output_type": "display_data"
    },
    {
     "name": "stdout",
     "output_type": "stream",
     "text": [
      "The equation for A(t) after substituting in the term for x(t)\n"
     ]
    },
    {
     "data": {
      "text/latex": [
       "$\\displaystyle A_{t} = A_{0} e^{- k t}$"
      ],
      "text/plain": [
       "Eq(A_t, A0*exp(-k*t))"
      ]
     },
     "metadata": {},
     "output_type": "display_data"
    }
   ],
   "source": [
    "x = sym.symbols('x')     # create x as a 'symbol', not a variable or function\n",
    "\n",
    "xt_rhs = res.rhs   # Get the expression for x(t)\n",
    "print(\"The expression for x(t) is...\")\n",
    "display(xt_rhs)\n",
    "\n",
    "eq1 = sym.Eq(At, A0-x)  # create an equation that defines A(t) in terms of A0 and x\n",
    "print(\"The equation for A(t) in terms of x(t) is...\")\n",
    "display(eq1)\n",
    "\n",
    "eq1 = eq1.subs(x, xt_rhs)  # xt is an expression for x. Substitute x for xt.\n",
    "print(\"The equation for A(t) after substituting in the term for x(t)\")\n",
    "display(eq1)\n"
   ]
  },
  {
   "cell_type": "markdown",
   "metadata": {},
   "source": [
    "# Integrating First Order Reaction for C\n",
    "\n",
    "We could find the expression for C easily by just stating that $[C]_t = 2([A]_0-[A]_t)$. \n"
   ]
  },
  {
   "cell_type": "code",
   "execution_count": 40,
   "metadata": {},
   "outputs": [
    {
     "name": "stdout",
     "output_type": "stream",
     "text": [
      "The expression for x(t) is...\n"
     ]
    },
    {
     "data": {
      "text/latex": [
       "$\\displaystyle A_{0} - A_{0} e^{- k t}$"
      ],
      "text/plain": [
       "A0 - A0*exp(-k*t)"
      ]
     },
     "metadata": {},
     "output_type": "display_data"
    },
    {
     "name": "stdout",
     "output_type": "stream",
     "text": [
      "The equation for C(t) in terms of x(t) is...\n"
     ]
    },
    {
     "data": {
      "text/latex": [
       "$\\displaystyle C_{t} = 2 A_{0} - 2 A_{0} e^{- k t}$"
      ],
      "text/plain": [
       "Eq(C_t, 2*A0 - 2*A0*exp(-k*t))"
      ]
     },
     "metadata": {},
     "output_type": "display_data"
    }
   ],
   "source": [
    "xt_rhs = res.rhs   # Get the expression for x(t)\n",
    "print(\"The expression for x(t) is...\")\n",
    "display(xt_rhs)\n",
    "\n",
    "eq2 = sym.Eq(Ct, 2*xt_rhs)  # create an equation that defines X(t) in terms of A0 and x\n",
    "print(\"The equation for C(t) in terms of x(t) is...\")\n",
    "display(eq2)"
   ]
  },
  {
   "cell_type": "markdown",
   "metadata": {},
   "source": [
    "## Absorbance\n",
    "\n",
    "the authors followed the reaction by absorbance. The amount of $A$ is decreasing and the amount of $C$ is increasing. If the final aborbance is different than the initial (e.q. A and C have different extinction coefficients) then we should be able to get kinetic parameters from an equation that describes the change in absorbance vs. time. \n",
    "\n",
    "The total $Abs$ will be $Abs_A(t) + Abs_C(t)$\n",
    "\n",
    "And we can say that...\n",
    "\n",
    "$$Abs(t) = \\epsilon_A\\cdot A_t + \\epsilon_C\\cdot C_t$$\n",
    "\n",
    "$$Abs(t) = \\epsilon_A\\cdot A_{0} e^{- k t} + \\epsilon_C\\cdot 2 A_{0}(1-e^{- k t})$$\n",
    "\n",
    "When we begin, the initial absorbance is due to $[A]_0$ and so we can say that $Abs_0 = \\epsilon_A\\cdot A_{0}$ and so if...\n",
    "\n",
    "$$A_{0} = \\frac{Abs_0}{\\epsilon_A}$$\n",
    "\n",
    "...then we can say that\n",
    "\n",
    "$$Abs(t) = \\epsilon_A\\cdot \\frac{Abs_0}{\\epsilon_A} e^{- k t} + \\epsilon_C\\cdot 2 \\frac{Abs_0}{\\epsilon_A}(1-e^{- k t})$$\n",
    "\n",
    "and after we simplify we get the same equation as the authors present in their paper (eq. 2). It is a useful exercise to check the math in any paper. Printing errors are common, especially in typeset equations and figures that are often reinterpretted in the printing process (especially a risk in older papers.)\n",
    "\n",
    "$$Abs(t) =  {Abs_0} e^{- k t} + \\frac{\\epsilon_C}{\\epsilon_A} 2 Abs_0(1-e^{- k t})$$\n",
    "\n",
    "Now let us do all of that with *Python*\n"
   ]
  },
  {
   "cell_type": "code",
   "execution_count": 70,
   "metadata": {},
   "outputs": [
    {
     "data": {
      "text/latex": [
       "$\\displaystyle A_{t} = A_{0} e^{- k t}$"
      ],
      "text/plain": [
       "Eq(A_t, A0*exp(-k*t))"
      ]
     },
     "metadata": {},
     "output_type": "display_data"
    },
    {
     "data": {
      "text/latex": [
       "$\\displaystyle C_{t} = 2 A_{0} - 2 A_{0} e^{- k t}$"
      ],
      "text/plain": [
       "Eq(C_t, 2*A0 - 2*A0*exp(-k*t))"
      ]
     },
     "metadata": {},
     "output_type": "display_data"
    },
    {
     "data": {
      "text/latex": [
       "$\\displaystyle Abs_{0} e^{- k t} + \\epsilon_{C} \\left(\\frac{2 Abs_{0}}{\\epsilon_{A}} - \\frac{2 Abs_{0} e^{- k t}}{\\epsilon_{A}}\\right)$"
      ],
      "text/plain": [
       "Abs_0*exp(-k*t) + \\epsilon_C*(2*Abs_0/\\epsilon_A - 2*Abs_0*exp(-k*t)/\\epsilon_A)"
      ]
     },
     "metadata": {},
     "output_type": "display_data"
    },
    {
     "data": {
      "text/latex": [
       "$\\displaystyle Abs_{0} e^{- k t} + \\frac{\\epsilon_{C} \\left(2 Abs_{0} - 2 Abs_{0} e^{- k t}\\right)}{\\epsilon_{A}}$"
      ],
      "text/plain": [
       "Abs_0*exp(-k*t) + \\epsilon_C*(2*Abs_0 - 2*Abs_0*exp(-k*t))/\\epsilon_A"
      ]
     },
     "metadata": {},
     "output_type": "display_data"
    },
    {
     "data": {
      "text/latex": [
       "$\\displaystyle Abs_{0} e^{- k t} + \\frac{2 Abs_{0} \\epsilon_{C} \\left(1 - e^{- k t}\\right)}{\\epsilon_{A}}$"
      ],
      "text/plain": [
       "Abs_0*exp(-k*t) + 2*Abs_0*\\epsilon_C*(1 - exp(-k*t))/\\epsilon_A"
      ]
     },
     "metadata": {},
     "output_type": "display_data"
    }
   ],
   "source": [
    "display(eq1)\n",
    "display(eq2)\n",
    "\n",
    "At_ = eq1.rhs\n",
    "Ct_ = eq2.rhs\n",
    "\n",
    "e_A = sym.symbols(r'\\epsilon_A') \n",
    "e_C = sym.symbols(r'\\epsilon_C') \n",
    "\n",
    "Abs_A = sym.symbols(r'Abs_A')\n",
    "Abs_C = sym.symbols(r'Abs_C')\n",
    "Abs_0 = sym.symbols('Abs_0')\n",
    "\n",
    "Total = e_A*At_ + e_C*Ct_\n",
    "Total = Total.subs(A0, Abs_0/e_A)\n",
    "display(Total)\n",
    "\n",
    "Total = sym.collect(Total, e_A)\n",
    "display(Total)\n",
    "\n",
    "Total = sym.collect(Total,2*Abs_0)\n",
    "display(Total)\n"
   ]
  },
  {
   "cell_type": "code",
   "execution_count": null,
   "metadata": {},
   "outputs": [],
   "source": []
  },
  {
   "cell_type": "code",
   "execution_count": 83,
   "metadata": {},
   "outputs": [
    {
     "name": "stdout",
     "output_type": "stream",
     "text": [
      "V = \n"
     ]
    },
    {
     "data": {
      "text/latex": [
       "$\\displaystyle \\left[\\begin{matrix}0 & - \\frac{k_{1}^{2}}{k_{2} k_{3}} + \\frac{k_{1}}{k_{3}} + \\frac{k_{1}}{k_{2}} - 1 & 0 & 0\\\\0 & \\frac{k_{1} \\left(k_{1} - k_{3}\\right)}{k_{2} k_{3}} & \\frac{k_{2} - k_{3}}{k_{3}} & 0\\\\0 & - \\frac{k_{1}}{k_{3}} & - \\frac{k_{2}}{k_{3}} & -1\\\\1 & 1 & 1 & 1\\end{matrix}\\right]$"
      ],
      "text/plain": [
       "Matrix([\n",
       "[0, -k1**2/(k2*k3) + k1/k3 + k1/k2 - 1,            0,  0],\n",
       "[0,               k1*(k1 - k3)/(k2*k3), (k2 - k3)/k3,  0],\n",
       "[0,                             -k1/k3,       -k2/k3, -1],\n",
       "[1,                                  1,            1,  1]])"
      ]
     },
     "metadata": {},
     "output_type": "display_data"
    },
    {
     "name": "stdout",
     "output_type": "stream",
     "text": [
      "D = \n"
     ]
    },
    {
     "data": {
      "text/latex": [
       "$\\displaystyle \\left[\\begin{matrix}0 & 0 & 0 & 0\\\\0 & - k_{1} & 0 & 0\\\\0 & 0 & - k_{2} & 0\\\\0 & 0 & 0 & - k_{3}\\end{matrix}\\right]$"
      ],
      "text/plain": [
       "Matrix([\n",
       "[0,   0,   0,   0],\n",
       "[0, -k1,   0,   0],\n",
       "[0,   0, -k2,   0],\n",
       "[0,   0,   0, -k3]])"
      ]
     },
     "metadata": {},
     "output_type": "display_data"
    },
    {
     "name": "stdout",
     "output_type": "stream",
     "text": [
      "x (t) = \n"
     ]
    },
    {
     "data": {
      "text/latex": [
       "$\\displaystyle \\left[\\begin{matrix}A_{0} e^{- k_{1} t}\\\\\\frac{A_{0} k_{1} \\left(e^{k_{1} t} - e^{k_{2} t}\\right) e^{- t \\left(k_{1} + k_{2}\\right)}}{k_{1} - k_{2}}\\\\\\frac{A_{0} k_{1} k_{2} \\left(k_{1} e^{t \\left(k_{1} + k_{2}\\right)} - k_{1} e^{t \\left(k_{1} + k_{3}\\right)} - k_{2} e^{t \\left(k_{1} + k_{2}\\right)} + k_{2} e^{t \\left(k_{2} + k_{3}\\right)} + k_{3} e^{t \\left(k_{1} + k_{3}\\right)} - k_{3} e^{t \\left(k_{2} + k_{3}\\right)}\\right) e^{- t \\left(k_{1} + k_{2} + k_{3}\\right)}}{k_{1}^{2} k_{2} - k_{1}^{2} k_{3} - k_{1} k_{2}^{2} + k_{1} k_{3}^{2} + k_{2}^{2} k_{3} - k_{2} k_{3}^{2}}\\\\- A_{0} \\left(\\frac{k_{1} k_{2} e^{- k_{3} t}}{k_{1} k_{2} - k_{1} k_{3} - k_{2} k_{3} + k_{3}^{2}} - \\frac{k_{1} k_{3} e^{- k_{2} t}}{k_{1} k_{2} - k_{1} k_{3} - k_{2}^{2} + k_{2} k_{3}} + \\frac{k_{2} k_{3} e^{- k_{1} t}}{k_{1}^{2} - k_{1} k_{2} - k_{1} k_{3} + k_{2} k_{3}} - 1\\right)\\end{matrix}\\right]$"
      ],
      "text/plain": [
       "Matrix([\n",
       "[                                                                                                                                                                                                                        A0*exp(-k1*t)],\n",
       "[                                                                                                                                                                            A0*k1*(exp(k1*t) - exp(k2*t))*exp(-t*(k1 + k2))/(k1 - k2)],\n",
       "[A0*k1*k2*(k1*exp(t*(k1 + k2)) - k1*exp(t*(k1 + k3)) - k2*exp(t*(k1 + k2)) + k2*exp(t*(k2 + k3)) + k3*exp(t*(k1 + k3)) - k3*exp(t*(k2 + k3)))*exp(-t*(k1 + k2 + k3))/(k1**2*k2 - k1**2*k3 - k1*k2**2 + k1*k3**2 + k2**2*k3 - k2*k3**2)],\n",
       "[                                                                     -A0*(k1*k2*exp(-k3*t)/(k1*k2 - k1*k3 - k2*k3 + k3**2) - k1*k3*exp(-k2*t)/(k1*k2 - k1*k3 - k2**2 + k2*k3) + k2*k3*exp(-k1*t)/(k1**2 - k1*k2 - k1*k3 + k2*k3) - 1)]])"
      ]
     },
     "metadata": {},
     "output_type": "display_data"
    }
   ],
   "source": [
    "from sympy import *\n",
    "\n",
    "t = Symbol('t')\n",
    "x10 = Symbol('A0')\n",
    "k1, k2, k3 = symbols('k1 k2 k3')\n",
    "\n",
    "A = Matrix([[-k1,  0,  0, 0],\n",
    "            [ k1,-k2,  0, 0],\n",
    "            [  0, k2,-k3, 0],\n",
    "            [  0,  0, k3, 0]])\n",
    "\n",
    "\n",
    "i_conc = Matrix([x10,0,0,0])\n",
    "\n",
    "V, D = A.diagonalize()\n",
    "\n",
    "\n",
    "print(\"V = \")\n",
    "display(V)\n",
    "print(\"D = \")\n",
    "display(D)\n",
    "\n",
    "print(\"x (t) = \")\n",
    "display(simplify(V * diag(1, exp(-k1*t),exp(-k2*t),exp(-k3*t)) * V**-1 * i_conc))\n",
    "\n"
   ]
  },
  {
   "cell_type": "code",
   "execution_count": 88,
   "metadata": {},
   "outputs": [
    {
     "name": "stdout",
     "output_type": "stream",
     "text": [
      "conc = \n"
     ]
    },
    {
     "data": {
      "text/latex": [
       "$\\displaystyle \\left[\\begin{matrix}A_{0}\\\\0\\\\0\\end{matrix}\\right]$"
      ],
      "text/plain": [
       "Matrix([\n",
       "[A0],\n",
       "[ 0],\n",
       "[ 0]])"
      ]
     },
     "metadata": {},
     "output_type": "display_data"
    },
    {
     "name": "stdout",
     "output_type": "stream",
     "text": [
      "V = \n"
     ]
    },
    {
     "data": {
      "text/latex": [
       "$\\displaystyle \\left[\\begin{matrix}0 & \\frac{k_{1} - k_{2}}{k_{2}} & 0\\\\0 & - \\frac{k_{1}}{k_{2}} & -1\\\\1 & 1 & 1\\end{matrix}\\right]$"
      ],
      "text/plain": [
       "Matrix([\n",
       "[0, (k1 - k2)/k2,  0],\n",
       "[0,       -k1/k2, -1],\n",
       "[1,            1,  1]])"
      ]
     },
     "metadata": {},
     "output_type": "display_data"
    },
    {
     "name": "stdout",
     "output_type": "stream",
     "text": [
      "D = \n"
     ]
    },
    {
     "data": {
      "text/latex": [
       "$\\displaystyle \\left[\\begin{matrix}0 & 0 & 0\\\\0 & - k_{1} & 0\\\\0 & 0 & - k_{2}\\end{matrix}\\right]$"
      ],
      "text/plain": [
       "Matrix([\n",
       "[0,   0,   0],\n",
       "[0, -k1,   0],\n",
       "[0,   0, -k2]])"
      ]
     },
     "metadata": {},
     "output_type": "display_data"
    },
    {
     "name": "stdout",
     "output_type": "stream",
     "text": [
      "x (t) = \n"
     ]
    },
    {
     "data": {
      "text/latex": [
       "$\\displaystyle \\left[\\begin{matrix}A_{0} e^{- k_{1} t}\\\\\\frac{A_{0} k_{1} e^{- k_{2} t}}{k_{1} - k_{2}} - \\frac{A_{0} k_{1} e^{- k_{1} t}}{k_{1} - k_{2}}\\\\\\frac{A_{0} \\left(- k_{1} e^{k_{1} t} + k_{2} e^{k_{2} t} + \\left(k_{1} - k_{2}\\right) e^{t \\left(k_{1} + k_{2}\\right)}\\right) e^{- t \\left(k_{1} + k_{2}\\right)}}{k_{1} - k_{2}}\\end{matrix}\\right]$"
      ],
      "text/plain": [
       "Matrix([\n",
       "[                                                                             A0*exp(-k1*t)],\n",
       "[                                   A0*k1*exp(-k2*t)/(k1 - k2) - A0*k1*exp(-k1*t)/(k1 - k2)],\n",
       "[A0*(-k1*exp(k1*t) + k2*exp(k2*t) + (k1 - k2)*exp(t*(k1 + k2)))*exp(-t*(k1 + k2))/(k1 - k2)]])"
      ]
     },
     "metadata": {},
     "output_type": "display_data"
    }
   ],
   "source": [
    "from sympy import *\n",
    "\n",
    "t = Symbol('t')\n",
    "x10 = Symbol('A0')\n",
    "k1, k2 = symbols('k1 k2')\n",
    "\n",
    "A = Matrix([[-k1,  0,  0],\n",
    "            [ k1,-k2,  0],\n",
    "            [  0, k2,  0]])\n",
    "\n",
    "\n",
    "i_conc = Matrix([x10,0,0])\n",
    "\n",
    "V, D = A.diagonalize()\n",
    "\n",
    "print(\"conc = \")\n",
    "display(i_conc)\n",
    "\n",
    "print(\"V = \")\n",
    "display(V)\n",
    "print(\"D = \")\n",
    "display(D)\n",
    "\n",
    "print(\"x (t) = \")\n",
    "display(simplify(V * diag(1, exp(-k1*t),exp(-k2*t)) * V**-1 * i_conc))\n",
    "\n"
   ]
  }
 ],
 "metadata": {
  "kernelspec": {
   "display_name": "main",
   "language": "python",
   "name": "python3"
  },
  "language_info": {
   "codemirror_mode": {
    "name": "ipython",
    "version": 3
   },
   "file_extension": ".py",
   "mimetype": "text/x-python",
   "name": "python",
   "nbconvert_exporter": "python",
   "pygments_lexer": "ipython3",
   "version": "3.12.2"
  }
 },
 "nbformat": 4,
 "nbformat_minor": 2
}
