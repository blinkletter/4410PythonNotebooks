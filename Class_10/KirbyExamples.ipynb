{
 "cells": [
  {
   "cell_type": "markdown",
   "metadata": {},
   "source": [
    "# Comments on the Examples\n",
    "\n",
    "We have seen two sets of data that give pH rate prfiles from work dony in Tony Kirby's group at cambridge. \n",
    "\n",
    "## Example 2\n",
    "\n",
    "In the second example the author describe how they obtained the rate constants for each step in a consecutive reaction. \n",
    "\n",
    "the reaction scheme is shown below...\n",
    "\n",
    "$$A \\xrightarrow{k_1} B + C \\\\ \n",
    "B \\xrightarrow{k_2} C$$\n",
    "\n",
    "The total reaction is...\n",
    "\n",
    "$$A \\xrightarrow{k_{obs{}}} 2C $$\n",
    "\n",
    "There are two possibilities.\n",
    "\n",
    "1. The first step is rate-determining. The kinetics will be the same as if the reaction produced two products in a single step.\n",
    "2. The second is rate-determining.The kinetics will follow that of a consecutive reaction. See notebook `6_PhysOrgExamples/6_1_start.ipynb` for some code that has already been written for consecutive reactions.\n",
    "\n",
    "The author present integrated rate equations for the observed absorbance for each of the two cases above. For the first case they used the total reaction with $k_{obs}$. In the second case they presented a much more complicatde equation. Can you integrate these equations. I can't. Thats why I use *Python*."
   ]
  },
  {
   "cell_type": "markdown",
   "metadata": {},
   "source": [
    "## Symbolic Integration\n",
    "\n",
    "For the first case we can treat it as a simple first-order reaction with the rate consant of $k_{obs}$.\n",
    "\n",
    "*SymPy* can perform integration and differentiation operations on many expressions. Let us explore integrating the simple rate equations that you are familiar with.\n",
    "\n",
    "# Integrating First Order Reaction for A\n",
    "\n",
    "The basic first order reaction might be described as such...\n",
    "\n",
    "$$ A \\xrightarrow{k} 2C $$ \n",
    "\n",
    "The rate can be expressed as the disappearance of A over time and is equal to the rate constant multiplied by the concentration of reacatant at a given time point...\n",
    "\n",
    "$$ -\\frac{d}{dt}[A]_t = k[A]_t $$\n",
    "\n",
    "We can state that the amount of reactant consumed at a give time point is $x$ and that the concentration of reactant is the initial concentration less this value.\n",
    "\n",
    "$$ [A]_t = [A]_0 - x $$\n",
    "\n",
    "Substitute this into the equation for rate and we get...\n",
    "\n",
    "$$ -\\frac{d}{d t}([A]_0 - x) = k([A]_0 - x) $$\n",
    "\n",
    "...which can be simplified to give...\n",
    "\n",
    " $$   \\frac{d x}{d t} = k([A]_0 - x) $$\n",
    "\n",
    "In your first year calculus class you would solve this by collecting the differentials for $x$ and $t$ on either side of the equation and then integrating each side over the span of time.\n",
    "\n",
    "$$ \\frac{d x}{[A]_0 - x} = k\\,dt $$\n",
    "$$ \\int_0^x \\frac{d x}{[A]_0 - x} = \\int_0^t k\\,dt $$\n",
    "\n",
    "# Using *SymPy* Substitutions\n",
    "Here I will demonstrate the symbolic math features of *SymPy*. Here we start with the rate law and use *SymPy* to make the substitutions discussed above. We will start with...\n",
    "\n",
    "$$ -\\frac{d}{dt}[A]_t = k[A]_t $$\n",
    "\n",
    "...and then substitute in the expression for $A_t$ in terms of $x$ using *SymPy*\n",
    "\n",
    "$$ [A]_t = [A]_0 - x $$\n",
    "\n",
    "We will the solve the differential that is prosuced by the substitution. Observe we get the same answer.\n",
    "\n",
    "# Absorbance\n",
    "\n",
    "he authors observed the reaction as absorbance at 256nm over time. The absorbance contributed by each species is give by Beers law (assuming a 1 cm path length, as always)\n",
    "\n",
    "$$ Abs_A = \\epsilon_A [A]$$"
   ]
  },
  {
   "cell_type": "code",
   "execution_count": 1,
   "metadata": {},
   "outputs": [
    {
     "name": "stdout",
     "output_type": "stream",
     "text": [
      "The initial differential equation is...\n"
     ]
    },
    {
     "data": {
      "text/latex": [
       "$\\displaystyle \\frac{d}{d t} \\left(- A_{t}\\right) = A_{t} k_{1}$"
      ],
      "text/plain": [
       "Eq(Derivative(-A_t, t), A_t*k1)"
      ]
     },
     "metadata": {},
     "output_type": "display_data"
    },
    {
     "name": "stdout",
     "output_type": "stream",
     "text": [
      "After substituting the differential equation is...\n"
     ]
    },
    {
     "data": {
      "text/latex": [
       "$\\displaystyle \\frac{\\partial}{\\partial t} \\left(- A_{0} + x_{t}{\\left(t \\right)}\\right) = k_{1} \\left(A_{0} - x_{t}{\\left(t \\right)}\\right)$"
      ],
      "text/plain": [
       "Eq(Derivative(-A0 + x_t(t), t), k1*(A0 - x_t(t)))"
      ]
     },
     "metadata": {},
     "output_type": "display_data"
    },
    {
     "name": "stdout",
     "output_type": "stream",
     "text": [
      "The integrated equation starting at x=0 when t=0 is...\n"
     ]
    },
    {
     "data": {
      "text/latex": [
       "$\\displaystyle x_{t}{\\left(t \\right)} = A_{0} - A_{0} e^{- k_{1} t}$"
      ],
      "text/plain": [
       "Eq(x_t(t), A0 - A0*exp(-k1*t))"
      ]
     },
     "metadata": {},
     "output_type": "display_data"
    }
   ],
   "source": [
    "import sympy as sym\n",
    "\n",
    "t = sym.symbols('t')     # create t as a 'symbol', not a variable\n",
    "k1 = sym.symbols('k1')     # create k as a 'symbol'\n",
    "At = sym.symbols('A_t')  # create At as a 'symbol'\n",
    "A0 = sym.symbols('A0')   # create A0 as a 'symbol'\n",
    "\n",
    "xt = sym.Function('x_t')    # create x as a 'function', not a variable\n",
    "\n",
    "lhs = sym.Derivative(-At, t) # Using Derivative function to get differential of A(t) w.r.t. t\n",
    "                            # could not used At.diff(t) because At is not a function \n",
    "rhs = k1*(At)\n",
    "\n",
    "diffeq = sym.Eq(lhs, rhs)   # create a sympy equation\n",
    "print(\"The initial differential equation is...\")\n",
    "display(diffeq)             # display that equation\n",
    "\n",
    "diffeq = diffeq.subs({At: (A0 - xt(t))})\n",
    "\n",
    "print(\"After substituting the differential equation is...\")\n",
    "display(diffeq)             # display that equation\n",
    "\n",
    "\n",
    "print(\"The integrated equation starting at x=0 when t=0 is...\")\n",
    "res = sym.dsolve(diffeq, ics={xt(0): 0})     # Solve the differential equation. \n",
    "                                            # Initial condition is x(t) = 0 when t = 0\n",
    "display(res)\n",
    "#dir(diffeq)"
   ]
  },
  {
   "cell_type": "code",
   "execution_count": 2,
   "metadata": {},
   "outputs": [
    {
     "name": "stdout",
     "output_type": "stream",
     "text": [
      "The expression for x(t) is...\n"
     ]
    },
    {
     "data": {
      "text/latex": [
       "$\\displaystyle A_{0} - A_{0} e^{- k_{1} t}$"
      ],
      "text/plain": [
       "A0 - A0*exp(-k1*t)"
      ]
     },
     "metadata": {},
     "output_type": "display_data"
    },
    {
     "name": "stdout",
     "output_type": "stream",
     "text": [
      "The equation for A(t) in terms of x(t) is...\n"
     ]
    },
    {
     "data": {
      "text/latex": [
       "$\\displaystyle A_{t} = A_{0} - x$"
      ],
      "text/plain": [
       "Eq(A_t, A0 - x)"
      ]
     },
     "metadata": {},
     "output_type": "display_data"
    },
    {
     "name": "stdout",
     "output_type": "stream",
     "text": [
      "The equation for A(t) after substituting in the term for x(t)\n"
     ]
    },
    {
     "data": {
      "text/latex": [
       "$\\displaystyle A_{t} = A_{0} e^{- k_{1} t}$"
      ],
      "text/plain": [
       "Eq(A_t, A0*exp(-k1*t))"
      ]
     },
     "metadata": {},
     "output_type": "display_data"
    }
   ],
   "source": [
    "x = sym.symbols('x')     # create x as a 'symbol', not a variable or function\n",
    "\n",
    "xt_rhs = res.rhs   # Get the expression for x(t)\n",
    "print(\"The expression for x(t) is...\")\n",
    "display(xt_rhs)\n",
    "\n",
    "eq1 = sym.Eq(At, A0-x)  # create an equation that defines A(t) in terms of A0 and x\n",
    "print(\"The equation for A(t) in terms of x(t) is...\")\n",
    "display(eq1)\n",
    "\n",
    "A = eq1.subs(x, xt_rhs)  # xt is an expression for x. Substitute x for xt.\n",
    "print(\"The equation for A(t) after substituting in the term for x(t)\")\n",
    "display(A)\n"
   ]
  },
  {
   "cell_type": "markdown",
   "metadata": {},
   "source": [
    "# Integrating First Order Reaction for C\n",
    "\n",
    "We could find the expression for C easily by just stating that $[C]_t = 2([A]_0-[A]_t)$. \n"
   ]
  },
  {
   "cell_type": "code",
   "execution_count": 3,
   "metadata": {},
   "outputs": [
    {
     "name": "stdout",
     "output_type": "stream",
     "text": [
      "The expression for x(t) is...\n"
     ]
    },
    {
     "data": {
      "text/latex": [
       "$\\displaystyle A_{0} - A_{0} e^{- k_{1} t}$"
      ],
      "text/plain": [
       "A0 - A0*exp(-k1*t)"
      ]
     },
     "metadata": {},
     "output_type": "display_data"
    },
    {
     "name": "stdout",
     "output_type": "stream",
     "text": [
      "The equation for C(t) in terms of x(t) is...\n"
     ]
    },
    {
     "data": {
      "text/latex": [
       "$\\displaystyle C_{t} = 2 A_{0} - 2 A_{0} e^{- k_{1} t}$"
      ],
      "text/plain": [
       "Eq(C_t, 2*A0 - 2*A0*exp(-k1*t))"
      ]
     },
     "metadata": {},
     "output_type": "display_data"
    },
    {
     "name": "stdout",
     "output_type": "stream",
     "text": [
      "After collecting some terms...\n"
     ]
    },
    {
     "data": {
      "text/latex": [
       "$\\displaystyle C_{t} = 2 A_{0} \\cdot \\left(1 - e^{- k_{1} t}\\right)$"
      ],
      "text/plain": [
       "Eq(C_t, 2*A0*(1 - exp(-k1*t)))"
      ]
     },
     "metadata": {},
     "output_type": "display_data"
    }
   ],
   "source": [
    "Ct = sym.symbols('C_t')  # create At as a 'symbol'\n",
    "\n",
    "xt_rhs = res.rhs   # Get the expression for x(t)\n",
    "print(\"The expression for x(t) is...\")\n",
    "display(xt_rhs)\n",
    "\n",
    "eq2 = sym.Eq(Ct, 2*xt_rhs)  # create an equation that defines X(t) in terms of A0 and x\n",
    "print(\"The equation for C(t) in terms of x(t) is...\")\n",
    "display(eq2)\n",
    "\n",
    "rhs = sym.collect(eq2.rhs,2*A0)\n",
    "C = sym.Eq(eq2.lhs,rhs)\n",
    "print(\"After collecting some terms...\")\n",
    "display(C)"
   ]
  },
  {
   "cell_type": "code",
   "execution_count": null,
   "metadata": {},
   "outputs": [],
   "source": []
  },
  {
   "cell_type": "markdown",
   "metadata": {},
   "source": [
    "## Absorbance\n",
    "\n",
    "the authors followed the reaction by absorbance. The amount of $A$ is decreasing and the amount of $C$ is increasing. If the final aborbance is different than the initial (e.q. A and C have different extinction coefficients) then we should be able to get kinetic parameters from an equation that describes the change in absorbance vs. time. \n",
    "\n",
    "The total $Abs$ will be $Abs_A(t) + Abs_C(t)$\n",
    "\n",
    "And we can say that...\n",
    "\n",
    "$$Abs(t) = \\epsilon_A\\cdot A_t + \\epsilon_C\\cdot C_t$$\n",
    "\n",
    "$$Abs(t) = \\epsilon_A\\cdot A_{0} e^{- k t} + \\epsilon_C\\cdot 2 A_{0}(1-e^{- k t})$$\n",
    "\n",
    "When we begin, the initial absorbance is due to $[A]_0$ and so we can say that $Abs_0 = \\epsilon_A\\cdot A_{0}$ and so if...\n",
    "\n",
    "$$A_{0} = \\frac{Abs_0}{\\epsilon_A}$$\n",
    "\n",
    "...then we can say that\n",
    "\n",
    "$$Abs(t) = \\epsilon_A\\cdot \\frac{Abs_0}{\\epsilon_A} e^{- k t} + \\epsilon_C\\cdot 2 \\frac{Abs_0}{\\epsilon_A}(1-e^{- k t})$$\n",
    "\n",
    "and after we simplify we get the same equation as the authors present in their paper (eq. 2). It is a useful exercise to check the math in any paper. Printing errors are common, especially in typeset equations and figures that are often reinterpretted in the printing process (especially a risk in older papers.)\n",
    "\n",
    "$$Abs(t) =  {Abs_0} e^{- k t} + \\frac{\\epsilon_C}{\\epsilon_A} 2 Abs_0(1-e^{- k t})$$\n",
    "\n",
    "Now let us do all of that with *Python*\n"
   ]
  },
  {
   "cell_type": "code",
   "execution_count": 4,
   "metadata": {},
   "outputs": [
    {
     "data": {
      "text/latex": [
       "$\\displaystyle A_{t} = A_{0} e^{- k_{1} t}$"
      ],
      "text/plain": [
       "Eq(A_t, A0*exp(-k1*t))"
      ]
     },
     "metadata": {},
     "output_type": "display_data"
    },
    {
     "data": {
      "text/latex": [
       "$\\displaystyle C_{t} = 2 A_{0} \\cdot \\left(1 - e^{- k_{1} t}\\right)$"
      ],
      "text/plain": [
       "Eq(C_t, 2*A0*(1 - exp(-k1*t)))"
      ]
     },
     "metadata": {},
     "output_type": "display_data"
    },
    {
     "data": {
      "text/latex": [
       "$\\displaystyle Abs_{0} e^{- k_{1} t} + \\frac{2 Abs_{0} \\epsilon_{C} \\left(1 - e^{- k_{1} t}\\right)}{\\epsilon_{A}}$"
      ],
      "text/plain": [
       "Abs_0*exp(-k1*t) + 2*Abs_0*\\epsilon_C*(1 - exp(-k1*t))/\\epsilon_A"
      ]
     },
     "metadata": {},
     "output_type": "display_data"
    }
   ],
   "source": [
    "display(A)\n",
    "display(C)\n",
    "\n",
    "At_ = A.rhs      # expressions for concentrations\n",
    "Ct_ = C.rhs\n",
    "\n",
    "e_A = sym.symbols(r'\\epsilon_A')   # extinction coefficients\n",
    "e_C = sym.symbols(r'\\epsilon_C') \n",
    "\n",
    "Abs_A = sym.symbols(r'Abs_A')   # variables for absotrbances\n",
    "Abs_C = sym.symbols(r'Abs_C')\n",
    "Abs_0 = sym.symbols('Abs_0')\n",
    "\n",
    "Total = e_A*At_ + e_C*Ct_           # total absorbance\n",
    "Total = Total.subs(A0, Abs_0/e_A)\n",
    "display(Total)\n",
    "\n"
   ]
  },
  {
   "cell_type": "code",
   "execution_count": null,
   "metadata": {},
   "outputs": [],
   "source": []
  },
  {
   "cell_type": "markdown",
   "metadata": {},
   "source": [
    "## Integrating Consecutive Reactions\n",
    "\n",
    "Note: I stole most of this math from a [free textbook](https://chem.libretexts.org/Bookshelves/Physical_and_Theoretical_Chemistry_Textbook_Maps/Map%3A_Physical_Chemistry_for_the_Biosciences_(Chang)/09%3A_Chemical_Kinetics/9.04%3A_More_Complex_Reactions).\n",
    "\n",
    "### The System of Reactions\n",
    "\n",
    "For reactions of the form...\n",
    "\n",
    "$$\\text{A} \\overset{k_1}{\\longrightarrow} \\text{I} \\overset{k_2}{\\longrightarrow} \\text{P}$$\n",
    "\n",
    "...we can identify the rate of formation of each species by writing their rate laws as differential equations...\n",
    "\n",
    "$$\\begin{align}\n",
    "\\dfrac{d \\left[ \\text{A} \\right]_t}{dt} &= -k_1 \\left[ \\text{A} \\right]_t \\\\\n",
    "\\dfrac{d \\left[ \\text{I} \\right]_t}{dt} &= k_1 \\left[ \\text{A} \\right]_t - k_2 \\left[ \\text{I} \\right]_t \\\\\n",
    "\\dfrac{d \\left[ \\text{P} \\right]_t}{dt} &= k_2 \\left[ \\text{I} \\right]_t \n",
    "\\end{align}$$\n",
    "\n",
    "### Integrating for [A]\n",
    "\n",
    "We have already done this above. the integrated rate law for $[A]_t$ is known...\n",
    "\n",
    "$$\\left[ \\text{A} \\right]_t = \\left[ \\text{A} \\right]_0 e^{-k_1 t}$$\n",
    "\n",
    "### Integrating for [I]\n",
    "\n",
    "Substitute the integrated rate law for $[A]$ into the rate law for $[I]$ above...\n",
    "\n",
    "$$\\dfrac{d \\left[ \\text{I} \\right]_t}{dt} = k_1 \\left[ \\text{A} \\right]_0 e^{-k_1 t} - k_2 \\left[ \\text{I} \\right]_t$$\n",
    "\n",
    "As before we can set a value, $x$, that describes the progress of the reaction. We can state that $[I]_t = x$ and set up a differential equation like so...\n",
    "\n",
    "$$ \\frac{d}{d t}{x} = A_{0} k_{1} e^{- k_{1} t} - k_{2} x$$\n",
    "\n",
    "My integration skills are very rusty. Do I use integration by parts or integration by substitution? rather than relearn calculus I truyne to the symbolic math tools of sympy. Consider the code below."
   ]
  },
  {
   "cell_type": "code",
   "execution_count": 5,
   "metadata": {},
   "outputs": [
    {
     "name": "stdout",
     "output_type": "stream",
     "text": [
      "The initial differential equation is...\n"
     ]
    },
    {
     "data": {
      "text/latex": [
       "$\\displaystyle \\frac{d}{d t} I_{t} = A_{0} k_{1} e^{- k_{1} t} - I_{t} k_{2}$"
      ],
      "text/plain": [
       "Eq(Derivative(I_t, t), A0*k1*exp(-k1*t) - I_t*k2)"
      ]
     },
     "metadata": {},
     "output_type": "display_data"
    },
    {
     "name": "stdout",
     "output_type": "stream",
     "text": [
      "After substituting the differential equation is...\n"
     ]
    },
    {
     "data": {
      "text/latex": [
       "$\\displaystyle \\frac{d}{d t} x_{t}{\\left(t \\right)} = A_{0} k_{1} e^{- k_{1} t} - k_{2} x_{t}{\\left(t \\right)}$"
      ],
      "text/plain": [
       "Eq(Derivative(x_t(t), t), A0*k1*exp(-k1*t) - k2*x_t(t))"
      ]
     },
     "metadata": {},
     "output_type": "display_data"
    },
    {
     "name": "stdout",
     "output_type": "stream",
     "text": [
      "The integrated equation starting at x=0 when t=0 is...\n"
     ]
    },
    {
     "data": {
      "text/latex": [
       "$\\displaystyle x_{t}{\\left(t \\right)} = \\frac{A_{0} k_{1} e^{- k_{2} t}}{k_{1} - k_{2}} - \\frac{A_{0} k_{1} e^{- k_{1} t}}{k_{1} - k_{2}}$"
      ],
      "text/plain": [
       "Eq(x_t(t), A0*k1*exp(-k2*t)/(k1 - k2) - A0*k1*exp(-k1*t)/(k1 - k2))"
      ]
     },
     "metadata": {},
     "output_type": "display_data"
    },
    {
     "name": "stdout",
     "output_type": "stream",
     "text": [
      "Collecting some terms and substiting for x gives...\n"
     ]
    },
    {
     "data": {
      "text/latex": [
       "$\\displaystyle I_{t} = \\frac{A_{0} k_{1} \\left(e^{- k_{2} t} - e^{- k_{1} t}\\right)}{k_{1} - k_{2}}$"
      ],
      "text/plain": [
       "Eq(I_t, A0*k1*(exp(-k2*t) - exp(-k1*t))/(k1 - k2))"
      ]
     },
     "metadata": {},
     "output_type": "display_data"
    }
   ],
   "source": [
    "import sympy as sym\n",
    "\n",
    "t = sym.symbols('t')     # create t as a 'symbol', not a variable\n",
    "#k1 = sym.symbols('k1')     # create k as a 'symbol'\n",
    "k2 = sym.symbols('k2')     # create k as a 'symbol'\n",
    "#At = sym.symbols('A_t')  # create At as a 'symbol'\n",
    "#A0 = sym.symbols('A0')   # create A0 as a 'symbol'\n",
    "It = sym.symbols('I_t')   # create A0 as a 'symbol'\n",
    "\n",
    "xt = sym.Function('x_t')    # create x as a 'function', not a variable\n",
    "\n",
    "lhs = sym.Derivative(It, t) # Using Derivative function to get differential of A(t) w.r.t. t\n",
    "                            # could not used At.diff(t) because At is not a function \n",
    "rhs = k1*(A0)*sym.exp(-k1*t)-k2*It\n",
    "\n",
    "diffeq = sym.Eq(lhs, rhs)   # create a sympy equation\n",
    "print(\"The initial differential equation is...\")\n",
    "display(diffeq)             # display that equation\n",
    "\n",
    "diffeq = diffeq.subs({It: xt(t)})\n",
    "\n",
    "print(\"After substituting the differential equation is...\")\n",
    "display(diffeq)             # display that equation\n",
    "\n",
    "\n",
    "print(\"The integrated equation starting at x=0 when t=0 is...\")\n",
    "res = sym.dsolve(diffeq, ics={xt(0): 0})     # Solve the differential equation. \n",
    "                                            # Initial condition is x(t) = 0 when t = 0\n",
    "display(res)\n",
    "\n",
    "print(\"Collecting some terms and substiting for x gives...\")\n",
    "simplified = sym.collect(res.rhs,(A0*k1/(k1-k2)))\n",
    "I = sym.Eq(It,simplified)\n",
    "display(I)\n"
   ]
  },
  {
   "cell_type": "markdown",
   "metadata": {},
   "source": [
    "Now we have the term...\n",
    "\n",
    "$$ x =A_{0} \\frac{ k_{1} }{k_{1} - k_{2}}\\left(e^{- k_{2} t} - e^{- k_{1} t}\\right)$$\n",
    "\n",
    "...and, knowing that $[I]_t = x$, we can now say...\n",
    "\n",
    "$$ \\left[I \\right]_t =A_{0} \\frac{ k_{1} }{k_{1} - k_{2}}\\left(e^{- k_{2} t} - e^{- k_{1} t}\\right)$$\n",
    "\n",
    "### Integrating for C\n",
    "\n",
    "We dont have to integrate for this last term. We can say that the total amount of material is equal to $[A]_0$ and so...\n",
    "\n",
    "$$\\begin{align}\n",
    "[A]_0 &= [A]_t+[I]_t+[P]_t \\\\\n",
    "[P]_t &= [A]_0 - \\left([A]_t+[I]_t\\right) \n",
    "\\end{align}$$\n",
    "\n",
    "For the fun of it, lets let sympy do all the work in the code below..."
   ]
  },
  {
   "cell_type": "code",
   "execution_count": 6,
   "metadata": {},
   "outputs": [
    {
     "data": {
      "text/latex": [
       "$\\displaystyle A_{t} = A_{0} e^{- k_{1} t}$"
      ],
      "text/plain": [
       "Eq(A_t, A0*exp(-k1*t))"
      ]
     },
     "metadata": {},
     "output_type": "display_data"
    },
    {
     "data": {
      "text/latex": [
       "$\\displaystyle I_{t} = \\frac{A_{0} k_{1} \\left(e^{- k_{2} t} - e^{- k_{1} t}\\right)}{k_{1} - k_{2}}$"
      ],
      "text/plain": [
       "Eq(I_t, A0*k1*(exp(-k2*t) - exp(-k1*t))/(k1 - k2))"
      ]
     },
     "metadata": {},
     "output_type": "display_data"
    },
    {
     "data": {
      "text/latex": [
       "$\\displaystyle - \\frac{A_{0} k_{1} \\left(e^{- k_{2} t} - e^{- k_{1} t}\\right)}{k_{1} - k_{2}} + A_{0} - A_{0} e^{- k_{1} t}$"
      ],
      "text/plain": [
       "-A0*k1*(exp(-k2*t) - exp(-k1*t))/(k1 - k2) + A0 - A0*exp(-k1*t)"
      ]
     },
     "metadata": {},
     "output_type": "display_data"
    },
    {
     "data": {
      "text/latex": [
       "$\\displaystyle A_{0} \\left(- \\frac{k_{1} \\left(e^{- k_{2} t} - e^{- k_{1} t}\\right)}{k_{1} - k_{2}} + 1 - e^{- k_{1} t}\\right)$"
      ],
      "text/plain": [
       "A0*(-k1*(exp(-k2*t) - exp(-k1*t))/(k1 - k2) + 1 - exp(-k1*t))"
      ]
     },
     "metadata": {},
     "output_type": "display_data"
    },
    {
     "data": {
      "text/latex": [
       "$\\displaystyle P_{t} = A_{0} \\left(- \\frac{k_{1} \\left(e^{- k_{2} t} - e^{- k_{1} t}\\right)}{k_{1} - k_{2}} + 1 - e^{- k_{1} t}\\right)$"
      ],
      "text/plain": [
       "Eq(P_t, A0*(-k1*(exp(-k2*t) - exp(-k1*t))/(k1 - k2) + 1 - exp(-k1*t)))"
      ]
     },
     "metadata": {},
     "output_type": "display_data"
    }
   ],
   "source": [
    "Pt = sym.symbols('P_t')   # create Pt as a 'symbol'\n",
    "\n",
    "display(A,I)\n",
    "\n",
    "\n",
    "rhs = A0 - A.rhs - I.rhs\n",
    "display(rhs)\n",
    "\n",
    "rhs = sym.collect(rhs,A0)\n",
    "display(rhs)\n",
    "\n",
    "P = sym.Eq(Pt,rhs)\n",
    "display(P)\n"
   ]
  },
  {
   "cell_type": "code",
   "execution_count": 7,
   "metadata": {},
   "outputs": [
    {
     "data": {
      "text/latex": [
       "$\\displaystyle A_{t} = A_{0} e^{- k_{1} t}$"
      ],
      "text/plain": [
       "Eq(A_t, A0*exp(-k1*t))"
      ]
     },
     "metadata": {},
     "output_type": "display_data"
    },
    {
     "data": {
      "text/latex": [
       "$\\displaystyle I_{t} = \\frac{A_{0} k_{1} \\left(e^{- k_{2} t} - e^{- k_{1} t}\\right)}{k_{1} - k_{2}}$"
      ],
      "text/plain": [
       "Eq(I_t, A0*k1*(exp(-k2*t) - exp(-k1*t))/(k1 - k2))"
      ]
     },
     "metadata": {},
     "output_type": "display_data"
    },
    {
     "data": {
      "text/latex": [
       "$\\displaystyle P_{t} = A_{0} \\left(- \\frac{k_{1} \\left(e^{- k_{2} t} - e^{- k_{1} t}\\right)}{k_{1} - k_{2}} + 1 - e^{- k_{1} t}\\right)$"
      ],
      "text/plain": [
       "Eq(P_t, A0*(-k1*(exp(-k2*t) - exp(-k1*t))/(k1 - k2) + 1 - exp(-k1*t)))"
      ]
     },
     "metadata": {},
     "output_type": "display_data"
    }
   ],
   "source": [
    "display(A,I,P)"
   ]
  },
  {
   "cell_type": "code",
   "execution_count": 9,
   "metadata": {},
   "outputs": [
    {
     "data": {
      "text/latex": [
       "$\\displaystyle e^{- 0.03 t}$"
      ],
      "text/plain": [
       "exp(-0.03*t)"
      ]
     },
     "metadata": {},
     "output_type": "display_data"
    },
    {
     "data": {
      "text/latex": [
       "$\\displaystyle - 0.6 e^{- 0.08 t} + 0.6 e^{- 0.03 t}$"
      ],
      "text/plain": [
       "-0.6*exp(-0.08*t) + 0.6*exp(-0.03*t)"
      ]
     },
     "metadata": {},
     "output_type": "display_data"
    },
    {
     "data": {
      "text/latex": [
       "$\\displaystyle 1 + 0.6 e^{- 0.08 t} - 1.6 e^{- 0.03 t}$"
      ],
      "text/plain": [
       "1 + 0.6*exp(-0.08*t) - 1.6*exp(-0.03*t)"
      ]
     },
     "metadata": {},
     "output_type": "display_data"
    },
    {
     "ename": "AssertionError",
     "evalue": "",
     "output_type": "error",
     "traceback": [
      "\u001b[0;31m---------------------------------------------------------------------------\u001b[0m",
      "\u001b[0;31mAssertionError\u001b[0m                            Traceback (most recent call last)",
      "Cell \u001b[0;32mIn[9], line 23\u001b[0m\n\u001b[1;32m     20\u001b[0m eq3 \u001b[38;5;241m=\u001b[39m eq3\u001b[38;5;241m.\u001b[39msubs({k1:k1_rate, k2:k2_rate, A0:A0_conc})\n\u001b[1;32m     21\u001b[0m display(eq1,eq2,eq3)\n\u001b[0;32m---> 23\u001b[0m p1 \u001b[38;5;241m=\u001b[39m sym\u001b[38;5;241m.\u001b[39mplot(eq1,t_range)\n\u001b[1;32m     24\u001b[0m p2 \u001b[38;5;241m=\u001b[39m sym\u001b[38;5;241m.\u001b[39mplot(eq2,t_range, show\u001b[38;5;241m=\u001b[39m\u001b[38;5;28;01mFalse\u001b[39;00m)\n\u001b[1;32m     25\u001b[0m p3 \u001b[38;5;241m=\u001b[39m sym\u001b[38;5;241m.\u001b[39mplot(eq3,t_range, show\u001b[38;5;241m=\u001b[39m\u001b[38;5;28;01mFalse\u001b[39;00m)\n",
      "File \u001b[0;32m/opt/anaconda3/lib/python3.11/site-packages/sympy/plotting/plot.py:1868\u001b[0m, in \u001b[0;36mplot\u001b[0;34m(show, *args, **kwargs)\u001b[0m\n\u001b[1;32m   1866\u001b[0m kwargs\u001b[38;5;241m.\u001b[39msetdefault(\u001b[38;5;124m'\u001b[39m\u001b[38;5;124mylabel\u001b[39m\u001b[38;5;124m'\u001b[39m, Function(\u001b[38;5;124m'\u001b[39m\u001b[38;5;124mf\u001b[39m\u001b[38;5;124m'\u001b[39m)(x))\n\u001b[1;32m   1867\u001b[0m series \u001b[38;5;241m=\u001b[39m []\n\u001b[0;32m-> 1868\u001b[0m plot_expr \u001b[38;5;241m=\u001b[39m check_arguments(args, \u001b[38;5;241m1\u001b[39m, \u001b[38;5;241m1\u001b[39m)\n\u001b[1;32m   1869\u001b[0m series \u001b[38;5;241m=\u001b[39m [LineOver1DRangeSeries(\u001b[38;5;241m*\u001b[39marg, \u001b[38;5;241m*\u001b[39m\u001b[38;5;241m*\u001b[39mkwargs) \u001b[38;5;28;01mfor\u001b[39;00m arg \u001b[38;5;129;01min\u001b[39;00m plot_expr]\n\u001b[1;32m   1871\u001b[0m plots \u001b[38;5;241m=\u001b[39m Plot(\u001b[38;5;241m*\u001b[39mseries, \u001b[38;5;241m*\u001b[39m\u001b[38;5;241m*\u001b[39mkwargs)\n",
      "File \u001b[0;32m/opt/anaconda3/lib/python3.11/site-packages/sympy/plotting/plot.py:2601\u001b[0m, in \u001b[0;36mcheck_arguments\u001b[0;34m(args, expr_len, nb_of_free_symbols)\u001b[0m\n\u001b[1;32m   2598\u001b[0m     i \u001b[38;5;241m=\u001b[39m \u001b[38;5;28mlen\u001b[39m(args) \u001b[38;5;241m+\u001b[39m \u001b[38;5;241m1\u001b[39m\n\u001b[1;32m   2600\u001b[0m exprs \u001b[38;5;241m=\u001b[39m args[:i]\n\u001b[0;32m-> 2601\u001b[0m \u001b[38;5;28;01massert\u001b[39;00m \u001b[38;5;28mall\u001b[39m(\u001b[38;5;28misinstance\u001b[39m(e, Expr) \u001b[38;5;28;01mfor\u001b[39;00m expr \u001b[38;5;129;01min\u001b[39;00m exprs \u001b[38;5;28;01mfor\u001b[39;00m e \u001b[38;5;129;01min\u001b[39;00m expr)\n\u001b[1;32m   2602\u001b[0m free_symbols \u001b[38;5;241m=\u001b[39m \u001b[38;5;28mlist\u001b[39m(\u001b[38;5;28mset\u001b[39m()\u001b[38;5;241m.\u001b[39munion(\u001b[38;5;241m*\u001b[39m[e\u001b[38;5;241m.\u001b[39mfree_symbols \u001b[38;5;28;01mfor\u001b[39;00m expr \u001b[38;5;129;01min\u001b[39;00m exprs\n\u001b[1;32m   2603\u001b[0m                                 \u001b[38;5;28;01mfor\u001b[39;00m e \u001b[38;5;129;01min\u001b[39;00m expr]))\n\u001b[1;32m   2605\u001b[0m \u001b[38;5;28;01mif\u001b[39;00m \u001b[38;5;28mlen\u001b[39m(free_symbols) \u001b[38;5;241m>\u001b[39m nb_of_free_symbols:\n",
      "\u001b[0;31mAssertionError\u001b[0m: "
     ]
    }
   ],
   "source": [
    "import matplotlib.pyplot as plt\n",
    "\n",
    "k1_rate = 0.03\n",
    "k2_rate = 0.08\n",
    "A0_conc = 1\n",
    "\n",
    "t_range = [t,0,100]\n",
    "\n",
    "eq1 = A.rhs\n",
    "#display(eq)\n",
    "\n",
    "eq1 = eq1.subs({k1:k1_rate, A0:A0_conc})\n",
    "\n",
    "\n",
    "\n",
    "eq2 = I.rhs\n",
    "eq2 = eq2.subs({k1:k1_rate, k2:k2_rate, A0:A0_conc})\n",
    "\n",
    "eq3 = P.rhs\n",
    "eq3 = eq3.subs({k1:k1_rate, k2:k2_rate, A0:A0_conc})\n",
    "display(eq1,eq2,eq3)\n",
    "\n",
    "p1 = sym.plot(eq1,t_range, show=False)\n",
    "p2 = sym.plot(eq2,t_range, show=False)\n",
    "p3 = sym.plot(eq3,t_range, show=False)\n",
    "p1.append(p2[0])\n",
    "p1.append(p3[0])\n",
    "p1.show()\n",
    "plt.show()"
   ]
  }
 ],
 "metadata": {
  "kernelspec": {
   "display_name": "main",
   "language": "python",
   "name": "python3"
  },
  "language_info": {
   "codemirror_mode": {
    "name": "ipython",
    "version": 3
   },
   "file_extension": ".py",
   "mimetype": "text/x-python",
   "name": "python",
   "nbconvert_exporter": "python",
   "pygments_lexer": "ipython3",
   "version": "3.11.7"
  }
 },
 "nbformat": 4,
 "nbformat_minor": 2
}
