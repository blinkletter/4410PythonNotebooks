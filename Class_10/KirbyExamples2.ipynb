{
 "cells": [
  {
   "cell_type": "markdown",
   "metadata": {},
   "source": [
    "## Integrating Consecutive Reactions\n",
    "\n",
    "Note: I stole most of this math from a my tutorial on integration. (09-T21-Integrating_Simple_Rate_Equations.pdf)\n",
    "\n",
    "### The System of Reactions\n",
    "\n",
    "For reactions of the form...\n",
    "\n",
    "$$\\text{A} \\overset{k_1}{\\longrightarrow} \\text{I} + \\text{P}$$\n",
    "$$\\text{I} \\overset{k_2}{\\longrightarrow} \\text{P}$$\n",
    "\n",
    "...we can identify the rate of formation of each species by writing their rate laws as differential equations...\n",
    "\n",
    "$$\\begin{align}\n",
    "\\dfrac{d \\left[ \\text{A} \\right]_t}{dt} &= -k_1 \\left[ \\text{A} \\right]_t \\\\\n",
    "\\dfrac{d \\left[ \\text{I} \\right]_t}{dt} &= k_1 \\left[ \\text{A} \\right]_t - k_2 \\left[ \\text{I} \\right]_t \\\\\n",
    "\\dfrac{d \\left[ \\text{P} \\right]_t}{dt} &= k_1 \\left[ \\text{A} \\right]_t + k_2 \\left[ \\text{I} \\right]_t \n",
    "\\end{align}$$\n",
    "\n",
    "### Integrating for [A]\n",
    "\n",
    "We have already done this above. the integrated rate law for $[A]_t$ is known...\n",
    "\n",
    "$$\\left[ \\text{A} \\right]_t = \\left[ \\text{A} \\right]_0 e^{-k_1 t}$$\n",
    "\n",
    "### Integrating for [I]\n",
    "\n",
    "Substitute the integrated rate law for $[A]$ into the rate law for $[I]$ above...\n",
    "\n",
    "$$\\dfrac{d \\left[ \\text{I} \\right]_t}{dt} = k_1 \\left[ \\text{A} \\right]_0 e^{-k_1 t} - k_2 \\left[ \\text{I} \\right]_t$$\n",
    "\n",
    "As before we can set a value, $x$, that describes the progress of the reaction. We can state that $[I]_t = x$ and set up a differential equation like so...\n",
    "\n",
    "$$ \\frac{d}{d t}{x} = A_{0} k_{1} e^{- k_{1} t} - k_{2} x$$\n",
    "\n",
    "My integration skills are very rusty. Do I use integration by parts or integration by substitution? rather than relearn calculus I truyne to the symbolic math tools of sympy. Consider the code below."
   ]
  },
  {
   "cell_type": "code",
   "execution_count": 9,
   "metadata": {},
   "outputs": [
    {
     "name": "stdout",
     "output_type": "stream",
     "text": [
      "The initial differential equation is...\n"
     ]
    },
    {
     "data": {
      "text/latex": [
       "$\\displaystyle \\frac{d}{d t} I_{t} = A_{0} k_{1} e^{- k_{1} t} - I_{t} k_{2}$"
      ],
      "text/plain": [
       "Eq(Derivative(I_t, t), A_0*k1*exp(-k1*t) - I_t*k2)"
      ]
     },
     "metadata": {},
     "output_type": "display_data"
    },
    {
     "name": "stdout",
     "output_type": "stream",
     "text": [
      "After substituting the differential equation is...\n"
     ]
    },
    {
     "data": {
      "text/latex": [
       "$\\displaystyle \\frac{d}{d t} x_{t}{\\left(t \\right)} = A_{0} k_{1} e^{- k_{1} t} - k_{2} x_{t}{\\left(t \\right)}$"
      ],
      "text/plain": [
       "Eq(Derivative(x_t(t), t), A_0*k1*exp(-k1*t) - k2*x_t(t))"
      ]
     },
     "metadata": {},
     "output_type": "display_data"
    },
    {
     "name": "stdout",
     "output_type": "stream",
     "text": [
      "The integrated equation starting at x=0 when t=0 is...\n"
     ]
    },
    {
     "data": {
      "text/latex": [
       "$\\displaystyle x_{t}{\\left(t \\right)} = \\frac{A_{0} k_{1} e^{- k_{2} t}}{k_{1} - k_{2}} - \\frac{A_{0} k_{1} e^{- k_{1} t}}{k_{1} - k_{2}}$"
      ],
      "text/plain": [
       "Eq(x_t(t), A_0*k1*exp(-k2*t)/(k1 - k2) - A_0*k1*exp(-k1*t)/(k1 - k2))"
      ]
     },
     "metadata": {},
     "output_type": "display_data"
    },
    {
     "name": "stdout",
     "output_type": "stream",
     "text": [
      "Collecting some terms and substiting for x gives...\n"
     ]
    },
    {
     "data": {
      "text/latex": [
       "$\\displaystyle I_{t} = \\frac{A_{0} k_{1} \\left(e^{- k_{2} t} - e^{- k_{1} t}\\right)}{k_{1} - k_{2}}$"
      ],
      "text/plain": [
       "Eq(I_t, A_0*k1*(exp(-k2*t) - exp(-k1*t))/(k1 - k2))"
      ]
     },
     "metadata": {},
     "output_type": "display_data"
    }
   ],
   "source": [
    "import sympy as sym\n",
    "\n",
    "t = sym.symbols('t')     \n",
    "k1 = sym.symbols('k1')  \n",
    "k2 = sym.symbols('k2')  \n",
    "At = sym.symbols('A_t') \n",
    "A0 = sym.symbols('A_0') \n",
    "It = sym.symbols('I_t') \n",
    "Pt = sym.symbols('P_t')  \n",
    "\n",
    "xt = sym.Function('x_t')    # create x as a 'function', not a variable\n",
    "\n",
    "lhs = sym.Derivative(It, t) # Using Derivative function to get differential of A(t) w.r.t. t\n",
    "                            # could not used At.diff(t) because At is not a function \n",
    "rhs = k1*(A0)*sym.exp(-k1*t)-k2*It\n",
    "\n",
    "diffeq = sym.Eq(lhs, rhs)   # create a sympy differential equation\n",
    "print(\"The initial differential equation is...\")\n",
    "display(diffeq)             \n",
    "\n",
    "diffeq = diffeq.subs({It: xt(t)})    # substitute I for x\n",
    "\n",
    "print(\"After substituting the differential equation is...\")\n",
    "display(diffeq) \n",
    "\n",
    "\n",
    "print(\"The integrated equation starting at x=0 when t=0 is...\")\n",
    "result = sym.dsolve(diffeq, ics={xt(0): 0})     # Solve the differential equation. \n",
    "                                            # Initial condition is x(t) = 0 when t = 0\n",
    "display(result)\n",
    "\n",
    "print(\"Collecting some terms and substiting for x gives...\")\n",
    "simplified = sym.collect(result.rhs,(A0*k1/(k1-k2)))\n",
    "I = sym.Eq(result.lhs,simplified)\n",
    "I = I.subs({xt(t): It})              # substitute x for I\n",
    "display(I)\n"
   ]
  },
  {
   "cell_type": "markdown",
   "metadata": {},
   "source": [
    "Now we have the term...\n",
    "\n",
    "$$ x =A_{0} \\frac{ k_{1} }{k_{1} - k_{2}}\\left(e^{- k_{2} t} - e^{- k_{1} t}\\right)$$\n",
    "\n",
    "...and, knowing that $[I]_t = x$, we can now say...\n",
    "\n",
    "$$ \\left[I \\right]_t =A_{0} \\frac{ k_{1} }{k_{1} - k_{2}}\\left(e^{- k_{2} t} - e^{- k_{1} t}\\right)$$\n",
    "\n",
    "### Integrating for [P]\n",
    "\n",
    "We dont have to integrate for this last term. We can say that the total amount of material is equal to $[A]_0$. Recall the reaction scheme...\n",
    "\n",
    "For reactions of the form...\n",
    "\n",
    "$$\\text{A} \\overset{k_1}{\\longrightarrow} \\text{I} + \\text{P}$$\n",
    "$$\\text{I} \\overset{k_2}{\\longrightarrow} \\text{P}$$\n",
    "\n",
    "... and write a mass balance equation...\n",
    "\n",
    "$$\\begin{align}\n",
    "2 [A]_0 &= 2*[A]_t+[I]_t+[P]_t \\\\\n",
    "[P]_t &= 2 [A]_0 - \\left(2*[A]_t+[I]_t\\right) \n",
    "\\end{align}$$\n",
    "\n",
    "\n",
    "For the fun of it, lets let sympy do all the work in the code below..."
   ]
  },
  {
   "cell_type": "code",
   "execution_count": 161,
   "metadata": {},
   "outputs": [
    {
     "data": {
      "text/latex": [
       "$\\displaystyle A_{t} = A_{0} e^{- k_{1} t}$"
      ],
      "text/plain": [
       "Eq(A_t, A0*exp(-k1*t))"
      ]
     },
     "metadata": {},
     "output_type": "display_data"
    },
    {
     "data": {
      "text/latex": [
       "$\\displaystyle I_{t} = \\frac{A_{0} k_{1} \\left(e^{- k_{2} t} - e^{- k_{1} t}\\right)}{k_{1} - k_{2}}$"
      ],
      "text/plain": [
       "Eq(I_t, A0*k1*(exp(-k2*t) - exp(-k1*t))/(k1 - k2))"
      ]
     },
     "metadata": {},
     "output_type": "display_data"
    },
    {
     "data": {
      "text/latex": [
       "$\\displaystyle - \\frac{A_{0} k_{1} \\left(e^{- k_{2} t} - e^{- k_{1} t}\\right)}{k_{1} - k_{2}} + 2 A_{0} - 2 A_{0} e^{- k_{1} t}$"
      ],
      "text/plain": [
       "-A0*k1*(exp(-k2*t) - exp(-k1*t))/(k1 - k2) + 2*A0 - 2*A0*exp(-k1*t)"
      ]
     },
     "metadata": {},
     "output_type": "display_data"
    },
    {
     "data": {
      "text/latex": [
       "$\\displaystyle A_{0} \\left(- \\frac{k_{1} \\left(e^{- k_{2} t} - e^{- k_{1} t}\\right)}{k_{1} - k_{2}} + 2 - 2 e^{- k_{1} t}\\right)$"
      ],
      "text/plain": [
       "A0*(-k1*(exp(-k2*t) - exp(-k1*t))/(k1 - k2) + 2 - 2*exp(-k1*t))"
      ]
     },
     "metadata": {},
     "output_type": "display_data"
    },
    {
     "data": {
      "text/latex": [
       "$\\displaystyle P_{t} = A_{0} \\left(- \\frac{k_{1} \\left(e^{- k_{2} t} - e^{- k_{1} t}\\right)}{k_{1} - k_{2}} + 2 - 2 e^{- k_{1} t}\\right)$"
      ],
      "text/plain": [
       "Eq(P_t, A0*(-k1*(exp(-k2*t) - exp(-k1*t))/(k1 - k2) + 2 - 2*exp(-k1*t)))"
      ]
     },
     "metadata": {},
     "output_type": "display_data"
    }
   ],
   "source": [
    "Pt = sym.symbols('P_t')   # create Pt as a 'symbol'\n",
    "\n",
    "A = sym.Eq(At,A0*sym.exp(-k1*t))\n",
    "display(A,I)\n",
    "\n",
    "rhs = 2*A0 - 2*A.rhs - I.rhs\n",
    "display(rhs)\n",
    "\n",
    "rhs = sym.collect(rhs,A0)\n",
    "display(rhs)\n",
    "\n",
    "P = sym.Eq(Pt,rhs)\n",
    "display(P)\n"
   ]
  },
  {
   "cell_type": "markdown",
   "metadata": {},
   "source": [
    "So the amount of product over time is expressed as...\n",
    "\n",
    "$$P_{t} = A_{0} \\left( 2\\left(1 -  e^{- k_{1} t}\\right) - \\frac{k_{1} }{k_{1} - k_{2}}\\left(e^{- k_{2} t} - e^{- k_{1} t}\\right)\\right)$$"
   ]
  },
  {
   "cell_type": "code",
   "execution_count": 162,
   "metadata": {},
   "outputs": [
    {
     "data": {
      "text/latex": [
       "$\\displaystyle A_{t} = A_{0} e^{- k_{1} t}$"
      ],
      "text/plain": [
       "Eq(A_t, A0*exp(-k1*t))"
      ]
     },
     "metadata": {},
     "output_type": "display_data"
    },
    {
     "data": {
      "text/latex": [
       "$\\displaystyle I_{t} = \\frac{A_{0} k_{1} \\left(e^{- k_{2} t} - e^{- k_{1} t}\\right)}{k_{1} - k_{2}}$"
      ],
      "text/plain": [
       "Eq(I_t, A0*k1*(exp(-k2*t) - exp(-k1*t))/(k1 - k2))"
      ]
     },
     "metadata": {},
     "output_type": "display_data"
    },
    {
     "data": {
      "text/latex": [
       "$\\displaystyle P_{t} = A_{0} \\left(- \\frac{k_{1} \\left(e^{- k_{2} t} - e^{- k_{1} t}\\right)}{k_{1} - k_{2}} + 2 - 2 e^{- k_{1} t}\\right)$"
      ],
      "text/plain": [
       "Eq(P_t, A0*(-k1*(exp(-k2*t) - exp(-k1*t))/(k1 - k2) + 2 - 2*exp(-k1*t)))"
      ]
     },
     "metadata": {},
     "output_type": "display_data"
    }
   ],
   "source": [
    "display(A,I,P)"
   ]
  },
  {
   "cell_type": "code",
   "execution_count": 163,
   "metadata": {},
   "outputs": [
    {
     "data": {
      "text/latex": [
       "$\\displaystyle e^{- 0.002 t}$"
      ],
      "text/plain": [
       "exp(-0.002*t)"
      ]
     },
     "metadata": {},
     "output_type": "display_data"
    },
    {
     "data": {
      "text/latex": [
       "$\\displaystyle - 1.11172873818788 e^{- 0.002 t} + 1.11172873818788 e^{- 0.000201 t}$"
      ],
      "text/plain": [
       "-1.11172873818788*exp(-0.002*t) + 1.11172873818788*exp(-0.000201*t)"
      ]
     },
     "metadata": {},
     "output_type": "display_data"
    },
    {
     "data": {
      "text/latex": [
       "$\\displaystyle 2 - 0.888271261812118 e^{- 0.002 t} - 1.11172873818788 e^{- 0.000201 t}$"
      ],
      "text/plain": [
       "2 - 0.888271261812118*exp(-0.002*t) - 1.11172873818788*exp(-0.000201*t)"
      ]
     },
     "metadata": {},
     "output_type": "display_data"
    },
    {
     "data": {
      "image/png": "[encoded data removed]",
      "text/plain": [
       "<Figure size 640x480 with 1 Axes>"
      ]
     },
     "metadata": {},
     "output_type": "display_data"
    }
   ],
   "source": [
    "import matplotlib.pyplot as plt\n",
    "\n",
    "k1_rate = 2e-3\n",
    "k2_rate = 2.01e-4\n",
    "A0_conc = 1\n",
    "\n",
    "t_range = [t,0,10000]\n",
    "\n",
    "eq1 = A.rhs\n",
    "eq1 = eq1.subs({k1:k1_rate, A0:A0_conc})\n",
    "\n",
    "eq2 = I.rhs\n",
    "eq2 = eq2.subs({k1:k1_rate, k2:k2_rate, A0:A0_conc})\n",
    "\n",
    "eq3 = P.rhs\n",
    "eq3 = eq3.subs({k1:k1_rate, k2:k2_rate, A0:A0_conc})\n",
    "\n",
    "display(eq1,eq2,eq3)\n",
    "\n",
    "\n",
    "plt.rcdefaults()\n",
    "\n",
    "p = sym.plot(eq1,eq2,eq3,t_range, show=False)\n",
    "p.show()"
   ]
  },
  {
   "cell_type": "markdown",
   "metadata": {},
   "source": [
    "## Absorbance\n",
    "\n",
    "the authors followed the reaction by absorbance. The amount of $A$ is decreasing and the amount of $C$ is increasing. If the final aborbance is different than the initial (e.q. A and C have different extinction coefficients) then we should be able to get kinetic parameters from an equation that describes the change in absorbance vs. time. \n",
    "\n",
    "The total $Abs$ will be $Abs_A(t) + Abs_I(t) + Abs_P(t)$\n",
    "\n",
    "And we can say that...\n",
    "\n",
    "$$Abs(t) = \\epsilon_A\\cdot A_t + \\epsilon_I\\cdot I_t + \\epsilon_P\\cdot P_t$$\n",
    "\n",
    "$$Abs(t) = \\epsilon_A\\cdot A_{0} e^{- k t} +\n",
    " \\epsilon_I\\cdot A_{0} \\frac{k_{1} }{k_{1} - k_{2}}\\left(e^{- k_{2} t} - e^{- k_{1} t}\\right) + \n",
    " \\epsilon_P\\cdot A_{0} \\left( 2\\left(1 -  e^{- k_{1} t}\\right) - \\frac{k_{1} }{k_{1} - k_{2}}\\left(e^{- k_{2} t} - e^{- k_{1} t}\\right)\\right)$$\n",
    "\n",
    "\n",
    "When we begin, the initial absorbance is due to $[A]_0$ and so we can say that $Abs_0 = \\epsilon_A\\cdot A_{0}$ and so if...\n",
    "\n",
    "$$A_{0} = \\frac{Abs_0}{\\epsilon_A}$$\n",
    "\n",
    "...then we can say that\n",
    "\n",
    "$$Abs(t) = \\epsilon_A\\cdot \\frac{Abs_0}{\\epsilon_A} e^{- k t} +\n",
    " \\epsilon_I\\cdot \\frac{Abs_0}{\\epsilon_A} \\frac{k_{1} }{k_{1} - k_{2}}\\left(e^{- k_{2} t} - e^{- k_{1} t}\\right) + \n",
    " \\epsilon_P\\cdot \\frac{Abs_0}{\\epsilon_A} \\left( 2\\left(1 -  e^{- k_{1} t}\\right) - \\frac{k_{1} }{k_{1} - k_{2}}\\left(e^{- k_{2} t} - e^{- k_{1} t}\\right)\\right)$$\n",
    "\n",
    "\n",
    "and after we simplify we get the same equation as the authors present in their paper (eq. 2). It is a useful exercise to check the math in any paper. Printing errors are common, especially in typeset equations and figures that are often reinterpretted in the printing process (especially a risk in older papers.)\n",
    "\n",
    "$$Abs(t) = {Abs_0} e^{- k t} +\n",
    " \\frac{\\epsilon_I}{\\epsilon_A}Abs_0 \\frac{k_{1} }{k_{1} - k_{2}}\\left(e^{- k_{2} t} - e^{- k_{1} t}\\right) + \n",
    " \\frac{\\epsilon_P}{\\epsilon_A}  Abs_0 \\left( 2\\left(1 -  e^{- k_{1} t}\\right) - \\frac{k_{1} }{k_{1} - k_{2}}\\left(e^{- k_{2} t} - e^{- k_{1} t}\\right)\\right)$$\n",
    "\n",
    "Now let us do all of that with *Python*\n"
   ]
  },
  {
   "cell_type": "code",
   "execution_count": 164,
   "metadata": {},
   "outputs": [
    {
     "data": {
      "text/latex": [
       "$\\displaystyle A_{t} = A_{0} e^{- k_{1} t}$"
      ],
      "text/plain": [
       "Eq(A_t, A0*exp(-k1*t))"
      ]
     },
     "metadata": {},
     "output_type": "display_data"
    },
    {
     "data": {
      "text/latex": [
       "$\\displaystyle I_{t} = \\frac{A_{0} k_{1} \\left(e^{- k_{2} t} - e^{- k_{1} t}\\right)}{k_{1} - k_{2}}$"
      ],
      "text/plain": [
       "Eq(I_t, A0*k1*(exp(-k2*t) - exp(-k1*t))/(k1 - k2))"
      ]
     },
     "metadata": {},
     "output_type": "display_data"
    },
    {
     "data": {
      "text/latex": [
       "$\\displaystyle P_{t} = A_{0} \\left(- \\frac{k_{1} \\left(e^{- k_{2} t} - e^{- k_{1} t}\\right)}{k_{1} - k_{2}} + 2 - 2 e^{- k_{1} t}\\right)$"
      ],
      "text/plain": [
       "Eq(P_t, A0*(-k1*(exp(-k2*t) - exp(-k1*t))/(k1 - k2) + 2 - 2*exp(-k1*t)))"
      ]
     },
     "metadata": {},
     "output_type": "display_data"
    },
    {
     "data": {
      "text/latex": [
       "$\\displaystyle Abs_{0} e^{- k_{1} t} + \\frac{Abs_{0} \\epsilon_{I} k_{1} \\left(e^{- k_{2} t} - e^{- k_{1} t}\\right)}{\\epsilon_{A} \\left(k_{1} - k_{2}\\right)} + \\frac{Abs_{0} \\epsilon_{P} \\left(- \\frac{k_{1} \\left(e^{- k_{2} t} - e^{- k_{1} t}\\right)}{k_{1} - k_{2}} + 2 - 2 e^{- k_{1} t}\\right)}{\\epsilon_{A}}$"
      ],
      "text/plain": [
       "Abs_0*exp(-k1*t) + Abs_0*\\epsilon_I*k1*(exp(-k2*t) - exp(-k1*t))/(\\epsilon_A*(k1 - k2)) + Abs_0*\\epsilon_P*(-k1*(exp(-k2*t) - exp(-k1*t))/(k1 - k2) + 2 - 2*exp(-k1*t))/\\epsilon_A"
      ]
     },
     "metadata": {},
     "output_type": "display_data"
    },
    {
     "data": {
      "text/latex": [
       "$\\displaystyle \\frac{A_{t} Abs_{0} k_{1} \\left(e^{- k_{2} t} - e^{- k_{1} t}\\right)}{k_{1} - k_{2}} + Abs_{0} e^{- k_{1} t} + \\frac{Abs_{0} \\epsilon_{P} \\left(- \\frac{k_{1} \\left(e^{- k_{2} t} - e^{- k_{1} t}\\right)}{k_{1} - k_{2}} + 2 - 2 e^{- k_{1} t}\\right)}{\\epsilon_{A}}$"
      ],
      "text/plain": [
       "A_t*Abs_0*k1*(exp(-k2*t) - exp(-k1*t))/(k1 - k2) + Abs_0*exp(-k1*t) + Abs_0*\\epsilon_P*(-k1*(exp(-k2*t) - exp(-k1*t))/(k1 - k2) + 2 - 2*exp(-k1*t))/\\epsilon_A"
      ]
     },
     "metadata": {},
     "output_type": "display_data"
    }
   ],
   "source": [
    "display(A,I,P)\n",
    "\n",
    "At_ = A.rhs      # expressions for concentrations\n",
    "It_ = I.rhs\n",
    "Pt_ = P.rhs\n",
    "\n",
    "e_A = sym.symbols(r'\\epsilon_A')   # extinction coefficients\n",
    "e_I = sym.symbols(r'\\epsilon_I') \n",
    "e_P = sym.symbols(r'\\epsilon_P') \n",
    "\n",
    "Abs_A = sym.symbols(r'Abs_A')   # variables for absotrbances\n",
    "Abs_I = sym.symbols(r'Abs_I')\n",
    "Abs_P = sym.symbols(r'Abs_P')\n",
    "Abs_0 = sym.symbols('Abs_0')\n",
    "\n",
    "Total = e_A*At_ + e_I*It_ + e_P*Pt_           # total absorbance\n",
    "Total = Total.subs(A0, Abs_0/e_A)\n",
    "display(Total)\n",
    "\n",
    "display(Total.subs(e_I/e_A, At))\n"
   ]
  },
  {
   "cell_type": "code",
   "execution_count": 165,
   "metadata": {},
   "outputs": [
    {
     "data": {
      "image/png": "[encoded data removed]",
      "text/plain": [
       "<Figure size 640x480 with 1 Axes>"
      ]
     },
     "metadata": {},
     "output_type": "display_data"
    }
   ],
   "source": [
    "k1_rate = 2e-3\n",
    "k2_rate = 2.0e-4\n",
    "Abs0_ = 0.1\n",
    "\n",
    "t_range = [t,0,10000]\n",
    "\n",
    "eq = Total\n",
    "eq = eq.subs({k1:k1_rate, \n",
    "                k2:k2_rate, \n",
    "                Abs_0:Abs0_,\n",
    "                e_A: 1,\n",
    "                e_I: 0.6,\n",
    "                e_P: 3})\n",
    "\n",
    "\n",
    "#display(eq)\n",
    "\n",
    "\n",
    "plt.rcdefaults()\n",
    "\n",
    "p = sym.plot(eq,t_range, show=False)\n",
    "\n",
    "\n",
    "k1_rate = 2e-3\n",
    "k2_rate = 2.01e1\n",
    "Abs0_ = 0.1\n",
    "\n",
    "t_range = [t,0,10000]\n",
    "\n",
    "eq = Total\n",
    "eq = eq.subs({k1:k1_rate, \n",
    "                k2:k2_rate, \n",
    "                Abs_0:Abs0_,\n",
    "                e_A: 1,\n",
    "                e_I: 0.6,\n",
    "                e_P: 3})\n",
    "\n",
    "\n",
    "\n",
    "\n",
    "q = sym.plot(eq,t_range, show=False)\n",
    "\n",
    "\n",
    "p.extend(q)\n",
    "\n",
    "p.show()"
   ]
  },
  {
   "cell_type": "markdown",
   "metadata": {},
   "source": [
    "## Using Numeric Method"
   ]
  },
  {
   "cell_type": "code",
   "execution_count": 166,
   "metadata": {},
   "outputs": [
    {
     "data": {
      "image/png": "[encoded data removed]",
      "text/plain": [
       "<Figure size 500x400 with 1 Axes>"
      ]
     },
     "metadata": {},
     "output_type": "display_data"
    }
   ],
   "source": [
    "### from StealThisCode/4_SciPy/K05_NumericIntegration_SystemEq.ipynb\n",
    "\n",
    "#######################\n",
    "### import packages \n",
    "#######################\n",
    "\n",
    "import numpy as np\n",
    "from scipy.integrate import solve_ivp\n",
    "import matplotlib.pyplot as plt\n",
    "\n",
    "############################################\n",
    "### Create a function that describes the \n",
    "### system of differential equations. \n",
    "############################################\n",
    "\n",
    "def rates(t, c, k_1, k_2):  \n",
    "\n",
    "    A = c[0]; I = c[1]; P = c[2]           ### assign initial conc. from input list c\n",
    "\n",
    "    dA_dt = -k_1 * c[0]    ### rates of each reaction step with give concentration in list c\n",
    "    dI_dt = k_1 * c[0]  - k_2 * c[1] \n",
    "    dP_dt = k_1 * c[0] + k_2 * c[1] \n",
    "\n",
    "    return [dA_dt, dI_dt, dP_dt]\n",
    "\n",
    "\n",
    "############################################\n",
    "### Parameters and experimental conditions\n",
    "############################################\n",
    "\n",
    "k_1 = 2e-3          ### Values for kinetic parameters\n",
    "k_2 = 2e-4\n",
    "A0_conc = 1\n",
    "      \n",
    "time_end = 10000   ### The end time\n",
    "n_points = 100   ### number of points - increase if needed\n",
    "\n",
    "#########################################\n",
    "### Create series of time points      \n",
    "#########################################\n",
    "\n",
    "dt = time_end / n_points           ### time step, delta t\n",
    "t_line = np.arange(0, time_end+dt, dt) ### time vector (list of time points)\n",
    "num = len(t_line)\n",
    "\n",
    "\n",
    "#########################################\n",
    "### Integrate the system of differential equations      \n",
    "#########################################\n",
    "\n",
    "initial = [A0_conc, 0, 0]      ### Set list of initial values (A, I, P)\n",
    "\n",
    "int = solve_ivp(rates,                ### the function being integrated. \n",
    "                [0, time_end],        ### start and endpoint of integration\n",
    "                initial,              ### initial values\n",
    "                method = \"Radau\",     ### 'RK45', 'RK23', 'LSODA', 'DOP853', 'Radau', 'BDF'\n",
    "                t_eval = t_line,      ### time points at which to calculate values\n",
    "#                first_step = 1e-5,    ### take a very small first step. the initial rate is much faster than the average slope.\n",
    "                args = [k_1, k_2]  ### values to send to function after t and c\n",
    "                )\n",
    "\n",
    "#########################################\n",
    "### Extract the results from the returned data object      \n",
    "#########################################\n",
    "\n",
    "time = int.t        ### solve_inp() returns an array for time indexed as 't'\n",
    "yarray = int.y      ### Also retruns and array of calculated y values.\n",
    "                    ###  if more than one value returned from function we will\n",
    "                    ###  get a array of arrays for each value\n",
    "\n",
    "##################################################################################\n",
    "### Plot the results\n",
    "##################################################################################\n",
    "\n",
    "plt.rcdefaults()                    ### resets the plot defaults so we always start in the same place\n",
    "plt.style.use(\"../styles/tufte.mplstyle\")     ### Then add a fancy style sheet   \n",
    "\n",
    "fig, ax = plt.subplots(nrows=1, ncols=1, figsize=(5,4))  \n",
    "\n",
    "#########################################\n",
    "### Plot the line using the x_fit, y_fit points\n",
    "#########################################\n",
    "x = time      \n",
    "y = yarray[0] \n",
    "ax.plot(x, y, \n",
    "        linestyle = '-',            ### use a line between points\n",
    " #       linewidth='0.5',            ### make the line thin\n",
    "        color = 'C0',            ### the line is black\n",
    "        zorder = 0                  ### everything is in layer 0 (the bottom layer in this case)\n",
    "        )\n",
    "\n",
    "x = time      \n",
    "y = yarray[1]\n",
    "ax.plot(x, y, \n",
    "        linestyle = '-',            ### use a line between points\n",
    " #       linewidth='0.5',            ### make the line thin\n",
    "        color = 'C1',            ### the line is black\n",
    "        zorder = 0                  ### everything is in layer 0 (the bottom layer in this case)\n",
    "        )\n",
    "\n",
    "x = time      \n",
    "y = yarray[2]\n",
    "ax.plot(x, y, \n",
    "        linestyle = '-',            ### use a line between points\n",
    " #       linewidth='0.5',            ### make the line thin\n",
    "        color = 'C2',            ### the line is black\n",
    "        zorder = 0                  ### everything is in layer 0 (the bottom layer in this case)\n",
    "        )\n",
    "#########################################\n",
    "### Add more style\n",
    "#########################################\n",
    "        \n",
    "ax.set(ylabel=r\"$\\rm conc.\\;/\\;M $\", \n",
    "        xlabel=r\"$time\\; /\\; min$\",\n",
    "        title = \"Conc. vs time\",\n",
    "        xlim=[None, None],      \n",
    "        ylim=[None, None])\n",
    "\n",
    "\n",
    "fig.tight_layout()  # otherwise the right y-label is slightly clipped\n",
    "\n",
    "fig.savefig(\"plot.pdf\")    # use this to save the figure in PDF format\n",
    "plt.show()                 # output the combined four plots\n",
    "\n"
   ]
  },
  {
   "cell_type": "markdown",
   "metadata": {},
   "source": [
    "### Total Absorbance"
   ]
  },
  {
   "cell_type": "code",
   "execution_count": 167,
   "metadata": {},
   "outputs": [
    {
     "data": {
      "text/plain": [
       "[<matplotlib.lines.Line2D at 0x147d10650>]"
      ]
     },
     "execution_count": 167,
     "metadata": {},
     "output_type": "execute_result"
    },
    {
     "data": {
      "image/png": "[encoded data removed]",
      "text/plain": [
       "<Figure size 500x400 with 1 Axes>"
      ]
     },
     "metadata": {},
     "output_type": "display_data"
    }
   ],
   "source": [
    "k1_rate = 2e-3\n",
    "k2_rate = 2.0e-4\n",
    "Abs0_ = 0.1\n",
    "\n",
    "e_A_ = 1\n",
    "e_I_ = 0.6\n",
    "e_P_ = 3\n",
    "\n",
    "t_range = [t,0,10000]\n",
    "\n",
    "##################################################################################\n",
    "### Plot the results\n",
    "##################################################################################\n",
    "\n",
    "plt.rcdefaults()                    ### resets the plot defaults so we always start in the same place\n",
    "plt.style.use(\"../styles/tufte.mplstyle\")     ### Then add a fancy style sheet   \n",
    "\n",
    "fig, ax = plt.subplots(nrows=1, ncols=1, figsize=(5,4))  \n",
    "\n",
    "#########################################\n",
    "### Plot the line using the x_fit, y_fit points\n",
    "#########################################\n",
    "x = time      \n",
    "y = Abs0_*(yarray[0] + e_I_/e_A_*yarray[1] + e_P_/e_A_*yarray[2])\n",
    "\n",
    "ax.plot(x, y, \n",
    "        linestyle = '-',            ### use a line between points\n",
    " #       linewidth='0.5',            ### make the line thin\n",
    "        color = 'C0',            ### the line is black\n",
    "        zorder = 0                  ### everything is in layer 0 (the bottom layer in this case)\n",
    "        )\n"
   ]
  },
  {
   "cell_type": "markdown",
   "metadata": {},
   "source": [
    "## Make Data"
   ]
  },
  {
   "cell_type": "code",
   "execution_count": 168,
   "metadata": {},
   "outputs": [
    {
     "data": {
      "image/png": "[encoded data removed]",
      "text/plain": [
       "<Figure size 500x400 with 1 Axes>"
      ]
     },
     "metadata": {},
     "output_type": "display_data"
    }
   ],
   "source": [
    "############################################\n",
    "### Parameters and experimental conditions\n",
    "############################################\n",
    "\n",
    "k_1 = 2e-3          ### Values for kinetic parameters\n",
    "k_2 = 2e-4\n",
    "A0_conc = 1\n",
    "\n",
    "Abs0_ = 0.1\n",
    "\n",
    "e_A_ = 1\n",
    "e_I_ = 0.6\n",
    "e_P_ = 3\n",
    "\n",
    "\n",
    "      \n",
    "time_end = 10000   ### The end time\n",
    "n_points = 50   ### number of points - increase if needed\n",
    "\n",
    "#########################################\n",
    "### Create series of time points      \n",
    "#########################################\n",
    "\n",
    "dt = time_end / n_points           ### time step, delta t\n",
    "t_line = np.arange(0, time_end+dt, dt) ### time vector (list of time points)\n",
    "num = len(t_line)\n",
    "\n",
    "\n",
    "#########################################\n",
    "### Integrate the system of differential equations      \n",
    "#########################################\n",
    "\n",
    "initial = [A0_conc, 0, 0]      ### Set list of initial values (A, I, P)\n",
    "\n",
    "int = solve_ivp(rates,                ### the function being integrated. \n",
    "                [0, time_end],        ### start and endpoint of integration\n",
    "                initial,              ### initial values\n",
    "                method = \"Radau\",     ### 'RK45', 'RK23', 'LSODA', 'DOP853', 'Radau', 'BDF'\n",
    "                t_eval = t_line,      ### time points at which to calculate values\n",
    "#                first_step = 1e-5,    ### take a very small first step. the initial rate is much faster than the average slope.\n",
    "                args = [k_1, k_2]  ### values to send to function after t and c\n",
    "                )\n",
    "\n",
    "#########################################\n",
    "### Extract the results from the returned data object      \n",
    "#########################################\n",
    "\n",
    "time = int.t        ### solve_inp() returns an array for time indexed as 't'\n",
    "yarray = int.y      ### Also retruns and array of calculated y values.\n",
    "                    ###  if more than one value returned from function we will\n",
    "                    ###  get a array of arrays for each value\n",
    "\n",
    "##################################################################################\n",
    "### Plot the results\n",
    "##################################################################################\n",
    "\n",
    "plt.rcdefaults()                    ### resets the plot defaults so we always start in the same place\n",
    "plt.style.use(\"../styles/tufte.mplstyle\")     ### Then add a fancy style sheet   \n",
    "\n",
    "fig, ax = plt.subplots(nrows=1, ncols=1, figsize=(5,4))  \n",
    "\n",
    "#########################################\n",
    "### Plot the line using the x_fit, y_fit points\n",
    "#########################################\n",
    "xd = time      \n",
    "yd = Abs0_*(yarray[0] + e_I_/e_A_*yarray[1] + e_P_/e_A_*yarray[2])\n",
    "yr = np.random.normal(yd, .001)   # add random gaussian error \n",
    "\n",
    "ax.plot(xd, yr, \n",
    "        linestyle = None,            ### use a line between points\n",
    "        marker = \".\",\n",
    "        linewidth=0,            ### make the line thin\n",
    "        color = 'C0',            ### the line is black\n",
    "        markerfacecolor = 'white',\n",
    "        zorder = 0,                  ### everything is in layer 0 (the bottom layer in this case)\n",
    "        )\n",
    "\n",
    "ax.set(ylabel=r\"$\\rm Abs$\", \n",
    "       xlabel=r\"$\\rm time \\ /min$\",\n",
    "#       xlim=[-0.025*np.max(x),None],                  \n",
    "       ylim=[-0.025*np.max(y),None],\n",
    "      )\n",
    "plt.show()\n"
   ]
  },
  {
   "cell_type": "markdown",
   "metadata": {},
   "source": [
    "## Curve Fit using Numerical Integration"
   ]
  },
  {
   "cell_type": "code",
   "execution_count": 169,
   "metadata": {},
   "outputs": [
    {
     "name": "stdout",
     "output_type": "stream",
     "text": [
      "Abs0: 1.01e-01 +/- 2.57e-04\n",
      "k1: 1.97e-03 +/- 1.41e-05\n",
      "k2: 1.93e-04 +/- 3.03e-06\n"
     ]
    },
    {
     "data": {
      "image/png": "[encoded data removed]",
      "text/plain": [
       "<Figure size 400x300 with 1 Axes>"
      ]
     },
     "metadata": {},
     "output_type": "display_data"
    }
   ],
   "source": [
    "from scipy.optimize import curve_fit\n",
    "\n",
    "############################################\n",
    "### Create a function that describes the \n",
    "### system of differential equations. \n",
    "############################################\n",
    "\n",
    "def fitfunc(t, Abs0, k_1_, k_2_):\n",
    "    'Function that returns Total Abs computed from an ODE for a k1, k2 and Abs0'\n",
    "\n",
    "    def rates(t, c, k_1_, k_2_):  \n",
    "    \n",
    "        A = c[0]; I = c[1]; P = c[2]           ### assign initial conc. from input list c\n",
    "    \n",
    "        dA_dt = -k_1_ * c[0]    ### rates of each reaction step with give concentration in list c\n",
    "        dI_dt = k_1_ * c[0]  - k_2_ * c[1] \n",
    "        dP_dt = k_1_ * c[0] + k_2_ * c[1] \n",
    "    \n",
    "        return [dA_dt, dI_dt, dP_dt]\n",
    "\n",
    "    e_A = 1       # Extinction coefficeint ratios\n",
    "    e_I = 0.6\n",
    "    e_P = 3\n",
    "    \n",
    "    initial = [1, 0, 0]    # Initial conc of A,I,P\n",
    "\n",
    "    int = solve_ivp(rates, [0,np.max(xd)], \n",
    "                   initial, \n",
    "                   method=\"LSODA\",   ### 'RK45', 'RK23', 'LSODA', 'DOP853', 'Radau', 'BDF'\n",
    "                   t_eval=t, \n",
    "                   args=[k_1_, k_2_] \n",
    "                   )\n",
    "\n",
    "    yarray = int.y\n",
    "    y = Abs0*(yarray[0] + e_I/e_A*yarray[1] + e_P/e_A*yarray[2])\n",
    "\n",
    "    return y\n",
    "\n",
    "k_fit, pcov = curve_fit(fitfunc, xd, yr, p0 = [0.1,1e-3,1e-3])\n",
    "\n",
    "perr = np.sqrt(np.diag(pcov))\n",
    "\n",
    "Abs0, k1, k2 = k_fit\n",
    "Abs0_stdev, k1_stdev, k2_stdev  = perr\n",
    "\n",
    "print(f\"Abs0: {Abs0:0.2e} +/- {Abs0_stdev:0.2e}\")\n",
    "print(f\"k1: {k1:0.2e} +/- {k1_stdev:0.2e}\")\n",
    "print(f\"k2: {k2:0.2e} +/- {k2_stdev:0.2e}\")\n",
    "\n",
    "##########################\n",
    "### plot x and y data\n",
    "##########################\n",
    "\n",
    "x = xd      ### The data that was used in the curve fit \n",
    "y = yr      ### convert conc from M to mM  \n",
    "\n",
    "x_fit = np.linspace(0,np.max(xd),100);   ### The line calucltade from the optimized parameters\n",
    "y_fit = fitfunc(x_fit, Abs0, k1, k2)\n",
    "\n",
    "plt.rcdefaults()     ### resets the plot defaults so we always start in the same place\n",
    "#plt.style.use(\"../styles/tufte.mplstyle\")     ### Then add a fancy style sheet   \n",
    "\n",
    "fig, ax = plt.subplots(nrows=1, ncols=1, figsize=(4,3))  \n",
    "\n",
    "ax.plot(x_fit, y_fit,\n",
    "        linestyle = '-',            ### use a line between points\n",
    "        linewidth='0.5',            ### make the line thin\n",
    "        color = 'black',            ### the line is black\n",
    "        zorder = 0                  ### everything is in layer 0 (the bottom layer in this case)\n",
    "        )\n",
    "ax.scatter(xd, yr, \n",
    "        marker='o',                 ### Plot the x and y data \n",
    "        color='white',              ### markers are this color\n",
    "        edgecolors = 'black',       ### outline of markers is this color\n",
    "        linewidths = 0.5,           ### outline of markers is this wide\n",
    "        s=32,                       ### \"s\" is \"size\". sqrt(64) = 8 points wide\n",
    "        zorder = 2                  ### everything is in layer 1 (the top layer in this case)\n",
    "        )\n",
    "ax.set( xlabel= r\"$t\\;/\\;s$\", \n",
    "        ylabel=r\"$Abs$\",\n",
    "  #      title = \"MM Reaction\",\n",
    "        xlim=[0, None],                  \n",
    "        ylim=[0, None]      \n",
    "       )\n",
    "#ax.spines[['left','bottom']].set_position(('axes',-0.05))   ### space spines a little away from 'axes' (plot box)\n",
    "\n",
    "\n",
    "#########################################\n",
    "### Output the plot\n",
    "#########################################\n",
    "\n",
    "fig.tight_layout()         # otherwise the right y-label is slightly clipped\n",
    "\n",
    "plt.savefig(\"plotq.pdf\")     ### export the plot as this\n",
    "plt.show() "
   ]
  },
  {
   "cell_type": "code",
   "execution_count": 175,
   "metadata": {},
   "outputs": [
    {
     "name": "stdout",
     "output_type": "stream",
     "text": [
      "51 51\n",
      "Abs0: 1.00e-01 +/- 8.58e-04\n",
      "k1: 1.95e-03 +/- 2.48e-05\n",
      "k2: 1.91e-04 +/- 3.60e-06\n",
      "rI: 6.13e-01 +/- 1.02e-02\n",
      "rP: 3.01e+00 +/- 2.59e-02\n"
     ]
    },
    {
     "data": {
      "image/png": "[encoded data removed]",
      "text/plain": [
       "<Figure size 400x300 with 1 Axes>"
      ]
     },
     "metadata": {},
     "output_type": "display_data"
    }
   ],
   "source": [
    "from scipy.optimize import curve_fit\n",
    "\n",
    "############################################\n",
    "### Create a function that describes the \n",
    "### system of differential equations. \n",
    "############################################\n",
    "\n",
    "def fitfunc(t, Abs0, k_1_, k_2_, r_I, r_P):\n",
    "    'Function that returns Total Abs computed from an ODE for a k1, k2 and Abs0'\n",
    "\n",
    "    def rates(t, c, k_1_, k_2_):  \n",
    "    \n",
    "        A = c[0]; I = c[1]; P = c[2]           ### assign initial conc. from input list c\n",
    "    \n",
    "        dA_dt = -k_1_ * c[0]    ### rates of each reaction step with give concentration in list c\n",
    "        dI_dt = k_1_ * c[0]  - k_2_ * c[1] \n",
    "        dP_dt = k_1_ * c[0] + k_2_ * c[1] \n",
    "    \n",
    "        return [dA_dt, dI_dt, dP_dt]\n",
    "\n",
    "                 # Extinction coefficeint ratios\n",
    "    \n",
    "    initial = [1, 0, 0]    # Initial conc of A,I,P\n",
    "\n",
    "    int = solve_ivp(rates, [0,np.max(t)], \n",
    "                   initial, \n",
    "                   method=\"LSODA\",   ### 'RK45', 'RK23', 'LSODA', 'DOP853', 'Radau', 'BDF'\n",
    "                   t_eval=t, \n",
    "                   args=[k_1_, k_2_] \n",
    "                   )\n",
    "\n",
    "    yarray = int.y\n",
    "    y = Abs0*(yarray[0] + r_I * yarray[1] + r_P * yarray[2])\n",
    "\n",
    "    return y\n",
    "\n",
    "# xd=xd[1:]; yr=yr[1:]\n",
    "\n",
    "print(len(xd), len(yr))\n",
    "popt, pcov = curve_fit(fitfunc, xd, yr, p0 = [0.1, 1e-3, 1e-4, 1, 2])\n",
    "\n",
    "popt_un = un.correlated_values(popt, pcov)\n",
    "\n",
    "[ka, kb, kc, kd, Ka1] = popt_un\n",
    "\n",
    "perr = np.sqrt(np.diag(pcov))\n",
    "\n",
    "Abs0, k1, k2, rI, rP = popt\n",
    "Abs0_stdev, k1_stdev, k2_stdev, rI_stdev, rP_stdev  = perr\n",
    "\n",
    "print(f\"Abs0: {Abs0:0.2e} +/- {Abs0_stdev:0.2e}\")\n",
    "print(f\"k1: {k1:0.2e} +/- {k1_stdev:0.2e}\")\n",
    "print(f\"k2: {k2:0.2e} +/- {k2_stdev:0.2e}\")\n",
    "print(f\"rI: {rI:0.2e} +/- {rI_stdev:0.2e}\")\n",
    "print(f\"rP: {rP:0.2e} +/- {rP_stdev:0.2e}\")\n",
    "\n",
    "\n",
    "##########################\n",
    "### plot x and y data\n",
    "##########################\n",
    "\n",
    "x = xd      ### The data that was used in the curve fit \n",
    "y = yr      ### convert conc from M to mM  \n",
    "\n",
    "x_fit = np.linspace(0,np.max(xd),100);   ### The line calucltade from the optimized parameters\n",
    "y_fit = fitfunc(x_fit, Abs0, k1, k2, rI, rP)\n",
    "\n",
    "plt.rcdefaults()     ### resets the plot defaults so we always start in the same place\n",
    "plt.style.use(\"../styles/tufte.mplstyle\")     ### Then add a fancy style sheet   \n",
    "\n",
    "fig, ax = plt.subplots(nrows=1, ncols=1, figsize=(4,3))  \n",
    "\n",
    "ax.plot(x_fit, y_fit,\n",
    "        linestyle = '-',            ### use a line between points\n",
    "        linewidth='0.5',            ### make the line thin\n",
    "        color = 'black',            ### the line is black\n",
    "        zorder = 0                  ### everything is in layer 0 (the bottom layer in this case)\n",
    "        )\n",
    "ax.scatter(xd, yr, \n",
    "        marker='o',                 ### Plot the x and y data \n",
    "        facecolors = 'white',              ### markers are this color\n",
    "        edgecolors = 'black',       ### outline of markers is this color\n",
    "        linewidths = 0.5,           ### outline of markers is this wide\n",
    "        s=8,                       ### \"s\" is \"size\". sqrt(64) = 8 points wide\n",
    "        zorder = 2                  ### everything is in layer 1 (the top layer in this case)\n",
    "        )\n",
    "ax.set( xlabel= r\"$t\\;/\\;s$\", \n",
    "        ylabel=r\"$Abs$\",\n",
    "  #      title = \"MM Reaction\",\n",
    "        xlim=[-0.025*np.max(xd), None],                  \n",
    "        ylim=[-0.025*np.max(y_fit), None]      \n",
    "       )\n",
    "#ax.spines[['left','bottom']].set_position(('axes',-0.05))   ### space spines a little away from 'axes' (plot box)\n",
    "\n",
    "\n",
    "#########################################\n",
    "### Output the plot\n",
    "#########################################\n",
    "\n",
    "fig.tight_layout()         # otherwise the right y-label is slightly clipped\n",
    "\n",
    "plt.savefig(\"plotq.pdf\")     ### export the plot as this\n",
    "plt.show() "
   ]
  },
  {
   "cell_type": "markdown",
   "metadata": {},
   "source": [
    "## Curve Fit with Analytical Integration\n",
    "\n",
    "This will allow for using the uncertainties package."
   ]
  },
  {
   "cell_type": "code",
   "execution_count": 176,
   "metadata": {},
   "outputs": [
    {
     "name": "stdout",
     "output_type": "stream",
     "text": [
      "AAAAAAAAAAAAAAAAAAAAAAA\n",
      "Integrated equation for At\n"
     ]
    },
    {
     "data": {
      "text/latex": [
       "$\\displaystyle A_{t} = A_{0} e^{- k_{1} t}$"
      ],
      "text/plain": [
       "Eq(A_t, A0*exp(-k1*t))"
      ]
     },
     "metadata": {},
     "output_type": "display_data"
    },
    {
     "name": "stdout",
     "output_type": "stream",
     "text": [
      "IIIIIIIIIIIIIIIIIIIIIIIIIIIIII\n",
      "Integrated equation for It\n"
     ]
    },
    {
     "data": {
      "text/latex": [
       "$\\displaystyle x_{t}{\\left(t \\right)} = \\frac{A_{0} k_{1} \\left(e^{- k_{2} t} - e^{- k_{1} t}\\right)}{k_{1} - k_{2}}$"
      ],
      "text/plain": [
       "Eq(x_t(t), A0*k1*(exp(-k2*t) - exp(-k1*t))/(k1 - k2))"
      ]
     },
     "metadata": {},
     "output_type": "display_data"
    },
    {
     "name": "stdout",
     "output_type": "stream",
     "text": [
      "PPPPPPPPPPPPPPPPPPPPPP\n"
     ]
    },
    {
     "data": {
      "text/latex": [
       "$\\displaystyle P_{t} = A_{0} \\left(- \\frac{k_{1} \\left(e^{- k_{2} t} - e^{- k_{1} t}\\right)}{k_{1} - k_{2}} + 2 - 2 e^{- k_{1} t}\\right)$"
      ],
      "text/plain": [
       "Eq(P_t, A0*(-k1*(exp(-k2*t) - exp(-k1*t))/(k1 - k2) + 2 - 2*exp(-k1*t)))"
      ]
     },
     "metadata": {},
     "output_type": "display_data"
    },
    {
     "name": "stdout",
     "output_type": "stream",
     "text": [
      "TotalAbsTotalAbsTotalAbs\n"
     ]
    },
    {
     "data": {
      "text/latex": [
       "$\\displaystyle Abs_{T} = \\frac{Abs_{0} k_{1} r_{I} \\left(e^{- k_{2} t} - e^{- k_{1} t}\\right)}{k_{1} - k_{2}} + Abs_{0} r_{P} \\left(- \\frac{k_{1} \\left(e^{- k_{2} t} - e^{- k_{1} t}\\right)}{k_{1} - k_{2}} + 2 - 2 e^{- k_{1} t}\\right) + Abs_{0} e^{- k_{1} t}$"
      ],
      "text/plain": [
       "Eq(Abs_T, Abs_0*k1*r_I*(exp(-k2*t) - exp(-k1*t))/(k1 - k2) + Abs_0*r_P*(-k1*(exp(-k2*t) - exp(-k1*t))/(k1 - k2) + 2 - 2*exp(-k1*t)) + Abs_0*exp(-k1*t))"
      ]
     },
     "metadata": {},
     "output_type": "display_data"
    }
   ],
   "source": [
    "import sympy as sym\n",
    "import matplotlib.pyplot as plt\n",
    "\n",
    "\n",
    "### Construct integrated equation using code from above.\n",
    "\n",
    "t = sym.symbols('t')     # create t as a 'symbol', not a variable\n",
    "k1 = sym.symbols('k1')     # create k as a 'symbol'\n",
    "k2 = sym.symbols('k2')     # create k as a 'symbol'\n",
    "At = sym.symbols('A_t')  # create At as a 'symbol'\n",
    "A0 = sym.symbols('A0')   # create A0 as a 'symbol'\n",
    "It = sym.symbols('I_t')   # create A0 as a 'symbol'\n",
    "\n",
    "xt = sym.Function('x_t')    # create x as a 'function', not a variable\n",
    "\n",
    "### Integrate for A(t)\n",
    "print(\"AAAAAAAAAAAAAAAAAAAAAAA\")\n",
    "\n",
    "lhs = sym.Derivative(At, t) # Using Derivative function to get differential of A(t) w.r.t. t\n",
    "                            # could not used At.diff(t) because At is not a function \n",
    "rhs = -k1*(At)\n",
    "\n",
    "diffeq = sym.Eq(lhs, rhs)   # create a sympy equation\n",
    "diffeq = diffeq.subs({At: (A0 - xt(t))})    # A(t) = A0 - x(t)\n",
    "\n",
    "A = sym.dsolve(diffeq, ics={xt(0): 0})      # Solve the differential equation. \n",
    "                                            # Initial condition is x(t) = 0 when t = 0\n",
    "rhs = A.rhs; lhs = A.lhs\n",
    "lhs = lhs.subs({xt(t): (A0 - At)})  # x(t) = A0 - A(t)\n",
    "A = sym.Eq(lhs,rhs)\n",
    "\n",
    "rhs = A.rhs; lhs = A.lhs\n",
    "rhs = -(rhs-A0); lhs = -(lhs-A0)    # Simplify by subtracting A0 from both sides\n",
    "A = sym.Eq(lhs,rhs)\n",
    "\n",
    "print(\"Integrated equation for At\")\n",
    "display(A)\n",
    "\n",
    "#############################\n",
    "print(\"IIIIIIIIIIIIIIIIIIIIIIIIIIIIII\")\n",
    "\n",
    "lhs = sym.Derivative(It, t) # Using Derivative function to get differential of I(t) w.r.t. t\n",
    "                             \n",
    "rhs = k1*A.rhs - k2*It    #k1*At - k2*It and substitute in equation A for At\n",
    "\n",
    "diffeq = sym.Eq(lhs, rhs)   # create a sympy equation\n",
    "diffeq = diffeq.subs({It: xt(t)})\n",
    "\n",
    "I = sym.dsolve(diffeq, ics={xt(0): 0})      # Solve the differential equation for I(t). \n",
    "                                            # Initial condition is x(t) = 0 when t = 0\n",
    "rhs = I.rhs; lhs = I.lhs\n",
    "rhs = sym.collect(rhs,(A0*k1/(k1-k2)))      # collect terms for simpler equation\n",
    "I = sym.Eq(lhs,rhs)\n",
    "\n",
    "print(\"Integrated equation for It\")\n",
    "display(I)\n",
    "\n",
    "################################\n",
    "print(\"PPPPPPPPPPPPPPPPPPPPPP\")\n",
    "\n",
    "Pt = sym.symbols('P_t')   # create Pt as a 'symbol'\n",
    "\n",
    "rhs = 2*A0 - 2*A.rhs - I.rhs    # Pt = 2A0 - 2At - I\n",
    "rhs = sym.collect(rhs,A0)\n",
    "\n",
    "P = sym.Eq(Pt,rhs)\n",
    "display(P)\n",
    "\n",
    "\n",
    "################################\n",
    "\n",
    "\n",
    "At_ = A.rhs      # expressions for concentrations\n",
    "It_ = I.rhs\n",
    "Pt_ = P.rhs\n",
    "\n",
    "e_A = sym.symbols(r'\\epsilon_A')   # extinction coefficients\n",
    "e_I = sym.symbols(r'\\epsilon_I') \n",
    "e_P = sym.symbols(r'\\epsilon_P') \n",
    "\n",
    "r_I = sym.symbols(r'r_I')   # ratio of extiction coeff\n",
    "r_P = sym.symbols(r'r_P') \n",
    "\n",
    "\n",
    "Abs_A = e_A * At_   # variables for absotrbances\n",
    "Abs_I = e_I * It_ \n",
    "Abs_P = e_P * Pt_ \n",
    "Abs_0 = sym.symbols('Abs_0')\n",
    "Abs_T = sym.symbols('Abs_T')\n",
    "\n",
    "Total = Abs_A + Abs_I + Abs_P           # total absorbance\n",
    "Total = Total.subs(A0, Abs_0/e_A)\n",
    "print(\"TotalAbsTotalAbsTotalAbs\")\n",
    "#display(Total)\n",
    "\n",
    "Total = Total.subs({e_I/e_A: r_I,\n",
    "                    e_P/e_A: r_P})\n",
    "\n",
    "Total = sym.Eq(Abs_T,Total)\n",
    "display(Total)"
   ]
  },
  {
   "cell_type": "code",
   "execution_count": 190,
   "metadata": {},
   "outputs": [
    {
     "name": "stdout",
     "output_type": "stream",
     "text": [
      "[[Model]]\n",
      "    Model(_lambdifygenerated)\n",
      "[[Fit Statistics]]\n",
      "    # fitting method   = leastsq\n",
      "    # function evals   = 118\n",
      "    # data points      = 51\n",
      "    # variables        = 5\n",
      "    chi-square         = 4.0036e-05\n",
      "    reduced chi-square = 8.7035e-07\n",
      "    Akaike info crit   = -706.935331\n",
      "    Bayesian info crit = -697.276203\n",
      "    R-squared          = 0.99991974\n",
      "[[Variables]]\n",
      "    Abs_0:  0.10036473 +/- 8.5770e-04 (0.85%) (init = 0.1)\n",
      "    k1:     1.9083e-04 +/- 3.6021e-06 (1.89%) (init = 0.0001)\n",
      "    k2:     0.00194566 +/- 2.4798e-05 (1.27%) (init = 0.001)\n",
      "    r_I:    24.7426104 +/- 0.52791155 (2.13%) (init = 3)\n",
      "    r_P:    3.01123284 +/- 0.02586847 (0.86%) (init = 0.3)\n",
      "[[Correlations]] (unreported correlations are < 0.100)\n",
      "    C(Abs_0, r_P) = -0.9446\n",
      "    C(r_I, r_P)   = +0.8113\n",
      "    C(k1, k2)     = +0.7441\n",
      "    C(k1, r_I)    = -0.6401\n",
      "    C(Abs_0, r_I) = -0.5940\n",
      "    C(Abs_0, k2)  = -0.4744\n",
      "    C(k2, r_P)    = +0.2546\n",
      "    C(Abs_0, k1)  = -0.1807\n",
      "    C(k1, r_P)    = -0.1448\n"
     ]
    },
    {
     "data": {
      "image/png": "[encoded data removed]",
      "text/plain": [
       "<Figure size 500x400 with 1 Axes>"
      ]
     },
     "metadata": {},
     "output_type": "display_data"
    }
   ],
   "source": [
    "import matplotlib.pyplot as plt\n",
    "import lmfit     \n",
    "import uncertainties as un               # tool set for handling uncertainties\n",
    "from uncertainties import unumpy as unp  # a replacement for numpy \n",
    "\n",
    "\n",
    "plt.rcdefaults()\n",
    "plt.style.use(\"../styles/tufte.mplstyle\")     ### Then add a fancy style sheet   \n",
    "\n",
    "##########################\n",
    "### create function \n",
    "##########################\n",
    "\n",
    "f = sym.lambdify([t, Abs_0, k1, k2, r_I, r_P], Total.rhs)   ### create function in terms of t, S0, KM and Vmax\n",
    "\n",
    "##########################\n",
    "### use lmfit to fit data to function \n",
    "##########################\n",
    "\n",
    "mod = lmfit.Model(f)                            # load the function f as the model to be fit\n",
    "pars = mod.make_params(Abs_0 = 0.1,\n",
    "                       k1 = 0.0001,\n",
    "                       k2 = 0.001,\n",
    "                       r_I = 3,\n",
    "                       r_P = .3)   # state the parameters (use the text strings that we used above in sympy)\n",
    "                                                # initial values are also set here\n",
    "\n",
    "result = mod.fit(yr, pars, t=xd)            # use the .fit method on the model object to perform the curve fit\n",
    "                                                # the variable in this function is 't' so we must use that in the call\n",
    "##########################\n",
    "### get the results \n",
    "##########################\n",
    "\n",
    "print(result.fit_report())\n",
    "\n",
    "Abs_fit = result.uvars['Abs_0']         ### collect parameters as uncertain values\n",
    "k1_fit = result.uvars['k1']\n",
    "k2_fit = result.uvars['k2']\n",
    "r_I_fit = result.uvars['r_I']\n",
    "r_P_fit = result.uvars['r_P']\n",
    "\n",
    "\n",
    "########################################################################\n",
    "########################################################################\n",
    "########################################################################\n",
    "########################################################################\n",
    "\n",
    "#### Create Confidence band upper and lower bounds\n",
    "sigma = 2\n",
    "\n",
    "x1 = np.linspace(0, np.max(xd), 100)\n",
    "\n",
    "bestfit_y1 = f(x1, Abs_fit.n, k1_fit.n, k2_fit.n, r_I_fit.n, r_P_fit.n)\n",
    "\n",
    "y1 = unp.nominal_values(bestfit_y1)\n",
    "\n",
    "\n",
    "\n",
    "#########################################\n",
    "### Plot the data and the line fit.   ###\n",
    "#########################################\n",
    "fig, ax = plt.subplots(nrows=1, ncols=1, figsize=(5,4))  \n",
    "\n",
    "ax.plot(x1, y1, color='black', zorder=1, linewidth=0.7)\n",
    "\n",
    "#ax.scatter(xd,yr, s=32, color=\"white\", zorder=2)\n",
    "ax.scatter(xd,yr, s=8, color=\"black\", zorder=4)\n",
    "\n",
    "    \n",
    "############################\n",
    "### Set labels and scale ###\n",
    "############################\n",
    "\n",
    "ax.set(ylabel=r\"$\\rm Abs$\", \n",
    "       xlabel=r\"$\\rm time\\ /s$\",\n",
    "#          xlim=[0,None],                  \n",
    "          ylim=[0,0.7]\n",
    "      \n",
    "      )\n",
    "\n",
    "#############################\n",
    "### Output the final plot ###\n",
    "#############################\n",
    "\n",
    "fig.savefig(\"plot_QQ2_un.pdf\")   # use this to save the figure in PDF format\n",
    "\n",
    "plt.show()"
   ]
  },
  {
   "cell_type": "code",
   "execution_count": 180,
   "metadata": {},
   "outputs": [
    {
     "name": "stdout",
     "output_type": "stream",
     "text": [
      "[[Model]]\n",
      "    Model(_lambdifygenerated)\n",
      "[[Fit Statistics]]\n",
      "    # fitting method   = leastsq\n",
      "    # function evals   = 52\n",
      "    # data points      = 51\n",
      "    # variables        = 3\n",
      "    chi-square         = 4.1403e-05\n",
      "    reduced chi-square = 8.6257e-07\n",
      "    Akaike info crit   = -709.222737\n",
      "    Bayesian info crit = -703.427260\n",
      "    R-squared          = 0.99991700\n",
      "[[Variables]]\n",
      "    Abs_0:  0.10060722 +/- 2.5742e-04 (0.26%) (init = 0.1)\n",
      "    k1:     0.00196582 +/- 1.4157e-05 (0.72%) (init = 0.01)\n",
      "    k2:     1.9315e-04 +/- 3.0313e-06 (1.57%) (init = 0.005)\n",
      "[[Correlations]] (unreported correlations are < 0.100)\n",
      "    C(Abs_0, k2) = -0.9923\n",
      "    C(Abs_0, k1) = -0.8320\n",
      "    C(k1, k2)    = +0.7993\n"
     ]
    }
   ],
   "source": [
    "import matplotlib.pyplot as plt\n",
    "import lmfit     \n",
    "\n",
    "plt.rcdefaults()\n",
    "\n",
    "##########################\n",
    "### create function \n",
    "##########################\n",
    "rhs = Total.rhs\n",
    "\n",
    "rhs = rhs.subs({r_I: 0.6,\n",
    "                r_P: 3})\n",
    "\n",
    "f = sym.lambdify([t, Abs_0, k1, k2], rhs)   ### create function in terms of t, S0, KM and Vmax\n",
    "fu = un.wrap(f)\n",
    "\n",
    "##########################\n",
    "### use lmfit to fit data to function \n",
    "##########################\n",
    "\n",
    "mod = lmfit.Model(f)                            # load the function f as the model to be fit\n",
    "pars = mod.make_params(Abs_0 = 0.1,\n",
    "                       k1 = .01,\n",
    "                       k2 = .005,\n",
    "                       )   # state the parameters (use the text strings that we used above in sympy)\n",
    "                                                # initial values are also set here\n",
    "\n",
    "result = mod.fit(yr, pars, t=xd)            # use the .fit method on the model object to perform the curve fit\n",
    "                                                # the variable in this function is 't' so we must use that in the call\n",
    "##########################\n",
    "### get the results \n",
    "##########################\n",
    "\n",
    "print(result.fit_report())\n",
    "\n",
    "\n"
   ]
  },
  {
   "cell_type": "code",
   "execution_count": 188,
   "metadata": {},
   "outputs": [
    {
     "name": "stdout",
     "output_type": "stream",
     "text": [
      "parameter names: ['Abs_0', 'k1', 'k2', 'eI', 'eP']\n",
      "independent variables: ['t']\n"
     ]
    },
    {
     "ename": "TypeError",
     "evalue": "Improper input: func input vector length N=5 must not exceed func output vector length M=0",
     "output_type": "error",
     "traceback": [
      "\u001b[0;31m---------------------------------------------------------------------------\u001b[0m",
      "\u001b[0;31mTypeError\u001b[0m                                 Traceback (most recent call last)",
      "Cell \u001b[0;32mIn[188], line 57\u001b[0m\n\u001b[1;32m     50\u001b[0m pars \u001b[38;5;241m=\u001b[39m mod\u001b[38;5;241m.\u001b[39mmake_params(Abs_0 \u001b[38;5;241m=\u001b[39m \u001b[38;5;241m0.1\u001b[39m,\n\u001b[1;32m     51\u001b[0m                        k1 \u001b[38;5;241m=\u001b[39m \u001b[38;5;241m0.002\u001b[39m,\n\u001b[1;32m     52\u001b[0m                        k2 \u001b[38;5;241m=\u001b[39m \u001b[38;5;241m0.0002\u001b[39m,\n\u001b[1;32m     53\u001b[0m                        r_I \u001b[38;5;241m=\u001b[39m \u001b[38;5;241m.6\u001b[39m,\n\u001b[1;32m     54\u001b[0m                        r_P \u001b[38;5;241m=\u001b[39m \u001b[38;5;241m3\u001b[39m)    \u001b[38;5;66;03m# state the parameters (use the text strings that we used above in sympy)\u001b[39;00m\n\u001b[1;32m     55\u001b[0m                                     \u001b[38;5;66;03m# initial values are also set here\u001b[39;00m\n\u001b[0;32m---> 57\u001b[0m result \u001b[38;5;241m=\u001b[39m mod\u001b[38;5;241m.\u001b[39mfit(yr, pars, t\u001b[38;5;241m=\u001b[39mxd)            \u001b[38;5;66;03m# use the .fit method on the model object to perform the curve fit\u001b[39;00m\n\u001b[1;32m     58\u001b[0m                                             \u001b[38;5;66;03m# the variable in this function is 't' so we must use that in the call\u001b[39;00m\n\u001b[1;32m     59\u001b[0m \u001b[38;5;66;03m##########################\u001b[39;00m\n\u001b[1;32m     60\u001b[0m \u001b[38;5;66;03m### get the results \u001b[39;00m\n\u001b[1;32m     61\u001b[0m \u001b[38;5;66;03m##########################\u001b[39;00m\n\u001b[1;32m     63\u001b[0m \u001b[38;5;28mprint\u001b[39m(result\u001b[38;5;241m.\u001b[39mfit_report())\n",
      "File \u001b[0;32m/opt/anaconda3/lib/python3.11/site-packages/lmfit/model.py:1103\u001b[0m, in \u001b[0;36mModel.fit\u001b[0;34m(self, data, params, weights, method, iter_cb, scale_covar, verbose, fit_kws, nan_policy, calc_covar, max_nfev, coerce_farray, **kwargs)\u001b[0m\n\u001b[1;32m   1097\u001b[0m     fit_kws \u001b[38;5;241m=\u001b[39m {}\n\u001b[1;32m   1099\u001b[0m output \u001b[38;5;241m=\u001b[39m ModelResult(\u001b[38;5;28mself\u001b[39m, params, method\u001b[38;5;241m=\u001b[39mmethod, iter_cb\u001b[38;5;241m=\u001b[39miter_cb,\n\u001b[1;32m   1100\u001b[0m                      scale_covar\u001b[38;5;241m=\u001b[39mscale_covar, fcn_kws\u001b[38;5;241m=\u001b[39mkwargs,\n\u001b[1;32m   1101\u001b[0m                      nan_policy\u001b[38;5;241m=\u001b[39m\u001b[38;5;28mself\u001b[39m\u001b[38;5;241m.\u001b[39mnan_policy, calc_covar\u001b[38;5;241m=\u001b[39mcalc_covar,\n\u001b[1;32m   1102\u001b[0m                      max_nfev\u001b[38;5;241m=\u001b[39mmax_nfev, \u001b[38;5;241m*\u001b[39m\u001b[38;5;241m*\u001b[39mfit_kws)\n\u001b[0;32m-> 1103\u001b[0m output\u001b[38;5;241m.\u001b[39mfit(data\u001b[38;5;241m=\u001b[39mdata, weights\u001b[38;5;241m=\u001b[39mweights)\n\u001b[1;32m   1104\u001b[0m output\u001b[38;5;241m.\u001b[39mcomponents \u001b[38;5;241m=\u001b[39m \u001b[38;5;28mself\u001b[39m\u001b[38;5;241m.\u001b[39mcomponents\n\u001b[1;32m   1105\u001b[0m \u001b[38;5;28;01mreturn\u001b[39;00m output\n",
      "File \u001b[0;32m/opt/anaconda3/lib/python3.11/site-packages/lmfit/model.py:1467\u001b[0m, in \u001b[0;36mModelResult.fit\u001b[0;34m(self, data, params, weights, method, nan_policy, **kwargs)\u001b[0m\n\u001b[1;32m   1465\u001b[0m \u001b[38;5;28mself\u001b[39m\u001b[38;5;241m.\u001b[39muserkws\u001b[38;5;241m.\u001b[39mupdate(kwargs)\n\u001b[1;32m   1466\u001b[0m \u001b[38;5;28mself\u001b[39m\u001b[38;5;241m.\u001b[39minit_fit \u001b[38;5;241m=\u001b[39m \u001b[38;5;28mself\u001b[39m\u001b[38;5;241m.\u001b[39mmodel\u001b[38;5;241m.\u001b[39meval(params\u001b[38;5;241m=\u001b[39m\u001b[38;5;28mself\u001b[39m\u001b[38;5;241m.\u001b[39mparams, \u001b[38;5;241m*\u001b[39m\u001b[38;5;241m*\u001b[39m\u001b[38;5;28mself\u001b[39m\u001b[38;5;241m.\u001b[39muserkws)\n\u001b[0;32m-> 1467\u001b[0m _ret \u001b[38;5;241m=\u001b[39m \u001b[38;5;28mself\u001b[39m\u001b[38;5;241m.\u001b[39mminimize(method\u001b[38;5;241m=\u001b[39m\u001b[38;5;28mself\u001b[39m\u001b[38;5;241m.\u001b[39mmethod)\n\u001b[1;32m   1468\u001b[0m \u001b[38;5;28mself\u001b[39m\u001b[38;5;241m.\u001b[39mmodel\u001b[38;5;241m.\u001b[39mpost_fit(_ret)\n\u001b[1;32m   1469\u001b[0m _ret\u001b[38;5;241m.\u001b[39mparams\u001b[38;5;241m.\u001b[39mcreate_uvars(covar\u001b[38;5;241m=\u001b[39m_ret\u001b[38;5;241m.\u001b[39mcovar)\n",
      "File \u001b[0;32m/opt/anaconda3/lib/python3.11/site-packages/lmfit/minimizer.py:2345\u001b[0m, in \u001b[0;36mMinimizer.minimize\u001b[0;34m(self, method, params, **kws)\u001b[0m\n\u001b[1;32m   2342\u001b[0m         \u001b[38;5;28;01mif\u001b[39;00m (key\u001b[38;5;241m.\u001b[39mlower()\u001b[38;5;241m.\u001b[39mstartswith(user_method) \u001b[38;5;129;01mor\u001b[39;00m\n\u001b[1;32m   2343\u001b[0m                 val\u001b[38;5;241m.\u001b[39mlower()\u001b[38;5;241m.\u001b[39mstartswith(user_method)):\n\u001b[1;32m   2344\u001b[0m             kwargs[\u001b[38;5;124m'\u001b[39m\u001b[38;5;124mmethod\u001b[39m\u001b[38;5;124m'\u001b[39m] \u001b[38;5;241m=\u001b[39m val\n\u001b[0;32m-> 2345\u001b[0m \u001b[38;5;28;01mreturn\u001b[39;00m function(\u001b[38;5;241m*\u001b[39m\u001b[38;5;241m*\u001b[39mkwargs)\n",
      "File \u001b[0;32m/opt/anaconda3/lib/python3.11/site-packages/lmfit/minimizer.py:1651\u001b[0m, in \u001b[0;36mMinimizer.leastsq\u001b[0;34m(self, params, max_nfev, **kws)\u001b[0m\n\u001b[1;32m   1649\u001b[0m result\u001b[38;5;241m.\u001b[39mcall_kws \u001b[38;5;241m=\u001b[39m lskws\n\u001b[1;32m   1650\u001b[0m \u001b[38;5;28;01mtry\u001b[39;00m:\n\u001b[0;32m-> 1651\u001b[0m     lsout \u001b[38;5;241m=\u001b[39m scipy_leastsq(\u001b[38;5;28mself\u001b[39m\u001b[38;5;241m.\u001b[39m__residual, variables, \u001b[38;5;241m*\u001b[39m\u001b[38;5;241m*\u001b[39mlskws)\n\u001b[1;32m   1652\u001b[0m \u001b[38;5;28;01mexcept\u001b[39;00m AbortFitException:\n\u001b[1;32m   1653\u001b[0m     \u001b[38;5;28;01mpass\u001b[39;00m\n",
      "File \u001b[0;32m/opt/anaconda3/lib/python3.11/site-packages/scipy/optimize/_minpack_py.py:419\u001b[0m, in \u001b[0;36mleastsq\u001b[0;34m(func, x0, args, Dfun, full_output, col_deriv, ftol, xtol, gtol, maxfev, epsfcn, factor, diag)\u001b[0m\n\u001b[1;32m    416\u001b[0m m \u001b[38;5;241m=\u001b[39m shape[\u001b[38;5;241m0\u001b[39m]\n\u001b[1;32m    418\u001b[0m \u001b[38;5;28;01mif\u001b[39;00m n \u001b[38;5;241m>\u001b[39m m:\n\u001b[0;32m--> 419\u001b[0m     \u001b[38;5;28;01mraise\u001b[39;00m \u001b[38;5;167;01mTypeError\u001b[39;00m(\u001b[38;5;124mf\u001b[39m\u001b[38;5;124m\"\u001b[39m\u001b[38;5;124mImproper input: func input vector length N=\u001b[39m\u001b[38;5;132;01m{\u001b[39;00mn\u001b[38;5;132;01m}\u001b[39;00m\u001b[38;5;124m must\u001b[39m\u001b[38;5;124m\"\u001b[39m\n\u001b[1;32m    420\u001b[0m                     \u001b[38;5;124mf\u001b[39m\u001b[38;5;124m\"\u001b[39m\u001b[38;5;124m not exceed func output vector length M=\u001b[39m\u001b[38;5;132;01m{\u001b[39;00mm\u001b[38;5;132;01m}\u001b[39;00m\u001b[38;5;124m\"\u001b[39m)\n\u001b[1;32m    422\u001b[0m \u001b[38;5;28;01mif\u001b[39;00m epsfcn \u001b[38;5;129;01mis\u001b[39;00m \u001b[38;5;28;01mNone\u001b[39;00m:\n\u001b[1;32m    423\u001b[0m     epsfcn \u001b[38;5;241m=\u001b[39m finfo(dtype)\u001b[38;5;241m.\u001b[39meps\n",
      "\u001b[0;31mTypeError\u001b[0m: Improper input: func input vector length N=5 must not exceed func output vector length M=0"
     ]
    }
   ],
   "source": [
    "import matplotlib.pyplot as plt\n",
    "import lmfit     \n",
    "import uncertainties as un               # tool set for handling uncertainties\n",
    "from uncertainties import unumpy as unp  # a replacement for numpy \n",
    "from scipy.optimize import curve_fit\n",
    "\n",
    "def fit_u(t, Abs_0, k1, k2, eI, eP):\n",
    "\n",
    "    eA = 1\n",
    "#    eI = 0.6\n",
    "#    eP = 3\n",
    "    \n",
    "    A0 = Abs_0 / eA\n",
    "    At = A0 * unp.exp(-k1 * t)\n",
    "    It = A0 * k1/(k1-k2) * (unp.exp(-k2*t)-unp.exp(-k1*t))\n",
    "    Pt = A0 * ((2 - 2 * unp.exp(-k1 * t)) - k1/(k1-k2) * (unp.exp(-k2*t)-unp.exp(-k1*t)))\n",
    "    Total_Abs = At + eI * It + eP * Pt     \n",
    "\n",
    "    return(Total_Abs)      \n",
    "    \n",
    "def fit(t, Abs_0, k1, k2, eI, eP):\n",
    "\n",
    "    eA = 1\n",
    "#    eI = 0.6\n",
    "#    eP = 3\n",
    "    \n",
    "    A0 = Abs_0 / eA\n",
    "    At = A0 * np.exp(-k1 * t)\n",
    "    It = A0 * k1/(k1-k2) * (np.exp(-k2*t)-np.exp(-k1*t))\n",
    "    Pt = A0 * ((2 - 2 * np.exp(-k1 * t)) - k1/(k1-k2) * (np.exp(-k2*t)-np.exp(-k1*t)))\n",
    "    Total_Abs = At + eI*It + eP*Pt     \n",
    "\n",
    "    return(Total_Abs)      \n",
    "\n",
    "plt.rcdefaults()\n",
    "plt.style.use(\"../styles/tufte.mplstyle\")     ### Then add a fancy style sheet   \n",
    "\n",
    "\n",
    "##########################\n",
    "### use lmfit to fit data to function \n",
    "##########################\n",
    "\n",
    "mod = lmfit.Model(fit,\n",
    "                  nan_policy = 'omit')                            # load the function f as the model to be fit\n",
    "\n",
    "print(f'parameter names: {mod.param_names}')\n",
    "print(f'independent variables: {mod.independent_vars}')\n",
    "\n",
    "\n",
    "pars = mod.make_params(Abs_0 = 0.1,\n",
    "                       k1 = 0.002,\n",
    "                       k2 = 0.0002,\n",
    "                       r_I = .6,\n",
    "                       r_P = 3)    # state the parameters (use the text strings that we used above in sympy)\n",
    "                                    # initial values are also set here\n",
    "\n",
    "result = mod.fit(yr, pars, t=xd)            # use the .fit method on the model object to perform the curve fit\n",
    "                                            # the variable in this function is 't' so we must use that in the call\n",
    "##########################\n",
    "### get the results \n",
    "##########################\n",
    "\n",
    "print(result.fit_report())\n",
    "\n",
    "Abs_fit = result.uvars['Abs_0']         ### collect parameters as uncertain values\n",
    "k1_fit = result.uvars['k1']\n",
    "k2_fit = result.uvars['k2']\n",
    "r_I_fit = result.uvars['r_I']\n",
    "r_P_fit = result.uvars['r_P']\n",
    "\n",
    "\n",
    "########################################################################\n",
    "########################################################################\n",
    "########################################################################\n",
    "########################################################################\n",
    "\n",
    "#### Create Confidence band upper and lower bounds\n",
    "sigma = 2\n",
    "\n",
    "x1 = np.linspace(0, np.max(xd), 100)\n",
    "\n",
    "bestfit_y1 = fit_u(x1, Abs_fit, k1_fit, k2_fit, r_I_fit, r_P_fit)\n",
    "\n",
    "y1 = unp.nominal_values(bestfit_y1)\n",
    "\n",
    "dev = unp.std_devs(bestfit_y1) * sigma\n",
    "fit_up = unp.nominal_values(bestfit_y1) + dev\n",
    "fit_dn = unp.nominal_values(bestfit_y1) - dev\n",
    "\n",
    "\n",
    "#########################################\n",
    "### Plot the data and the line fit.   ###\n",
    "#########################################\n",
    "fig, ax = plt.subplots(nrows=1, ncols=1, figsize=(5,4))  \n",
    "\n",
    "ax.plot(x1, y1, color='black', zorder=1, linewidth=0.7)\n",
    "\n",
    "#ax.scatter(xd,yr, s=32, color=\"white\", zorder=2)\n",
    "ax.scatter(xd,yr, s=8, color=\"black\", zorder=4)\n",
    "\n",
    "    \n",
    "############################\n",
    "### Set labels and scale ###\n",
    "############################\n",
    "\n",
    "ax.set(ylabel=r\"$\\rm Abs$\", \n",
    "       xlabel=r\"$\\rm time\\ /s$\",\n",
    "#          xlim=[0,None],                  \n",
    "          ylim=[0,0.7]\n",
    "      \n",
    "      )\n",
    "\n",
    "ax.fill_between(x1, fit_up, fit_dn, \n",
    "                   color=\"lightgray\", alpha=0.4, zorder = 3,\n",
    "                   linewidth=0, label=\"confidence interval\")\n",
    "\n",
    "#############################\n",
    "### Output the final plot ###\n",
    "#############################\n",
    "\n",
    "fig.savefig(\"plot_QQ_un.pdf\")   # use this to save the figure in PDF format\n",
    "\n",
    "plt.show()"
   ]
  },
  {
   "cell_type": "code",
   "execution_count": 199,
   "metadata": {},
   "outputs": [
    {
     "name": "stdout",
     "output_type": "stream",
     "text": [
      "0.1004+/-0.0009\n",
      "0.001946+/-0.000025\n",
      "0.000191+/-0.000004\n",
      "0.613+/-0.010\n",
      "3.011+/-0.026\n"
     ]
    },
    {
     "data": {
      "image/png": "[encoded data removed]",
      "text/plain": [
       "<Figure size 500x400 with 1 Axes>"
      ]
     },
     "metadata": {},
     "output_type": "display_data"
    }
   ],
   "source": [
    "import matplotlib.pyplot as plt\n",
    "import lmfit     \n",
    "import uncertainties as un               # tool set for handling uncertainties\n",
    "from uncertainties import unumpy as unp  # a replacement for numpy \n",
    "from scipy.optimize import curve_fit\n",
    "\n",
    "def fit_u(t, Abs_0, k1, k2, eI, eP):\n",
    "\n",
    "    eA = 1\n",
    "    eI = 0.6\n",
    "    eP = 3\n",
    "    \n",
    "    A0 = Abs_0 / eA\n",
    "    At = A0 * unp.exp(-k1 * t)\n",
    "    It = A0 * k1/(k1-k2) * (unp.exp(-k2*t)-unp.exp(-k1*t))\n",
    "    Pt = A0 * ((2 - 2 * unp.exp(-k1 * t)) - k1/(k1-k2) * (unp.exp(-k2*t)-unp.exp(-k1*t)))\n",
    "    Total_Abs = At + eI * It + eP * Pt     \n",
    "\n",
    "    return(Total_Abs)      \n",
    "    \n",
    "def fit(t, Abs_0, k1, k2, eI, eP):\n",
    "\n",
    "    eA = 1\n",
    "#    eI = 0.6\n",
    "#    eP = 3\n",
    "    \n",
    "    A0 = Abs_0 / eA\n",
    "    At = A0 * np.exp(-k1 * t)\n",
    "    It = A0 * k1/(k1-k2) * (np.exp(-k2*t)-np.exp(-k1*t))\n",
    "    Pt = A0 * ((2 - 2 * np.exp(-k1 * t)) - k1/(k1-k2) * (np.exp(-k2*t)-np.exp(-k1*t)))\n",
    "    Total_Abs = At + eI*It + eP*Pt     \n",
    "\n",
    "    return(Total_Abs)      \n",
    "\n",
    "plt.rcdefaults()\n",
    "plt.style.use(\"../styles/tufte.mplstyle\")     ### Then add a fancy style sheet   \n",
    "\n",
    "x = xd\n",
    "y = yr\n",
    "\n",
    "#x = xd[7:30]\n",
    "#y = yd[7:30]\n",
    "\n",
    "popt, pcov = curve_fit(fit, x, y, \n",
    "                   #    bounds=([1.5, 0.0, .1, 7000, 10**(-4.)], [2, 1, .2, 8000, 10**(-3.)]),\n",
    "                   p0 = [0.1, 0.001,0.0001, 0.5, 5]\n",
    "                    )\n",
    "\n",
    "##########################\n",
    "### get the results \n",
    "##########################\n",
    "\n",
    "popt_un = un.correlated_values(popt, pcov)\n",
    "\n",
    "[Abs_fit, k1_fit, k2_fit, r_I_fit, r_P_fit] = popt_un\n",
    "\n",
    "print(Abs_fit)\n",
    "print(k1_fit)\n",
    "print(k2_fit)\n",
    "print(r_I_fit)\n",
    "print(r_P_fit)\n",
    "\n",
    "\n",
    "########################################################################\n",
    "########################################################################\n",
    "########################################################################\n",
    "########################################################################\n",
    "\n",
    "#### Create Confidence band upper and lower bounds\n",
    "sigma = 2\n",
    "\n",
    "x1 = np.linspace(0, np.max(xd), 100)\n",
    "\n",
    "bestfit_y1 = fit_u(x1, Abs_fit, k1_fit, k2_fit, r_I_fit, r_P_fit)\n",
    "\n",
    "y1 = unp.nominal_values(bestfit_y1)\n",
    "\n",
    "dev = unp.std_devs(bestfit_y1) * sigma\n",
    "fit_up = unp.nominal_values(bestfit_y1) + dev\n",
    "fit_dn = unp.nominal_values(bestfit_y1) - dev\n",
    "\n",
    "\n",
    "#########################################\n",
    "### Plot the data and the line fit.   ###\n",
    "#########################################\n",
    "fig, ax = plt.subplots(nrows=1, ncols=1, figsize=(5,4))  \n",
    "\n",
    "ax.plot(x1, y1, color='black', zorder=1, linewidth=0.7)\n",
    "\n",
    "#ax.scatter(xd,yr, s=32, color=\"white\", zorder=2)\n",
    "ax.scatter(x,y, s=8, color=\"black\", zorder=4)\n",
    "\n",
    "    \n",
    "############################\n",
    "### Set labels and scale ###\n",
    "############################\n",
    "\n",
    "ax.set(ylabel=r\"$\\rm Abs$\", \n",
    "       xlabel=r\"$\\rm time\\ /s$\",\n",
    "#          xlim=[0,None],                  \n",
    "          ylim=[0,0.7]\n",
    "      \n",
    "      )\n",
    "\n",
    "ax.fill_between(x1, fit_up, fit_dn, \n",
    "                   color=\"lightgray\", alpha=0.4, zorder = 3,\n",
    "                   linewidth=0, label=\"confidence interval\")\n",
    "\n",
    "#############################\n",
    "### Output the final plot ###\n",
    "#############################\n",
    "\n",
    "fig.savefig(\"plot_QQ_un.pdf\")   # use this to save the figure in PDF format\n",
    "\n",
    "plt.show()"
   ]
  },
  {
   "cell_type": "code",
   "execution_count": null,
   "metadata": {},
   "outputs": [
    {
     "data": {
      "text/plain": [
       "[<matplotlib.lines.Line2D at 0x1494c78d0>]"
      ]
     },
     "execution_count": 142,
     "metadata": {},
     "output_type": "execute_result"
    },
    {
     "data": {
      "image/png": "[encoded data removed]",
      "text/plain": [
       "<Figure size 400x300 with 1 Axes>"
      ]
     },
     "metadata": {},
     "output_type": "display_data"
    }
   ],
   "source": [
    "y1 = fit_u(xd, 0.1, 0.002, 0.0002, 0.6, 3)\n",
    "plt.plot(xd,y1)"
   ]
  },
  {
   "cell_type": "code",
   "execution_count": null,
   "metadata": {},
   "outputs": [],
   "source": []
  }
 ],
 "metadata": {
  "kernelspec": {
   "display_name": "main",
   "language": "python",
   "name": "python3"
  },
  "language_info": {
   "codemirror_mode": {
    "name": "ipython",
    "version": 3
   },
   "file_extension": ".py",
   "mimetype": "text/x-python",
   "name": "python",
   "nbconvert_exporter": "python",
   "pygments_lexer": "ipython3",
   "version": "3.11.8"
  }
 },
 "nbformat": 4,
 "nbformat_minor": 2
}
