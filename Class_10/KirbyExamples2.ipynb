{
 "cells": [
  {
   "cell_type": "markdown",
   "metadata": {},
   "source": [
    "## Integrating Consecutive Reactions\n",
    "\n",
    "Note: I stole most of this math from a my tutorial on integration. (09-T21-Integrating_Simple_Rate_Equations.pdf)\n",
    "\n",
    "### The System of Reactions\n",
    "\n",
    "For reactions of the form...\n",
    "\n",
    "$$\\text{A} \\overset{k_1}{\\longrightarrow} \\text{I} + \\text{P}$$\n",
    "$$\\text{I} \\overset{k_2}{\\longrightarrow} \\text{P}$$\n",
    "\n",
    "...we can identify the rate of formation of each species by writing their rate laws as differential equations...\n",
    "\n",
    "$$\\begin{align}\n",
    "\\dfrac{d \\left[ \\text{A} \\right]_t}{dt} &= -k_1 \\left[ \\text{A} \\right]_t \\\\\n",
    "\\dfrac{d \\left[ \\text{I} \\right]_t}{dt} &= k_1 \\left[ \\text{A} \\right]_t - k_2 \\left[ \\text{I} \\right]_t \\\\\n",
    "\\dfrac{d \\left[ \\text{P} \\right]_t}{dt} &= k_1 \\left[ \\text{A} \\right]_t + k_2 \\left[ \\text{I} \\right]_t \n",
    "\\end{align}$$\n",
    "\n",
    "### Integrating for [A]\n",
    "\n",
    "We have already done this above. the integrated rate law for $[A]_t$ is known...\n",
    "\n",
    "$$\\left[ \\text{A} \\right]_t = \\left[ \\text{A} \\right]_0 e^{-k_1 t}$$\n",
    "\n",
    "### Integrating for [I]\n",
    "\n",
    "Substitute the integrated rate law for $[A]$ into the rate law for $[I]$ above...\n",
    "\n",
    "$$\\dfrac{d \\left[ \\text{I} \\right]_t}{dt} = k_1 \\left[ \\text{A} \\right]_0 e^{-k_1 t} - k_2 \\left[ \\text{I} \\right]_t$$\n",
    "\n",
    "As before we can set a value, $x$, that describes the progress of the reaction. We can state that $[I]_t = x$ and set up a differential equation like so...\n",
    "\n",
    "$$ \\frac{d}{d t}{x} = A_{0} k_{1} e^{- k_{1} t} - k_{2} x$$\n",
    "\n",
    "My integration skills are very rusty. Do I use integration by parts or integration by substitution? rather than relearn calculus I truyne to the symbolic math tools of sympy. Consider the code below."
   ]
  },
  {
   "cell_type": "code",
   "execution_count": 2,
   "metadata": {},
   "outputs": [
    {
     "name": "stdout",
     "output_type": "stream",
     "text": [
      "The initial differential equation is...\n"
     ]
    },
    {
     "data": {
      "text/latex": [
       "$\\displaystyle \\frac{d}{d t} I_{t} = A_{0} k_{1} e^{- k_{1} t} - I_{t} k_{2}$"
      ],
      "text/plain": [
       "Eq(Derivative(I_t, t), A0*k1*exp(-k1*t) - I_t*k2)"
      ]
     },
     "metadata": {},
     "output_type": "display_data"
    },
    {
     "name": "stdout",
     "output_type": "stream",
     "text": [
      "After substituting the differential equation is...\n"
     ]
    },
    {
     "data": {
      "text/latex": [
       "$\\displaystyle \\frac{d}{d t} x_{t}{\\left(t \\right)} = A_{0} k_{1} e^{- k_{1} t} - k_{2} x_{t}{\\left(t \\right)}$"
      ],
      "text/plain": [
       "Eq(Derivative(x_t(t), t), A0*k1*exp(-k1*t) - k2*x_t(t))"
      ]
     },
     "metadata": {},
     "output_type": "display_data"
    },
    {
     "name": "stdout",
     "output_type": "stream",
     "text": [
      "The integrated equation starting at x=0 when t=0 is...\n"
     ]
    },
    {
     "data": {
      "text/latex": [
       "$\\displaystyle x_{t}{\\left(t \\right)} = \\frac{A_{0} k_{1} e^{- k_{2} t}}{k_{1} - k_{2}} - \\frac{A_{0} k_{1} e^{- k_{1} t}}{k_{1} - k_{2}}$"
      ],
      "text/plain": [
       "Eq(x_t(t), A0*k1*exp(-k2*t)/(k1 - k2) - A0*k1*exp(-k1*t)/(k1 - k2))"
      ]
     },
     "metadata": {},
     "output_type": "display_data"
    },
    {
     "name": "stdout",
     "output_type": "stream",
     "text": [
      "Collecting some terms and substiting for x gives...\n"
     ]
    },
    {
     "data": {
      "text/latex": [
       "$\\displaystyle I_{t} = \\frac{A_{0} k_{1} \\left(e^{- k_{2} t} - e^{- k_{1} t}\\right)}{k_{1} - k_{2}}$"
      ],
      "text/plain": [
       "Eq(I_t, A0*k1*(exp(-k2*t) - exp(-k1*t))/(k1 - k2))"
      ]
     },
     "metadata": {},
     "output_type": "display_data"
    }
   ],
   "source": [
    "import sympy as sym\n",
    "\n",
    "t = sym.symbols('t')     # create t as a 'symbol', not a variable\n",
    "k1 = sym.symbols('k1')     # create k as a 'symbol'\n",
    "k2 = sym.symbols('k2')     # create k as a 'symbol'\n",
    "At = sym.symbols('A_t')  # create At as a 'symbol'\n",
    "A0 = sym.symbols('A0')   # create A0 as a 'symbol'\n",
    "It = sym.symbols('I_t')   # create A0 as a 'symbol'\n",
    "\n",
    "xt = sym.Function('x_t')    # create x as a 'function', not a variable\n",
    "\n",
    "lhs = sym.Derivative(It, t) # Using Derivative function to get differential of A(t) w.r.t. t\n",
    "                            # could not used At.diff(t) because At is not a function \n",
    "rhs = k1*(A0)*sym.exp(-k1*t)-k2*It\n",
    "\n",
    "diffeq = sym.Eq(lhs, rhs)   # create a sympy equation\n",
    "print(\"The initial differential equation is...\")\n",
    "display(diffeq)             # display that equation\n",
    "\n",
    "diffeq = diffeq.subs({It: xt(t)})\n",
    "\n",
    "print(\"After substituting the differential equation is...\")\n",
    "display(diffeq)             # display that equation\n",
    "\n",
    "\n",
    "print(\"The integrated equation starting at x=0 when t=0 is...\")\n",
    "res = sym.dsolve(diffeq, ics={xt(0): 0})     # Solve the differential equation. \n",
    "                                            # Initial condition is x(t) = 0 when t = 0\n",
    "display(res)\n",
    "\n",
    "print(\"Collecting some terms and substiting for x gives...\")\n",
    "simplified = sym.collect(res.rhs,(A0*k1/(k1-k2)))\n",
    "I = sym.Eq(It,simplified)\n",
    "display(I)\n"
   ]
  },
  {
   "cell_type": "markdown",
   "metadata": {},
   "source": [
    "Now we have the term...\n",
    "\n",
    "$$ x =A_{0} \\frac{ k_{1} }{k_{1} - k_{2}}\\left(e^{- k_{2} t} - e^{- k_{1} t}\\right)$$\n",
    "\n",
    "...and, knowing that $[I]_t = x$, we can now say...\n",
    "\n",
    "$$ \\left[I \\right]_t =A_{0} \\frac{ k_{1} }{k_{1} - k_{2}}\\left(e^{- k_{2} t} - e^{- k_{1} t}\\right)$$\n",
    "\n",
    "### Integrating for [P]\n",
    "\n",
    "We dont have to integrate for this last term. We can say that the total amount of material is equal to $[A]_0$. Recall the reaction scheme...\n",
    "\n",
    "For reactions of the form...\n",
    "\n",
    "$$\\text{A} \\overset{k_1}{\\longrightarrow} \\text{I} + \\text{P}$$\n",
    "$$\\text{I} \\overset{k_2}{\\longrightarrow} \\text{P}$$\n",
    "\n",
    "... and write a mass balance equation...\n",
    "\n",
    "$$\\begin{align}\n",
    "2 [A]_0 &= 2*[A]_t+[I]_t+[P]_t \\\\\n",
    "[P]_t &= 2 [A]_0 - \\left(2*[A]_t+[I]_t\\right) \n",
    "\\end{align}$$\n",
    "\n",
    "\n",
    "For the fun of it, lets let sympy do all the work in the code below..."
   ]
  },
  {
   "cell_type": "code",
   "execution_count": 3,
   "metadata": {},
   "outputs": [
    {
     "data": {
      "text/latex": [
       "$\\displaystyle A_{t} = A_{0} e^{- k_{1} t}$"
      ],
      "text/plain": [
       "Eq(A_t, A0*exp(-k1*t))"
      ]
     },
     "metadata": {},
     "output_type": "display_data"
    },
    {
     "data": {
      "text/latex": [
       "$\\displaystyle I_{t} = \\frac{A_{0} k_{1} \\left(e^{- k_{2} t} - e^{- k_{1} t}\\right)}{k_{1} - k_{2}}$"
      ],
      "text/plain": [
       "Eq(I_t, A0*k1*(exp(-k2*t) - exp(-k1*t))/(k1 - k2))"
      ]
     },
     "metadata": {},
     "output_type": "display_data"
    },
    {
     "data": {
      "text/latex": [
       "$\\displaystyle - \\frac{A_{0} k_{1} \\left(e^{- k_{2} t} - e^{- k_{1} t}\\right)}{k_{1} - k_{2}} + 2 A_{0} - 2 A_{0} e^{- k_{1} t}$"
      ],
      "text/plain": [
       "-A0*k1*(exp(-k2*t) - exp(-k1*t))/(k1 - k2) + 2*A0 - 2*A0*exp(-k1*t)"
      ]
     },
     "metadata": {},
     "output_type": "display_data"
    },
    {
     "data": {
      "text/latex": [
       "$\\displaystyle A_{0} \\left(- \\frac{k_{1} \\left(e^{- k_{2} t} - e^{- k_{1} t}\\right)}{k_{1} - k_{2}} + 2 - 2 e^{- k_{1} t}\\right)$"
      ],
      "text/plain": [
       "A0*(-k1*(exp(-k2*t) - exp(-k1*t))/(k1 - k2) + 2 - 2*exp(-k1*t))"
      ]
     },
     "metadata": {},
     "output_type": "display_data"
    },
    {
     "data": {
      "text/latex": [
       "$\\displaystyle P_{t} = A_{0} \\left(- \\frac{k_{1} \\left(e^{- k_{2} t} - e^{- k_{1} t}\\right)}{k_{1} - k_{2}} + 2 - 2 e^{- k_{1} t}\\right)$"
      ],
      "text/plain": [
       "Eq(P_t, A0*(-k1*(exp(-k2*t) - exp(-k1*t))/(k1 - k2) + 2 - 2*exp(-k1*t)))"
      ]
     },
     "metadata": {},
     "output_type": "display_data"
    }
   ],
   "source": [
    "Pt = sym.symbols('P_t')   # create Pt as a 'symbol'\n",
    "\n",
    "A = sym.Eq(At,A0*sym.exp(-k1*t))\n",
    "display(A,I)\n",
    "\n",
    "rhs = 2*A0 - 2*A.rhs - I.rhs\n",
    "display(rhs)\n",
    "\n",
    "rhs = sym.collect(rhs,A0)\n",
    "display(rhs)\n",
    "\n",
    "P = sym.Eq(Pt,rhs)\n",
    "display(P)\n"
   ]
  },
  {
   "cell_type": "markdown",
   "metadata": {},
   "source": [
    "So the amount of product over time is expressed as...\n",
    "\n",
    "$$P_{t} = A_{0} \\left( 2\\left(1 -  e^{- k_{1} t}\\right) - \\frac{k_{1} }{k_{1} - k_{2}}\\left(e^{- k_{2} t} - e^{- k_{1} t}\\right)\\right)$$"
   ]
  },
  {
   "cell_type": "code",
   "execution_count": 4,
   "metadata": {},
   "outputs": [
    {
     "data": {
      "text/latex": [
       "$\\displaystyle A_{t} = A_{0} e^{- k_{1} t}$"
      ],
      "text/plain": [
       "Eq(A_t, A0*exp(-k1*t))"
      ]
     },
     "metadata": {},
     "output_type": "display_data"
    },
    {
     "data": {
      "text/latex": [
       "$\\displaystyle I_{t} = \\frac{A_{0} k_{1} \\left(e^{- k_{2} t} - e^{- k_{1} t}\\right)}{k_{1} - k_{2}}$"
      ],
      "text/plain": [
       "Eq(I_t, A0*k1*(exp(-k2*t) - exp(-k1*t))/(k1 - k2))"
      ]
     },
     "metadata": {},
     "output_type": "display_data"
    },
    {
     "data": {
      "text/latex": [
       "$\\displaystyle P_{t} = A_{0} \\left(- \\frac{k_{1} \\left(e^{- k_{2} t} - e^{- k_{1} t}\\right)}{k_{1} - k_{2}} + 2 - 2 e^{- k_{1} t}\\right)$"
      ],
      "text/plain": [
       "Eq(P_t, A0*(-k1*(exp(-k2*t) - exp(-k1*t))/(k1 - k2) + 2 - 2*exp(-k1*t)))"
      ]
     },
     "metadata": {},
     "output_type": "display_data"
    }
   ],
   "source": [
    "display(A,I,P)"
   ]
  },
  {
   "cell_type": "code",
   "execution_count": 5,
   "metadata": {},
   "outputs": [
    {
     "data": {
      "text/latex": [
       "$\\displaystyle e^{- 0.002 t}$"
      ],
      "text/plain": [
       "exp(-0.002*t)"
      ]
     },
     "metadata": {},
     "output_type": "display_data"
    },
    {
     "data": {
      "text/latex": [
       "$\\displaystyle - 1.11172873818788 e^{- 0.002 t} + 1.11172873818788 e^{- 0.000201 t}$"
      ],
      "text/plain": [
       "-1.11172873818788*exp(-0.002*t) + 1.11172873818788*exp(-0.000201*t)"
      ]
     },
     "metadata": {},
     "output_type": "display_data"
    },
    {
     "data": {
      "text/latex": [
       "$\\displaystyle 2 - 0.888271261812118 e^{- 0.002 t} - 1.11172873818788 e^{- 0.000201 t}$"
      ],
      "text/plain": [
       "2 - 0.888271261812118*exp(-0.002*t) - 1.11172873818788*exp(-0.000201*t)"
      ]
     },
     "metadata": {},
     "output_type": "display_data"
    },
    {
     "data": {
      "image/png": "[encoded data removed]",
      "text/plain": [
       "<Figure size 640x480 with 1 Axes>"
      ]
     },
     "metadata": {},
     "output_type": "display_data"
    }
   ],
   "source": [
    "import matplotlib.pyplot as plt\n",
    "\n",
    "k1_rate = 2e-3\n",
    "k2_rate = 2.01e-4\n",
    "A0_conc = 1\n",
    "\n",
    "t_range = [t,0,10000]\n",
    "\n",
    "eq1 = A.rhs\n",
    "eq1 = eq1.subs({k1:k1_rate, A0:A0_conc})\n",
    "\n",
    "eq2 = I.rhs\n",
    "eq2 = eq2.subs({k1:k1_rate, k2:k2_rate, A0:A0_conc})\n",
    "\n",
    "eq3 = P.rhs\n",
    "eq3 = eq3.subs({k1:k1_rate, k2:k2_rate, A0:A0_conc})\n",
    "\n",
    "display(eq1,eq2,eq3)\n",
    "\n",
    "\n",
    "plt.rcdefaults()\n",
    "\n",
    "p = sym.plot(eq1,eq2,eq3,t_range, show=False)\n",
    "p.show()"
   ]
  },
  {
   "cell_type": "markdown",
   "metadata": {},
   "source": [
    "## Absorbance\n",
    "\n",
    "the authors followed the reaction by absorbance. The amount of $A$ is decreasing and the amount of $C$ is increasing. If the final aborbance is different than the initial (e.q. A and C have different extinction coefficients) then we should be able to get kinetic parameters from an equation that describes the change in absorbance vs. time. \n",
    "\n",
    "The total $Abs$ will be $Abs_A(t) + Abs_I(t) + Abs_P(t)$\n",
    "\n",
    "And we can say that...\n",
    "\n",
    "$$Abs(t) = \\epsilon_A\\cdot A_t + \\epsilon_I\\cdot I_t + \\epsilon_P\\cdot P_t$$\n",
    "\n",
    "$$Abs(t) = \\epsilon_A\\cdot A_{0} e^{- k t} +\n",
    " \\epsilon_I\\cdot A_{0} \\frac{k_{1} }{k_{1} - k_{2}}\\left(e^{- k_{2} t} - e^{- k_{1} t}\\right) + \n",
    " \\epsilon_P\\cdot A_{0} \\left( 2\\left(1 -  e^{- k_{1} t}\\right) - \\frac{k_{1} }{k_{1} - k_{2}}\\left(e^{- k_{2} t} - e^{- k_{1} t}\\right)\\right)$$\n",
    "\n",
    "\n",
    "When we begin, the initial absorbance is due to $[A]_0$ and so we can say that $Abs_0 = \\epsilon_A\\cdot A_{0}$ and so if...\n",
    "\n",
    "$$A_{0} = \\frac{Abs_0}{\\epsilon_A}$$\n",
    "\n",
    "...then we can say that\n",
    "\n",
    "$$Abs(t) = \\epsilon_A\\cdot \\frac{Abs_0}{\\epsilon_A} e^{- k t} +\n",
    " \\epsilon_I\\cdot \\frac{Abs_0}{\\epsilon_A} \\frac{k_{1} }{k_{1} - k_{2}}\\left(e^{- k_{2} t} - e^{- k_{1} t}\\right) + \n",
    " \\epsilon_P\\cdot \\frac{Abs_0}{\\epsilon_A} \\left( 2\\left(1 -  e^{- k_{1} t}\\right) - \\frac{k_{1} }{k_{1} - k_{2}}\\left(e^{- k_{2} t} - e^{- k_{1} t}\\right)\\right)$$\n",
    "\n",
    "\n",
    "and after we simplify we get the same equation as the authors present in their paper (eq. 2). It is a useful exercise to check the math in any paper. Printing errors are common, especially in typeset equations and figures that are often reinterpretted in the printing process (especially a risk in older papers.)\n",
    "\n",
    "$$Abs(t) = {Abs_0} e^{- k t} +\n",
    " \\frac{\\epsilon_I}{\\epsilon_A}Abs_0 \\frac{k_{1} }{k_{1} - k_{2}}\\left(e^{- k_{2} t} - e^{- k_{1} t}\\right) + \n",
    " \\frac{\\epsilon_P}{\\epsilon_A}  Abs_0 \\left( 2\\left(1 -  e^{- k_{1} t}\\right) - \\frac{k_{1} }{k_{1} - k_{2}}\\left(e^{- k_{2} t} - e^{- k_{1} t}\\right)\\right)$$\n",
    "\n",
    "Now let us do all of that with *Python*\n"
   ]
  },
  {
   "cell_type": "code",
   "execution_count": 6,
   "metadata": {},
   "outputs": [
    {
     "data": {
      "text/latex": [
       "$\\displaystyle A_{t} = A_{0} e^{- k_{1} t}$"
      ],
      "text/plain": [
       "Eq(A_t, A0*exp(-k1*t))"
      ]
     },
     "metadata": {},
     "output_type": "display_data"
    },
    {
     "data": {
      "text/latex": [
       "$\\displaystyle I_{t} = \\frac{A_{0} k_{1} \\left(e^{- k_{2} t} - e^{- k_{1} t}\\right)}{k_{1} - k_{2}}$"
      ],
      "text/plain": [
       "Eq(I_t, A0*k1*(exp(-k2*t) - exp(-k1*t))/(k1 - k2))"
      ]
     },
     "metadata": {},
     "output_type": "display_data"
    },
    {
     "data": {
      "text/latex": [
       "$\\displaystyle P_{t} = A_{0} \\left(- \\frac{k_{1} \\left(e^{- k_{2} t} - e^{- k_{1} t}\\right)}{k_{1} - k_{2}} + 2 - 2 e^{- k_{1} t}\\right)$"
      ],
      "text/plain": [
       "Eq(P_t, A0*(-k1*(exp(-k2*t) - exp(-k1*t))/(k1 - k2) + 2 - 2*exp(-k1*t)))"
      ]
     },
     "metadata": {},
     "output_type": "display_data"
    },
    {
     "data": {
      "text/latex": [
       "$\\displaystyle Abs_{0} e^{- k_{1} t} + \\frac{Abs_{0} \\epsilon_{I} k_{1} \\left(e^{- k_{2} t} - e^{- k_{1} t}\\right)}{\\epsilon_{A} \\left(k_{1} - k_{2}\\right)} + \\frac{Abs_{0} \\epsilon_{P} \\left(- \\frac{k_{1} \\left(e^{- k_{2} t} - e^{- k_{1} t}\\right)}{k_{1} - k_{2}} + 2 - 2 e^{- k_{1} t}\\right)}{\\epsilon_{A}}$"
      ],
      "text/plain": [
       "Abs_0*exp(-k1*t) + Abs_0*\\epsilon_I*k1*(exp(-k2*t) - exp(-k1*t))/(\\epsilon_A*(k1 - k2)) + Abs_0*\\epsilon_P*(-k1*(exp(-k2*t) - exp(-k1*t))/(k1 - k2) + 2 - 2*exp(-k1*t))/\\epsilon_A"
      ]
     },
     "metadata": {},
     "output_type": "display_data"
    },
    {
     "data": {
      "text/latex": [
       "$\\displaystyle \\frac{A_{t} Abs_{0} k_{1} \\left(e^{- k_{2} t} - e^{- k_{1} t}\\right)}{k_{1} - k_{2}} + Abs_{0} e^{- k_{1} t} + \\frac{Abs_{0} \\epsilon_{P} \\left(- \\frac{k_{1} \\left(e^{- k_{2} t} - e^{- k_{1} t}\\right)}{k_{1} - k_{2}} + 2 - 2 e^{- k_{1} t}\\right)}{\\epsilon_{A}}$"
      ],
      "text/plain": [
       "A_t*Abs_0*k1*(exp(-k2*t) - exp(-k1*t))/(k1 - k2) + Abs_0*exp(-k1*t) + Abs_0*\\epsilon_P*(-k1*(exp(-k2*t) - exp(-k1*t))/(k1 - k2) + 2 - 2*exp(-k1*t))/\\epsilon_A"
      ]
     },
     "metadata": {},
     "output_type": "display_data"
    }
   ],
   "source": [
    "display(A,I,P)\n",
    "\n",
    "At_ = A.rhs      # expressions for concentrations\n",
    "It_ = I.rhs\n",
    "Pt_ = P.rhs\n",
    "\n",
    "e_A = sym.symbols(r'\\epsilon_A')   # extinction coefficients\n",
    "e_I = sym.symbols(r'\\epsilon_I') \n",
    "e_P = sym.symbols(r'\\epsilon_P') \n",
    "\n",
    "Abs_A = sym.symbols(r'Abs_A')   # variables for absotrbances\n",
    "Abs_I = sym.symbols(r'Abs_I')\n",
    "Abs_P = sym.symbols(r'Abs_P')\n",
    "Abs_0 = sym.symbols('Abs_0')\n",
    "\n",
    "Total = e_A*At_ + e_I*It_ + e_P*Pt_           # total absorbance\n",
    "Total = Total.subs(A0, Abs_0/e_A)\n",
    "display(Total)\n",
    "\n",
    "display(Total.subs(e_I/e_A, At))\n"
   ]
  },
  {
   "cell_type": "code",
   "execution_count": 7,
   "metadata": {},
   "outputs": [
    {
     "data": {
      "image/png": "[encoded data removed]",
      "text/plain": [
       "<Figure size 640x480 with 1 Axes>"
      ]
     },
     "metadata": {},
     "output_type": "display_data"
    }
   ],
   "source": [
    "k1_rate = 2e-3\n",
    "k2_rate = 2.0e-4\n",
    "Abs0_ = 0.1\n",
    "\n",
    "t_range = [t,0,10000]\n",
    "\n",
    "eq = Total\n",
    "eq = eq.subs({k1:k1_rate, \n",
    "                k2:k2_rate, \n",
    "                Abs_0:Abs0_,\n",
    "                e_A: 1,\n",
    "                e_I: 0.6,\n",
    "                e_P: 3})\n",
    "\n",
    "\n",
    "#display(eq)\n",
    "\n",
    "\n",
    "plt.rcdefaults()\n",
    "\n",
    "p = sym.plot(eq,t_range, show=False)\n",
    "\n",
    "\n",
    "k1_rate = 2e-3\n",
    "k2_rate = 2.01e1\n",
    "Abs0_ = 0.1\n",
    "\n",
    "t_range = [t,0,10000]\n",
    "\n",
    "eq = Total\n",
    "eq = eq.subs({k1:k1_rate, \n",
    "                k2:k2_rate, \n",
    "                Abs_0:Abs0_,\n",
    "                e_A: 1,\n",
    "                e_I: 0.6,\n",
    "                e_P: 3})\n",
    "\n",
    "\n",
    "\n",
    "\n",
    "q = sym.plot(eq,t_range, show=False)\n",
    "\n",
    "\n",
    "p.extend(q)\n",
    "\n",
    "p.show()"
   ]
  },
  {
   "cell_type": "markdown",
   "metadata": {},
   "source": [
    "## Using Numeric Method"
   ]
  },
  {
   "cell_type": "code",
   "execution_count": 12,
   "metadata": {},
   "outputs": [
    {
     "data": {
      "image/png": "[encoded data removed]",
      "text/plain": [
       "<Figure size 500x400 with 1 Axes>"
      ]
     },
     "metadata": {},
     "output_type": "display_data"
    }
   ],
   "source": [
    "### from StealThisCode/4_SciPy/K05_NumericIntegration_SystemEq.ipynb\n",
    "\n",
    "#######################\n",
    "### import packages \n",
    "#######################\n",
    "\n",
    "import numpy as np\n",
    "from scipy.integrate import solve_ivp\n",
    "import matplotlib.pyplot as plt\n",
    "\n",
    "############################################\n",
    "### Create a function that describes the \n",
    "### system of differential equations. \n",
    "############################################\n",
    "\n",
    "def rates(t, c, k_1, k_2):  \n",
    "\n",
    "    A = c[0]; I = c[1]; P = c[2]           ### assign initial conc. from input list c\n",
    "\n",
    "    dA_dt = -k_1 * c[0]    ### rates of each reaction step with give concentration in list c\n",
    "    dI_dt = k_1 * c[0]  - k_2 * c[1] \n",
    "    dP_dt = k_1 * c[0] + k_2 * c[1] \n",
    "\n",
    "    return [dA_dt, dI_dt, dP_dt]\n",
    "\n",
    "\n",
    "############################################\n",
    "### Parameters and experimental conditions\n",
    "############################################\n",
    "\n",
    "k_1 = 2e-3          ### Values for kinetic parameters\n",
    "k_2 = 2e-4\n",
    "A0_conc = 1\n",
    "      \n",
    "time_end = 10000   ### The end time\n",
    "n_points = 100   ### number of points - increase if needed\n",
    "\n",
    "#########################################\n",
    "### Create series of time points      \n",
    "#########################################\n",
    "\n",
    "dt = time_end / n_points           ### time step, delta t\n",
    "t_line = np.arange(0, time_end+dt, dt) ### time vector (list of time points)\n",
    "num = len(t_line)\n",
    "\n",
    "\n",
    "#########################################\n",
    "### Integrate the system of differential equations      \n",
    "#########################################\n",
    "\n",
    "initial = [A0_conc, 0, 0]      ### Set list of initial values (A, I, P)\n",
    "\n",
    "int = solve_ivp(rates,                ### the function being integrated. \n",
    "                [0, time_end],        ### start and endpoint of integration\n",
    "                initial,              ### initial values\n",
    "                method = \"Radau\",     ### 'RK45', 'RK23', 'LSODA', 'DOP853', 'Radau', 'BDF'\n",
    "                t_eval = t_line,      ### time points at which to calculate values\n",
    "#                first_step = 1e-5,    ### take a very small first step. the initial rate is much faster than the average slope.\n",
    "                args = [k_1, k_2]  ### values to send to function after t and c\n",
    "                )\n",
    "\n",
    "#########################################\n",
    "### Extract the results from the returned data object      \n",
    "#########################################\n",
    "\n",
    "time = int.t        ### solve_inp() returns an array for time indexed as 't'\n",
    "yarray = int.y      ### Also retruns and array of calculated y values.\n",
    "                    ###  if more than one value returned from function we will\n",
    "                    ###  get a array of arrays for each value\n",
    "\n",
    "##################################################################################\n",
    "### Plot the results\n",
    "##################################################################################\n",
    "\n",
    "plt.rcdefaults()                    ### resets the plot defaults so we always start in the same place\n",
    "plt.style.use(\"../styles/tufte.mplstyle\")     ### Then add a fancy style sheet   \n",
    "\n",
    "fig, ax = plt.subplots(nrows=1, ncols=1, figsize=(5,4))  \n",
    "\n",
    "#########################################\n",
    "### Plot the line using the x_fit, y_fit points\n",
    "#########################################\n",
    "x = time      \n",
    "y = yarray[0] \n",
    "ax.plot(x, y, \n",
    "        linestyle = '-',            ### use a line between points\n",
    " #       linewidth='0.5',            ### make the line thin\n",
    "        color = 'C0',            ### the line is black\n",
    "        zorder = 0                  ### everything is in layer 0 (the bottom layer in this case)\n",
    "        )\n",
    "\n",
    "x = time      \n",
    "y = yarray[1]\n",
    "ax.plot(x, y, \n",
    "        linestyle = '-',            ### use a line between points\n",
    " #       linewidth='0.5',            ### make the line thin\n",
    "        color = 'C1',            ### the line is black\n",
    "        zorder = 0                  ### everything is in layer 0 (the bottom layer in this case)\n",
    "        )\n",
    "\n",
    "x = time      \n",
    "y = yarray[2]\n",
    "ax.plot(x, y, \n",
    "        linestyle = '-',            ### use a line between points\n",
    " #       linewidth='0.5',            ### make the line thin\n",
    "        color = 'C2',            ### the line is black\n",
    "        zorder = 0                  ### everything is in layer 0 (the bottom layer in this case)\n",
    "        )\n",
    "#########################################\n",
    "### Add more style\n",
    "#########################################\n",
    "        \n",
    "ax.set(ylabel=r\"$\\rm conc.\\;/\\;M $\", \n",
    "        xlabel=r\"$time\\; /\\; min$\",\n",
    "        title = \"Conc. vs time\",\n",
    "        xlim=[None, None],      \n",
    "        ylim=[None, None])\n",
    "\n",
    "\n",
    "fig.tight_layout()  # otherwise the right y-label is slightly clipped\n",
    "\n",
    "fig.savefig(\"plot.pdf\")    # use this to save the figure in PDF format\n",
    "plt.show()                 # output the combined four plots\n",
    "\n"
   ]
  },
  {
   "cell_type": "markdown",
   "metadata": {},
   "source": [
    "### Total Absorbance"
   ]
  },
  {
   "cell_type": "code",
   "execution_count": 17,
   "metadata": {},
   "outputs": [
    {
     "data": {
      "text/plain": [
       "[<matplotlib.lines.Line2D at 0x142880c80>]"
      ]
     },
     "execution_count": 17,
     "metadata": {},
     "output_type": "execute_result"
    },
    {
     "data": {
      "image/png": "[encoded data removed]",
      "text/plain": [
       "<Figure size 500x400 with 1 Axes>"
      ]
     },
     "metadata": {},
     "output_type": "display_data"
    }
   ],
   "source": [
    "k1_rate = 2e-3\n",
    "k2_rate = 2.0e-4\n",
    "Abs0_ = 0.1\n",
    "\n",
    "e_A_ = 1\n",
    "e_I_ = 0.6\n",
    "e_P_ = 3\n",
    "\n",
    "t_range = [t,0,10000]\n",
    "\n",
    "##################################################################################\n",
    "### Plot the results\n",
    "##################################################################################\n",
    "\n",
    "plt.rcdefaults()                    ### resets the plot defaults so we always start in the same place\n",
    "plt.style.use(\"../styles/tufte.mplstyle\")     ### Then add a fancy style sheet   \n",
    "\n",
    "fig, ax = plt.subplots(nrows=1, ncols=1, figsize=(5,4))  \n",
    "\n",
    "#########################################\n",
    "### Plot the line using the x_fit, y_fit points\n",
    "#########################################\n",
    "x = time      \n",
    "y = Abs0_*(yarray[0] + e_I_/e_A_*yarray[1] + e_P_/e_A_*yarray[2])\n",
    "\n",
    "ax.plot(x, y, \n",
    "        linestyle = '-',            ### use a line between points\n",
    " #       linewidth='0.5',            ### make the line thin\n",
    "        color = 'C0',            ### the line is black\n",
    "        zorder = 0                  ### everything is in layer 0 (the bottom layer in this case)\n",
    "        )\n"
   ]
  },
  {
   "cell_type": "markdown",
   "metadata": {},
   "source": [
    "## Make Data"
   ]
  },
  {
   "cell_type": "code",
   "execution_count": 22,
   "metadata": {},
   "outputs": [
    {
     "data": {
      "text/plain": [
       "[<matplotlib.lines.Line2D at 0x142a5e960>]"
      ]
     },
     "execution_count": 22,
     "metadata": {},
     "output_type": "execute_result"
    },
    {
     "data": {
      "image/png": "[encoded data removed]",
      "text/plain": [
       "<Figure size 500x400 with 1 Axes>"
      ]
     },
     "metadata": {},
     "output_type": "display_data"
    }
   ],
   "source": [
    "############################################\n",
    "### Parameters and experimental conditions\n",
    "############################################\n",
    "\n",
    "k_1 = 2e-3          ### Values for kinetic parameters\n",
    "k_2 = 2e-4\n",
    "A0_conc = 1\n",
    "\n",
    "Abs0_ = 0.1\n",
    "\n",
    "e_A_ = 1\n",
    "e_I_ = 0.6\n",
    "e_P_ = 3\n",
    "\n",
    "\n",
    "      \n",
    "time_end = 10000   ### The end time\n",
    "n_points = 100   ### number of points - increase if needed\n",
    "\n",
    "#########################################\n",
    "### Create series of time points      \n",
    "#########################################\n",
    "\n",
    "dt = time_end / n_points           ### time step, delta t\n",
    "t_line = np.arange(0, time_end+dt, dt) ### time vector (list of time points)\n",
    "num = len(t_line)\n",
    "\n",
    "\n",
    "#########################################\n",
    "### Integrate the system of differential equations      \n",
    "#########################################\n",
    "\n",
    "initial = [A0_conc, 0, 0]      ### Set list of initial values (A, I, P)\n",
    "\n",
    "int = solve_ivp(rates,                ### the function being integrated. \n",
    "                [0, time_end],        ### start and endpoint of integration\n",
    "                initial,              ### initial values\n",
    "                method = \"Radau\",     ### 'RK45', 'RK23', 'LSODA', 'DOP853', 'Radau', 'BDF'\n",
    "                t_eval = t_line,      ### time points at which to calculate values\n",
    "#                first_step = 1e-5,    ### take a very small first step. the initial rate is much faster than the average slope.\n",
    "                args = [k_1, k_2]  ### values to send to function after t and c\n",
    "                )\n",
    "\n",
    "#########################################\n",
    "### Extract the results from the returned data object      \n",
    "#########################################\n",
    "\n",
    "time = int.t        ### solve_inp() returns an array for time indexed as 't'\n",
    "yarray = int.y      ### Also retruns and array of calculated y values.\n",
    "                    ###  if more than one value returned from function we will\n",
    "                    ###  get a array of arrays for each value\n",
    "\n",
    "##################################################################################\n",
    "### Plot the results\n",
    "##################################################################################\n",
    "\n",
    "plt.rcdefaults()                    ### resets the plot defaults so we always start in the same place\n",
    "plt.style.use(\"../styles/tufte.mplstyle\")     ### Then add a fancy style sheet   \n",
    "\n",
    "fig, ax = plt.subplots(nrows=1, ncols=1, figsize=(5,4))  \n",
    "\n",
    "#########################################\n",
    "### Plot the line using the x_fit, y_fit points\n",
    "#########################################\n",
    "x = time      \n",
    "y = Abs0_*(yarray[0] + e_I_/e_A_*yarray[1] + e_P_/e_A_*yarray[2])\n",
    "\n",
    "ax.plot(x, y, \n",
    "        linestyle = None,            ### use a line between points\n",
    "        marker = \".\",\n",
    "        linewidth=0,            ### make the line thin\n",
    "        color = 'C0',            ### the line is black\n",
    "        markerfacecolor = 'white',\n",
    "        zorder = 0                  ### everything is in layer 0 (the bottom layer in this case)\n",
    "        )\n",
    "\n"
   ]
  }
 ],
 "metadata": {
  "kernelspec": {
   "display_name": "main",
   "language": "python",
   "name": "python3"
  },
  "language_info": {
   "codemirror_mode": {
    "name": "ipython",
    "version": 3
   },
   "file_extension": ".py",
   "mimetype": "text/x-python",
   "name": "python",
   "nbconvert_exporter": "python",
   "pygments_lexer": "ipython3",
   "version": "3.12.2"
  }
 },
 "nbformat": 4,
 "nbformat_minor": 2
}
