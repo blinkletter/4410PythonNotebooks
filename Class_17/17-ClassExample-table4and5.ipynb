{
 "cells": [
  {
   "cell_type": "markdown",
   "metadata": {},
   "source": [
    "# Taft Plot Investigations\n",
    "\n",
    "This workbook contains the code and imports the data to explore how Taft used acid and base-catalyzed ester hydrolysis to develope the taft steric and electronic parameters."
   ]
  },
  {
   "cell_type": "markdown",
   "metadata": {},
   "source": [
    "## Plot $pK_a$ vs $\\sigma^*$\n",
    "\n",
    "Plot $pK_a$ vs $\\sigma^*$ to confirm that Taft $\\sigma^*$ values track with Hammett $\\sigma$ values. The slope should be near one if the substituent parameters were scaled propertly (recall that taft used the Hammett $\\rho$ value of 2.3 when setting his $\\sigma^*$ values)."
   ]
  },
  {
   "cell_type": "code",
   "execution_count": 9,
   "metadata": {},
   "outputs": [
    {
     "name": "stdout",
     "output_type": "stream",
     "text": [
      "             sigma  s_plus  s_minus Page\n",
      "Substituent                             \n",
      "m-Br          0.39    0.39     0.39  259\n",
      "p-Br          0.23    0.15     0.25  259\n",
      "m-C6H5        0.06    0.06     0.06  278\n",
      "p-C6H5       -0.01    0.02    -0.18  278\n",
      "m-CCCH3       0.10    0.10     0.10  265\n",
      "...            ...     ...      ...  ...\n",
      "o-CH3         0.29    0.29     0.29   46\n",
      "o-Cl          1.26    1.26     1.26   46\n",
      "o-NO2         2.03    2.03     2.03   46\n",
      "o-Br          1.35    1.35     1.35   46\n",
      "o-I           1.34    1.34     1.34   46\n",
      "\n",
      "[67 rows x 4 columns]\n",
      "    Formula  pKa_COOH  pKa_CH2OH Substituent  Number_of_substituents\n",
      "0       CH3      4.76      16.00           H                     1.0\n",
      "1     CH2Cl      2.86      14.31        m-Cl                     1.0\n",
      "2     CH2Br      2.86        NaN        m-Br                     1.0\n",
      "3     CHCl2      1.29      12.89        m-Cl                     2.0\n",
      "4      CCl3      0.65      12.24        m-Cl                     3.0\n",
      "5      CBr3      0.66        NaN        m-Br                     3.0\n",
      "6       CF3      0.00      12.37         m-F                     3.0\n",
      "7      CH2F      2.66        NaN        m-Cl                     1.0\n",
      "8      C6H5      4.31      15.40      m-C6H5                     1.0\n",
      "9     CH2CN      2.43        NaN        m-CN                     1.0\n",
      "10  CH2OCH3      3.53        NaN      m-OCH3                     1.0\n",
      "11     C2F5       NaN      11.35         NaN                     NaN\n"
     ]
    }
   ],
   "source": [
    "import pandas as pd\n",
    "import numpy as np\n",
    "import matplotlib.pyplot as plt\n",
    "import scipy.stats as stats\n",
    "\n",
    "github_location = \"https://raw.githubusercontent.com/blinkletter/4410PythonNotebooks/main/Class_17/data/\"\n",
    "github_location_styles = \"https://raw.githubusercontent.com/blinkletter/LFER-QSAR/main/styles/\"\n",
    "github_location_LFER_tables = \"https://raw.githubusercontent.com/blinkletter/LFER-QSAR/main/data/\"\n",
    "\n",
    "sigmatype = \"s_plus\"    # change to \"sigma\", \"s_plus\", or \"s_minus\"\n",
    "\n",
    "\n",
    "###################################################################\n",
    "### a function to fill in sigma for empty spaces in s+ and s-   ###\n",
    "###################################################################\n",
    "\n",
    "def fill_sigma(df):     \n",
    "    for z in df.index:\n",
    "        if np.isnan(df.loc[z,\"s_plus\"]):\n",
    "            df.loc[z,\"s_plus\"] = df.loc[z,\"sigma\"]\n",
    "        if np.isnan(df[\"s_minus\"][z]):\n",
    "            df.loc[z,\"s_minus\"] = df.loc[z,\"sigma\"]\n",
    "    return(df)\n",
    "\n",
    "\n",
    "################################################################################\n",
    "### Read data set. The fields are separated by commas; comments are enabled  ###\n",
    "################################################################################\n",
    "\n",
    "#LFER_file = \"LFER_HanschLeoTaft.csv\"\n",
    "LFER_file = \"LFER_Williams.csv\"\n",
    "\n",
    "data_set = pd.read_csv(github_location_LFER_tables + LFER_file,\n",
    "                 delimiter = \",\", \n",
    "                 skipinitialspace=True, \n",
    "                 index_col=\"Substituent\",   \n",
    "                 comment = \"#\") \n",
    "\n",
    "\n",
    "########################################################\n",
    "### Fill across sigma values and select substituents ###\n",
    "########################################################\n",
    "\n",
    "data_set=fill_sigma(data_set)\n",
    "print(data_set)\n",
    "### Remove unneeded columns\n",
    "if LFER_file == \"LFER_HanschLeoTaft.csv\":\n",
    "    data_set.drop(labels = [\"TABLE V\", \"TABLE I\"],      #Trim \"LFER_HanschLeoTaft.csv\" data\n",
    "    axis = 1,\n",
    "    inplace = True)\n",
    "elif LFER_file == \"LFER_Williams.csv\":\n",
    "    data_set.drop(labels = [\"Page\"],                   #Trim \"LFER_Williams.csv\"\" data\n",
    "    axis = 1,\n",
    "    inplace = True)\n",
    "else:\n",
    "    print(\"ERROR: No filename\")\n",
    "\n",
    "\n",
    "################################################################################\n",
    "### Read table 1 data. The fields are separated by commas; comments are enabled  ###\n",
    "################################################################################\n",
    "\n",
    "data_file = \"17-Table_4.csv\"\n",
    "\n",
    "table_data_df = pd.read_csv(github_location + data_file,\n",
    "                 delimiter = \",\", \n",
    "                 skipinitialspace=True, \n",
    "#                 index_col=\"Substituent\",    # Cant use Substituent as index - duplicate entries in data series\n",
    "                 comment = \"#\") \n",
    "\n",
    "### Join the two dataframes according to the index column (Substituent)\n",
    "#df = pd.concat([table_data_df, data_set], axis=1, join=\"inner\")\n",
    "\n",
    "#df.sort_values(by=[sigmatype], inplace=True)    # sort according to sigma so we can pick the left-most and right-most points more easily\n",
    "\n",
    "#df[\"logk\"] = np.log10(df[\"k\"])\n",
    "\n",
    "\n",
    "print(table_data_df)"
   ]
  },
  {
   "cell_type": "markdown",
   "metadata": {},
   "source": []
  },
  {
   "cell_type": "code",
   "execution_count": 10,
   "metadata": {},
   "outputs": [
    {
     "name": "stdout",
     "output_type": "stream",
     "text": [
      "H\n",
      "m-Cl\n",
      "m-Br\n",
      "m-Cl\n",
      "m-Cl\n",
      "m-Br\n",
      "m-F\n",
      "m-Cl\n",
      "m-C6H5\n",
      "m-CN\n",
      "m-OCH3\n",
      "nan\n"
     ]
    },
    {
     "name": "stderr",
     "output_type": "stream",
     "text": [
      "/var/folders/3h/d_p2gtjd78g8c7m6c14chsg00000gq/T/ipykernel_2483/2481705899.py:16: SettingWithCopyWarning: \n",
      "A value is trying to be set on a copy of a slice from a DataFrame\n",
      "\n",
      "See the caveats in the documentation: https://pandas.pydata.org/pandas-docs/stable/user_guide/indexing.html#returning-a-view-versus-a-copy\n",
      "  table_data_df[\"sigma\"][x] = sigma_series[\"sigma\"]    # insert the Hammett parameters\n",
      "/var/folders/3h/d_p2gtjd78g8c7m6c14chsg00000gq/T/ipykernel_2483/2481705899.py:17: SettingWithCopyWarning: \n",
      "A value is trying to be set on a copy of a slice from a DataFrame\n",
      "\n",
      "See the caveats in the documentation: https://pandas.pydata.org/pandas-docs/stable/user_guide/indexing.html#returning-a-view-versus-a-copy\n",
      "  table_data_df[\"s_plus\"][x] = sigma_series[\"s_plus\"]\n",
      "/var/folders/3h/d_p2gtjd78g8c7m6c14chsg00000gq/T/ipykernel_2483/2481705899.py:18: SettingWithCopyWarning: \n",
      "A value is trying to be set on a copy of a slice from a DataFrame\n",
      "\n",
      "See the caveats in the documentation: https://pandas.pydata.org/pandas-docs/stable/user_guide/indexing.html#returning-a-view-versus-a-copy\n",
      "  table_data_df[\"s_minus\"][x] = sigma_series[\"s_minus\"]\n"
     ]
    },
    {
     "ename": "KeyError",
     "evalue": "nan",
     "output_type": "error",
     "traceback": [
      "\u001b[0;31m---------------------------------------------------------------------------\u001b[0m",
      "\u001b[0;31mKeyError\u001b[0m                                  Traceback (most recent call last)",
      "File \u001b[0;32m~/anaconda3/lib/python3.11/site-packages/pandas/core/indexes/base.py:3802\u001b[0m, in \u001b[0;36mIndex.get_loc\u001b[0;34m(self, key, method, tolerance)\u001b[0m\n\u001b[1;32m   3801\u001b[0m \u001b[39mtry\u001b[39;00m:\n\u001b[0;32m-> 3802\u001b[0m     \u001b[39mreturn\u001b[39;00m \u001b[39mself\u001b[39m\u001b[39m.\u001b[39m_engine\u001b[39m.\u001b[39mget_loc(casted_key)\n\u001b[1;32m   3803\u001b[0m \u001b[39mexcept\u001b[39;00m \u001b[39mKeyError\u001b[39;00m \u001b[39mas\u001b[39;00m err:\n",
      "File \u001b[0;32m~/anaconda3/lib/python3.11/site-packages/pandas/_libs/index.pyx:138\u001b[0m, in \u001b[0;36mpandas._libs.index.IndexEngine.get_loc\u001b[0;34m()\u001b[0m\n",
      "File \u001b[0;32m~/anaconda3/lib/python3.11/site-packages/pandas/_libs/index.pyx:165\u001b[0m, in \u001b[0;36mpandas._libs.index.IndexEngine.get_loc\u001b[0;34m()\u001b[0m\n",
      "File \u001b[0;32mpandas/_libs/hashtable_class_helper.pxi:5745\u001b[0m, in \u001b[0;36mpandas._libs.hashtable.PyObjectHashTable.get_item\u001b[0;34m()\u001b[0m\n",
      "File \u001b[0;32mpandas/_libs/hashtable_class_helper.pxi:5753\u001b[0m, in \u001b[0;36mpandas._libs.hashtable.PyObjectHashTable.get_item\u001b[0;34m()\u001b[0m\n",
      "\u001b[0;31mKeyError\u001b[0m: nan",
      "\nThe above exception was the direct cause of the following exception:\n",
      "\u001b[0;31mKeyError\u001b[0m                                  Traceback (most recent call last)",
      "\u001b[1;32m/Users/blink/github/4410PythonNotebooks/Class_17/17-ClassExample-table4and5.ipynb Cell 5\u001b[0m line \u001b[0;36m1\n\u001b[1;32m     <a href='vscode-notebook-cell:/Users/blink/github/4410PythonNotebooks/Class_17/17-ClassExample-table4and5.ipynb#W4sZmlsZQ%3D%3D?line=12'>13</a>\u001b[0m substituent_name \u001b[39m=\u001b[39m table_data_df[\u001b[39m\"\u001b[39m\u001b[39mSubstituent\u001b[39m\u001b[39m\"\u001b[39m][x]   \u001b[39m# Get the name of the substituent in row x\u001b[39;00m\n\u001b[1;32m     <a href='vscode-notebook-cell:/Users/blink/github/4410PythonNotebooks/Class_17/17-ClassExample-table4and5.ipynb#W4sZmlsZQ%3D%3D?line=13'>14</a>\u001b[0m \u001b[39mprint\u001b[39m(substituent_name)\n\u001b[0;32m---> <a href='vscode-notebook-cell:/Users/blink/github/4410PythonNotebooks/Class_17/17-ClassExample-table4and5.ipynb#W4sZmlsZQ%3D%3D?line=14'>15</a>\u001b[0m sigma_series \u001b[39m=\u001b[39m data_set\u001b[39m.\u001b[39mloc[substituent_name]    \u001b[39m# get the set of sigma values from the Hammett data\u001b[39;00m\n\u001b[1;32m     <a href='vscode-notebook-cell:/Users/blink/github/4410PythonNotebooks/Class_17/17-ClassExample-table4and5.ipynb#W4sZmlsZQ%3D%3D?line=15'>16</a>\u001b[0m table_data_df[\u001b[39m\"\u001b[39m\u001b[39msigma\u001b[39m\u001b[39m\"\u001b[39m][x] \u001b[39m=\u001b[39m sigma_series[\u001b[39m\"\u001b[39m\u001b[39msigma\u001b[39m\u001b[39m\"\u001b[39m]    \u001b[39m# insert the Hammett parameters \u001b[39;00m\n\u001b[1;32m     <a href='vscode-notebook-cell:/Users/blink/github/4410PythonNotebooks/Class_17/17-ClassExample-table4and5.ipynb#W4sZmlsZQ%3D%3D?line=16'>17</a>\u001b[0m table_data_df[\u001b[39m\"\u001b[39m\u001b[39ms_plus\u001b[39m\u001b[39m\"\u001b[39m][x] \u001b[39m=\u001b[39m sigma_series[\u001b[39m\"\u001b[39m\u001b[39ms_plus\u001b[39m\u001b[39m\"\u001b[39m]\n",
      "File \u001b[0;32m~/anaconda3/lib/python3.11/site-packages/pandas/core/indexing.py:1073\u001b[0m, in \u001b[0;36m_LocationIndexer.__getitem__\u001b[0;34m(self, key)\u001b[0m\n\u001b[1;32m   1070\u001b[0m axis \u001b[39m=\u001b[39m \u001b[39mself\u001b[39m\u001b[39m.\u001b[39maxis \u001b[39mor\u001b[39;00m \u001b[39m0\u001b[39m\n\u001b[1;32m   1072\u001b[0m maybe_callable \u001b[39m=\u001b[39m com\u001b[39m.\u001b[39mapply_if_callable(key, \u001b[39mself\u001b[39m\u001b[39m.\u001b[39mobj)\n\u001b[0;32m-> 1073\u001b[0m \u001b[39mreturn\u001b[39;00m \u001b[39mself\u001b[39m\u001b[39m.\u001b[39m_getitem_axis(maybe_callable, axis\u001b[39m=\u001b[39maxis)\n",
      "File \u001b[0;32m~/anaconda3/lib/python3.11/site-packages/pandas/core/indexing.py:1312\u001b[0m, in \u001b[0;36m_LocIndexer._getitem_axis\u001b[0;34m(self, key, axis)\u001b[0m\n\u001b[1;32m   1310\u001b[0m \u001b[39m# fall thru to straight lookup\u001b[39;00m\n\u001b[1;32m   1311\u001b[0m \u001b[39mself\u001b[39m\u001b[39m.\u001b[39m_validate_key(key, axis)\n\u001b[0;32m-> 1312\u001b[0m \u001b[39mreturn\u001b[39;00m \u001b[39mself\u001b[39m\u001b[39m.\u001b[39m_get_label(key, axis\u001b[39m=\u001b[39maxis)\n",
      "File \u001b[0;32m~/anaconda3/lib/python3.11/site-packages/pandas/core/indexing.py:1260\u001b[0m, in \u001b[0;36m_LocIndexer._get_label\u001b[0;34m(self, label, axis)\u001b[0m\n\u001b[1;32m   1258\u001b[0m \u001b[39mdef\u001b[39;00m \u001b[39m_get_label\u001b[39m(\u001b[39mself\u001b[39m, label, axis: \u001b[39mint\u001b[39m):\n\u001b[1;32m   1259\u001b[0m     \u001b[39m# GH#5567 this will fail if the label is not present in the axis.\u001b[39;00m\n\u001b[0;32m-> 1260\u001b[0m     \u001b[39mreturn\u001b[39;00m \u001b[39mself\u001b[39m\u001b[39m.\u001b[39mobj\u001b[39m.\u001b[39mxs(label, axis\u001b[39m=\u001b[39maxis)\n",
      "File \u001b[0;32m~/anaconda3/lib/python3.11/site-packages/pandas/core/generic.py:4056\u001b[0m, in \u001b[0;36mNDFrame.xs\u001b[0;34m(self, key, axis, level, drop_level)\u001b[0m\n\u001b[1;32m   4054\u001b[0m             new_index \u001b[39m=\u001b[39m index[loc]\n\u001b[1;32m   4055\u001b[0m \u001b[39melse\u001b[39;00m:\n\u001b[0;32m-> 4056\u001b[0m     loc \u001b[39m=\u001b[39m index\u001b[39m.\u001b[39mget_loc(key)\n\u001b[1;32m   4058\u001b[0m     \u001b[39mif\u001b[39;00m \u001b[39misinstance\u001b[39m(loc, np\u001b[39m.\u001b[39mndarray):\n\u001b[1;32m   4059\u001b[0m         \u001b[39mif\u001b[39;00m loc\u001b[39m.\u001b[39mdtype \u001b[39m==\u001b[39m np\u001b[39m.\u001b[39mbool_:\n",
      "File \u001b[0;32m~/anaconda3/lib/python3.11/site-packages/pandas/core/indexes/base.py:3804\u001b[0m, in \u001b[0;36mIndex.get_loc\u001b[0;34m(self, key, method, tolerance)\u001b[0m\n\u001b[1;32m   3802\u001b[0m     \u001b[39mreturn\u001b[39;00m \u001b[39mself\u001b[39m\u001b[39m.\u001b[39m_engine\u001b[39m.\u001b[39mget_loc(casted_key)\n\u001b[1;32m   3803\u001b[0m \u001b[39mexcept\u001b[39;00m \u001b[39mKeyError\u001b[39;00m \u001b[39mas\u001b[39;00m err:\n\u001b[0;32m-> 3804\u001b[0m     \u001b[39mraise\u001b[39;00m \u001b[39mKeyError\u001b[39;00m(key) \u001b[39mfrom\u001b[39;00m \u001b[39merr\u001b[39;00m\n\u001b[1;32m   3805\u001b[0m \u001b[39mexcept\u001b[39;00m \u001b[39mTypeError\u001b[39;00m:\n\u001b[1;32m   3806\u001b[0m     \u001b[39m# If we have a listlike key, _check_indexing_error will raise\u001b[39;00m\n\u001b[1;32m   3807\u001b[0m     \u001b[39m#  InvalidIndexError. Otherwise we fall through and re-raise\u001b[39;00m\n\u001b[1;32m   3808\u001b[0m     \u001b[39m#  the TypeError.\u001b[39;00m\n\u001b[1;32m   3809\u001b[0m     \u001b[39mself\u001b[39m\u001b[39m.\u001b[39m_check_indexing_error(key)\n",
      "\u001b[0;31mKeyError\u001b[0m: nan"
     ]
    }
   ],
   "source": [
    "##########################################################################\n",
    "### A little program to copy in the sigma values for each substituent. ###\n",
    "### Perhaps someday I will make it a proper function for general use.  ###\n",
    "##########################################################################\n",
    "\n",
    "# We are doing this because the substituent column contains double entries for many substituents and cannot be used as an index column.\n",
    "\n",
    "table_data_df[\"sigma\"] = np.NaN     # Create new columns in the dataframe to reference\n",
    "table_data_df[\"s_plus\"] = np.NaN\n",
    "table_data_df[\"s_minus\"] = np.NaN\n",
    "\n",
    "for x in table_data_df.index:\n",
    "    substituent_name = table_data_df[\"Substituent\"][x]   # Get the name of the substituent in row x\n",
    "    print(substituent_name)\n",
    "    sigma_series = data_set.loc[substituent_name]    # get the set of sigma values from the Hammett data\n",
    "    table_data_df[\"sigma\"][x] = sigma_series[\"sigma\"]    # insert the Hammett parameters \n",
    "    table_data_df[\"s_plus\"][x] = sigma_series[\"s_plus\"]\n",
    "    table_data_df[\"s_minus\"][x] = sigma_series[\"s_minus\"]\n",
    "    \n",
    "#########################################################################\n",
    "### Perform calculations on columns and add new columns with results  ###\n",
    "#########################################################################\n",
    "\n",
    "display(table_data_df)"
   ]
  },
  {
   "cell_type": "code",
   "execution_count": 5,
   "metadata": {},
   "outputs": [
    {
     "data": {
      "text/plain": [
       "'H'"
      ]
     },
     "execution_count": 5,
     "metadata": {},
     "output_type": "execute_result"
    }
   ],
   "source": [
    "table_data_df[\"Substituent\"][x]"
   ]
  },
  {
   "cell_type": "code",
   "execution_count": 8,
   "metadata": {},
   "outputs": [
    {
     "data": {
      "text/plain": [
       "Substituent    m-Br\n",
       "sigma          0.39\n",
       "s_plus         0.39\n",
       "s_minus        0.39\n",
       "Name: 0, dtype: object"
      ]
     },
     "execution_count": 8,
     "metadata": {},
     "output_type": "execute_result"
    }
   ],
   "source": [
    "data_set.loc[0]"
   ]
  },
  {
   "cell_type": "code",
   "execution_count": 11,
   "metadata": {},
   "outputs": [
    {
     "data": {
      "text/html": [
       "<div>\n",
       "<style scoped>\n",
       "    .dataframe tbody tr th:only-of-type {\n",
       "        vertical-align: middle;\n",
       "    }\n",
       "\n",
       "    .dataframe tbody tr th {\n",
       "        vertical-align: top;\n",
       "    }\n",
       "\n",
       "    .dataframe thead th {\n",
       "        text-align: right;\n",
       "    }\n",
       "</style>\n",
       "<table border=\"1\" class=\"dataframe\">\n",
       "  <thead>\n",
       "    <tr style=\"text-align: right;\">\n",
       "      <th></th>\n",
       "      <th>Formula</th>\n",
       "      <th>pKa_COOH</th>\n",
       "      <th>pKa_CH2OH</th>\n",
       "      <th>Substituent</th>\n",
       "      <th>Number_of_substituents</th>\n",
       "      <th>sigma</th>\n",
       "      <th>s_plus</th>\n",
       "      <th>s_minus</th>\n",
       "    </tr>\n",
       "  </thead>\n",
       "  <tbody>\n",
       "    <tr>\n",
       "      <th>0</th>\n",
       "      <td>CH3</td>\n",
       "      <td>4.76</td>\n",
       "      <td>16.00</td>\n",
       "      <td>H</td>\n",
       "      <td>1.0</td>\n",
       "      <td>0.00</td>\n",
       "      <td>0.00</td>\n",
       "      <td>0.00</td>\n",
       "    </tr>\n",
       "    <tr>\n",
       "      <th>1</th>\n",
       "      <td>CH2Cl</td>\n",
       "      <td>2.86</td>\n",
       "      <td>14.31</td>\n",
       "      <td>m-Cl</td>\n",
       "      <td>1.0</td>\n",
       "      <td>0.37</td>\n",
       "      <td>0.37</td>\n",
       "      <td>0.37</td>\n",
       "    </tr>\n",
       "    <tr>\n",
       "      <th>3</th>\n",
       "      <td>CHCl2</td>\n",
       "      <td>1.29</td>\n",
       "      <td>12.89</td>\n",
       "      <td>m-Cl</td>\n",
       "      <td>2.0</td>\n",
       "      <td>0.37</td>\n",
       "      <td>0.37</td>\n",
       "      <td>0.37</td>\n",
       "    </tr>\n",
       "    <tr>\n",
       "      <th>4</th>\n",
       "      <td>CCl3</td>\n",
       "      <td>0.65</td>\n",
       "      <td>12.24</td>\n",
       "      <td>m-Cl</td>\n",
       "      <td>3.0</td>\n",
       "      <td>0.37</td>\n",
       "      <td>0.37</td>\n",
       "      <td>0.37</td>\n",
       "    </tr>\n",
       "    <tr>\n",
       "      <th>6</th>\n",
       "      <td>CF3</td>\n",
       "      <td>0.00</td>\n",
       "      <td>12.37</td>\n",
       "      <td>m-F</td>\n",
       "      <td>3.0</td>\n",
       "      <td>0.34</td>\n",
       "      <td>0.34</td>\n",
       "      <td>0.34</td>\n",
       "    </tr>\n",
       "    <tr>\n",
       "      <th>8</th>\n",
       "      <td>C6H5</td>\n",
       "      <td>4.31</td>\n",
       "      <td>15.40</td>\n",
       "      <td>m-C6H5</td>\n",
       "      <td>1.0</td>\n",
       "      <td>0.06</td>\n",
       "      <td>0.06</td>\n",
       "      <td>0.06</td>\n",
       "    </tr>\n",
       "  </tbody>\n",
       "</table>\n",
       "</div>"
      ],
      "text/plain": [
       "  Formula  pKa_COOH  pKa_CH2OH Substituent  Number_of_substituents  sigma  \\\n",
       "0     CH3      4.76      16.00           H                     1.0   0.00   \n",
       "1   CH2Cl      2.86      14.31        m-Cl                     1.0   0.37   \n",
       "3   CHCl2      1.29      12.89        m-Cl                     2.0   0.37   \n",
       "4    CCl3      0.65      12.24        m-Cl                     3.0   0.37   \n",
       "6     CF3      0.00      12.37         m-F                     3.0   0.34   \n",
       "8    C6H5      4.31      15.40      m-C6H5                     1.0   0.06   \n",
       "\n",
       "   s_plus  s_minus  \n",
       "0    0.00     0.00  \n",
       "1    0.37     0.37  \n",
       "3    0.37     0.37  \n",
       "4    0.37     0.37  \n",
       "6    0.34     0.34  \n",
       "8    0.06     0.06  "
      ]
     },
     "execution_count": 11,
     "metadata": {},
     "output_type": "execute_result"
    }
   ],
   "source": [
    "table_data_df.dropna()"
   ]
  },
  {
   "cell_type": "code",
   "execution_count": null,
   "metadata": {},
   "outputs": [],
   "source": []
  }
 ],
 "metadata": {
  "kernelspec": {
   "display_name": "Python 3 (ipykernel)",
   "language": "python",
   "name": "python3"
  },
  "language_info": {
   "codemirror_mode": {
    "name": "ipython",
    "version": 3
   },
   "file_extension": ".py",
   "mimetype": "text/x-python",
   "name": "python",
   "nbconvert_exporter": "python",
   "pygments_lexer": "ipython3",
   "version": "3.11.4"
  }
 },
 "nbformat": 4,
 "nbformat_minor": 2
}
