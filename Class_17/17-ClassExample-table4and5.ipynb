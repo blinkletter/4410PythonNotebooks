{
 "cells": [
  {
   "cell_type": "markdown",
   "metadata": {},
   "source": [
    "# Taft Plot Investigations\n",
    "\n",
    "This workbook contains the code and imports the data to explore how Taft used acid and base-catalyzed ester hydrolysis to develope the taft steric and electronic parameters."
   ]
  },
  {
   "cell_type": "markdown",
   "metadata": {},
   "source": [
    "## Plot $pK_a$ vs $\\sigma^*$\n",
    "\n",
    "Plot $pK_a$ vs $\\sigma^*$ to confirm that Taft $\\sigma^*$ values track with Hammett $\\sigma$ values. The slope should be near one if the substituent parameters were scaled propertly (recall that taft used the Hammett $\\rho$ value of 2.3 when setting his $\\sigma^*$ values)."
   ]
  },
  {
   "cell_type": "code",
   "execution_count": 4,
   "metadata": {},
   "outputs": [
    {
     "name": "stdout",
     "output_type": "stream",
     "text": [
      "             sigma  s_plus  s_minus Page\n",
      "Substituent                             \n",
      "m-Br          0.39    0.39     0.39  259\n",
      "p-Br          0.23    0.15     0.25  259\n",
      "m-C6H5        0.06    0.06     0.06  278\n",
      "p-C6H5       -0.01    0.02    -0.18  278\n",
      "m-CCCH3       0.10    0.10     0.10  265\n",
      "...            ...     ...      ...  ...\n",
      "o-CH3         0.29    0.29     0.29   46\n",
      "o-Cl          1.26    1.26     1.26   46\n",
      "o-NO2         2.03    2.03     2.03   46\n",
      "o-Br          1.35    1.35     1.35   46\n",
      "o-I           1.34    1.34     1.34   46\n",
      "\n",
      "[67 rows x 4 columns]\n",
      "             Formula  pKa_COOH  pKa_CH2OH  Number_of_substituents\n",
      "Substituent                                                      \n",
      "H                CH3      4.76      16.00                     1.0\n",
      "m-Cl           CH2Cl      2.86      14.31                     1.0\n",
      "m-Br           CH2Br      2.86        NaN                     1.0\n",
      "m-Cl           CHCl2      1.29      12.89                     2.0\n",
      "m-Cl            CCl3      0.65      12.24                     3.0\n",
      "m-Br            CBr3      0.66        NaN                     3.0\n",
      "m-F              CF3      0.00      12.37                     3.0\n",
      "m-Cl            CH2F      2.66        NaN                     1.0\n",
      "m-C6H5          C6H5      4.31      15.40                     1.0\n",
      "m-CN           CH2CN      2.43        NaN                     1.0\n",
      "m-OCH3       CH2OCH3      3.53        NaN                     1.0\n",
      "NaN             C2F5       NaN      11.35                     NaN\n"
     ]
    }
   ],
   "source": [
    "import pandas as pd\n",
    "import numpy as np\n",
    "import matplotlib.pyplot as plt\n",
    "import scipy.stats as stats\n",
    "\n",
    "github_location = \"https://raw.githubusercontent.com/blinkletter/4410PythonNotebooks/main/Class_17/data/\"\n",
    "github_location_styles = \"https://raw.githubusercontent.com/blinkletter/LFER-QSAR/main/styles/\"\n",
    "github_location_LFER_tables = \"https://raw.githubusercontent.com/blinkletter/LFER-QSAR/main/data/\"\n",
    "\n",
    "sigmatype = \"s_plus\"    # change to \"sigma\", \"s_plus\", or \"s_minus\"\n",
    "\n",
    "\n",
    "###################################################################\n",
    "### a function to fill in sigma for empty spaces in s+ and s-   ###\n",
    "###################################################################\n",
    "\n",
    "def fill_sigma(df):     \n",
    "    for z in df.index:\n",
    "        if np.isnan(df.loc[z,\"s_plus\"]):\n",
    "            df.loc[z,\"s_plus\"] = df.loc[z,\"sigma\"]\n",
    "        if np.isnan(df[\"s_minus\"][z]):\n",
    "            df.loc[z,\"s_minus\"] = df.loc[z,\"sigma\"]\n",
    "    return(df)\n",
    "\n",
    "\n",
    "################################################################################\n",
    "### Read data set. The fields are separated by commas; comments are enabled  ###\n",
    "################################################################################\n",
    "\n",
    "#LFER_file = \"LFER_HanschLeoTaft.csv\"\n",
    "LFER_file = \"LFER_Williams.csv\"\n",
    "\n",
    "data_set = pd.read_csv(github_location_LFER_tables + LFER_file,\n",
    "                 delimiter = \",\", \n",
    "                 skipinitialspace=True, \n",
    "                 index_col=\"Substituent\", \n",
    "                 comment = \"#\") \n",
    "\n",
    "\n",
    "########################################################\n",
    "### Fill across sigma values and select substituents ###\n",
    "########################################################\n",
    "\n",
    "data_set=fill_sigma(data_set)\n",
    "print(data_set)\n",
    "### Remove unneeded columns\n",
    "if LFER_file == \"LFER_HanschLeoTaft.csv\":\n",
    "    data_set.drop(labels = [\"TABLE V\", \"TABLE I\"],      #Trim \"LFER_HanschLeoTaft.csv\" data\n",
    "    axis = 1,\n",
    "    inplace = True)\n",
    "elif LFER_file == \"LFER_Williams.csv\":\n",
    "    data_set.drop(labels = [\"Page\"],                   #Trim \"LFER_Williams.csv\"\" data\n",
    "    axis = 1,\n",
    "    inplace = True)\n",
    "else:\n",
    "    print(\"ERROR: No filename\")\n",
    "\n",
    "\n",
    "################################################################################\n",
    "### Read table 1 data. The fields are separated by commas; comments are enabled  ###\n",
    "################################################################################\n",
    "\n",
    "data_file = \"17-Table_4.csv\"\n",
    "\n",
    "table_data_df = pd.read_csv(github_location + data_file,\n",
    "                 delimiter = \",\", \n",
    "                 skipinitialspace=True, \n",
    "                 index_col=\"Substituent\", \n",
    "                 comment = \"#\") \n",
    "\n",
    "### Join the two dataframes according to the index column (Substituent)\n",
    "#df = pd.concat([table_data_df, data_set], axis=1, join=\"inner\")\n",
    "\n",
    "#df.sort_values(by=[sigmatype], inplace=True)    # sort according to sigma so we can pick the left-most and right-most points more easily\n",
    "\n",
    "#df[\"logk\"] = np.log10(df[\"k\"])\n",
    "\n",
    "\n",
    "print(table_data_df)"
   ]
  },
  {
   "cell_type": "markdown",
   "metadata": {},
   "source": []
  },
  {
   "cell_type": "code",
   "execution_count": null,
   "metadata": {},
   "outputs": [],
   "source": []
  }
 ],
 "metadata": {
  "kernelspec": {
   "display_name": "Python 3 (ipykernel)",
   "language": "python",
   "name": "python3"
  },
  "language_info": {
   "codemirror_mode": {
    "name": "ipython",
    "version": 3
   },
   "file_extension": ".py",
   "mimetype": "text/x-python",
   "name": "python",
   "nbconvert_exporter": "python",
   "pygments_lexer": "ipython3",
   "version": "3.11.4"
  }
 },
 "nbformat": 4,
 "nbformat_minor": 2
}
