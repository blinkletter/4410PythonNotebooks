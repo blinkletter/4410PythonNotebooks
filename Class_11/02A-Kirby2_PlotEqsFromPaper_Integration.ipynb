{
 "cells": [
  {
   "cell_type": "markdown",
   "metadata": {},
   "source": [
    "# Integrating the Rate Laws - Analytical Method\n",
    "\n",
    "In this code we see an example of using the tools in *SciPy* to integrate the rate laws for the system and get the integrated equations for the concentrations of reactant, intermediate and product with time."
   ]
  },
  {
   "cell_type": "code",
   "execution_count": 12,
   "metadata": {},
   "outputs": [
    {
     "name": "stdout",
     "output_type": "stream",
     "text": [
      "The initial differential equation is...\n"
     ]
    },
    {
     "data": {
      "text/latex": [
       "$\\displaystyle \\frac{d}{d t} A_{t} = - A_{t} k_{1}$"
      ],
      "text/plain": [
       "Eq(Derivative(A_t, t), -A_t*k1)"
      ]
     },
     "metadata": {},
     "output_type": "display_data"
    },
    {
     "name": "stdout",
     "output_type": "stream",
     "text": [
      "After substituting the differential equation is...\n"
     ]
    },
    {
     "data": {
      "text/latex": [
       "$\\displaystyle \\frac{\\partial}{\\partial t} \\left(A_{0} - x_{t}{\\left(t \\right)}\\right) = - k_{1} \\left(A_{0} - x_{t}{\\left(t \\right)}\\right)$"
      ],
      "text/plain": [
       "Eq(Derivative(A_0 - x_t(t), t), -k1*(A_0 - x_t(t)))"
      ]
     },
     "metadata": {},
     "output_type": "display_data"
    },
    {
     "name": "stdout",
     "output_type": "stream",
     "text": [
      "The integrated equation starting at x=0 when t=0 is...\n"
     ]
    },
    {
     "data": {
      "text/latex": [
       "$\\displaystyle x_{t}{\\left(t \\right)} = A_{0} - A_{0} e^{- k_{1} t}$"
      ],
      "text/plain": [
       "Eq(x_t(t), A_0 - A_0*exp(-k1*t))"
      ]
     },
     "metadata": {},
     "output_type": "display_data"
    },
    {
     "name": "stdout",
     "output_type": "stream",
     "text": [
      "Collecting some terms and substiting for x gives...\n"
     ]
    },
    {
     "data": {
      "text/latex": [
       "$\\displaystyle A_{t} = A_{0} e^{- k_{1} t}$"
      ],
      "text/plain": [
       "Eq(A_t, A_0*exp(-k1*t))"
      ]
     },
     "metadata": {},
     "output_type": "display_data"
    }
   ],
   "source": [
    "import sympy as sym\n",
    "\n",
    "t = sym.symbols('t')     \n",
    "k1 = sym.symbols('k1')  \n",
    "k2 = sym.symbols('k2')  \n",
    "At = sym.symbols('A_t') \n",
    "A0 = sym.symbols('A_0') \n",
    "It = sym.symbols('I_t') \n",
    "Pt = sym.symbols('P_t')  \n",
    "\n",
    "xt = sym.Function('x_t')    # create x as a 'function', not a variable\n",
    "\n",
    "lhs = sym.Derivative(At, t) # Using Derivative function to get differential of A(t) w.r.t. t\n",
    "                            # could not used At.diff(t) because It is not a function \n",
    "rhs = -k1 * At\n",
    "\n",
    "diffeq = sym.Eq(lhs, rhs)   # create a sympy differential equation\n",
    "print(\"The initial differential equation is...\")\n",
    "display(diffeq)             \n",
    "\n",
    "diffeq = diffeq.subs({At: A0 - xt(t)})    # substitute At for A0-x\n",
    "\n",
    "print(\"After substituting the differential equation is...\")\n",
    "display(diffeq) \n",
    "\n",
    "print(\"The integrated equation starting at x=0 when t=0 is...\")\n",
    "result = sym.dsolve(diffeq, ics={xt(0): 0})     # Solve the differential equation. \n",
    "                                            # Initial condition is x(t) = 0 when t = 0\n",
    "display(result)\n",
    "\n",
    "print(\"Collecting some terms and substiting for x gives...\")\n",
    "A = result.subs({xt(t): A0 - At})              # substitute x for A0 - At\n",
    "A = sym.Eq(-(A.lhs-A0),-(A.rhs-A0))   # subtract A0 from both sides and flip sign\n",
    "display(A)"
   ]
  },
  {
   "cell_type": "code",
   "execution_count": 13,
   "metadata": {},
   "outputs": [
    {
     "name": "stdout",
     "output_type": "stream",
     "text": [
      "The initial differential equation is...\n"
     ]
    },
    {
     "data": {
      "text/latex": [
       "$\\displaystyle \\frac{d}{d t} I_{t} = A_{0} k_{1} e^{- k_{1} t} - I_{t} k_{2}$"
      ],
      "text/plain": [
       "Eq(Derivative(I_t, t), A_0*k1*exp(-k1*t) - I_t*k2)"
      ]
     },
     "metadata": {},
     "output_type": "display_data"
    },
    {
     "name": "stdout",
     "output_type": "stream",
     "text": [
      "After substituting the differential equation is...\n"
     ]
    },
    {
     "data": {
      "text/latex": [
       "$\\displaystyle \\frac{d}{d t} x_{t}{\\left(t \\right)} = A_{0} k_{1} e^{- k_{1} t} - k_{2} x_{t}{\\left(t \\right)}$"
      ],
      "text/plain": [
       "Eq(Derivative(x_t(t), t), A_0*k1*exp(-k1*t) - k2*x_t(t))"
      ]
     },
     "metadata": {},
     "output_type": "display_data"
    },
    {
     "name": "stdout",
     "output_type": "stream",
     "text": [
      "The integrated equation starting at x=0 when t=0 is...\n"
     ]
    },
    {
     "data": {
      "text/latex": [
       "$\\displaystyle x_{t}{\\left(t \\right)} = \\frac{A_{0} k_{1} e^{- k_{2} t}}{k_{1} - k_{2}} - \\frac{A_{0} k_{1} e^{- k_{1} t}}{k_{1} - k_{2}}$"
      ],
      "text/plain": [
       "Eq(x_t(t), A_0*k1*exp(-k2*t)/(k1 - k2) - A_0*k1*exp(-k1*t)/(k1 - k2))"
      ]
     },
     "metadata": {},
     "output_type": "display_data"
    },
    {
     "name": "stdout",
     "output_type": "stream",
     "text": [
      "Collecting some terms and substiting for x gives...\n"
     ]
    },
    {
     "data": {
      "text/latex": [
       "$\\displaystyle I_{t} = \\frac{A_{0} k_{1} \\left(e^{- k_{2} t} - e^{- k_{1} t}\\right)}{k_{1} - k_{2}}$"
      ],
      "text/plain": [
       "Eq(I_t, A_0*k1*(exp(-k2*t) - exp(-k1*t))/(k1 - k2))"
      ]
     },
     "metadata": {},
     "output_type": "display_data"
    }
   ],
   "source": [
    "lhs = sym.Derivative(It, t) # Using Derivative function to get differential of I(t) w.r.t. t\n",
    "                            # could not used At.diff(t) because It is not a function \n",
    "rhs = k1 * A.rhs - k2 * It\n",
    "\n",
    "diffeq = sym.Eq(lhs, rhs)   # create a sympy differential equation\n",
    "print(\"The initial differential equation is...\")\n",
    "display(diffeq)             \n",
    "\n",
    "print(\"After substituting the differential equation is...\")\n",
    "diffeq = diffeq.subs({It: xt(t)})    # substitute I for x\n",
    "display(diffeq) \n",
    "\n",
    "print(\"The integrated equation starting at x=0 when t=0 is...\")\n",
    "result = sym.dsolve(diffeq, ics={xt(0): 0})     # Solve the differential equation. \n",
    "                                                # Initial condition is x(t) = 0 when t = 0\n",
    "display(result)\n",
    "\n",
    "print(\"Collecting some terms and substiting for x gives...\")\n",
    "simplified = sym.collect(result.rhs,(A0*k1/(k1-k2)))\n",
    "I = sym.Eq(result.lhs,simplified)\n",
    "I = I.subs({xt(t): It})              # substitute x for I\n",
    "display(I)"
   ]
  },
  {
   "cell_type": "code",
   "execution_count": 14,
   "metadata": {},
   "outputs": [
    {
     "name": "stdout",
     "output_type": "stream",
     "text": [
      "Mass balance gives the following expression for P(t)\n"
     ]
    },
    {
     "data": {
      "text/latex": [
       "$\\displaystyle P_{t} = - \\frac{A_{0} k_{1} \\left(e^{- k_{2} t} - e^{- k_{1} t}\\right)}{k_{1} - k_{2}} + 2 A_{0} - 2 A_{0} e^{- k_{1} t}$"
      ],
      "text/plain": [
       "Eq(P_t, -A_0*k1*(exp(-k2*t) - exp(-k1*t))/(k1 - k2) + 2*A_0 - 2*A_0*exp(-k1*t))"
      ]
     },
     "metadata": {},
     "output_type": "display_data"
    },
    {
     "name": "stdout",
     "output_type": "stream",
     "text": [
      "collect A0\n"
     ]
    },
    {
     "data": {
      "text/latex": [
       "$\\displaystyle P_{t} = A_{0} \\left(- \\frac{k_{1} \\left(e^{- k_{2} t} - e^{- k_{1} t}\\right)}{k_{1} - k_{2}} + 2 - 2 e^{- k_{1} t}\\right)$"
      ],
      "text/plain": [
       "Eq(P_t, A_0*(-k1*(exp(-k2*t) - exp(-k1*t))/(k1 - k2) + 2 - 2*exp(-k1*t)))"
      ]
     },
     "metadata": {},
     "output_type": "display_data"
    },
    {
     "name": "stdout",
     "output_type": "stream",
     "text": [
      "equation for each species\n"
     ]
    },
    {
     "data": {
      "text/latex": [
       "$\\displaystyle A_{t} = A_{0} e^{- k_{1} t}$"
      ],
      "text/plain": [
       "Eq(A_t, A_0*exp(-k1*t))"
      ]
     },
     "metadata": {},
     "output_type": "display_data"
    },
    {
     "data": {
      "text/latex": [
       "$\\displaystyle I_{t} = \\frac{A_{0} k_{1} \\left(e^{- k_{2} t} - e^{- k_{1} t}\\right)}{k_{1} - k_{2}}$"
      ],
      "text/plain": [
       "Eq(I_t, A_0*k1*(exp(-k2*t) - exp(-k1*t))/(k1 - k2))"
      ]
     },
     "metadata": {},
     "output_type": "display_data"
    },
    {
     "data": {
      "text/latex": [
       "$\\displaystyle P_{t} = A_{0} \\left(- \\frac{k_{1} \\left(e^{- k_{2} t} - e^{- k_{1} t}\\right)}{k_{1} - k_{2}} + 2 - 2 e^{- k_{1} t}\\right)$"
      ],
      "text/plain": [
       "Eq(P_t, A_0*(-k1*(exp(-k2*t) - exp(-k1*t))/(k1 - k2) + 2 - 2*exp(-k1*t)))"
      ]
     },
     "metadata": {},
     "output_type": "display_data"
    }
   ],
   "source": [
    "lhs = Pt\n",
    "rhs = 2*A0 - 2*A.rhs - I.rhs   \n",
    "\n",
    "print(\"Mass balance gives the following expression for P(t)\")\n",
    "P = sym.Eq(lhs,rhs)            # Mass balance equation\n",
    "display(P)\n",
    "\n",
    "print(\"collect A0\")\n",
    "rhs = sym.collect(P.rhs,A0)\n",
    "P = sym.Eq(Pt,rhs)\n",
    "display(P)\n",
    "\n",
    "print(\"equation for each species\")\n",
    "display(A,I,P)\n",
    "\n"
   ]
  },
  {
   "cell_type": "code",
   "execution_count": null,
   "metadata": {},
   "outputs": [],
   "source": []
  }
 ],
 "metadata": {
  "kernelspec": {
   "display_name": "main",
   "language": "python",
   "name": "python3"
  },
  "language_info": {
   "codemirror_mode": {
    "name": "ipython",
    "version": 3
   },
   "file_extension": ".py",
   "mimetype": "text/x-python",
   "name": "python",
   "nbconvert_exporter": "python",
   "pygments_lexer": "ipython3",
   "version": "3.12.2"
  }
 },
 "nbformat": 4,
 "nbformat_minor": 2
}
