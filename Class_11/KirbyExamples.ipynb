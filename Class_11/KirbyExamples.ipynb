{
 "cells": [
  {
   "cell_type": "markdown",
   "metadata": {},
   "source": [
    "# Comments on the Examples\n",
    "\n",
    "We have seen two sets of data that give pH rate prfiles from work dony in Tony Kirby's group at cambridge. \n",
    "\n",
    "## Example 2\n",
    "\n",
    "In the second example the author describe how they obtained the rate constants for each step in a consecutive reaction. \n",
    "\n",
    "the reaction scheme is shown below...\n",
    "\n",
    "$$A \\xrightarrow{k_1} B + C \\\\ \n",
    "B \\xrightarrow{k_2} C$$\n",
    "\n",
    "The total reaction is...\n",
    "\n",
    "$$A \\xrightarrow{k_{obs{}}} 2C $$\n",
    "\n",
    "There are two possibilities.\n",
    "\n",
    "1. The first step is rate-determining. The kinetics will be the same as if the reaction produced two products in a single step.\n",
    "2. The second is rate-determining.The kinetics will follow that of a consecutive reaction. See notebook `6_PhysOrgExamples/6_1_start.ipynb` for some code that has already been written for consecutive reactions.\n",
    "\n",
    "The author present integrated rate equations for the observed absorbance for each of the two cases above. For the first case they used the total reaction with $k_{obs}$. In the second case they presented a much more complicatde equation. Can you integrate these equations. I can't. Thats why I use *Python*."
   ]
  },
  {
   "cell_type": "markdown",
   "metadata": {},
   "source": [
    "## Symbolic Integration\n",
    "\n",
    "For the first case we can treat it as a simple first-order reaction with the rate consant of $k_{obs}$.\n",
    "\n",
    "*SymPy* can perform integration and differentiation operations on many expressions. Let us explore integrating the simple rate equations that you are familiar with.\n",
    "\n",
    "# Integrating First Order Reaction for A\n",
    "\n",
    "The basic first order reaction might be described as such...\n",
    "\n",
    "$$ A \\xrightarrow{k} 2C $$ \n",
    "\n",
    "The rate can be expressed as the disappearance of A over time and is equal to the rate constant multiplied by the concentration of reacatant at a given time point...\n",
    "\n",
    "$$ -\\frac{d}{dt}[A]_t = k[A]_t $$\n",
    "\n",
    "We can state that the amount of reactant consumed at a give time point is $x$ and that the concentration of reactant is the initial concentration less this value.\n",
    "\n",
    "$$ [A]_t = [A]_0 - x $$\n",
    "\n",
    "Substitute this into the equation for rate and we get...\n",
    "\n",
    "$$ -\\frac{d}{d t}([A]_0 - x) = k([A]_0 - x) $$\n",
    "\n",
    "...which can be simplified to give...\n",
    "\n",
    " $$   \\frac{d x}{d t} = k([A]_0 - x) $$\n",
    "\n",
    "In your first year calculus class you would solve this by collecting the differentials for $x$ and $t$ on either side of the equation and then integrating each side over the span of time.\n",
    "\n",
    "$$ \\frac{d x}{[A]_0 - x} = k\\,dt $$\n",
    "$$ \\int_0^x \\frac{d x}{[A]_0 - x} = \\int_0^t k\\,dt $$\n",
    "\n",
    "# Using *SymPy* Substitutions\n",
    "Here I will demonstrate the symbolic math features of *SymPy*. Here we start with the rate law and use *SymPy* to make the substitutions discussed above. We will start with...\n",
    "\n",
    "$$ -\\frac{d}{dt}[A]_t = k[A]_t $$\n",
    "\n",
    "...and then substitute in the expression for $A_t$ in terms of $x$ using *SymPy*\n",
    "\n",
    "$$ [A]_t = [A]_0 - x $$\n",
    "\n",
    "We will the solve the differential that is prosuced by the substitution. Observe we get the same answer.\n",
    "\n",
    "# Absorbance\n",
    "\n",
    "he authors observed the reaction as absorbance at 256nm over time. The absorbance contributed by each species is give by Beers law (assuming a 1 cm path length, as always)\n",
    "\n",
    "$$ Abs_A = \\epsilon_A [A]$$"
   ]
  },
  {
   "cell_type": "code",
   "execution_count": 1,
   "metadata": {},
   "outputs": [
    {
     "name": "stdout",
     "output_type": "stream",
     "text": [
      "The initial differential equation is...\n"
     ]
    },
    {
     "data": {
      "text/latex": [
       "$\\displaystyle \\frac{d}{d t} \\left(- A_{t}\\right) = A_{t} k_{1}$"
      ],
      "text/plain": [
       "Eq(Derivative(-A_t, t), A_t*k1)"
      ]
     },
     "metadata": {},
     "output_type": "display_data"
    },
    {
     "name": "stdout",
     "output_type": "stream",
     "text": [
      "After substituting the differential equation is...\n"
     ]
    },
    {
     "data": {
      "text/latex": [
       "$\\displaystyle \\frac{\\partial}{\\partial t} \\left(- A_{0} + x_{t}{\\left(t \\right)}\\right) = k_{1} \\left(A_{0} - x_{t}{\\left(t \\right)}\\right)$"
      ],
      "text/plain": [
       "Eq(Derivative(-A0 + x_t(t), t), k1*(A0 - x_t(t)))"
      ]
     },
     "metadata": {},
     "output_type": "display_data"
    },
    {
     "name": "stdout",
     "output_type": "stream",
     "text": [
      "The integrated equation starting at x=0 when t=0 is...\n"
     ]
    },
    {
     "data": {
      "text/latex": [
       "$\\displaystyle x_{t}{\\left(t \\right)} = A_{0} - A_{0} e^{- k_{1} t}$"
      ],
      "text/plain": [
       "Eq(x_t(t), A0 - A0*exp(-k1*t))"
      ]
     },
     "metadata": {},
     "output_type": "display_data"
    }
   ],
   "source": [
    "import sympy as sym\n",
    "import matplotlib.pyplot as plt\n",
    "\n",
    "\n",
    "t = sym.symbols('t')     # create t as a 'symbol', not a variable\n",
    "k1 = sym.symbols('k1')     # create k as a 'symbol'\n",
    "At = sym.symbols('A_t')  # create At as a 'symbol'\n",
    "A0 = sym.symbols('A0')   # create A0 as a 'symbol'\n",
    "\n",
    "xt = sym.Function('x_t')    # create x as a 'function', not a variable\n",
    "\n",
    "lhs = sym.Derivative(-At, t) # Using Derivative function to get differential of A(t) w.r.t. t\n",
    "                            # could not used At.diff(t) because At is not a function \n",
    "rhs = k1*(At)\n",
    "\n",
    "diffeq = sym.Eq(lhs, rhs)   # create a sympy equation\n",
    "print(\"The initial differential equation is...\")\n",
    "display(diffeq)             # display that equation\n",
    "\n",
    "diffeq = diffeq.subs({At: (A0 - xt(t))})\n",
    "\n",
    "print(\"After substituting the differential equation is...\")\n",
    "display(diffeq)             # display that equation\n",
    "\n",
    "\n",
    "print(\"The integrated equation starting at x=0 when t=0 is...\")\n",
    "res = sym.dsolve(diffeq, ics={xt(0): 0})     # Solve the differential equation. \n",
    "                                            # Initial condition is x(t) = 0 when t = 0\n",
    "display(res)\n",
    "#dir(diffeq)"
   ]
  },
  {
   "cell_type": "code",
   "execution_count": 2,
   "metadata": {},
   "outputs": [
    {
     "name": "stdout",
     "output_type": "stream",
     "text": [
      "The expression for x(t) is...\n"
     ]
    },
    {
     "data": {
      "text/latex": [
       "$\\displaystyle A_{0} - A_{0} e^{- k_{1} t}$"
      ],
      "text/plain": [
       "A0 - A0*exp(-k1*t)"
      ]
     },
     "metadata": {},
     "output_type": "display_data"
    },
    {
     "name": "stdout",
     "output_type": "stream",
     "text": [
      "The equation for A(t) in terms of x(t) is...\n"
     ]
    },
    {
     "data": {
      "text/latex": [
       "$\\displaystyle A_{t} = A_{0} - x$"
      ],
      "text/plain": [
       "Eq(A_t, A0 - x)"
      ]
     },
     "metadata": {},
     "output_type": "display_data"
    },
    {
     "name": "stdout",
     "output_type": "stream",
     "text": [
      "The equation for A(t) after substituting in the term for x(t)\n"
     ]
    },
    {
     "data": {
      "text/latex": [
       "$\\displaystyle A_{t} = A_{0} e^{- k_{1} t}$"
      ],
      "text/plain": [
       "Eq(A_t, A0*exp(-k1*t))"
      ]
     },
     "metadata": {},
     "output_type": "display_data"
    }
   ],
   "source": [
    "x = sym.symbols('x')     # create x as a 'symbol', not a variable or function\n",
    "\n",
    "xt_rhs = res.rhs   # Get the expression for x(t)\n",
    "print(\"The expression for x(t) is...\")\n",
    "display(xt_rhs)\n",
    "\n",
    "eq1 = sym.Eq(At, A0-x)  # create an equation that defines A(t) in terms of A0 and x\n",
    "print(\"The equation for A(t) in terms of x(t) is...\")\n",
    "display(eq1)\n",
    "\n",
    "A = eq1.subs(x, xt_rhs)  # xt is an expression for x. Substitute x for xt.\n",
    "print(\"The equation for A(t) after substituting in the term for x(t)\")\n",
    "display(A)\n"
   ]
  },
  {
   "cell_type": "markdown",
   "metadata": {},
   "source": [
    "# Integrating First Order Reaction for C\n",
    "\n",
    "We could find the expression for C easily by just stating that $[C]_t = 2([A]_0-[A]_t)$. \n"
   ]
  },
  {
   "cell_type": "code",
   "execution_count": 3,
   "metadata": {},
   "outputs": [
    {
     "name": "stdout",
     "output_type": "stream",
     "text": [
      "The expression for x(t) is...\n"
     ]
    },
    {
     "data": {
      "text/latex": [
       "$\\displaystyle A_{0} - A_{0} e^{- k_{1} t}$"
      ],
      "text/plain": [
       "A0 - A0*exp(-k1*t)"
      ]
     },
     "metadata": {},
     "output_type": "display_data"
    },
    {
     "name": "stdout",
     "output_type": "stream",
     "text": [
      "The equation for C(t) in terms of x(t) is...\n"
     ]
    },
    {
     "data": {
      "text/latex": [
       "$\\displaystyle C_{t} = 2 A_{0} - 2 A_{0} e^{- k_{1} t}$"
      ],
      "text/plain": [
       "Eq(C_t, 2*A0 - 2*A0*exp(-k1*t))"
      ]
     },
     "metadata": {},
     "output_type": "display_data"
    },
    {
     "name": "stdout",
     "output_type": "stream",
     "text": [
      "After collecting some terms...\n"
     ]
    },
    {
     "data": {
      "text/latex": [
       "$\\displaystyle C_{t} = 2 A_{0} \\left(1 - e^{- k_{1} t}\\right)$"
      ],
      "text/plain": [
       "Eq(C_t, 2*A0*(1 - exp(-k1*t)))"
      ]
     },
     "metadata": {},
     "output_type": "display_data"
    }
   ],
   "source": [
    "Ct = sym.symbols('C_t')  # create At as a 'symbol'\n",
    "\n",
    "xt_rhs = res.rhs   # Get the expression for x(t)\n",
    "print(\"The expression for x(t) is...\")\n",
    "display(xt_rhs)\n",
    "\n",
    "eq2 = sym.Eq(Ct, 2*xt_rhs)  # create an equation that defines X(t) in terms of A0 and x\n",
    "print(\"The equation for C(t) in terms of x(t) is...\")\n",
    "display(eq2)\n",
    "\n",
    "rhs = sym.collect(eq2.rhs,2*A0)\n",
    "C = sym.Eq(eq2.lhs,rhs)\n",
    "print(\"After collecting some terms...\")\n",
    "display(C)"
   ]
  },
  {
   "cell_type": "code",
   "execution_count": null,
   "metadata": {},
   "outputs": [],
   "source": []
  },
  {
   "cell_type": "markdown",
   "metadata": {},
   "source": [
    "## Absorbance\n",
    "\n",
    "the authors followed the reaction by absorbance. The amount of $A$ is decreasing and the amount of $C$ is increasing. If the final aborbance is different than the initial (e.q. A and C have different extinction coefficients) then we should be able to get kinetic parameters from an equation that describes the change in absorbance vs. time. \n",
    "\n",
    "The total $Abs$ will be $Abs_A(t) + Abs_C(t)$\n",
    "\n",
    "And we can say that...\n",
    "\n",
    "$$Abs(t) = \\epsilon_A\\cdot A_t + \\epsilon_C\\cdot C_t$$\n",
    "\n",
    "$$Abs(t) = \\epsilon_A\\cdot A_{0} e^{- k t} + \\epsilon_C\\cdot 2 A_{0}(1-e^{- k t})$$\n",
    "\n",
    "When we begin, the initial absorbance is due to $[A]_0$ and so we can say that $Abs_0 = \\epsilon_A\\cdot A_{0}$ and so if...\n",
    "\n",
    "$$A_{0} = \\frac{Abs_0}{\\epsilon_A}$$\n",
    "\n",
    "...then we can say that\n",
    "\n",
    "$$Abs(t) = \\epsilon_A\\cdot \\frac{Abs_0}{\\epsilon_A} e^{- k t} + \\epsilon_C\\cdot 2 \\frac{Abs_0}{\\epsilon_A}(1-e^{- k t})$$\n",
    "\n",
    "and after we simplify we get the same equation as the authors present in their paper (eq. 2). It is a useful exercise to check the math in any paper. Printing errors are common, especially in typeset equations and figures that are often reinterpretted in the printing process (especially a risk in older papers.)\n",
    "\n",
    "$$Abs(t) =  {Abs_0} e^{- k t} + \\frac{\\epsilon_C}{\\epsilon_A} 2 Abs_0(1-e^{- k t})$$\n",
    "\n",
    "Now let us do all of that with *Python*\n"
   ]
  },
  {
   "cell_type": "code",
   "execution_count": 4,
   "metadata": {},
   "outputs": [
    {
     "data": {
      "text/latex": [
       "$\\displaystyle A_{t} = A_{0} e^{- k_{1} t}$"
      ],
      "text/plain": [
       "Eq(A_t, A0*exp(-k1*t))"
      ]
     },
     "metadata": {},
     "output_type": "display_data"
    },
    {
     "data": {
      "text/latex": [
       "$\\displaystyle C_{t} = 2 A_{0} \\left(1 - e^{- k_{1} t}\\right)$"
      ],
      "text/plain": [
       "Eq(C_t, 2*A0*(1 - exp(-k1*t)))"
      ]
     },
     "metadata": {},
     "output_type": "display_data"
    },
    {
     "data": {
      "text/latex": [
       "$\\displaystyle Abs_{0} e^{- k_{1} t} + \\frac{2 Abs_{0} \\epsilon_{C} \\left(1 - e^{- k_{1} t}\\right)}{\\epsilon_{A}}$"
      ],
      "text/plain": [
       "Abs_0*exp(-k1*t) + 2*Abs_0*\\epsilon_C*(1 - exp(-k1*t))/\\epsilon_A"
      ]
     },
     "metadata": {},
     "output_type": "display_data"
    }
   ],
   "source": [
    "display(A)\n",
    "display(C)\n",
    "\n",
    "At_ = A.rhs      # expressions for concentrations\n",
    "Ct_ = C.rhs\n",
    "\n",
    "e_A = sym.symbols(r'\\epsilon_A')   # extinction coefficients\n",
    "e_C = sym.symbols(r'\\epsilon_C') \n",
    "\n",
    "Abs_A = sym.symbols(r'Abs_A')   # variables for absotrbances\n",
    "Abs_C = sym.symbols(r'Abs_C')\n",
    "Abs_0 = sym.symbols('Abs_0')\n",
    "\n",
    "Total = e_A*At_ + e_C*Ct_           # total absorbance\n",
    "Total = Total.subs(A0, Abs_0/e_A)\n",
    "display(Total)\n",
    "\n"
   ]
  },
  {
   "cell_type": "code",
   "execution_count": null,
   "metadata": {},
   "outputs": [],
   "source": []
  },
  {
   "cell_type": "markdown",
   "metadata": {},
   "source": [
    "## Integrating Consecutive Reactions\n",
    "\n",
    "Note: I stole most of this math from a my tutorial on integration. (09-T21-Integrating_Simple_Rate_Equations.pdf)\n",
    "\n",
    "### The System of Reactions\n",
    "\n",
    "For reactions of the form...\n",
    "\n",
    "$$\\text{A} \\overset{k_1}{\\longrightarrow} \\text{I} \\overset{k_2}{\\longrightarrow} \\text{P}$$\n",
    "\n",
    "...we can identify the rate of formation of each species by writing their rate laws as differential equations...\n",
    "\n",
    "$$\\begin{align}\n",
    "\\dfrac{d \\left[ \\text{A} \\right]_t}{dt} &= -k_1 \\left[ \\text{A} \\right]_t \\\\\n",
    "\\dfrac{d \\left[ \\text{I} \\right]_t}{dt} &= k_1 \\left[ \\text{A} \\right]_t - k_2 \\left[ \\text{I} \\right]_t \\\\\n",
    "\\dfrac{d \\left[ \\text{P} \\right]_t}{dt} &= k_2 \\left[ \\text{I} \\right]_t \n",
    "\\end{align}$$\n",
    "\n",
    "### Integrating for [A]\n",
    "\n",
    "We have already done this above. the integrated rate law for $[A]_t$ is known...\n",
    "\n",
    "$$\\left[ \\text{A} \\right]_t = \\left[ \\text{A} \\right]_0 e^{-k_1 t}$$\n",
    "\n",
    "### Integrating for [I]\n",
    "\n",
    "Substitute the integrated rate law for $[A]$ into the rate law for $[I]$ above...\n",
    "\n",
    "$$\\dfrac{d \\left[ \\text{I} \\right]_t}{dt} = k_1 \\left[ \\text{A} \\right]_0 e^{-k_1 t} - k_2 \\left[ \\text{I} \\right]_t$$\n",
    "\n",
    "As before we can set a value, $x$, that describes the progress of the reaction. We can state that $[I]_t = x$ and set up a differential equation like so...\n",
    "\n",
    "$$ \\frac{d}{d t}{x} = A_{0} k_{1} e^{- k_{1} t} - k_{2} x$$\n",
    "\n",
    "My integration skills are very rusty. Do I use integration by parts or integration by substitution? rather than relearn calculus I truyne to the symbolic math tools of sympy. Consider the code below."
   ]
  },
  {
   "cell_type": "code",
   "execution_count": 5,
   "metadata": {},
   "outputs": [
    {
     "name": "stdout",
     "output_type": "stream",
     "text": [
      "The initial differential equation is...\n"
     ]
    },
    {
     "data": {
      "text/latex": [
       "$\\displaystyle \\frac{d}{d t} I_{t} = A_{0} k_{1} e^{- k_{1} t} - I_{t} k_{2}$"
      ],
      "text/plain": [
       "Eq(Derivative(I_t, t), A0*k1*exp(-k1*t) - I_t*k2)"
      ]
     },
     "metadata": {},
     "output_type": "display_data"
    },
    {
     "name": "stdout",
     "output_type": "stream",
     "text": [
      "After substituting the differential equation is...\n"
     ]
    },
    {
     "data": {
      "text/latex": [
       "$\\displaystyle \\frac{d}{d t} x_{t}{\\left(t \\right)} = A_{0} k_{1} e^{- k_{1} t} - k_{2} x_{t}{\\left(t \\right)}$"
      ],
      "text/plain": [
       "Eq(Derivative(x_t(t), t), A0*k1*exp(-k1*t) - k2*x_t(t))"
      ]
     },
     "metadata": {},
     "output_type": "display_data"
    },
    {
     "name": "stdout",
     "output_type": "stream",
     "text": [
      "The integrated equation starting at x=0 when t=0 is...\n"
     ]
    },
    {
     "data": {
      "text/latex": [
       "$\\displaystyle x_{t}{\\left(t \\right)} = \\frac{A_{0} k_{1} e^{- k_{2} t}}{k_{1} - k_{2}} - \\frac{A_{0} k_{1} e^{- k_{1} t}}{k_{1} - k_{2}}$"
      ],
      "text/plain": [
       "Eq(x_t(t), A0*k1*exp(-k2*t)/(k1 - k2) - A0*k1*exp(-k1*t)/(k1 - k2))"
      ]
     },
     "metadata": {},
     "output_type": "display_data"
    },
    {
     "name": "stdout",
     "output_type": "stream",
     "text": [
      "Collecting some terms and substiting for x gives...\n"
     ]
    },
    {
     "data": {
      "text/latex": [
       "$\\displaystyle I_{t} = \\frac{A_{0} k_{1} \\left(e^{- k_{2} t} - e^{- k_{1} t}\\right)}{k_{1} - k_{2}}$"
      ],
      "text/plain": [
       "Eq(I_t, A0*k1*(exp(-k2*t) - exp(-k1*t))/(k1 - k2))"
      ]
     },
     "metadata": {},
     "output_type": "display_data"
    }
   ],
   "source": [
    "import sympy as sym\n",
    "\n",
    "t = sym.symbols('t')     # create t as a 'symbol', not a variable\n",
    "#k1 = sym.symbols('k1')     # create k as a 'symbol'\n",
    "k2 = sym.symbols('k2')     # create k as a 'symbol'\n",
    "#At = sym.symbols('A_t')  # create At as a 'symbol'\n",
    "#A0 = sym.symbols('A0')   # create A0 as a 'symbol'\n",
    "It = sym.symbols('I_t')   # create A0 as a 'symbol'\n",
    "\n",
    "xt = sym.Function('x_t')    # create x as a 'function', not a variable\n",
    "\n",
    "lhs = sym.Derivative(It, t) # Using Derivative function to get differential of A(t) w.r.t. t\n",
    "                            # could not used At.diff(t) because At is not a function \n",
    "rhs = k1*(A0)*sym.exp(-k1*t)-k2*It\n",
    "\n",
    "diffeq = sym.Eq(lhs, rhs)   # create a sympy equation\n",
    "print(\"The initial differential equation is...\")\n",
    "display(diffeq)             # display that equation\n",
    "\n",
    "diffeq = diffeq.subs({It: xt(t)})\n",
    "\n",
    "print(\"After substituting the differential equation is...\")\n",
    "display(diffeq)             # display that equation\n",
    "\n",
    "\n",
    "print(\"The integrated equation starting at x=0 when t=0 is...\")\n",
    "res = sym.dsolve(diffeq, ics={xt(0): 0})     # Solve the differential equation. \n",
    "                                            # Initial condition is x(t) = 0 when t = 0\n",
    "display(res)\n",
    "\n",
    "print(\"Collecting some terms and substiting for x gives...\")\n",
    "simplified = sym.collect(res.rhs,(A0*k1/(k1-k2)))\n",
    "I = sym.Eq(It,simplified)\n",
    "display(I)\n"
   ]
  },
  {
   "cell_type": "markdown",
   "metadata": {},
   "source": [
    "Now we have the term...\n",
    "\n",
    "$$ x =A_{0} \\frac{ k_{1} }{k_{1} - k_{2}}\\left(e^{- k_{2} t} - e^{- k_{1} t}\\right)$$\n",
    "\n",
    "...and, knowing that $[I]_t = x$, we can now say...\n",
    "\n",
    "$$ \\left[I \\right]_t =A_{0} \\frac{ k_{1} }{k_{1} - k_{2}}\\left(e^{- k_{2} t} - e^{- k_{1} t}\\right)$$\n",
    "\n",
    "### Integrating for [P]\n",
    "\n",
    "We dont have to integrate for this last term. We can say that the total amount of material is equal to $[A]_0$ and so...\n",
    "\n",
    "$$\\begin{align}\n",
    "[A]_0 &= [A]_t+[I]_t+[P]_t \\\\\n",
    "[P]_t &= [A]_0 - \\left([A]_t+[I]_t\\right) \n",
    "\\end{align}$$\n",
    "\n",
    "For the fun of it, lets let sympy do all the work in the code below..."
   ]
  },
  {
   "cell_type": "code",
   "execution_count": null,
   "metadata": {},
   "outputs": [],
   "source": []
  },
  {
   "cell_type": "code",
   "execution_count": 6,
   "metadata": {},
   "outputs": [
    {
     "data": {
      "text/latex": [
       "$\\displaystyle A_{t} = A_{0} e^{- k_{1} t}$"
      ],
      "text/plain": [
       "Eq(A_t, A0*exp(-k1*t))"
      ]
     },
     "metadata": {},
     "output_type": "display_data"
    },
    {
     "data": {
      "text/latex": [
       "$\\displaystyle I_{t} = \\frac{A_{0} k_{1} \\left(e^{- k_{2} t} - e^{- k_{1} t}\\right)}{k_{1} - k_{2}}$"
      ],
      "text/plain": [
       "Eq(I_t, A0*k1*(exp(-k2*t) - exp(-k1*t))/(k1 - k2))"
      ]
     },
     "metadata": {},
     "output_type": "display_data"
    },
    {
     "data": {
      "text/latex": [
       "$\\displaystyle - \\frac{A_{0} k_{1} \\left(e^{- k_{2} t} - e^{- k_{1} t}\\right)}{k_{1} - k_{2}} + A_{0} - A_{0} e^{- k_{1} t}$"
      ],
      "text/plain": [
       "-A0*k1*(exp(-k2*t) - exp(-k1*t))/(k1 - k2) + A0 - A0*exp(-k1*t)"
      ]
     },
     "metadata": {},
     "output_type": "display_data"
    },
    {
     "data": {
      "text/latex": [
       "$\\displaystyle A_{0} \\left(- \\frac{k_{1} \\left(e^{- k_{2} t} - e^{- k_{1} t}\\right)}{k_{1} - k_{2}} + 1 - e^{- k_{1} t}\\right)$"
      ],
      "text/plain": [
       "A0*(-k1*(exp(-k2*t) - exp(-k1*t))/(k1 - k2) + 1 - exp(-k1*t))"
      ]
     },
     "metadata": {},
     "output_type": "display_data"
    },
    {
     "data": {
      "text/latex": [
       "$\\displaystyle P_{t} = A_{0} \\left(- \\frac{k_{1} \\left(e^{- k_{2} t} - e^{- k_{1} t}\\right)}{k_{1} - k_{2}} + 1 - e^{- k_{1} t}\\right)$"
      ],
      "text/plain": [
       "Eq(P_t, A0*(-k1*(exp(-k2*t) - exp(-k1*t))/(k1 - k2) + 1 - exp(-k1*t)))"
      ]
     },
     "metadata": {},
     "output_type": "display_data"
    }
   ],
   "source": [
    "Pt = sym.symbols('P_t')   # create Pt as a 'symbol'\n",
    "\n",
    "display(A,I)\n",
    "\n",
    "\n",
    "rhs = A0 - A.rhs - I.rhs\n",
    "display(rhs)\n",
    "\n",
    "rhs = sym.collect(rhs,A0)\n",
    "display(rhs)\n",
    "\n",
    "P = sym.Eq(Pt,rhs)\n",
    "display(P)\n"
   ]
  },
  {
   "cell_type": "code",
   "execution_count": 7,
   "metadata": {},
   "outputs": [
    {
     "data": {
      "text/latex": [
       "$\\displaystyle A_{t} = A_{0} e^{- k_{1} t}$"
      ],
      "text/plain": [
       "Eq(A_t, A0*exp(-k1*t))"
      ]
     },
     "metadata": {},
     "output_type": "display_data"
    },
    {
     "data": {
      "text/latex": [
       "$\\displaystyle I_{t} = \\frac{A_{0} k_{1} \\left(e^{- k_{2} t} - e^{- k_{1} t}\\right)}{k_{1} - k_{2}}$"
      ],
      "text/plain": [
       "Eq(I_t, A0*k1*(exp(-k2*t) - exp(-k1*t))/(k1 - k2))"
      ]
     },
     "metadata": {},
     "output_type": "display_data"
    },
    {
     "data": {
      "text/latex": [
       "$\\displaystyle P_{t} = A_{0} \\left(- \\frac{k_{1} \\left(e^{- k_{2} t} - e^{- k_{1} t}\\right)}{k_{1} - k_{2}} + 1 - e^{- k_{1} t}\\right)$"
      ],
      "text/plain": [
       "Eq(P_t, A0*(-k1*(exp(-k2*t) - exp(-k1*t))/(k1 - k2) + 1 - exp(-k1*t)))"
      ]
     },
     "metadata": {},
     "output_type": "display_data"
    }
   ],
   "source": [
    "display(A,I,P)"
   ]
  },
  {
   "cell_type": "code",
   "execution_count": 8,
   "metadata": {},
   "outputs": [
    {
     "data": {
      "text/latex": [
       "$\\displaystyle e^{- 0.08000001 t}$"
      ],
      "text/plain": [
       "exp(-0.08000001*t)"
      ]
     },
     "metadata": {},
     "output_type": "display_data"
    },
    {
     "data": {
      "text/latex": [
       "$\\displaystyle - 8000001.00421085 e^{- 0.08000001 t} + 8000001.00421085 e^{- 0.08 t}$"
      ],
      "text/plain": [
       "-8000001.00421085*exp(-0.08000001*t) + 8000001.00421085*exp(-0.08*t)"
      ]
     },
     "metadata": {},
     "output_type": "display_data"
    },
    {
     "data": {
      "text/latex": [
       "$\\displaystyle 1 + 8000000.00421085 e^{- 0.08000001 t} - 8000001.00421085 e^{- 0.08 t}$"
      ],
      "text/plain": [
       "1 + 8000000.00421085*exp(-0.08000001*t) - 8000001.00421085*exp(-0.08*t)"
      ]
     },
     "metadata": {},
     "output_type": "display_data"
    },
    {
     "data": {
      "image/png": "[encoded data removed]",
      "text/plain": [
       "<Figure size 640x480 with 1 Axes>"
      ]
     },
     "metadata": {},
     "output_type": "display_data"
    }
   ],
   "source": [
    "import matplotlib.pyplot as plt\n",
    "\n",
    "k1_rate = 0.08000001\n",
    "k2_rate = 0.08\n",
    "A0_conc = 1\n",
    "\n",
    "t_range = [t,0,100]\n",
    "\n",
    "eq1 = A.rhs\n",
    "#display(eq)\n",
    "\n",
    "eq1 = eq1.subs({k1:k1_rate, A0:A0_conc})\n",
    "\n",
    "\n",
    "\n",
    "eq2 = I.rhs\n",
    "eq2 = eq2.subs({k1:k1_rate, k2:k2_rate, A0:A0_conc})\n",
    "\n",
    "eq3 = P.rhs\n",
    "eq3 = eq3.subs({k1:k1_rate, k2:k2_rate, A0:A0_conc})\n",
    "display(eq1,eq2,eq3)\n",
    "\n",
    "p1 = sym.plot(eq1,t_range, show=False)\n",
    "p2 = sym.plot(eq2,t_range, show=False)\n",
    "p3 = sym.plot(eq3,t_range, show=False)\n",
    "p1.append(p2[0])\n",
    "p1.append(p3[0])\n",
    "\n",
    "plt.rcdefaults()\n",
    "p1.show()\n",
    "plt.show()"
   ]
  },
  {
   "cell_type": "code",
   "execution_count": 9,
   "metadata": {},
   "outputs": [
    {
     "data": {
      "image/png": "[encoded data removed]",
      "text/plain": [
       "<Figure size 500x400 with 1 Axes>"
      ]
     },
     "metadata": {},
     "output_type": "display_data"
    }
   ],
   "source": [
    "### from StealThisCode/4_SciPy/K05_NumericIntegration_SystemEq.ipynb\n",
    "\n",
    "#######################\n",
    "### import packages \n",
    "#######################\n",
    "\n",
    "import numpy as np\n",
    "from scipy.integrate import solve_ivp\n",
    "import matplotlib.pyplot as plt\n",
    "\n",
    "############################################\n",
    "### Create a function that describes the \n",
    "### system of differential equations. \n",
    "############################################\n",
    "\n",
    "def rates(t, c, k_1, k_2):  \n",
    "\n",
    "    A = c[0]; I = c[1]; P = c[2]           ### assign initial conc. from input list c\n",
    "\n",
    "    dA_dt = -k_1 * c[0]    ### rates of each reaction step with give concentration in list c\n",
    "    dI_dt = k_1 * c[0]  - k_2 * c[1] \n",
    "    dP_dt = k_2 * c[1] \n",
    "\n",
    "    return [dA_dt, dI_dt, dP_dt]\n",
    "\n",
    "\n",
    "############################################\n",
    "### Parameters and experimental conditions\n",
    "############################################\n",
    "\n",
    "k_1 = 0.08          ### Values for kinetic parameters\n",
    "k_2 = 0.08\n",
    "A0_conc = 1\n",
    "      \n",
    "time_end = 100   ### The end time\n",
    "n_points = 100   ### number of points - increase if needed\n",
    "\n",
    "#########################################\n",
    "### Create series of time points      \n",
    "#########################################\n",
    "\n",
    "dt = time_end / n_points           ### time step, delta t\n",
    "t_line = np.arange(0, time_end+dt, dt) ### time vector (list of time points)\n",
    "num = len(t_line)\n",
    "\n",
    "\n",
    "#########################################\n",
    "### Integrate the system of differential equations      \n",
    "#########################################\n",
    "\n",
    "initial = [A0_conc, 0, 0]      ### Set list of initial values (A, I, P)\n",
    "\n",
    "int = solve_ivp(rates,                ### the function being integrated. \n",
    "                [0, time_end],        ### start and endpoint of integration\n",
    "                initial,              ### initial values\n",
    "                method = \"Radau\",     ### 'RK45', 'RK23', 'LSODA', 'DOP853', 'Radau', 'BDF'\n",
    "                t_eval = t_line,      ### time points at which to calculate values\n",
    "#                first_step = 1e-5,    ### take a very small first step. the initial rate is much faster than the average slope.\n",
    "                args = [k_1, k_2]  ### values to send to function after t and c\n",
    "                )\n",
    "\n",
    "#########################################\n",
    "### Extract the results from the returned data object      \n",
    "#########################################\n",
    "\n",
    "time = int.t        ### solve_inp() returns an array for time indexed as 't'\n",
    "yarray = int.y      ### Also retruns and array of calculated y values.\n",
    "                    ###  if more than one value returned from function we will\n",
    "                    ###  get a array of arrays for each value\n",
    "\n",
    "##################################################################################\n",
    "### Plot the results\n",
    "##################################################################################\n",
    "\n",
    "plt.rcdefaults()                    ### resets the plot defaults so we always start in the same place\n",
    "plt.style.use(\"../styles/tufte.mplstyle\")     ### Then add a fancy style sheet   \n",
    "\n",
    "fig, ax = plt.subplots(nrows=1, ncols=1, figsize=(5,4))  \n",
    "\n",
    "#########################################\n",
    "### Plot the line using the x_fit, y_fit points\n",
    "#########################################\n",
    "x = time      \n",
    "y = yarray[0] \n",
    "ax.plot(x, y, \n",
    "        linestyle = '-',            ### use a line between points\n",
    " #       linewidth='0.5',            ### make the line thin\n",
    "        color = 'C0',            ### the line is black\n",
    "        zorder = 0                  ### everything is in layer 0 (the bottom layer in this case)\n",
    "        )\n",
    "\n",
    "x = time      \n",
    "y = yarray[1]\n",
    "ax.plot(x, y, \n",
    "        linestyle = '-',            ### use a line between points\n",
    " #       linewidth='0.5',            ### make the line thin\n",
    "        color = 'C1',            ### the line is black\n",
    "        zorder = 0                  ### everything is in layer 0 (the bottom layer in this case)\n",
    "        )\n",
    "\n",
    "x = time      \n",
    "y = yarray[2]\n",
    "ax.plot(x, y, \n",
    "        linestyle = '-',            ### use a line between points\n",
    " #       linewidth='0.5',            ### make the line thin\n",
    "        color = 'C2',            ### the line is black\n",
    "        zorder = 0                  ### everything is in layer 0 (the bottom layer in this case)\n",
    "        )\n",
    "#########################################\n",
    "### Add more style\n",
    "#########################################\n",
    "        \n",
    "ax.set(ylabel=r\"$\\rm conc.\\;/\\;M $\", \n",
    "        xlabel=r\"$time\\; /\\; min$\",\n",
    "        title = \"Conc. vs time\",\n",
    "        xlim=[None, None],      \n",
    "        ylim=[None, None])\n",
    "\n",
    "\n",
    "fig.tight_layout()  # otherwise the right y-label is slightly clipped\n",
    "\n",
    "fig.savefig(\"plot.pdf\")    # use this to save the figure in PDF format\n",
    "plt.show()                 # output the combined four plots\n",
    "\n"
   ]
  }
 ],
 "metadata": {
  "kernelspec": {
   "display_name": "main",
   "language": "python",
   "name": "python3"
  },
  "language_info": {
   "codemirror_mode": {
    "name": "ipython",
    "version": 3
   },
   "file_extension": ".py",
   "mimetype": "text/x-python",
   "name": "python",
   "nbconvert_exporter": "python",
   "pygments_lexer": "ipython3",
   "version": "3.12.2"
  }
 },
 "nbformat": 4,
 "nbformat_minor": 2
}
