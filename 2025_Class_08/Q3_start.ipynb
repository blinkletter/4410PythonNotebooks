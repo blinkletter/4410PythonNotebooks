{
  "cells": [
    {
      "cell_type": "code",
      "execution_count": null,
      "metadata": {
        "id": "d7a5LGqs-iL5"
      },
      "outputs": [],
      "source": [
        "import matplotlib.pyplot as plt\n",
        "import numpy as np\n",
        "import pandas as pd\n",
        "from scipy import stats\n",
        "\n",
        "time = [0, 0.042, 0.092, 0.119, 0.151, 0.280, 0.435]     # /min\n",
        "conc = [0.25, 0.213, 0.175, 0.156, 0.138, 0.081, 0.044]  # /M\n",
        "\n",
        "# plot this data as a first order integrated rate equation and report the parameters. Save the plots to a pdf file.\n",
        "\n",
        "# plot this data as a second order integrated rate equation and report the parameters. Save the plots to a pdf file."
      ]
    },
    {
      "cell_type": "code",
      "execution_count": null,
      "metadata": {
        "id": "FMdiiISwBCNJ"
      },
      "outputs": [],
      "source": []
    }
  ],
  "metadata": {
    "colab": {
      "provenance": []
    },
    "kernelspec": {
      "display_name": "Python 3",
      "name": "python3"
    },
    "language_info": {
      "name": "python"
    }
  },
  "nbformat": 4,
  "nbformat_minor": 0
}
