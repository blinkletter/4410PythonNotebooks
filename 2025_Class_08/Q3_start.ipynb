{
  "nbformat": 4,
  "nbformat_minor": 0,
  "metadata": {
    "colab": {
      "provenance": []
    },
    "kernelspec": {
      "name": "python3",
      "display_name": "Python 3"
    },
    "language_info": {
      "name": "python"
    }
  },
  "cells": [
    {
      "cell_type": "code",
      "execution_count": 2,
      "metadata": {
        "id": "d7a5LGqs-iL5"
      },
      "outputs": [],
      "source": [
        "import matplotlib.pyplot as plt\n",
        "import numpy as np\n",
        "import pandas as pd\n",
        "from scipy import stats\n",
        "\n",
        "time = [0, 0.042, 0.092, 0.119, 0.151, 0.280, 0.435]     # /min\n",
        "conc = [0.25, 0.213, 0.175, 0.156, 0.138, 0.081, 0.044]  # /M\n"
      ]
    },
    {
      "cell_type": "code",
      "source": [],
      "metadata": {
        "id": "FMdiiISwBCNJ"
      },
      "execution_count": null,
      "outputs": []
    }
  ]
}