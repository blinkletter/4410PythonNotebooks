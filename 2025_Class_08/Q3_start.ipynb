{
  "cells": [
    {
      "cell_type": "code",
      "execution_count": 1,
      "metadata": {
        "id": "d7a5LGqs-iL5"
      },
      "outputs": [],
      "source": [
        "import matplotlib.pyplot as plt\n",
        "import numpy as np\n",
        "import pandas as pd\n",
        "from scipy import stats\n",
        "\n",
        "time = [0, 0.042, 0.092, 0.119, 0.151, 0.280, 0.435]     # /min\n",
        "conc = [0.25, 0.213, 0.175, 0.156, 0.138, 0.081, 0.044]  # /M\n",
        "\n",
        "# plot this data as a first order integrated rate equation and report the parameters. Save the plots to a pdf file.\n",
        "\n",
        "# plot this data as a second order integrated rate equation and report the parameters. Save the plots to a pdf file."
      ]
    }
  ],
  "metadata": {
    "colab": {
      "provenance": []
    },
    "kernelspec": {
      "display_name": "base",
      "language": "python",
      "name": "python3"
    },
    "language_info": {
      "codemirror_mode": {
        "name": "ipython",
        "version": 3
      },
      "file_extension": ".py",
      "mimetype": "text/x-python",
      "name": "python",
      "nbconvert_exporter": "python",
      "pygments_lexer": "ipython3",
      "version": "3.12.7"
    }
  },
  "nbformat": 4,
  "nbformat_minor": 0
}
